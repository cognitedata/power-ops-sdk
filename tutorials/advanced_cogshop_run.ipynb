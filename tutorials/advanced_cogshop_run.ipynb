{
    "cells": [
        {
            "cell_type": "markdown",
            "id": "8aa83754",
            "metadata": {},
            "source": [
                "# Advanced guide for data modeling based cogshop runs\n",
                "\n",
                "**This tutorial covers more advanced techniques than quickstart and will not go into details covered there, such as setting up the Powerops Client**\n"
            ]
        },
        {
            "cell_type": "markdown",
            "id": "8908b6471eb427b8",
            "metadata": {
                "collapsed": false,
                "jupyter": {
                    "outputs_hidden": false
                }
            },
            "source": [
                "## Preparation\n",
                "\n",
                "\n",
                "NOTE: The \"recommended\" way of running CogShop is as follows:\n",
                "1. Static model data and mappings for time-dependent data like time series represented by `ShopModel`\n",
                "2. Any variations on the base configuration (like different price scenarios) represented by `ShopScenario` instances \n",
                "3. Generate a complete `ShopCase` with time series datapoints based on a `ShopScenario` instance plus `startTime` and `endTime` through the shop_trigger Cognite function.\n",
                "\n",
                "This tutorial covers a different set-up: Triggering (Cog)Shop for a pre-generated, complete Shop \"case\" (as a yaml file or separate files).\n"
            ]
        },
        {
            "cell_type": "code",
            "execution_count": 1,
            "id": "4e8902c5-c2af-4638-ab4c-986c68893b15",
            "metadata": {
                "ExecuteTime": {
                    "end_time": "2023-10-31T16:50:17.696595Z",
                    "start_time": "2023-10-31T16:50:15.150704Z"
                }
            },
            "outputs": [
                {
                    "name": "stdout",
                    "output_type": "stream",
                    "text": [
                        "0.111.0\n"
                    ]
                }
            ],
            "source": [
                "# You can control which configuration files are used.\n",
                "# In this case, the configuration files are located two levels above, in the root of the repository.\n",
                "from dotenv import load_dotenv\n",
                "from pathlib import Path\n",
                "from cognite.powerops import PowerOpsClient\n",
                "from cognite.powerops._version import __version__\n",
                "\n",
                "# Adjust the path to the configs file if needed\n",
                "root = Path().resolve().parent\n",
                "\n",
                "load_dotenv(dotenv_path=str(root / \".env\"))\n",
                "powerops = PowerOpsClient.from_config(str(root /\"power_ops_config.yaml\"))\n",
                "\n",
                "print(__version__)  # Print the version of the package"
            ]
        },
        {
            "cell_type": "code",
            "execution_count": 2,
            "id": "1200ad99",
            "metadata": {},
            "outputs": [],
            "source": [
                "def upload_file(local_file_name: str, external_id: str) -> str:\n",
                "    \"\"\"Upload a file to CDF and return the external id of the file\"\"\"\n",
                "    file_path = (Path(\"example_case_files\") / local_file_name).resolve()\n",
                "    file = powerops.cdf.files.upload(\n",
                "        path=str(file_path),\n",
                "        external_id=external_id,\n",
                "        name=local_file_name,\n",
                "        data_set_id=powerops.datasets.write_dataset_id,\n",
                "        mime_type=\"application/yaml\",\n",
                "        # Overwrite the file at the given external is if it already exists\n",
                "        # This will also overwrite potentially existing metadata\n",
                "        overwrite=True,\n",
                "    )\n",
                "    return file.external_id"
            ]
        },
        {
            "cell_type": "markdown",
            "id": "23596be4",
            "metadata": {},
            "source": [
                "## Example 1: Use multiple files for shop files\n",
                "Very similar to the example in quickstart, but using multiple files for `ShopCase`.\n",
                "\n",
                "1. Upload the files that will be loaded into shop, keeping their external ids\n",
                "2. Set up a `ShopCase`, using the SDK\n",
                "3. Write the `ShopCase` instance to CDF, and verify that it was created using the SDK\n",
                "4. Trigger a shop execution of that `ShopCase`\n",
                "5. List the `ShopResult` referencing the `ShopCase` \n"
            ]
        },
        {
            "cell_type": "markdown",
            "id": "3ffb725b",
            "metadata": {},
            "source": [
                "### Step 1: Upload a files "
            ]
        },
        {
            "cell_type": "code",
            "execution_count": 3,
            "id": "e6c42851",
            "metadata": {},
            "outputs": [
                {
                    "name": "stdout",
                    "output_type": "stream",
                    "text": [
                        " File reference 1: 'example_case_fornebu', File reference 2: 'example_commands'\n"
                    ]
                }
            ],
            "source": [
                "# NB! The case in this example is minimal and just for demo purposes.\n",
                "example_case_fbu_1 = upload_file(\n",
                "    local_file_name=\"b_example_fornebu_without_commands.yaml\",\n",
                "    external_id=\"example_case_fornebu\",\n",
                ")\n",
                "example_case_fbu_2 = upload_file(local_file_name=\"b_example_commands.yaml\", external_id=\"example_commands\")\n",
                "\n",
                "print(f\" File reference 1: '{example_case_fbu_1}', File reference 2: '{example_case_fbu_2}'\")"
            ]
        },
        {
            "cell_type": "markdown",
            "id": "7d15a47f",
            "metadata": {},
            "source": [
                "### Step 2: Preparing a ShopCase\n",
                "\n",
                "The main difference here is that `shop_file_list` will contain more than one tuple.\n",
                "\n",
                "Unlike the quickstart, in this example we will let `prepare_shop_case` generate all the external IDs.\n",
                "\n",
                "We will also let the file reference double as the name of the file. \n"
            ]
        },
        {
            "cell_type": "code",
            "execution_count": 4,
            "id": "ec68faae",
            "metadata": {},
            "outputs": [
                {
                    "data": {
                        "text/html": [
                            "<div>\n",
                            "<style scoped>\n",
                            "    .dataframe tbody tr th:only-of-type {\n",
                            "        vertical-align: middle;\n",
                            "    }\n",
                            "\n",
                            "    .dataframe tbody tr th {\n",
                            "        vertical-align: top;\n",
                            "    }\n",
                            "\n",
                            "    .dataframe thead th {\n",
                            "        text-align: right;\n",
                            "    }\n",
                            "</style>\n",
                            "<table border=\"1\" class=\"dataframe\">\n",
                            "  <thead>\n",
                            "    <tr style=\"text-align: right;\">\n",
                            "      <th></th>\n",
                            "      <th>value</th>\n",
                            "    </tr>\n",
                            "  </thead>\n",
                            "  <tbody>\n",
                            "    <tr>\n",
                            "      <th>space</th>\n",
                            "      <td>power_ops_instances</td>\n",
                            "    </tr>\n",
                            "    <tr>\n",
                            "      <th>external_id</th>\n",
                            "      <td>shopcase:fbaead0a55884c22b84999a407f4c294</td>\n",
                            "    </tr>\n",
                            "    <tr>\n",
                            "      <th>data_record</th>\n",
                            "      <td>{'existing_version': None}</td>\n",
                            "    </tr>\n",
                            "    <tr>\n",
                            "      <th>node_type</th>\n",
                            "      <td>None</td>\n",
                            "    </tr>\n",
                            "    <tr>\n",
                            "      <th>scenario</th>\n",
                            "      <td>{'space': 'power_ops_instances', 'external_id'...</td>\n",
                            "    </tr>\n",
                            "    <tr>\n",
                            "      <th>start_time</th>\n",
                            "      <td>2023-01-19 23:00:00</td>\n",
                            "    </tr>\n",
                            "    <tr>\n",
                            "      <th>end_time</th>\n",
                            "      <td>2023-01-29 23:00:00</td>\n",
                            "    </tr>\n",
                            "    <tr>\n",
                            "      <th>shop_files</th>\n",
                            "      <td>[{'space': 'power_ops_instances', 'external_id...</td>\n",
                            "    </tr>\n",
                            "  </tbody>\n",
                            "</table>\n",
                            "</div>"
                        ],
                        "text/plain": [
                            "ShopCaseWrite(space='power_ops_instances', external_id='shopcase:fbaead0a55884c22b84999a407f4c294', data_record=DataRecordWrite(existing_version=None), node_type=None, start_time=datetime.datetime(2023, 1, 19, 23, 0), end_time=datetime.datetime(2023, 1, 29, 23, 0))"
                        ]
                    },
                    "execution_count": 4,
                    "metadata": {},
                    "output_type": "execute_result"
                }
            ],
            "source": [
                "import datetime\n",
                "\n",
                "#  Files are referenced using 4-tuples with the following structure:\n",
                "# (file_reference, file_name, is_ascii, labels)\n",
                "shop_file_list = [\n",
                "    (example_case_fbu_1, example_case_fbu_1, False, \"\"),\n",
                "    # CogShop needs to know which file contains commands in the case of multiple files\n",
                "    (example_case_fbu_2, example_case_fbu_2, False, \"commands\"),\n",
                "]\n",
                "\n",
                "\n",
                "shop_case_1 = powerops.cogshop.prepare_shop_case(\n",
                "    shop_file_list=shop_file_list,\n",
                "    shop_version=\"15.6.1.0\",\n",
                "    start_time=datetime.datetime(2023, 1, 19, 23),\n",
                "    end_time=datetime.datetime(2023, 1, 29, 23),\n",
                "    model_name=\"my_model\",\n",
                "    scenario_name=\"my_scenario\",\n",
                ")\n",
                "shop_case_1"
            ]
        },
        {
            "cell_type": "code",
            "execution_count": 8,
            "id": "562082fc",
            "metadata": {},
            "outputs": [
                {
                    "name": "stdout",
                    "output_type": "stream",
                    "text": [
                        "File name: 'example_case_fornebu', File reference: 'example_case_fornebu', Data modeling external id: 'shopfile:51bf20345d6f4509b81b8808bd59db9d'\n",
                        "File name: 'example_commands', File reference: 'example_commands', Data modeling external id: 'shopfile:2b334bc02cfc4c0781d1c0387a3d2cb6'\n"
                    ]
                }
            ],
            "source": [
                "# We can also look at just the shop files\n",
                "for file in shop_case_1.shop_files:\n",
                "    print(\n",
                "        f\"File name: '{file.name}', File reference: '{file.file_reference}', Data modeling external id: '{file.external_id}'\"\n",
                "    )"
            ]
        },
        {
            "cell_type": "markdown",
            "id": "96f29384",
            "metadata": {},
            "source": [
                "### Step 3: Upload the ShopCase"
            ]
        },
        {
            "cell_type": "code",
            "execution_count": 9,
            "id": "cb0a970a",
            "metadata": {},
            "outputs": [
                {
                    "data": {
                        "text/plain": [
                            "ResourcesWriteResult(nodes=[<NodeApplyResult(space='power_ops_instances', external_id='shopcase:fbaead0a55884c22b84999a407f4c294', version=1) at 0x7f90e85eff50>, <NodeApplyResult(space='power_ops_instances', external_id='shopscenario:2e8c8e6981f749b08bf210304a677e04', version=1) at 0x7f9096f27210>, <NodeApplyResult(space='power_ops_instances', external_id='shopmodel:e03514e4906744c4ab44b348afb9dbaf', version=1) at 0x7f9094eb2bd0>, <NodeApplyResult(space='power_ops_instances', external_id='shopfile:51bf20345d6f4509b81b8808bd59db9d', version=1) at 0x7f9094eb2810>, <NodeApplyResult(space='power_ops_instances', external_id='shopfile:2b334bc02cfc4c0781d1c0387a3d2cb6', version=1) at 0x7f9094eb3410>], edges=[<EdgeApplyResult(space='power_ops_instances', external_id='shopcase:fbaead0a55884c22b84999a407f4c294:shopfile:51bf20345d6f4509b81b8808bd59db9d', version=1) at 0x7f9094eb3f10>, <EdgeApplyResult(space='power_ops_instances', external_id='shopcase:fbaead0a55884c22b84999a407f4c294:shopfile:2b334bc02cfc4c0781d1c0387a3d2cb6', version=1) at 0x7f9094eb3f50>], time_series=[], files=[], sequences=[])"
                        ]
                    },
                    "execution_count": 9,
                    "metadata": {},
                    "output_type": "execute_result"
                }
            ],
            "source": [
                "powerops.v1.upsert(shop_case_1)"
            ]
        },
        {
            "cell_type": "code",
            "execution_count": 10,
            "id": "d033c3d4",
            "metadata": {},
            "outputs": [
                {
                    "data": {
                        "text/html": [
                            "<div>\n",
                            "<style scoped>\n",
                            "    .dataframe tbody tr th:only-of-type {\n",
                            "        vertical-align: middle;\n",
                            "    }\n",
                            "\n",
                            "    .dataframe tbody tr th {\n",
                            "        vertical-align: top;\n",
                            "    }\n",
                            "\n",
                            "    .dataframe thead th {\n",
                            "        text-align: right;\n",
                            "    }\n",
                            "</style>\n",
                            "<table border=\"1\" class=\"dataframe\">\n",
                            "  <thead>\n",
                            "    <tr style=\"text-align: right;\">\n",
                            "      <th></th>\n",
                            "      <th>value</th>\n",
                            "    </tr>\n",
                            "  </thead>\n",
                            "  <tbody>\n",
                            "    <tr>\n",
                            "      <th>space</th>\n",
                            "      <td>power_ops_instances</td>\n",
                            "    </tr>\n",
                            "    <tr>\n",
                            "      <th>external_id</th>\n",
                            "      <td>shopcase:fbaead0a55884c22b84999a407f4c294</td>\n",
                            "    </tr>\n",
                            "    <tr>\n",
                            "      <th>data_record</th>\n",
                            "      <td>{'version': 1, 'last_updated_time': 2025-01-30...</td>\n",
                            "    </tr>\n",
                            "    <tr>\n",
                            "      <th>node_type</th>\n",
                            "      <td>None</td>\n",
                            "    </tr>\n",
                            "    <tr>\n",
                            "      <th>scenario</th>\n",
                            "      <td>shopscenario:2e8c8e6981f749b08bf210304a677e04</td>\n",
                            "    </tr>\n",
                            "    <tr>\n",
                            "      <th>start_time</th>\n",
                            "      <td>2023-01-19 23:00:00+00:00</td>\n",
                            "    </tr>\n",
                            "    <tr>\n",
                            "      <th>end_time</th>\n",
                            "      <td>2023-01-29 23:00:00+00:00</td>\n",
                            "    </tr>\n",
                            "    <tr>\n",
                            "      <th>shop_files</th>\n",
                            "      <td>None</td>\n",
                            "    </tr>\n",
                            "  </tbody>\n",
                            "</table>\n",
                            "</div>"
                        ],
                        "text/plain": [
                            "ShopCase(space='power_ops_instances', external_id='shopcase:fbaead0a55884c22b84999a407f4c294', data_record=DataRecord(version=1, last_updated_time=datetime.datetime(2025, 1, 30, 13, 42, 43, 346000, tzinfo=datetime.timezone.utc), created_time=datetime.datetime(2025, 1, 30, 13, 42, 43, 346000, tzinfo=datetime.timezone.utc), deleted_time=None), node_type=None, start_time=datetime.datetime(2023, 1, 19, 23, 0, tzinfo=TzInfo(UTC)), end_time=datetime.datetime(2023, 1, 29, 23, 0, tzinfo=TzInfo(UTC)))"
                        ]
                    },
                    "execution_count": 10,
                    "metadata": {},
                    "output_type": "execute_result"
                }
            ],
            "source": [
                "from cognite.powerops.client._generated.data_classes import ShopCase\n",
                "\n",
                "# NB! This step is not necessary, if the upsert was successful we know the case is in CDF\n",
                "retrieved_shop_case: ShopCase = powerops.cogshop.retrieve_shop_case(shop_case_1.external_id)\n",
                "retrieved_shop_case"
            ]
        },
        {
            "cell_type": "markdown",
            "id": "6799d59e",
            "metadata": {},
            "source": [
                "*It is known that the `retrive` endpoint can be unstable*. \n",
                "We have a graphQL fallback for this case.  This is a less efficient way to retrieve the shop case, but it is useful in case the `retrive` fails\n",
                "\n",
                "See details in the docstring of `retrieve_shop_case_graphql`"
            ]
        },
        {
            "cell_type": "code",
            "execution_count": 11,
            "id": "b54b67b4",
            "metadata": {},
            "outputs": [
                {
                    "data": {
                        "text/html": [
                            "<div>\n",
                            "<style scoped>\n",
                            "    .dataframe tbody tr th:only-of-type {\n",
                            "        vertical-align: middle;\n",
                            "    }\n",
                            "\n",
                            "    .dataframe tbody tr th {\n",
                            "        vertical-align: top;\n",
                            "    }\n",
                            "\n",
                            "    .dataframe thead th {\n",
                            "        text-align: right;\n",
                            "    }\n",
                            "</style>\n",
                            "<table border=\"1\" class=\"dataframe\">\n",
                            "  <thead>\n",
                            "    <tr style=\"text-align: right;\">\n",
                            "      <th></th>\n",
                            "      <th>value</th>\n",
                            "    </tr>\n",
                            "  </thead>\n",
                            "  <tbody>\n",
                            "    <tr>\n",
                            "      <th>space</th>\n",
                            "      <td>power_ops_instances</td>\n",
                            "    </tr>\n",
                            "    <tr>\n",
                            "      <th>external_id</th>\n",
                            "      <td>shopcase:fbaead0a55884c22b84999a407f4c294</td>\n",
                            "    </tr>\n",
                            "    <tr>\n",
                            "      <th>data_record</th>\n",
                            "      <td>{'version': 0, 'last_updated_time': 2025-01-30...</td>\n",
                            "    </tr>\n",
                            "    <tr>\n",
                            "      <th>node_type</th>\n",
                            "      <td>None</td>\n",
                            "    </tr>\n",
                            "    <tr>\n",
                            "      <th>scenario</th>\n",
                            "      <td>{'space': 'power_ops_instances', 'external_id'...</td>\n",
                            "    </tr>\n",
                            "    <tr>\n",
                            "      <th>start_time</th>\n",
                            "      <td>2023-01-19 23:00:00+00:00</td>\n",
                            "    </tr>\n",
                            "    <tr>\n",
                            "      <th>end_time</th>\n",
                            "      <td>2023-01-29 23:00:00+00:00</td>\n",
                            "    </tr>\n",
                            "    <tr>\n",
                            "      <th>shop_files</th>\n",
                            "      <td>[{'space': 'power_ops_instances', 'external_id...</td>\n",
                            "    </tr>\n",
                            "  </tbody>\n",
                            "</table>\n",
                            "</div>"
                        ],
                        "text/plain": [
                            "ShopCase(space='power_ops_instances', external_id='shopcase:fbaead0a55884c22b84999a407f4c294', data_record=DataRecord(version=0, last_updated_time=datetime.datetime(2025, 1, 30, 13, 42, 43, 346000, tzinfo=TzInfo(UTC)), created_time=datetime.datetime(2025, 1, 30, 13, 42, 43, 346000, tzinfo=TzInfo(UTC)), deleted_time=None), node_type=None, start_time=datetime.datetime(2023, 1, 19, 23, 0, tzinfo=TzInfo(UTC)), end_time=datetime.datetime(2023, 1, 29, 23, 0, tzinfo=TzInfo(UTC)))"
                        ]
                    },
                    "execution_count": 11,
                    "metadata": {},
                    "output_type": "execute_result"
                }
            ],
            "source": [
                "graph_ql_shop_case = powerops.cogshop.retrieve_shop_case_graphql(shop_case_1.external_id)\n",
                "graph_ql_shop_case"
            ]
        },
        {
            "cell_type": "markdown",
            "id": "d38c1534",
            "metadata": {},
            "source": [
                "### Step 4: Trigger the case\n",
                "\n",
                "We will here directly use the new `trigger_shop_case` method on the `powerops.cogshop` client"
            ]
        },
        {
            "cell_type": "code",
            "execution_count": 12,
            "id": "934e7d52",
            "metadata": {},
            "outputs": [],
            "source": [
                "powerops.cogshop.trigger_shop_case(shop_case_1.external_id)"
            ]
        },
        {
            "cell_type": "markdown",
            "id": "cd4b60ee",
            "metadata": {},
            "source": [
                "### Step 5: View the ShopResult generated \n",
                "\n",
                "It may take a while to run (Cog)Shop.\n",
                "\n",
                "A new things to note:\n",
                "* If the run is not completed then no results are returned. \n",
                "* If a result is returned, but several values are `None` (namely `post run`, `messages`, `cplex`), it can be assumed that the run failed.\n",
                "* Technically it is possible to run `trigger_shop_case` multiple times for the same case. For this reason we suggest using lists to view `ShopResult`s. \n",
                "  \n",
                "\n",
                "Explanations for (some) of the fields of the `ShopResult`:\n",
                "\n",
                "* External id: The external id of the `ShopResult`\n",
                "* Case: The external id of the `ShopCase` that the instance belongs to\n",
                "* Objective value: The objective value of the Shop execution\n",
                "* Pre run: A file reference to the pre run yaml file\n",
                "* Post run: A file reference to the post run yaml file\n",
                "* Messages: A file reference to the logs generated by Shop\n",
                "* Cplex logs: A file reference to the cplex logs generated by Shop\n",
                "* Data record: The data record of the instance, contains the keys `last_updated_time` and `created_time`. These can be used to differentiate results from the same `ShopCase`\n",
                "\n"
            ]
        },
        {
            "cell_type": "markdown",
            "id": "5470afe6",
            "metadata": {},
            "source": [
                "#### 1. Using list\n",
                "\n",
                "Note that it may take a while to run (Cog)Shop. \n",
                "If the run is not completed then no results are returned"
            ]
        },
        {
            "cell_type": "code",
            "execution_count": 16,
            "id": "959c723f",
            "metadata": {},
            "outputs": [
                {
                    "name": "stdout",
                    "output_type": "stream",
                    "text": [
                        "There is/are 1 result(s) for the case with external id 'shopcase:fbaead0a55884c22b84999a407f4c294'\n"
                    ]
                }
            ],
            "source": [
                "from cognite.powerops.client._generated.data_classes import ShopResultList\n",
                "\n",
                "result_list_1: ShopResultList = powerops.cogshop.list_shop_results_for_case(\n",
                "    case_external_id=shop_case_1.external_id\n",
                ")  # This can easily be converted to a pandas DataFrame\n",
                "\n",
                "print(f\"There is/are {len(result_list_1)} result(s) for the case with external id '{shop_case_1.external_id}'\")"
            ]
        },
        {
            "cell_type": "markdown",
            "id": "722dc97d",
            "metadata": {},
            "source": [
                "**Graph QL list?**\n",
                "\n",
                "As is possible with all cognite data models, it is possible to render a Graph QL query to list the results. Follow the example in `retrieve_shop_case_graphql` function or create your own in fusion."
            ]
        },
        {
            "cell_type": "markdown",
            "id": "8ce059bc",
            "metadata": {},
            "source": [
                "#### 2. Retrieve using the external ID  "
            ]
        },
        {
            "cell_type": "code",
            "execution_count": 18,
            "id": "2d7407bd",
            "metadata": {},
            "outputs": [
                {
                    "data": {
                        "text/html": [
                            "<div>\n",
                            "<style scoped>\n",
                            "    .dataframe tbody tr th:only-of-type {\n",
                            "        vertical-align: middle;\n",
                            "    }\n",
                            "\n",
                            "    .dataframe tbody tr th {\n",
                            "        vertical-align: top;\n",
                            "    }\n",
                            "\n",
                            "    .dataframe thead th {\n",
                            "        text-align: right;\n",
                            "    }\n",
                            "</style>\n",
                            "<table border=\"1\" class=\"dataframe\">\n",
                            "  <thead>\n",
                            "    <tr style=\"text-align: right;\">\n",
                            "      <th></th>\n",
                            "      <th>value</th>\n",
                            "    </tr>\n",
                            "  </thead>\n",
                            "  <tbody>\n",
                            "    <tr>\n",
                            "      <th>space</th>\n",
                            "      <td>power_ops_instances</td>\n",
                            "    </tr>\n",
                            "    <tr>\n",
                            "      <th>external_id</th>\n",
                            "      <td>shop_result__db74590d-2c0a-47b4-8fda-282708a59d2d</td>\n",
                            "    </tr>\n",
                            "    <tr>\n",
                            "      <th>data_record</th>\n",
                            "      <td>{'version': 1, 'last_updated_time': 2025-01-30...</td>\n",
                            "    </tr>\n",
                            "    <tr>\n",
                            "      <th>node_type</th>\n",
                            "      <td>None</td>\n",
                            "    </tr>\n",
                            "    <tr>\n",
                            "      <th>case</th>\n",
                            "      <td>shopcase:fbaead0a55884c22b84999a407f4c294</td>\n",
                            "    </tr>\n",
                            "    <tr>\n",
                            "      <th>objective_value</th>\n",
                            "      <td>{'total': -19927822739.279236, 'load_value': 0...</td>\n",
                            "    </tr>\n",
                            "    <tr>\n",
                            "      <th>pre_run</th>\n",
                            "      <td>POWEROPS_SHOP_pre-run-db74590d-2c0a-47b4-8fda-...</td>\n",
                            "    </tr>\n",
                            "    <tr>\n",
                            "      <th>post_run</th>\n",
                            "      <td>POWEROPS_SHOP_post-run-db74590d-2c0a-47b4-8fda...</td>\n",
                            "    </tr>\n",
                            "    <tr>\n",
                            "      <th>messages</th>\n",
                            "      <td>POWEROPS_SHOP_shop-db74590d-2c0a-47b4-8fda-282...</td>\n",
                            "    </tr>\n",
                            "    <tr>\n",
                            "      <th>cplex_logs</th>\n",
                            "      <td>POWEROPS_SHOP_cplex-db74590d-2c0a-47b4-8fda-28...</td>\n",
                            "    </tr>\n",
                            "    <tr>\n",
                            "      <th>alerts</th>\n",
                            "      <td>None</td>\n",
                            "    </tr>\n",
                            "    <tr>\n",
                            "      <th>output_time_series</th>\n",
                            "      <td>None</td>\n",
                            "    </tr>\n",
                            "  </tbody>\n",
                            "</table>\n",
                            "</div>"
                        ],
                        "text/plain": [
                            "ShopResult(space='power_ops_instances', external_id='shop_result__db74590d-2c0a-47b4-8fda-282708a59d2d', data_record=DataRecord(version=1, last_updated_time=datetime.datetime(2025, 1, 30, 13, 44, 0, 956000, tzinfo=datetime.timezone.utc), created_time=datetime.datetime(2025, 1, 30, 13, 44, 0, 956000, tzinfo=datetime.timezone.utc), deleted_time=None), node_type=None, objective_value={'total': -19927822739.279236, 'load_value': 0.0, 'bypass_cost': 0.0, 'grand_total': -19927820531.21755, 'rsv_penalty': 0.0, 'load_penalty': 0.0, 'thermal_cost': 0.0, 'rsv_end_value': -19927592194.850376, 'solver_status': 'Optimal solution is available', 'startup_costs': 1150.0, 'sum_penalties': 2208.061688777716, 'contract_value': 0.0, 'vow_in_transit': 0.0, 'bidding_penalty': 0.0, 'gate_slack_cost': 0.0, 'gate_spill_cost': 2208.047864777716, 'major_penalties': 0.0, 'market_sale_buy': -231694.42886055197, 'minor_penalties': 2208.061688777716, 'rsv_end_penalty': 0.0, 'sim_grand_total': 0.0, 'sim_rsv_penalty': 0.0, 'sum_feeding_fee': 0.0, 'creek_spill_cost': 0.0, 'reserve_sale_buy': 0.0, 'sim_rsv_end_value': 0.0, 'sim_startup_costs': 0.0, 'sum_discharge_fee': 0.0, 'reserve_slack_cost': 0.0, 'gate_discharge_cost': 0.013824000000000003, 'junction_slack_cost': 0.0, 'physical_spill_cost': 1988.864851648981, 'reserve_oblig_value': 0.0, 'rsv_ramping_penalty': 0.0, 'sim_market_sale_buy': 0.0, 'sum_ramping_penalty': 0.0, 'gate_ramping_penalty': 0.0, 'gen_schedule_penalty': 0.0, 'rsv_tactical_penalty': 0.0, 'gate_q_constr_penalty': 0.0, 'group_ramping_penalty': 0.0, 'physical_spill_volume': 0.03977729722072846, 'plant_ramping_penalty': 0.0, 'pump_schedule_penalty': 0.0, 'gate_peak_flow_penalty': 0.0, 'nonphysical_spill_cost': 219.18301312873444, 'plant_p_constr_penalty': 0.0, 'plant_q_constr_penalty': 0.0, 'plant_schedule_penalty': 0.0, 'river_max_flow_penalty': 0.0, 'river_min_flow_penalty': 0.0, 'rsv_end_value_relative': -39673449.46741104, 'rsv_hard_limit_penalty': 0.0, 'rsv_over_limit_penalty': 0.0, 'common_decision_penalty': 0.0, 'discharge_group_penalty': 0.0, 'group_time_step_penalty': 0.0, 'rsv_peak_volume_penalty': 0.0, 'rsv_spill_vol_end_value': 0.0, 'contract_ramping_penalty': 0.0, 'nonphysical_spill_volume': 0.004383660278889463, 'reserve_schedule_penalty': 0.0, 'rsv_flood_volume_penalty': 0.0, 'creek_physical_spill_cost': 0.0, 'group_time_period_penalty': 0.0, 'reserve_violation_penalty': 0.0, 'safe_mode_universal_penalty': 0.0, 'times_of_wrong_pq_uploading': 0, 'creek_nonphysical_spill_cost': 0.0, 'production_group_power_penalty': 0.0, 'discharge_group_ramping_penalty': 0.0, 'production_group_energy_penalty': 0.0}, pre_run='POWEROPS_SHOP_pre-run-db74590d-2c0a-47b4-8fda-282708a59d2d_aac0a96f', post_run='POWEROPS_SHOP_post-run-db74590d-2c0a-47b4-8fda-282708a59d2d', messages='POWEROPS_SHOP_shop-db74590d-2c0a-47b4-8fda-282708a59d2d', cplex_logs='POWEROPS_SHOP_cplex-db74590d-2c0a-47b4-8fda-282708a59d2d')"
                        ]
                    },
                    "execution_count": 18,
                    "metadata": {},
                    "output_type": "execute_result"
                }
            ],
            "source": [
                "from cognite.powerops.client._generated.data_classes import ShopResult\n",
                "\n",
                "shop_result_1: ShopResult = powerops.cogshop.retrieve_shop_result(result_list_1[0].external_id)\n",
                "shop_result_1"
            ]
        },
        {
            "cell_type": "code",
            "execution_count": 19,
            "id": "a60d8aae",
            "metadata": {},
            "outputs": [
                {
                    "name": "stdout",
                    "output_type": "stream",
                    "text": [
                        "INFORMATION: 1032\n",
                        "15.6.1.0 Cplex 20.1.0 Gurobi 7.5 OSI/CBC 2.9 2024-05-10\n",
                        "\n",
                        "INFORMATION: 1047\n",
                        "Current time: Thu Jan 30 13:43:28 2025\n",
                        "\n",
                        "DIAGNOSIS WARNING: 3250\n",
                        "Reservoir Dalbysvatn: Only max tactical cost or limit is given.\n",
                        "DIAGNOSIS WARNING: 3205\n",
                        "Reservoir Dalbysvatn: 0 errors 1 warnings.\n",
                        "\n"
                    ]
                }
            ],
            "source": [
                "# Downloading one of the files to tmp directory and printing the first 10 lines\n",
                "from tempfile import TemporaryDirectory\n",
                "\n",
                "with TemporaryDirectory() as tmp_dir:\n",
                "    pre_run_file_path = str(Path(tmp_dir) / \"log_file.log\")\n",
                "    powerops.cdf.files.download_to_path(external_id=shop_result_1.messages, path=pre_run_file_path)\n",
                "    with open(pre_run_file_path) as log_file:\n",
                "        print(\"\".join(log_file.readlines()[:10]))"
            ]
        },
        {
            "cell_type": "markdown",
            "id": "c8e9719d",
            "metadata": {},
            "source": [
                "### Step 4 (optional): Prepare to delete created resources"
            ]
        },
        {
            "cell_type": "code",
            "execution_count": 20,
            "id": "70c2aef0",
            "metadata": {},
            "outputs": [
                {
                    "data": {
                        "text/plain": [
                            "['shopscenario:2e8c8e6981f749b08bf210304a677e04',\n",
                            " 'shopmodel:e03514e4906744c4ab44b348afb9dbaf',\n",
                            " 'shopcase:fbaead0a55884c22b84999a407f4c294',\n",
                            " 'shopfile:51bf20345d6f4509b81b8808bd59db9d',\n",
                            " 'shopfile:2b334bc02cfc4c0781d1c0387a3d2cb6',\n",
                            " 'shop_result__db74590d-2c0a-47b4-8fda-282708a59d2d']"
                        ]
                    },
                    "execution_count": 20,
                    "metadata": {},
                    "output_type": "execute_result"
                }
            ],
            "source": [
                "all_external_ids_1 = [\n",
                "    shop_case_1.scenario.external_id,\n",
                "    shop_case_1.scenario.model.external_id,\n",
                "    shop_case_1.external_id,\n",
                "    shop_case_1.shop_files[0].external_id,\n",
                "    shop_case_1.shop_files[1].external_id,\n",
                "    shop_result_1.external_id,\n",
                "]\n",
                "\n",
                "all_external_ids_1  # Record these for deletion"
            ]
        },
        {
            "cell_type": "markdown",
            "id": "47560244",
            "metadata": {},
            "source": [
                "## Example 2: Reusing a ShopScenario instance\n",
                "As mentioned in the intro Quickstart, the recommend way to run CogShop is by having a static model and use scenarios to vary configurations. \n",
                "\n",
                "However, if we know that we want to run several `ShopCases` using the same configurations, we can reuse a `ShopScenario`/`ShopModel` instead of creating several identical instances.\n",
                "\n",
                "\n",
                "1. Create a `ShopScenario` and `ShopModel` that set the desired configuration (here `shop_version`). We will create two for demo purposes using the data classes directly \n",
                "2. Write the `ShopScenario` to CDF. \n",
                "3. Set up a `ShopCase`, preparing shop file list with names and references as explained in Example 1. Showing two ways to reference `ShopScenario`\n",
                "4. Write the cases to  to CDF. \n",
                "4. Trigger shop executions of the `ShopCase`a  and list the `ShopResult` as in previous examples \n",
                "\n",
                "As in the previous example, we will be letting the SDK generate all external id. Again they can be "
            ]
        },
        {
            "cell_type": "markdown",
            "id": "5716566f",
            "metadata": {},
            "source": [
                "### Step 1: Create reusable ShopScenarios (with ShopScenarios)\n",
                "\n",
                "`ShopScenario`s and `ShopModel`s created this way, will have several unused fields that are `None`. This is due to the there usage here being very different from their intended usage.   \n",
                "\n",
                "\n",
                "See the Power Ops SDK or the Data Models in Fusion for more information of what the fields represent"
            ]
        },
        {
            "cell_type": "code",
            "execution_count": 24,
            "id": "35169486",
            "metadata": {},
            "outputs": [
                {
                    "data": {
                        "text/plain": [
                            "['SHOP-15.4.1.1-pyshop-python3.11-linux.zip',\n",
                            " 'SHOP-16.0.3-pyshop-python3.11-linux.zip',\n",
                            " 'SHOP-16.0.2-pyshop-python3.11-linux.zip',\n",
                            " 'SHOP-15.6.1.0-pyshop-python3.11-linux.zip']"
                        ]
                    },
                    "execution_count": 24,
                    "metadata": {},
                    "output_type": "execute_result"
                }
            ],
            "source": [
                "# Not necessary hte only versions available, but we can list available files Shop Version in CDF.\n",
                "powerops.cogshop.list_shop_versions()"
            ]
        },
        {
            "cell_type": "code",
            "execution_count": 25,
            "id": "053e558e",
            "metadata": {},
            "outputs": [],
            "source": [
                "from cognite.powerops.client._generated.data_classes import ShopModelWrite, ShopScenarioWrite\n",
                "\n",
                "# Using shop version 15.6.1.0\n",
                "reusable_model_15_6_1_0 = ShopModelWrite(\n",
                "    name=\"reusable_shop_model_15_6_1_0\",\n",
                "    shop_version=\"15.6.1.0\",\n",
                "    model_version=\"1.0\",\n",
                "    model=None,\n",
                "    penalty_limit=None,\n",
                "    cog_shop_version=None,\n",
                "    base_attribute_mappings=None,\n",
                ")\n",
                "\n",
                "reusable_scenario_15_6_1_0 = ShopScenarioWrite(\n",
                "    name=\"reusable_shop_scenario_15_6_1_0\",\n",
                "    model=reusable_model_15_6_1_0,\n",
                "    commands=None,\n",
                "    source=None,\n",
                "    output_definition=None,\n",
                "    attribute_mappings_override=None,\n",
                ")\n",
                "\n",
                "# Using shop version 16.0.3\n",
                "reusable_model_16_0_3 = ShopModelWrite(\n",
                "    name=\"reusable_shop_model_16_0_3\",\n",
                "    shop_version=\"16.0.3\",\n",
                "    model_version=\"1.0\",\n",
                "    model=None,\n",
                "    penalty_limit=None,\n",
                "    cog_shop_version=None,\n",
                "    base_attribute_mappings=None,\n",
                ")\n",
                "\n",
                "reusable_scenario_16_0_3 = ShopScenarioWrite(\n",
                "    name=\"reusable_shop_scenario_16_0_3\",\n",
                "    model=reusable_model_16_0_3,\n",
                "    commands=None,\n",
                "    source=None,\n",
                "    output_definition=None,\n",
                "    attribute_mappings_override=None,\n",
                ")"
            ]
        },
        {
            "cell_type": "code",
            "execution_count": 26,
            "id": "6da33768",
            "metadata": {},
            "outputs": [
                {
                    "name": "stdout",
                    "output_type": "stream",
                    "text": [
                        "Shop Model 15.5.1.0 'shopmodel:c3151fd33aee42e880a298dfe5b99275'\n",
                        "Shop Model 16.0.3   'shopmodel:cb5dc778fcf24f528451673f3d32cb0d'\n"
                    ]
                }
            ],
            "source": [
                "# Looking at the models\n",
                "print(f\"Shop Model 15.5.1.0 '{reusable_model_15_6_1_0.external_id}'\")\n",
                "print(f\"Shop Model 16.0.3   '{reusable_model_16_0_3.external_id}'\")"
            ]
        },
        {
            "cell_type": "code",
            "execution_count": 27,
            "id": "454dd3db",
            "metadata": {},
            "outputs": [
                {
                    "name": "stdout",
                    "output_type": "stream",
                    "text": [
                        "Shop Scenario 15.6.1.0: 'shopscenario:01426be5d6ef4100a03c0ca6fa503076'\n",
                        "Shop Scenario 16.0.3:   'shopscenario:da73790217944684b5d103a972afaa1d'\n"
                    ]
                }
            ],
            "source": [
                "# Looking at the scenarios\n",
                "print(f\"Shop Scenario 15.6.1.0: '{reusable_scenario_15_6_1_0.external_id}'\")\n",
                "print(f\"Shop Scenario 16.0.3:   '{reusable_scenario_16_0_3.external_id}'\")"
            ]
        },
        {
            "cell_type": "markdown",
            "id": "a1d380d7",
            "metadata": {},
            "source": [
                "### Step 2: Write the scenarios to CDF\n",
                "\n",
                "Since the Scenarios are referencing `Write` instances of the `ShopModel`s, just upserting the scenarios is sufficient. \n",
                "Here we will only upsert 1 of the scenarios to demonstrate two different ways to prepare a case with an existing scenario."
            ]
        },
        {
            "cell_type": "code",
            "execution_count": 28,
            "id": "0d866285",
            "metadata": {},
            "outputs": [
                {
                    "data": {
                        "text/plain": [
                            "ResourcesWriteResult(nodes=[<NodeApplyResult(space='power_ops_instances', external_id='shopscenario:01426be5d6ef4100a03c0ca6fa503076', version=1) at 0x7f908f05cd50>, <NodeApplyResult(space='power_ops_instances', external_id='shopmodel:c3151fd33aee42e880a298dfe5b99275', version=1) at 0x7f908f05e710>], edges=[], time_series=[], files=[], sequences=[])"
                        ]
                    },
                    "execution_count": 28,
                    "metadata": {},
                    "output_type": "execute_result"
                }
            ],
            "source": [
                "powerops.v1.upsert(reusable_scenario_15_6_1_0)"
            ]
        },
        {
            "cell_type": "markdown",
            "id": "7bb64621",
            "metadata": {},
            "source": [
                "### Step 3: Create new Shop Cases, referencing the newly created scenarios\n",
                "\n",
                "We will be reusing the files from the example above"
            ]
        },
        {
            "cell_type": "code",
            "execution_count": 29,
            "id": "30b2eff6",
            "metadata": {},
            "outputs": [],
            "source": [
                "#  Files are referenced using 4-tuples with the following structure:\n",
                "# (file_reference, file_name, is_ascii, labels)\n",
                "shop_file_list = [\n",
                "    (example_case_fbu_1, example_case_fbu_1, False, \"\"),\n",
                "    # CogShop needs to know which file contains commands in the case of multiple files\n",
                "    (example_case_fbu_2, example_case_fbu_2, False, \"commands\"),\n",
                "]"
            ]
        },
        {
            "cell_type": "code",
            "execution_count": 30,
            "id": "de7b2079",
            "metadata": {},
            "outputs": [
                {
                    "data": {
                        "text/html": [
                            "<div>\n",
                            "<style scoped>\n",
                            "    .dataframe tbody tr th:only-of-type {\n",
                            "        vertical-align: middle;\n",
                            "    }\n",
                            "\n",
                            "    .dataframe tbody tr th {\n",
                            "        vertical-align: top;\n",
                            "    }\n",
                            "\n",
                            "    .dataframe thead th {\n",
                            "        text-align: right;\n",
                            "    }\n",
                            "</style>\n",
                            "<table border=\"1\" class=\"dataframe\">\n",
                            "  <thead>\n",
                            "    <tr style=\"text-align: right;\">\n",
                            "      <th></th>\n",
                            "      <th>value</th>\n",
                            "    </tr>\n",
                            "  </thead>\n",
                            "  <tbody>\n",
                            "    <tr>\n",
                            "      <th>space</th>\n",
                            "      <td>power_ops_instances</td>\n",
                            "    </tr>\n",
                            "    <tr>\n",
                            "      <th>external_id</th>\n",
                            "      <td>shopcase:e445c110f3b94fcf8a2e2a4bdce6d244</td>\n",
                            "    </tr>\n",
                            "    <tr>\n",
                            "      <th>data_record</th>\n",
                            "      <td>{'existing_version': None}</td>\n",
                            "    </tr>\n",
                            "    <tr>\n",
                            "      <th>node_type</th>\n",
                            "      <td>None</td>\n",
                            "    </tr>\n",
                            "    <tr>\n",
                            "      <th>scenario</th>\n",
                            "      <td>shopscenario:01426be5d6ef4100a03c0ca6fa503076</td>\n",
                            "    </tr>\n",
                            "    <tr>\n",
                            "      <th>start_time</th>\n",
                            "      <td>2023-01-19 23:00:00</td>\n",
                            "    </tr>\n",
                            "    <tr>\n",
                            "      <th>end_time</th>\n",
                            "      <td>2023-01-29 23:00:00</td>\n",
                            "    </tr>\n",
                            "    <tr>\n",
                            "      <th>shop_files</th>\n",
                            "      <td>[{'space': 'power_ops_instances', 'external_id...</td>\n",
                            "    </tr>\n",
                            "  </tbody>\n",
                            "</table>\n",
                            "</div>"
                        ],
                        "text/plain": [
                            "ShopCaseWrite(space='power_ops_instances', external_id='shopcase:e445c110f3b94fcf8a2e2a4bdce6d244', data_record=DataRecordWrite(existing_version=None), node_type=None, start_time=datetime.datetime(2023, 1, 19, 23, 0), end_time=datetime.datetime(2023, 1, 29, 23, 0))"
                        ]
                    },
                    "execution_count": 30,
                    "metadata": {},
                    "output_type": "execute_result"
                }
            ],
            "source": [
                "shop_case_15_6_1_0 = powerops.cogshop.prepare_shop_case_with_existing_scenario(\n",
                "    shop_file_list=shop_file_list,\n",
                "    start_time=datetime.datetime(2023, 1, 19, 23),\n",
                "    end_time=datetime.datetime(2023, 1, 29, 23),\n",
                "    shop_scenario_reference=reusable_scenario_15_6_1_0.external_id,  # Note that we are using the external id of the scenario\n",
                ")\n",
                "shop_case_15_6_1_0"
            ]
        },
        {
            "cell_type": "code",
            "execution_count": 31,
            "id": "028de439",
            "metadata": {},
            "outputs": [
                {
                    "ename": "ValueError",
                    "evalue": "Invalid shop scenario reference: shopscenario:da73790217944684b5d103a972afaa1d.",
                    "output_type": "error",
                    "traceback": [
                        "\u001b[0;31m---------------------------------------------------------------------------\u001b[0m",
                        "\u001b[0;31mValueError\u001b[0m                                Traceback (most recent call last)",
                        "Cell \u001b[0;32mIn[31], line 2\u001b[0m\n\u001b[1;32m      1\u001b[0m \u001b[38;5;66;03m# This will fail because the scenario does not exist in CDF yet (we did not upsert it)\u001b[39;00m\n\u001b[0;32m----> 2\u001b[0m will_fail_shop_case_16_0_3 \u001b[38;5;241m=\u001b[39m \u001b[43mpowerops\u001b[49m\u001b[38;5;241;43m.\u001b[39;49m\u001b[43mcogshop\u001b[49m\u001b[38;5;241;43m.\u001b[39;49m\u001b[43mprepare_shop_case_with_existing_scenario\u001b[49m\u001b[43m(\u001b[49m\n\u001b[1;32m      3\u001b[0m \u001b[43m    \u001b[49m\u001b[43mshop_file_list\u001b[49m\u001b[38;5;241;43m=\u001b[39;49m\u001b[43mshop_file_list\u001b[49m\u001b[43m,\u001b[49m\n\u001b[1;32m      4\u001b[0m \u001b[43m    \u001b[49m\u001b[43mstart_time\u001b[49m\u001b[38;5;241;43m=\u001b[39;49m\u001b[43mdatetime\u001b[49m\u001b[38;5;241;43m.\u001b[39;49m\u001b[43mdatetime\u001b[49m\u001b[43m(\u001b[49m\u001b[38;5;241;43m2023\u001b[39;49m\u001b[43m,\u001b[49m\u001b[43m \u001b[49m\u001b[38;5;241;43m1\u001b[39;49m\u001b[43m,\u001b[49m\u001b[43m \u001b[49m\u001b[38;5;241;43m19\u001b[39;49m\u001b[43m,\u001b[49m\u001b[43m \u001b[49m\u001b[38;5;241;43m23\u001b[39;49m\u001b[43m)\u001b[49m\u001b[43m,\u001b[49m\n\u001b[1;32m      5\u001b[0m \u001b[43m    \u001b[49m\u001b[43mend_time\u001b[49m\u001b[38;5;241;43m=\u001b[39;49m\u001b[43mdatetime\u001b[49m\u001b[38;5;241;43m.\u001b[39;49m\u001b[43mdatetime\u001b[49m\u001b[43m(\u001b[49m\u001b[38;5;241;43m2023\u001b[39;49m\u001b[43m,\u001b[49m\u001b[43m \u001b[49m\u001b[38;5;241;43m1\u001b[39;49m\u001b[43m,\u001b[49m\u001b[43m \u001b[49m\u001b[38;5;241;43m29\u001b[39;49m\u001b[43m,\u001b[49m\u001b[43m \u001b[49m\u001b[38;5;241;43m23\u001b[39;49m\u001b[43m)\u001b[49m\u001b[43m,\u001b[49m\n\u001b[1;32m      6\u001b[0m \u001b[43m    \u001b[49m\u001b[43mshop_scenario_reference\u001b[49m\u001b[38;5;241;43m=\u001b[39;49m\u001b[43mreusable_scenario_16_0_3\u001b[49m\u001b[38;5;241;43m.\u001b[39;49m\u001b[43mexternal_id\u001b[49m\u001b[43m,\u001b[49m\u001b[43m  \u001b[49m\u001b[38;5;66;43;03m# Note that this is the external id of the scenario\u001b[39;49;00m\n\u001b[1;32m      7\u001b[0m \u001b[43m)\u001b[49m\n",
                        "File \u001b[0;32m~/powerOps/power-ops-sdk/cognite/powerops/client/shop/cogshop_api.py:128\u001b[0m, in \u001b[0;36mCogShopAPI.prepare_shop_case_with_existing_scenario\u001b[0;34m(self, shop_file_list, start_time, end_time, shop_scenario_reference, case_external_id)\u001b[0m\n\u001b[1;32m     92\u001b[0m \u001b[38;5;250m\u001b[39m\u001b[38;5;124;03m\"\"\"\u001b[39;00m\n\u001b[1;32m     93\u001b[0m \u001b[38;5;124;03mPrepare a SHOP case that can be written to CDF, specifying just a scenario we wish to use.\u001b[39;00m\n\u001b[1;32m     94\u001b[0m \n\u001b[0;32m   (...)\u001b[0m\n\u001b[1;32m    111\u001b[0m \u001b[38;5;124;03m    ShopCaseWrite: A SHOP case that can be written to CDF\u001b[39;00m\n\u001b[1;32m    112\u001b[0m \u001b[38;5;124;03m\"\"\"\u001b[39;00m\n\u001b[1;32m    114\u001b[0m shop_files_write \u001b[38;5;241m=\u001b[39m [\n\u001b[1;32m    115\u001b[0m     ShopFileWrite(\n\u001b[1;32m    116\u001b[0m         name\u001b[38;5;241m=\u001b[39mfile_name,\n\u001b[0;32m   (...)\u001b[0m\n\u001b[1;32m    122\u001b[0m     \u001b[38;5;28;01mfor\u001b[39;00m i, (file_reference, file_name, is_ascii, label) \u001b[38;5;129;01min\u001b[39;00m \u001b[38;5;28menumerate\u001b[39m(shop_file_list)\n\u001b[1;32m    123\u001b[0m ]\n\u001b[1;32m    125\u001b[0m case_write \u001b[38;5;241m=\u001b[39m ShopCaseWrite(\n\u001b[1;32m    126\u001b[0m     start_time\u001b[38;5;241m=\u001b[39mstart_time,\n\u001b[1;32m    127\u001b[0m     end_time\u001b[38;5;241m=\u001b[39mend_time,\n\u001b[0;32m--> 128\u001b[0m     scenario\u001b[38;5;241m=\u001b[39m\u001b[38;5;28;43mself\u001b[39;49m\u001b[38;5;241;43m.\u001b[39;49m\u001b[43m_validate_shop_scenario_reference\u001b[49m\u001b[43m(\u001b[49m\u001b[43mshop_scenario_reference\u001b[49m\u001b[43m)\u001b[49m,\n\u001b[1;32m    129\u001b[0m     shop_files\u001b[38;5;241m=\u001b[39mshop_files_write,\n\u001b[1;32m    130\u001b[0m     \u001b[38;5;241m*\u001b[39m\u001b[38;5;241m*\u001b[39m({\u001b[38;5;124m\"\u001b[39m\u001b[38;5;124mexternal_id\u001b[39m\u001b[38;5;124m\"\u001b[39m: case_external_id} \u001b[38;5;28;01mif\u001b[39;00m case_external_id \u001b[38;5;28;01melse\u001b[39;00m {}),\n\u001b[1;32m    131\u001b[0m )\n\u001b[1;32m    132\u001b[0m \u001b[38;5;28;01mreturn\u001b[39;00m case_write\n",
                        "File \u001b[0;32m~/powerOps/power-ops-sdk/cognite/powerops/client/shop/cogshop_api.py:82\u001b[0m, in \u001b[0;36mCogShopAPI._validate_shop_scenario_reference\u001b[0;34m(self, shop_scenario_reference)\u001b[0m\n\u001b[1;32m     77\u001b[0m     \u001b[38;5;28;01mif\u001b[39;00m scenario \u001b[38;5;241m:=\u001b[39m \u001b[38;5;28mself\u001b[39m\u001b[38;5;241m.\u001b[39m_po\u001b[38;5;241m.\u001b[39mshop_based_day_ahead_bid_process\u001b[38;5;241m.\u001b[39mshop_scenario\u001b[38;5;241m.\u001b[39mretrieve(\n\u001b[1;32m     78\u001b[0m         external_id\u001b[38;5;241m=\u001b[39mshop_scenario_reference\n\u001b[1;32m     79\u001b[0m     ):\n\u001b[1;32m     80\u001b[0m         \u001b[38;5;28;01mreturn\u001b[39;00m scenario\u001b[38;5;241m.\u001b[39mexternal_id\n\u001b[0;32m---> 82\u001b[0m \u001b[38;5;28;01mraise\u001b[39;00m \u001b[38;5;167;01mValueError\u001b[39;00m(\u001b[38;5;124mf\u001b[39m\u001b[38;5;124m\"\u001b[39m\u001b[38;5;124mInvalid shop scenario reference: \u001b[39m\u001b[38;5;132;01m{\u001b[39;00mshop_scenario_reference\u001b[38;5;132;01m}\u001b[39;00m\u001b[38;5;124m.\u001b[39m\u001b[38;5;124m\"\u001b[39m)\n",
                        "\u001b[0;31mValueError\u001b[0m: Invalid shop scenario reference: shopscenario:da73790217944684b5d103a972afaa1d."
                    ]
                }
            ],
            "source": [
                "# This will fail because the scenario does not exist in CDF yet (we did not upsert it)\n",
                "will_fail_shop_case_16_0_3 = powerops.cogshop.prepare_shop_case_with_existing_scenario(\n",
                "    shop_file_list=shop_file_list,\n",
                "    start_time=datetime.datetime(2023, 1, 19, 23),\n",
                "    end_time=datetime.datetime(2023, 1, 29, 23),\n",
                "    shop_scenario_reference=reusable_scenario_16_0_3.external_id,  # Note that this is the external id of the scenario\n",
                ")"
            ]
        },
        {
            "cell_type": "code",
            "execution_count": 32,
            "id": "e360f5bd",
            "metadata": {},
            "outputs": [
                {
                    "data": {
                        "text/html": [
                            "<div>\n",
                            "<style scoped>\n",
                            "    .dataframe tbody tr th:only-of-type {\n",
                            "        vertical-align: middle;\n",
                            "    }\n",
                            "\n",
                            "    .dataframe tbody tr th {\n",
                            "        vertical-align: top;\n",
                            "    }\n",
                            "\n",
                            "    .dataframe thead th {\n",
                            "        text-align: right;\n",
                            "    }\n",
                            "</style>\n",
                            "<table border=\"1\" class=\"dataframe\">\n",
                            "  <thead>\n",
                            "    <tr style=\"text-align: right;\">\n",
                            "      <th></th>\n",
                            "      <th>value</th>\n",
                            "    </tr>\n",
                            "  </thead>\n",
                            "  <tbody>\n",
                            "    <tr>\n",
                            "      <th>space</th>\n",
                            "      <td>power_ops_instances</td>\n",
                            "    </tr>\n",
                            "    <tr>\n",
                            "      <th>external_id</th>\n",
                            "      <td>shopcase:3891c293108345469bff404960eaf0a7</td>\n",
                            "    </tr>\n",
                            "    <tr>\n",
                            "      <th>data_record</th>\n",
                            "      <td>{'existing_version': None}</td>\n",
                            "    </tr>\n",
                            "    <tr>\n",
                            "      <th>node_type</th>\n",
                            "      <td>None</td>\n",
                            "    </tr>\n",
                            "    <tr>\n",
                            "      <th>scenario</th>\n",
                            "      <td>{'space': 'power_ops_instances', 'external_id'...</td>\n",
                            "    </tr>\n",
                            "    <tr>\n",
                            "      <th>start_time</th>\n",
                            "      <td>2023-01-19 23:00:00</td>\n",
                            "    </tr>\n",
                            "    <tr>\n",
                            "      <th>end_time</th>\n",
                            "      <td>2023-01-29 23:00:00</td>\n",
                            "    </tr>\n",
                            "    <tr>\n",
                            "      <th>shop_files</th>\n",
                            "      <td>[{'space': 'power_ops_instances', 'external_id...</td>\n",
                            "    </tr>\n",
                            "  </tbody>\n",
                            "</table>\n",
                            "</div>"
                        ],
                        "text/plain": [
                            "ShopCaseWrite(space='power_ops_instances', external_id='shopcase:3891c293108345469bff404960eaf0a7', data_record=DataRecordWrite(existing_version=None), node_type=None, start_time=datetime.datetime(2023, 1, 19, 23, 0), end_time=datetime.datetime(2023, 1, 29, 23, 0))"
                        ]
                    },
                    "execution_count": 32,
                    "metadata": {},
                    "output_type": "execute_result"
                }
            ],
            "source": [
                "# However, if we reference the Write object in the case creation it will be work.\n",
                "# This is because a chained series of Write obejcts (which `prepare_shop_case_with_existing_scenario` returns) can be upserted at the same time.\n",
                "shop_case_16_0_3 = powerops.cogshop.prepare_shop_case_with_existing_scenario(\n",
                "    shop_file_list=shop_file_list,\n",
                "    start_time=datetime.datetime(2023, 1, 19, 23),\n",
                "    end_time=datetime.datetime(2023, 1, 29, 23),\n",
                "    shop_scenario_reference=reusable_scenario_16_0_3,  # Note that this is the Write object\n",
                ")\n",
                "shop_case_16_0_3"
            ]
        },
        {
            "cell_type": "markdown",
            "id": "c8ff485c",
            "metadata": {},
            "source": [
                "### Step 4: Upserting the new cases. \n",
                "\n",
                "Notice that the resources are bundled together as a list when we write more than one resource "
            ]
        },
        {
            "cell_type": "code",
            "execution_count": 33,
            "id": "be9a51e7",
            "metadata": {},
            "outputs": [
                {
                    "data": {
                        "text/plain": [
                            "ResourcesWriteResult(nodes=[<NodeApplyResult(space='power_ops_instances', external_id='shopcase:e445c110f3b94fcf8a2e2a4bdce6d244', version=1) at 0x7f9094e8f7d0>, <NodeApplyResult(space='power_ops_instances', external_id='shopfile:0755f2f7292c4859ba8bd563bc4d95f1', version=1) at 0x7f908f05d4d0>, <NodeApplyResult(space='power_ops_instances', external_id='shopfile:665d941cc9c548e6a781e4ba1184c369', version=1) at 0x7f908e701b90>, <NodeApplyResult(space='power_ops_instances', external_id='shopcase:3891c293108345469bff404960eaf0a7', version=1) at 0x7f908e701b50>, <NodeApplyResult(space='power_ops_instances', external_id='shopscenario:da73790217944684b5d103a972afaa1d', version=1) at 0x7f908e701010>, <NodeApplyResult(space='power_ops_instances', external_id='shopmodel:cb5dc778fcf24f528451673f3d32cb0d', version=1) at 0x7f908e700a10>, <NodeApplyResult(space='power_ops_instances', external_id='shopfile:6c1c37e13042422595fe8d65ead2f1f3', version=1) at 0x7f908e700d90>, <NodeApplyResult(space='power_ops_instances', external_id='shopfile:6fc77d53f2d8499eb8a1c391efbc6c58', version=1) at 0x7f908e701310>], edges=[<EdgeApplyResult(space='power_ops_instances', external_id='shopcase:e445c110f3b94fcf8a2e2a4bdce6d244:shopfile:0755f2f7292c4859ba8bd563bc4d95f1', version=1) at 0x7f908e703f90>, <EdgeApplyResult(space='power_ops_instances', external_id='shopcase:e445c110f3b94fcf8a2e2a4bdce6d244:shopfile:665d941cc9c548e6a781e4ba1184c369', version=1) at 0x7f908f055890>, <EdgeApplyResult(space='power_ops_instances', external_id='shopcase:3891c293108345469bff404960eaf0a7:shopfile:6c1c37e13042422595fe8d65ead2f1f3', version=1) at 0x7f908f098210>, <EdgeApplyResult(space='power_ops_instances', external_id='shopcase:3891c293108345469bff404960eaf0a7:shopfile:6fc77d53f2d8499eb8a1c391efbc6c58', version=1) at 0x7f908e701d10>], time_series=[], files=[], sequences=[])"
                        ]
                    },
                    "execution_count": 33,
                    "metadata": {},
                    "output_type": "execute_result"
                }
            ],
            "source": [
                "powerops.v1.upsert([shop_case_15_6_1_0, shop_case_16_0_3])"
            ]
        },
        {
            "cell_type": "markdown",
            "id": "f18ab463",
            "metadata": {},
            "source": [
                "### Step 5: Trigger Shop Executions and inspect results"
            ]
        },
        {
            "cell_type": "code",
            "execution_count": 34,
            "id": "94394b96",
            "metadata": {},
            "outputs": [],
            "source": [
                "powerops.cogshop.trigger_shop_case(shop_case_15_6_1_0.external_id)\n",
                "powerops.cogshop.trigger_shop_case(shop_case_16_0_3.external_id)"
            ]
        },
        {
            "cell_type": "markdown",
            "id": "1b206d2b",
            "metadata": {},
            "source": [
                "\n",
                "Note that it may take a while to run (Cog)Shop. \n",
                "If the run is not completed then no results are returned. \n",
                "If a result is returned, but several values are `None` (namely `post run`, `messages`, `cplex`), it can be assumed that the run failed.\n"
            ]
        },
        {
            "cell_type": "code",
            "execution_count": 36,
            "id": "966b266c",
            "metadata": {},
            "outputs": [
                {
                    "name": "stdout",
                    "output_type": "stream",
                    "text": [
                        "There is/are 1 result(s) for the case 'shopcase:e445c110f3b94fcf8a2e2a4bdce6d244'\n"
                    ]
                }
            ],
            "source": [
                "result_list_15_5_1_0: ShopResultList = powerops.cogshop.list_shop_results_for_case(\n",
                "    case_external_id=shop_case_15_6_1_0.external_id\n",
                ")\n",
                "print(f\"There is/are {len(result_list_15_5_1_0)} result(s) for the case '{shop_case_15_6_1_0.external_id}'\")"
            ]
        },
        {
            "cell_type": "code",
            "execution_count": 37,
            "id": "b652c546",
            "metadata": {},
            "outputs": [
                {
                    "data": {
                        "text/html": [
                            "<div>\n",
                            "<style scoped>\n",
                            "    .dataframe tbody tr th:only-of-type {\n",
                            "        vertical-align: middle;\n",
                            "    }\n",
                            "\n",
                            "    .dataframe tbody tr th {\n",
                            "        vertical-align: top;\n",
                            "    }\n",
                            "\n",
                            "    .dataframe thead th {\n",
                            "        text-align: right;\n",
                            "    }\n",
                            "</style>\n",
                            "<table border=\"1\" class=\"dataframe\">\n",
                            "  <thead>\n",
                            "    <tr style=\"text-align: right;\">\n",
                            "      <th></th>\n",
                            "      <th>value</th>\n",
                            "    </tr>\n",
                            "  </thead>\n",
                            "  <tbody>\n",
                            "    <tr>\n",
                            "      <th>space</th>\n",
                            "      <td>power_ops_instances</td>\n",
                            "    </tr>\n",
                            "    <tr>\n",
                            "      <th>external_id</th>\n",
                            "      <td>shop_result__0b84d204-349d-4bca-9d0f-d0acad597548</td>\n",
                            "    </tr>\n",
                            "    <tr>\n",
                            "      <th>data_record</th>\n",
                            "      <td>{'version': 1, 'last_updated_time': 2025-01-30...</td>\n",
                            "    </tr>\n",
                            "    <tr>\n",
                            "      <th>node_type</th>\n",
                            "      <td>None</td>\n",
                            "    </tr>\n",
                            "    <tr>\n",
                            "      <th>case</th>\n",
                            "      <td>shopcase:e445c110f3b94fcf8a2e2a4bdce6d244</td>\n",
                            "    </tr>\n",
                            "    <tr>\n",
                            "      <th>objective_value</th>\n",
                            "      <td>{'total': -19927822739.279236, 'load_value': 0...</td>\n",
                            "    </tr>\n",
                            "    <tr>\n",
                            "      <th>pre_run</th>\n",
                            "      <td>POWEROPS_SHOP_pre-run-0b84d204-349d-4bca-9d0f-...</td>\n",
                            "    </tr>\n",
                            "    <tr>\n",
                            "      <th>post_run</th>\n",
                            "      <td>POWEROPS_SHOP_post-run-0b84d204-349d-4bca-9d0f...</td>\n",
                            "    </tr>\n",
                            "    <tr>\n",
                            "      <th>messages</th>\n",
                            "      <td>POWEROPS_SHOP_shop-0b84d204-349d-4bca-9d0f-d0a...</td>\n",
                            "    </tr>\n",
                            "    <tr>\n",
                            "      <th>cplex_logs</th>\n",
                            "      <td>POWEROPS_SHOP_cplex-0b84d204-349d-4bca-9d0f-d0...</td>\n",
                            "    </tr>\n",
                            "    <tr>\n",
                            "      <th>alerts</th>\n",
                            "      <td>None</td>\n",
                            "    </tr>\n",
                            "    <tr>\n",
                            "      <th>output_time_series</th>\n",
                            "      <td>None</td>\n",
                            "    </tr>\n",
                            "  </tbody>\n",
                            "</table>\n",
                            "</div>"
                        ],
                        "text/plain": [
                            "ShopResult(space='power_ops_instances', external_id='shop_result__0b84d204-349d-4bca-9d0f-d0acad597548', data_record=DataRecord(version=1, last_updated_time=datetime.datetime(2025, 1, 30, 13, 51, 4, 440000, tzinfo=datetime.timezone.utc), created_time=datetime.datetime(2025, 1, 30, 13, 51, 4, 440000, tzinfo=datetime.timezone.utc), deleted_time=None), node_type=None, objective_value={'total': -19927822739.279236, 'load_value': 0.0, 'bypass_cost': 0.0, 'grand_total': -19927820531.21755, 'rsv_penalty': 0.0, 'load_penalty': 0.0, 'thermal_cost': 0.0, 'rsv_end_value': -19927592194.850376, 'solver_status': 'Optimal solution is available', 'startup_costs': 1150.0, 'sum_penalties': 2208.061688777716, 'contract_value': 0.0, 'vow_in_transit': 0.0, 'bidding_penalty': 0.0, 'gate_slack_cost': 0.0, 'gate_spill_cost': 2208.047864777716, 'major_penalties': 0.0, 'market_sale_buy': -231694.42886055197, 'minor_penalties': 2208.061688777716, 'rsv_end_penalty': 0.0, 'sim_grand_total': 0.0, 'sim_rsv_penalty': 0.0, 'sum_feeding_fee': 0.0, 'creek_spill_cost': 0.0, 'reserve_sale_buy': 0.0, 'sim_rsv_end_value': 0.0, 'sim_startup_costs': 0.0, 'sum_discharge_fee': 0.0, 'reserve_slack_cost': 0.0, 'gate_discharge_cost': 0.013824000000000003, 'junction_slack_cost': 0.0, 'physical_spill_cost': 1988.864851648981, 'reserve_oblig_value': 0.0, 'rsv_ramping_penalty': 0.0, 'sim_market_sale_buy': 0.0, 'sum_ramping_penalty': 0.0, 'gate_ramping_penalty': 0.0, 'gen_schedule_penalty': 0.0, 'rsv_tactical_penalty': 0.0, 'gate_q_constr_penalty': 0.0, 'group_ramping_penalty': 0.0, 'physical_spill_volume': 0.03977729722072846, 'plant_ramping_penalty': 0.0, 'pump_schedule_penalty': 0.0, 'gate_peak_flow_penalty': 0.0, 'nonphysical_spill_cost': 219.18301312873444, 'plant_p_constr_penalty': 0.0, 'plant_q_constr_penalty': 0.0, 'plant_schedule_penalty': 0.0, 'river_max_flow_penalty': 0.0, 'river_min_flow_penalty': 0.0, 'rsv_end_value_relative': -39673449.46741104, 'rsv_hard_limit_penalty': 0.0, 'rsv_over_limit_penalty': 0.0, 'common_decision_penalty': 0.0, 'discharge_group_penalty': 0.0, 'group_time_step_penalty': 0.0, 'rsv_peak_volume_penalty': 0.0, 'rsv_spill_vol_end_value': 0.0, 'contract_ramping_penalty': 0.0, 'nonphysical_spill_volume': 0.004383660278889463, 'reserve_schedule_penalty': 0.0, 'rsv_flood_volume_penalty': 0.0, 'creek_physical_spill_cost': 0.0, 'group_time_period_penalty': 0.0, 'reserve_violation_penalty': 0.0, 'safe_mode_universal_penalty': 0.0, 'times_of_wrong_pq_uploading': 0, 'creek_nonphysical_spill_cost': 0.0, 'production_group_power_penalty': 0.0, 'discharge_group_ramping_penalty': 0.0, 'production_group_energy_penalty': 0.0}, pre_run='POWEROPS_SHOP_pre-run-0b84d204-349d-4bca-9d0f-d0acad597548_aac0a96f', post_run='POWEROPS_SHOP_post-run-0b84d204-349d-4bca-9d0f-d0acad597548', messages='POWEROPS_SHOP_shop-0b84d204-349d-4bca-9d0f-d0acad597548', cplex_logs='POWEROPS_SHOP_cplex-0b84d204-349d-4bca-9d0f-d0acad597548')"
                        ]
                    },
                    "execution_count": 37,
                    "metadata": {},
                    "output_type": "execute_result"
                }
            ],
            "source": [
                "shop_result_15_6_1_0: ShopResult = powerops.cogshop.retrieve_shop_result(result_list_15_5_1_0[0].external_id)\n",
                "shop_result_15_6_1_0"
            ]
        },
        {
            "cell_type": "code",
            "execution_count": 38,
            "id": "05c72af7",
            "metadata": {},
            "outputs": [
                {
                    "name": "stdout",
                    "output_type": "stream",
                    "text": [
                        "There is/are 1 result(s) for the case 'shopcase:3891c293108345469bff404960eaf0a7'\n"
                    ]
                }
            ],
            "source": [
                "result_list_16_0_3: ShopResultList = powerops.cogshop.list_shop_results_for_case(\n",
                "    case_external_id=shop_case_16_0_3.external_id, limit=1\n",
                ")\n",
                "print(f\"There is/are {len(result_list_16_0_3)} result(s) for the case '{shop_case_16_0_3.external_id}'\")"
            ]
        },
        {
            "cell_type": "code",
            "execution_count": 39,
            "id": "ba9a2052",
            "metadata": {},
            "outputs": [
                {
                    "data": {
                        "text/html": [
                            "<div>\n",
                            "<style scoped>\n",
                            "    .dataframe tbody tr th:only-of-type {\n",
                            "        vertical-align: middle;\n",
                            "    }\n",
                            "\n",
                            "    .dataframe tbody tr th {\n",
                            "        vertical-align: top;\n",
                            "    }\n",
                            "\n",
                            "    .dataframe thead th {\n",
                            "        text-align: right;\n",
                            "    }\n",
                            "</style>\n",
                            "<table border=\"1\" class=\"dataframe\">\n",
                            "  <thead>\n",
                            "    <tr style=\"text-align: right;\">\n",
                            "      <th></th>\n",
                            "      <th>value</th>\n",
                            "    </tr>\n",
                            "  </thead>\n",
                            "  <tbody>\n",
                            "    <tr>\n",
                            "      <th>space</th>\n",
                            "      <td>power_ops_instances</td>\n",
                            "    </tr>\n",
                            "    <tr>\n",
                            "      <th>external_id</th>\n",
                            "      <td>shop_result__10dcf41a-661b-4c53-95a9-19fceed3ede7</td>\n",
                            "    </tr>\n",
                            "    <tr>\n",
                            "      <th>data_record</th>\n",
                            "      <td>{'version': 1, 'last_updated_time': 2025-01-30...</td>\n",
                            "    </tr>\n",
                            "    <tr>\n",
                            "      <th>node_type</th>\n",
                            "      <td>None</td>\n",
                            "    </tr>\n",
                            "    <tr>\n",
                            "      <th>case</th>\n",
                            "      <td>shopcase:3891c293108345469bff404960eaf0a7</td>\n",
                            "    </tr>\n",
                            "    <tr>\n",
                            "      <th>objective_value</th>\n",
                            "      <td>{'total': -19927822739.279236, 'load_value': 0...</td>\n",
                            "    </tr>\n",
                            "    <tr>\n",
                            "      <th>pre_run</th>\n",
                            "      <td>POWEROPS_SHOP_pre-run-10dcf41a-661b-4c53-95a9-...</td>\n",
                            "    </tr>\n",
                            "    <tr>\n",
                            "      <th>post_run</th>\n",
                            "      <td>POWEROPS_SHOP_post-run-10dcf41a-661b-4c53-95a9...</td>\n",
                            "    </tr>\n",
                            "    <tr>\n",
                            "      <th>messages</th>\n",
                            "      <td>POWEROPS_SHOP_shop-10dcf41a-661b-4c53-95a9-19f...</td>\n",
                            "    </tr>\n",
                            "    <tr>\n",
                            "      <th>cplex_logs</th>\n",
                            "      <td>POWEROPS_SHOP_cplex-10dcf41a-661b-4c53-95a9-19...</td>\n",
                            "    </tr>\n",
                            "    <tr>\n",
                            "      <th>alerts</th>\n",
                            "      <td>None</td>\n",
                            "    </tr>\n",
                            "    <tr>\n",
                            "      <th>output_time_series</th>\n",
                            "      <td>None</td>\n",
                            "    </tr>\n",
                            "  </tbody>\n",
                            "</table>\n",
                            "</div>"
                        ],
                        "text/plain": [
                            "ShopResult(space='power_ops_instances', external_id='shop_result__10dcf41a-661b-4c53-95a9-19fceed3ede7', data_record=DataRecord(version=1, last_updated_time=datetime.datetime(2025, 1, 30, 13, 50, 53, 530000, tzinfo=datetime.timezone.utc), created_time=datetime.datetime(2025, 1, 30, 13, 50, 53, 530000, tzinfo=datetime.timezone.utc), deleted_time=None), node_type=None, objective_value={'total': -19927822739.279236, 'load_value': 0.0, 'bypass_cost': 0.0, 'grand_total': -19927820531.21755, 'rsv_penalty': 0.0, 'load_penalty': 0.0, 'thermal_cost': 0.0, 'rsv_end_value': -19927592194.850376, 'solver_status': 'Optimal solution is available', 'startup_costs': 1150.0, 'sum_penalties': 2208.061688777716, 'contract_value': 0.0, 'vow_in_transit': 0.0, 'bidding_penalty': 0.0, 'gate_slack_cost': 0.0, 'gate_spill_cost': 2208.047864777716, 'major_penalties': 0.0, 'market_sale_buy': -231694.42886055197, 'minor_penalties': 2208.061688777716, 'rsv_end_penalty': 0.0, 'sim_grand_total': 0.0, 'sim_rsv_penalty': 0.0, 'sum_feeding_fee': 0.0, 'creek_spill_cost': 0.0, 'reserve_sale_buy': 0.0, 'sim_rsv_end_value': 0.0, 'sim_startup_costs': 0.0, 'sum_discharge_fee': 0.0, 'reserve_slack_cost': 0.0, 'gate_discharge_cost': 0.013824000000000003, 'junction_slack_cost': 0.0, 'physical_spill_cost': 1988.864851648981, 'reserve_oblig_value': 0.0, 'rsv_ramping_penalty': 0.0, 'sim_market_sale_buy': 0.0, 'sum_ramping_penalty': 0.0, 'gate_ramping_penalty': 0.0, 'gen_schedule_penalty': 0.0, 'rsv_tactical_penalty': 0.0, 'gate_q_constr_penalty': 0.0, 'group_ramping_penalty': 0.0, 'physical_spill_volume': 0.03977729722072846, 'plant_ramping_penalty': 0.0, 'pump_schedule_penalty': 0.0, 'gate_peak_flow_penalty': 0.0, 'nonphysical_spill_cost': 219.18301312873444, 'plant_p_constr_penalty': 0.0, 'plant_q_constr_penalty': 0.0, 'plant_schedule_penalty': 0.0, 'river_max_flow_penalty': 0.0, 'river_min_flow_penalty': 0.0, 'rsv_end_value_relative': -39673449.46741104, 'rsv_hard_limit_penalty': 0.0, 'rsv_over_limit_penalty': 0.0, 'common_decision_penalty': 0.0, 'discharge_group_penalty': 0.0, 'group_time_step_penalty': 0.0, 'rsv_peak_volume_penalty': 0.0, 'rsv_spill_vol_end_value': 0.0, 'contract_ramping_penalty': 0.0, 'nonphysical_spill_volume': 0.004383660278889463, 'reserve_schedule_penalty': 0.0, 'rsv_flood_volume_penalty': 0.0, 'creek_physical_spill_cost': 0.0, 'group_time_period_penalty': 0.0, 'reserve_violation_penalty': 0.0, 'safe_mode_universal_penalty': 0.0, 'times_of_wrong_pq_uploading': 0, 'creek_nonphysical_spill_cost': 0.0, 'production_group_power_penalty': 0.0, 'discharge_group_ramping_penalty': 0.0, 'production_group_energy_penalty': 0.0}, pre_run='POWEROPS_SHOP_pre-run-10dcf41a-661b-4c53-95a9-19fceed3ede7_64429c82', post_run='POWEROPS_SHOP_post-run-10dcf41a-661b-4c53-95a9-19fceed3ede7', messages='POWEROPS_SHOP_shop-10dcf41a-661b-4c53-95a9-19fceed3ede7', cplex_logs='POWEROPS_SHOP_cplex-10dcf41a-661b-4c53-95a9-19fceed3ede7')"
                        ]
                    },
                    "execution_count": 39,
                    "metadata": {},
                    "output_type": "execute_result"
                }
            ],
            "source": [
                "shop_result_16_0_3: ShopResult = powerops.cogshop.retrieve_shop_result(result_list_16_0_3[0].external_id)\n",
                "shop_result_16_0_3"
            ]
        },
        {
            "cell_type": "markdown",
            "id": "2382ef08",
            "metadata": {},
            "source": [
                "Looking at the `pre_run`s we can see that the cases/results generated were using different versions of SHOP, while the model is the the same one."
            ]
        },
        {
            "cell_type": "code",
            "execution_count": 40,
            "id": "5909051b",
            "metadata": {},
            "outputs": [
                {
                    "name": "stdout",
                    "output_type": "stream",
                    "text": [
                        "time:\n",
                        "  starttime: 2023-01-19 23:00:00\n",
                        "  endtime: 2023-01-29 23:00:00\n",
                        "  timeunit: minute\n",
                        "  timeresolution:\n",
                        "    2023-01-19 23:00:00: 60\n",
                        "    2023-01-22 23:00:00: 240\n",
                        "model:\n",
                        "  global_settings:\n",
                        "    global_settings:\n",
                        "      shop_version: 15.6.1.0 Cplex 20.1.0 Gurobi 7.5 OSI/CBC 2.9 2024-05-10\n",
                        "  creek_intake:\n",
                        "    Blakstad:\n",
                        "      net_head: 641\n",
                        "      max_inflow: 12\n",
                        "\n",
                        "==========================================\n",
                        "\n",
                        "time:\n",
                        "  starttime: 2023-01-19 23:00:00\n",
                        "  endtime: 2023-01-29 23:00:00\n",
                        "  timeunit: minute\n",
                        "  timeresolution:\n",
                        "    2023-01-19 23:00:00: 60\n",
                        "    2023-01-22 23:00:00: 240\n",
                        "model:\n",
                        "  global_settings:\n",
                        "    global_settings:\n",
                        "      shop_version: 16.0.3 Cplex 20.1.0 Gurobi 7.5 OSI/CBC 2.9 2024-08-16\n",
                        "  creek_intake:\n",
                        "    Blakstad:\n",
                        "      net_head: 641\n",
                        "      max_inflow: 12\n",
                        "\n"
                    ]
                }
            ],
            "source": [
                "from tempfile import TemporaryDirectory\n",
                "\n",
                "with TemporaryDirectory() as tmp_dir:\n",
                "    pre_run_file_path = str(Path(tmp_dir) / \"pre_run.yaml\")\n",
                "    powerops.cdf.files.download_to_path(external_id=shop_result_15_6_1_0.pre_run, path=pre_run_file_path)\n",
                "    with open(pre_run_file_path) as log_file:\n",
                "        print(\"\".join(log_file.readlines()[:15]))\n",
                "\n",
                "print(\"==========================================\\n\")\n",
                "\n",
                "with TemporaryDirectory() as tmp_dir:\n",
                "    pre_run_file_path = str(Path(tmp_dir) / \"pre_run.yaml\")\n",
                "    powerops.cdf.files.download_to_path(external_id=shop_result_16_0_3.pre_run, path=pre_run_file_path)\n",
                "    with open(pre_run_file_path) as log_file:\n",
                "        print(\"\".join(log_file.readlines()[:15]))"
            ]
        },
        {
            "cell_type": "markdown",
            "id": "4b52652c",
            "metadata": {},
            "source": [
                "### Step 5 (optional): Prepare to delete created resources"
            ]
        },
        {
            "cell_type": "code",
            "execution_count": 41,
            "id": "58af1386",
            "metadata": {},
            "outputs": [
                {
                    "data": {
                        "text/plain": [
                            "['shopscenario:01426be5d6ef4100a03c0ca6fa503076',\n",
                            " 'shopmodel:c3151fd33aee42e880a298dfe5b99275',\n",
                            " 'shopscenario:da73790217944684b5d103a972afaa1d',\n",
                            " 'shopmodel:cb5dc778fcf24f528451673f3d32cb0d',\n",
                            " 'shopcase:e445c110f3b94fcf8a2e2a4bdce6d244',\n",
                            " 'shopfile:0755f2f7292c4859ba8bd563bc4d95f1',\n",
                            " 'shopfile:665d941cc9c548e6a781e4ba1184c369',\n",
                            " 'shopcase:3891c293108345469bff404960eaf0a7',\n",
                            " 'shopfile:6c1c37e13042422595fe8d65ead2f1f3',\n",
                            " 'shopfile:6fc77d53f2d8499eb8a1c391efbc6c58',\n",
                            " 'shop_result__0b84d204-349d-4bca-9d0f-d0acad597548',\n",
                            " 'shop_result__10dcf41a-661b-4c53-95a9-19fceed3ede7']"
                        ]
                    },
                    "execution_count": 41,
                    "metadata": {},
                    "output_type": "execute_result"
                }
            ],
            "source": [
                "all_external_ids_2 = [\n",
                "    reusable_scenario_15_6_1_0.external_id,\n",
                "    reusable_scenario_15_6_1_0.model.external_id,\n",
                "    reusable_scenario_16_0_3.external_id,\n",
                "    reusable_scenario_16_0_3.model.external_id,\n",
                "    shop_case_15_6_1_0.external_id,\n",
                "    shop_case_15_6_1_0.shop_files[0].external_id,\n",
                "    shop_case_15_6_1_0.shop_files[1].external_id,\n",
                "    shop_case_16_0_3.external_id,\n",
                "    shop_case_16_0_3.shop_files[0].external_id,\n",
                "    shop_case_16_0_3.shop_files[1].external_id,\n",
                "    shop_result_15_6_1_0.external_id,\n",
                "    shop_result_16_0_3.external_id,\n",
                "]\n",
                "all_external_ids_2  # Record these for deletion"
            ]
        },
        {
            "cell_type": "markdown",
            "id": "ef00ba2e",
            "metadata": {},
            "source": [
                "## Cleaning up the instances that were created\n",
                "\n",
                "Instances can be deleted by using the powerops client and the `external_id`s of everything we have created "
            ]
        },
        {
            "cell_type": "code",
            "execution_count": 42,
            "id": "fbca0a3d",
            "metadata": {},
            "outputs": [
                {
                    "data": {
                        "text/plain": [
                            "['shopscenario:2e8c8e6981f749b08bf210304a677e04',\n",
                            " 'shopmodel:e03514e4906744c4ab44b348afb9dbaf',\n",
                            " 'shopcase:fbaead0a55884c22b84999a407f4c294',\n",
                            " 'shopfile:51bf20345d6f4509b81b8808bd59db9d',\n",
                            " 'shopfile:2b334bc02cfc4c0781d1c0387a3d2cb6',\n",
                            " 'shop_result__db74590d-2c0a-47b4-8fda-282708a59d2d',\n",
                            " 'shopscenario:01426be5d6ef4100a03c0ca6fa503076',\n",
                            " 'shopmodel:c3151fd33aee42e880a298dfe5b99275',\n",
                            " 'shopscenario:da73790217944684b5d103a972afaa1d',\n",
                            " 'shopmodel:cb5dc778fcf24f528451673f3d32cb0d',\n",
                            " 'shopcase:e445c110f3b94fcf8a2e2a4bdce6d244',\n",
                            " 'shopfile:0755f2f7292c4859ba8bd563bc4d95f1',\n",
                            " 'shopfile:665d941cc9c548e6a781e4ba1184c369',\n",
                            " 'shopcase:3891c293108345469bff404960eaf0a7',\n",
                            " 'shopfile:6c1c37e13042422595fe8d65ead2f1f3',\n",
                            " 'shopfile:6fc77d53f2d8499eb8a1c391efbc6c58',\n",
                            " 'shop_result__0b84d204-349d-4bca-9d0f-d0acad597548',\n",
                            " 'shop_result__10dcf41a-661b-4c53-95a9-19fceed3ede7']"
                        ]
                    },
                    "execution_count": 42,
                    "metadata": {},
                    "output_type": "execute_result"
                }
            ],
            "source": [
                "all_external_ids = all_external_ids_1 + all_external_ids_2\n",
                "all_external_ids"
            ]
        },
        {
            "cell_type": "code",
            "execution_count": 43,
            "id": "c9204f9d",
            "metadata": {},
            "outputs": [
                {
                    "data": {
                        "text/plain": [
                            "InstancesDeleteResult(nodes=[NodeId(space='power_ops_instances', external_id='shopscenario:2e8c8e6981f749b08bf210304a677e04'), NodeId(space='power_ops_instances', external_id='shopmodel:e03514e4906744c4ab44b348afb9dbaf'), NodeId(space='power_ops_instances', external_id='shopcase:fbaead0a55884c22b84999a407f4c294'), NodeId(space='power_ops_instances', external_id='shopfile:51bf20345d6f4509b81b8808bd59db9d'), NodeId(space='power_ops_instances', external_id='shopfile:2b334bc02cfc4c0781d1c0387a3d2cb6'), NodeId(space='power_ops_instances', external_id='shop_result__db74590d-2c0a-47b4-8fda-282708a59d2d'), NodeId(space='power_ops_instances', external_id='shopscenario:01426be5d6ef4100a03c0ca6fa503076'), NodeId(space='power_ops_instances', external_id='shopmodel:c3151fd33aee42e880a298dfe5b99275'), NodeId(space='power_ops_instances', external_id='shopscenario:da73790217944684b5d103a972afaa1d'), NodeId(space='power_ops_instances', external_id='shopmodel:cb5dc778fcf24f528451673f3d32cb0d'), NodeId(space='power_ops_instances', external_id='shopcase:e445c110f3b94fcf8a2e2a4bdce6d244'), NodeId(space='power_ops_instances', external_id='shopfile:0755f2f7292c4859ba8bd563bc4d95f1'), NodeId(space='power_ops_instances', external_id='shopfile:665d941cc9c548e6a781e4ba1184c369'), NodeId(space='power_ops_instances', external_id='shopcase:3891c293108345469bff404960eaf0a7'), NodeId(space='power_ops_instances', external_id='shopfile:6c1c37e13042422595fe8d65ead2f1f3'), NodeId(space='power_ops_instances', external_id='shopfile:6fc77d53f2d8499eb8a1c391efbc6c58'), NodeId(space='power_ops_instances', external_id='shop_result__0b84d204-349d-4bca-9d0f-d0acad597548'), NodeId(space='power_ops_instances', external_id='shop_result__10dcf41a-661b-4c53-95a9-19fceed3ede7')], edges=[])"
                        ]
                    },
                    "execution_count": 43,
                    "metadata": {},
                    "output_type": "execute_result"
                }
            ],
            "source": [
                "powerops.v1.delete(external_id=all_external_ids)"
            ]
        }
    ],
    "metadata": {
        "kernelspec": {
            "display_name": "cognite-power-ops-mFBcJ8Zz-py3.11",
            "language": "python",
            "name": "python3"
        },
        "language_info": {
            "codemirror_mode": {
                "name": "ipython",
                "version": 3
            },
            "file_extension": ".py",
            "mimetype": "text/x-python",
            "name": "python",
            "nbconvert_exporter": "python",
            "pygments_lexer": "ipython3",
            "version": "3.11.11"
        }
    },
    "nbformat": 4,
    "nbformat_minor": 5
}
