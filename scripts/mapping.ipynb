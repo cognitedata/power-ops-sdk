{
 "cells": [
  {
   "cell_type": "code",
   "execution_count": null,
   "metadata": {},
   "outputs": [],
   "source": [
    "import yaml\n",
    "no2_price_scenario_mappings = []\n",
    "for attr_name in [\"buy_price\", \"sale_price\"]:\n",
    "    for price_offset in range(-200, 200+1, 20):\n",
    "        no2_price_scenario_mappings.append({\n",
    "            \"external_id\": f\"no2_{attr_name}_offset_{price_offset}\",\n",
    "            \"object_type\": \"market\",\n",
    "            \"object_name\": \"Dayahead\",\n",
    "            \"attribute_name\": attr_name,\n",
    "            \"time_series\": f\"[external_id]907677\",\n",
    "            \"transformations\": [{\n",
    "                    \"AddFromOffset\": {\n",
    "                        \"parameters\": {\n",
    "                            \"relative_datapoints\": [\n",
    "                                {\"offset_minute\": 0.0, \"offset_value\": price_offset},\n",
    "                                {\"offset_minute\": 1440.0, \"offset_value\": 0.0},\n",
    "                            ]\n",
    "                        }\n",
    "                    }\n",
    "                },\n",
    "            ],\n",
    "        })\n",
    "\n",
    "print(yaml.safe_dump(no2_price_scenario_mappings, sort_keys=False))"
   ]
  },
  {
   "cell_type": "code",
   "execution_count": null,
   "metadata": {},
   "outputs": [],
   "source": [
    "with open(\"../tests/data/demo/cogshop/time_series_mappings_v2.yaml\", \"r\") as f:\n",
    "    old_mappings = yaml.safe_load(f)[0][\"rows\"]\n",
    "\n",
    "fornebu_base_mappings = []\n",
    "for mapping in old_mappings:\n",
    "    fornebu_base_mappings.append({\n",
    "        \"external_id\": f\"base_mapping_fornebu_{mapping['object_type']}_{mapping['object_name']}_{mapping['attribute_name']}\".lower(),\n",
    "        \"object_type\": mapping[\"object_type\"],\n",
    "        \"object_name\": mapping[\"object_name\"],\n",
    "        \"attribute_name\": mapping[\"attribute_name\"],\n",
    "        \"time_series\": f\"[external_id]{mapping['time_series_external_id']}\" if mapping.get(\"time_series_external_id\") else None,\n",
    "        \"transformations\": mapping.get(\"transformations\", []),\n",
    "        \"retrieve\": mapping.get(\"retrieve\", \"START\" if \"attribute_name\" in [\"start_head\", \"start_vol\"] else \"RANGE\"),\n",
    "        \"aggregation\": mapping.get(\"aggregation\", \"MEAN\"),\n",
    "    })\n",
    "\n",
    "print(yaml.safe_dump(fornebu_base_mappings, sort_keys=False))"
   ]
  },
  {
   "cell_type": "code",
   "execution_count": null,
   "metadata": {},
   "outputs": [],
   "source": [
    "plants_with_schedule = list({mapping[\"object_name\"] for mapping in fornebu_base_mappings if mapping[\"object_type\"] == \"plant\" and mapping[\"attribute_name\"] == \"production_schedule\"})\n",
    "for plant in plants_with_schedule:\n",
    "    fornebu_base_mappings.append({\n",
    "        \"external_id\": f\"base_mapping_fornebu_plant_{plant}_production_schedule_flag\".lower(),\n",
    "        \"object_type\": \"plant\",\n",
    "        \"object_name\": plant,\n",
    "        \"attribute_name\": \"production_schedule_flag\",\n",
    "        \"time_series\": None,\n",
    "        \"transformations\": [{\n",
    "            \"StaticValues\":{\n",
    "              \"parameters\": {\n",
    "                  \"relative_datapoints\": [{\n",
    "                  \"offset_minute\": 0.0,\n",
    "                  \"offset_value\": 0\n",
    "                  }]}}}],\n",
    "    })"
   ]
  },
  {
   "cell_type": "markdown",
   "metadata": {},
   "source": [
    "## Print all mappings\n",
    "To be pasted into `/tests/data/demo/v1/fornebu/shop_attribute_mappings.yaml`"
   ]
  },
  {
   "cell_type": "code",
   "execution_count": null,
   "metadata": {},
   "outputs": [],
   "source": [
    "mappings = fornebu_base_mappings + no2_price_scenario_mappings\n",
    "print(yaml.safe_dump(mappings, sort_keys=False))"
   ]
  },
  {
   "cell_type": "markdown",
   "metadata": {},
   "source": [
    "## Print base mapping external IDs for Fornebu\n",
    "To be pasted into `/tests/data/demo/v1/fornebu/shop_model.yaml`"
   ]
  },
  {
   "cell_type": "code",
   "execution_count": null,
   "metadata": {},
   "outputs": [],
   "source": [
    "for bm in fornebu_base_mappings:\n",
    "    print(\"-\", f\"\\\"[external_id]{bm['external_id']}\\\"\")"
   ]
  },
  {
   "cell_type": "markdown",
   "metadata": {},
   "source": [
    "# Day-ahead bid configs"
   ]
  },
  {
   "cell_type": "code",
   "execution_count": null,
   "metadata": {},
   "outputs": [],
   "source": [
    "plants = plants_with_schedule\n",
    "for plant in plants:\n",
    "    for add_steps in [True, False]:\n",
    "        for number_of_scenarios_in_scenario_set in [\"2\", \"3\"]:\n",
    "            print(f\"- name: {plant} {number_of_scenarios_in_scenario_set}{' step' if add_steps else ''}\")\n",
    "            print(f\"  method: multi scenario {number_of_scenarios_in_scenario_set}\")\n",
    "            print(f\"  power_asset: \\\"[external_id]plant_water_value_based_{plant.lower()}\\\"\")\n",
    "            print(f\"  add_steps: {add_steps}\")\n",
    "            print(f\"  scenario_set: \\\"[name|type:ShopScenarioSet]{number_of_scenarios_in_scenario_set} scenarios\\\"\")\n",
    "  "
   ]
  },
  {
   "cell_type": "code",
   "execution_count": null,
   "metadata": {},
   "outputs": [],
   "source": [
    "number_of_scenarios_in_scenario_set = \"2\"\n",
    "for plant in plants:\n",
    "    print(f'    - \"[external_id]shop_based_partial_bid_configuration_{plant.lower()}_{number_of_scenarios_in_scenario_set}\"')"
   ]
  }
 ],
 "metadata": {
  "kernelspec": {
   "display_name": ".venv",
   "language": "python",
   "name": "python3"
  },
  "language_info": {
   "codemirror_mode": {
    "name": "ipython",
    "version": 3
   },
   "file_extension": ".py",
   "mimetype": "text/x-python",
   "name": "python",
   "nbconvert_exporter": "python",
   "pygments_lexer": "ipython3",
   "version": "3.11.6"
  }
 },
 "nbformat": 4,
 "nbformat_minor": 2
}
