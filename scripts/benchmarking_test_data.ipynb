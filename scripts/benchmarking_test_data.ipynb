{
 "cells": [
  {
   "cell_type": "code",
   "execution_count": null,
   "metadata": {},
   "outputs": [],
   "source": [
    "%load_ext autoreload\n",
    "%autoreload 2\n",
    "from cdf_auth import get_client_demo # just a function to get a CogniteClient\n",
    "from cognite import pygen # pip install cognite-pygen\n",
    "from cognite.powerops import PowerOpsClient\n",
    "\n",
    "client = get_client_demo()\n",
    "po_client = PowerOpsClient(read_dataset=\"powerops:misc\", write_dataset=\"powerops:misc\", cogshop_version=\"0.0.1\", config=client.config)\n",
    "\n",
    "print(pygen.__version__)"
   ]
  },
  {
   "cell_type": "code",
   "execution_count": null,
   "metadata": {},
   "outputs": [],
   "source": [
    "#space = \"benchmarking_sp_power_ops_models\"\n",
    "#data_model_external_id = \"compute_DayAheadBenchmarking\"\n",
    "space = \"sp_power_ops_model_benchmarking\"\n",
    "data_model_external_id = \"compute_DayAheadBenchmarking\"\n",
    "data_model_version = \"1\"\n",
    "data_model_id = (space, data_model_external_id, data_model_version)\n",
    "bench_client = pygen.generate_sdk_notebook(data_model_id, client)"
   ]
  },
  {
   "cell_type": "code",
   "execution_count": null,
   "metadata": {},
   "outputs": [],
   "source": [
    "from compute_day_ahead_benchmarking.data_classes import DayAheadBenchmarkingConfigurationWrite\n",
    "import compute_day_ahead_benchmarking.data_classes as data_classes"
   ]
  },
  {
   "cell_type": "code",
   "execution_count": null,
   "metadata": {},
   "outputs": [],
   "source": [
    "#po_client.v1.day_ahead_configuration.bid_configuration_day_ahead.list()\n",
    "bid_config_ext_ids = [\"bid_configuration_day_ahead_multi_scenario_2_no2\", \"bid_configuration_day_ahead_water_value_no2_full\", \"bid_configuration_day_ahead_no2_combination\", \"bid_configuration_day_ahead_price_independent_no2\"] \n",
    "bid_configs = po_client.v1.day_ahead_configuration.bid_configuration_day_ahead.retrieve(external_id=bid_config_ext_ids)\n",
    "# shop_models = po_client.v1.shop_based_day_ahead_bid_process.shop_model.list(space=\"sp_power_ops_instance\", limit=1000)\n",
    "from cognite.powerops.client._generated.v1.data_classes import BidConfigurationDayAheadWrite\n",
    "\n",
    "shop_model_dummy_1 = data_classes.ShopModelWrite(\n",
    "    externalId=\"shop_model_benchmarking_dummy_1\",\n",
    "    name=\"Fornebu B\",\n",
    "    shopVersion=\"15.4.1\",\n",
    "    model=\"SHOP_Fornebu_model\"\n",
    ")\n",
    "shop_model_dummy_2 = data_classes.ShopModelWrite(\n",
    "    externalId=\"shop_model_benchmarking_dummy_2\",\n",
    "    name=\"Lysakerelva B\",\n",
    "    shopVersion=\"15.4.1\",\n",
    "    model=\"SHOP_Fornebu_model\"\n",
    ")\n",
    "shop_scenario_dummy_1 = data_classes.ShopScenarioWrite(\n",
    "    externalId=\"shop_scenario_benchmarking_dummy_1\",\n",
    "    name=\"Fornebu B Benchmarking\",\n",
    "    model=shop_model_dummy_1\n",
    ")\n",
    "shop_scenario_dummy_2 = data_classes.ShopScenarioWrite(\n",
    "    externalId=\"shop_scenario_benchmarking_dummy_2\",\n",
    "    name=\"Lysakerelva B Benchmarking\",\n",
    "    model=shop_model_dummy_2,\n",
    ")\n",
    "shop_case_dummy_1 = data_classes.ShopCaseWrite(\n",
    "    externalId=\"shop_case_benchmarking_dummy_1\",\n",
    "    name=\"Lysakerelva B Benchmarking dummy\",\n",
    "    scenario=shop_scenario_dummy_1\n",
    ")\n",
    "shop_case_dummy_2 = data_classes.ShopCaseWrite(\n",
    "    externalId=\"shop_case_benchmarking_dummy_2\",\n",
    "    name=\"Lysakerelva B Benchmarking dummy\",\n",
    "    scenario=shop_scenario_dummy_2\n",
    ")\n",
    "shop_result_dummy_1 = data_classes.ShopResultWrite(\n",
    "    externalId=\"shop_result_benchmarking_dummy_1\",\n",
    "    name=\"Fornebu B Benchmarking dummy\",\n",
    "    case=shop_case_dummy_1\n",
    ")\n",
    "shop_result_dummy_2 = data_classes.ShopResultWrite(\n",
    "    externalId=\"shop_result_benchmarking_dummy_2\",\n",
    "    name=\"Lysakerelva B Benchmarking dummy\",\n",
    "    case=shop_case_dummy_2,\n",
    ")\n",
    "\n",
    "shop_results_upserted = bench_client.upsert([shop_result_dummy_1, shop_result_dummy_2])\n",
    "\n",
    "bid_sources = [\n",
    "    BidConfigurationDayAheadWrite(space=\"sp_power_ops_model_benchmarking\", externalId=bid_config.external_id, name=bid_config.name, bidDateSpecification=\"[]\")\n",
    "    for bid_config in bid_configs] + []\n",
    "\n",
    "bid_sources = [data_classes.BidSourceWrite(externalId=bid_config.external_id, name=bid_config.name, bidDateSpecification=\"[]\")\n",
    "    for bid_config in bid_configs] + [data_classes.BidSourceWrite(externalId=\"upper_bound\", name=\"Upper Bound\")]\n",
    "\n",
    "bid_documents_upserted = bench_client.upsert(bid_sources)"
   ]
  },
  {
   "cell_type": "code",
   "execution_count": null,
   "metadata": {},
   "outputs": [],
   "source": [
    "from pprint import pprint\n",
    "pprint(shop_results_upserted)"
   ]
  },
  {
   "cell_type": "code",
   "execution_count": null,
   "metadata": {},
   "outputs": [],
   "source": [
    "import datetime\n",
    "import random\n",
    "\n",
    "def get_value(bid_source_external_id: str, delivery_date: str, model_external_id: str) -> float:\n",
    "    if bid_source_external_id == \"upper_bound\":\n",
    "        return 0\n",
    "    return random.random()\n",
    "\n",
    "results = []\n",
    "delivery_dates = [datetime.date(2024, 5, day) for day in range(1, 32)]\n",
    "dummy_shop_results = [shop_result_dummy_1, shop_result_dummy_2]\n",
    "\n",
    "for bid_source in bid_sources:\n",
    "    for delivery_date in delivery_dates:\n",
    "        for dummy_shop_result in dummy_shop_results:\n",
    "\n",
    "            results.append(\n",
    "                data_classes.DayAheadBenchmarkingResultWrite(\n",
    "                    externalId = f\"day_ahead_benchmarking_result_{dummy_shop_result.case.scenario.model.external_id}_{bid_source.external_id}_{delivery_date}_1\",\n",
    "                    bidSource = bid_source.external_id,\n",
    "                    deliveryDate = delivery_date,\n",
    "                    bidGenerated = None,\n",
    "                    shopResult = dummy_shop_result.external_id,\n",
    "                    isSelected = True,\n",
    "                    value = get_value(bid_source.external_id, delivery_date, dummy_shop_result.case.scenario.model.external_id)\n",
    "            ))\n",
    "bench_client.upsert(results)"
   ]
  },
  {
   "cell_type": "code",
   "execution_count": null,
   "metadata": {},
   "outputs": [],
   "source": [
    "bm_config = data_classes.DayAheadBenchmarkingConfigurationWrite(\n",
    "    externalId=\"day_ahead_benchmarking_configuration_no2\",\n",
    "    name=\"Day Ahead Benchmarking Configuration Dummy\",\n",
    "    bidConfigurations=bid_config_ext_ids,\n",
    "    shopStartSpecification=\"[]\",\n",
    "    shopEndSpecification=\"[]\",\n",
    "    assetsPerShopModel=[data_classes.ShopModelToAssetsWrite(\n",
    "        externalId=f\"shop_model_to_assets_dummy_{shop_model.external_id[-1:]}\",\n",
    "        shopModel=shop_model.external_id,\n",
    "        powerAssets=[],\n",
    "        productionObligations=[],\n",
    "    ) for shop_model in [shop_model_dummy_1, shop_model_dummy_2]],\n",
    "\n",
    ")\n",
    "upserted_bm_config = bench_client.upsert(bm_config)"
   ]
  },
  {
   "cell_type": "code",
   "execution_count": null,
   "metadata": {},
   "outputs": [],
   "source": [
    "bench_client.day_ahead_benchmarking_result.list()"
   ]
  },
  {
   "cell_type": "code",
   "execution_count": null,
   "metadata": {},
   "outputs": [],
   "source": [
    "bench_client.shop_result.list()"
   ]
  },
  {
   "cell_type": "code",
   "execution_count": null,
   "metadata": {},
   "outputs": [],
   "source": [
    "bench_client.day_ahead_benchmarking_configuration.list()"
   ]
  }
 ],
 "metadata": {
  "kernelspec": {
   "display_name": "Python 3",
   "language": "python",
   "name": "python3"
  },
  "language_info": {
   "codemirror_mode": {
    "name": "ipython",
    "version": 3
   },
   "file_extension": ".py",
   "mimetype": "text/x-python",
   "name": "python",
   "nbconvert_exporter": "python",
   "pygments_lexer": "ipython3",
   "version": "3.11.6"
  }
 },
 "nbformat": 4,
 "nbformat_minor": 2
}
