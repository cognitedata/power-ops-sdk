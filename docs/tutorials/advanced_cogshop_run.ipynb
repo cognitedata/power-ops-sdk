{
 "cells": [
  {
   "cell_type": "markdown",
   "id": "8aa83754",
   "metadata": {},
   "source": [
    "# Advanced guide for data modeling based cogshop runs\n",
    "\n",
    "**This tutorial covers more advanced techniques than quickstart and will not go into details covered there, such as setting up the Powerops Client**\n"
   ]
  },
  {
   "cell_type": "markdown",
   "id": "8908b6471eb427b8",
   "metadata": {
    "collapsed": false,
    "jupyter": {
     "outputs_hidden": false
    }
   },
   "source": [
    "## Preparation\n",
    "\n",
    "\n",
    "NOTE: The \"recommended\" way of running CogShop is as follows:\n",
    "1. Static model data and mappings for time-dependent data like time series represented by `ShopModel`\n",
    "2. Any variations on the base configuration (like different price scenarios) represented by `ShopScenario` instances \n",
    "3. Generate a complete `ShopCase` with time series datapoints based on a `ShopScenario` instance plus `startTime` and `endTime` through the shop_trigger Cognite function.\n",
    "\n",
    "This tutorial covers a different set-up: Triggering (Cog)Shop for a pre-generated, complete Shop \"case\" (as a yaml file or separate files).\n"
   ]
  },
  {
   "cell_type": "code",
   "execution_count": 1,
   "id": "4e8902c5-c2af-4638-ab4c-986c68893b15",
   "metadata": {
    "ExecuteTime": {
     "end_time": "2023-10-31T16:50:17.696595Z",
     "start_time": "2023-10-31T16:50:15.150704Z"
    }
   },
   "outputs": [
    {
     "name": "stdout",
     "output_type": "stream",
     "text": [
      "0.101.2\n"
     ]
    }
   ],
   "source": [
    "# Setting up `PowerOpsClient`\n",
    "# You can control which setting files are loaded through the environmental variable below.\n",
    "import os\n",
    "from cognite.powerops._version import __version__\n",
    "from cognite.powerops import PowerOpsClient\n",
    "\n",
    "\n",
    "os.environ[\"SETTINGS_FILES\"] = \"../../settings.toml;../../.secrets.toml\"\n",
    "\n",
    "powerops = PowerOpsClient.from_settings()\n",
    "\n",
    "print(__version__)  # Print the version of the package"
   ]
  },
  {
   "cell_type": "code",
   "execution_count": 2,
   "id": "1200ad99",
   "metadata": {},
   "outputs": [],
   "source": [
    "# Creating some helper functions\n",
    "\n",
    "from pathlib import Path\n",
    "\n",
    "\n",
    "def upload_file(local_file_name: str, external_id: str) -> str:\n",
    "    \"\"\"Upload a file to CDF and return the external id of the file\"\"\"\n",
    "    file_path = (Path(\"example_case_files\") / local_file_name).resolve()\n",
    "    file = powerops.cdf.files.upload(\n",
    "        path=str(file_path),\n",
    "        external_id=external_id,\n",
    "        name=local_file_name,\n",
    "        data_set_id=powerops.datasets.write_dataset_id,\n",
    "        mime_type=\"application/yaml\",\n",
    "        # Overwrite the file at the given external is if it already exists\n",
    "        # This will also overwrite potentially existing metadata\n",
    "        overwrite=True,\n",
    "    )\n",
    "    return file.external_id"
   ]
  },
  {
   "cell_type": "markdown",
   "id": "23596be4",
   "metadata": {},
   "source": [
    "## Example 1: Use multiple files for shop files\n",
    "Very similar to the example in quick start, but using multiple files for `ShopCase`.\n",
    "\n",
    "1. Upload the files that will be loaded into shop, keeping their external ids\n",
    "2. Set up a `ShopCase`, using the SDK\n",
    "3. Write the `ShopCase` instance to CDF, and verify that it was created using the SDK\n",
    "4. Trigger a shop execution of that `ShopCase`\n",
    "5. List the `ShopResult` referencing the `ShopCase` \n"
   ]
  },
  {
   "cell_type": "markdown",
   "id": "3ffb725b",
   "metadata": {},
   "source": [
    "### Step 1: Upload a files "
   ]
  },
  {
   "cell_type": "code",
   "execution_count": 26,
   "id": "e6c42851",
   "metadata": {},
   "outputs": [
    {
     "name": "stdout",
     "output_type": "stream",
     "text": [
      " File reference 1: 'example_case_fornebu', File reference 2: 'example_commands'\n"
     ]
    }
   ],
   "source": [
    "\n",
    "# NB! The case in this example is minimal and just for demo purposes.\n",
    "example_case_fbu_1 = upload_file(local_file_name=\"b_example_fornebu_without_commands.yaml\", external_id=\"example_case_fornebu\")\n",
    "example_case_fbu_2 = upload_file(local_file_name=\"b_example_commands.yaml\", external_id=\"example_commands\")\n",
    "\n",
    "print(f\" File reference 1: '{example_case_fbu_1}', File reference 2: '{example_case_fbu_2}'\")"
   ]
  },
  {
   "cell_type": "markdown",
   "id": "7d15a47f",
   "metadata": {},
   "source": [
    "### Step 2: Preparing a ShopCase\n",
    "\n",
    "The main difference here is that `shop_file_list` will contain more than one tuple.\n",
    "\n",
    "Unlike the quickstart, in this example we will let `prepare_shop_case` generate all the external IDs.\n",
    "\n",
    "We will also let the file reference double as the name of the file. \n"
   ]
  },
  {
   "cell_type": "code",
   "execution_count": 29,
   "id": "ec68faae",
   "metadata": {},
   "outputs": [
    {
     "data": {
      "text/html": [
       "<div>\n",
       "<style scoped>\n",
       "    .dataframe tbody tr th:only-of-type {\n",
       "        vertical-align: middle;\n",
       "    }\n",
       "\n",
       "    .dataframe tbody tr th {\n",
       "        vertical-align: top;\n",
       "    }\n",
       "\n",
       "    .dataframe thead th {\n",
       "        text-align: right;\n",
       "    }\n",
       "</style>\n",
       "<table border=\"1\" class=\"dataframe\">\n",
       "  <thead>\n",
       "    <tr style=\"text-align: right;\">\n",
       "      <th></th>\n",
       "      <th>value</th>\n",
       "    </tr>\n",
       "  </thead>\n",
       "  <tbody>\n",
       "    <tr>\n",
       "      <th>space</th>\n",
       "      <td>power_ops_instances</td>\n",
       "    </tr>\n",
       "    <tr>\n",
       "      <th>external_id</th>\n",
       "      <td>shopcase:4475ca6369ff48cc91f3405f28811d72</td>\n",
       "    </tr>\n",
       "    <tr>\n",
       "      <th>data_record</th>\n",
       "      <td>{'existing_version': None}</td>\n",
       "    </tr>\n",
       "    <tr>\n",
       "      <th>node_type</th>\n",
       "      <td>None</td>\n",
       "    </tr>\n",
       "    <tr>\n",
       "      <th>scenario</th>\n",
       "      <td>{'space': 'power_ops_instances', 'external_id'...</td>\n",
       "    </tr>\n",
       "    <tr>\n",
       "      <th>start_time</th>\n",
       "      <td>2023-01-19 23:00:00</td>\n",
       "    </tr>\n",
       "    <tr>\n",
       "      <th>end_time</th>\n",
       "      <td>2023-01-29 23:00:00</td>\n",
       "    </tr>\n",
       "    <tr>\n",
       "      <th>shop_files</th>\n",
       "      <td>[{'space': 'power_ops_instances', 'external_id...</td>\n",
       "    </tr>\n",
       "  </tbody>\n",
       "</table>\n",
       "</div>"
      ],
      "text/plain": [
       "ShopCaseWrite(space='power_ops_instances', external_id='shopcase:4475ca6369ff48cc91f3405f28811d72', data_record=DataRecordWrite(existing_version=None), node_type=None, start_time=datetime.datetime(2023, 1, 19, 23, 0), end_time=datetime.datetime(2023, 1, 29, 23, 0))"
      ]
     },
     "execution_count": 29,
     "metadata": {},
     "output_type": "execute_result"
    }
   ],
   "source": [
    "import datetime\n",
    "\n",
    "\n",
    "#  Files are referenced using 4-tuples with the following structure:\n",
    "# (file_reference, file_name, is_ascii, labels)\n",
    "shop_file_list = [\n",
    "    (example_case_fbu_1, example_case_fbu_1, False, \"\"),\n",
    "    # CogShop needs to know which file contains commands in the case of multiple files\n",
    "    (example_case_fbu_2, example_case_fbu_2, False, \"commands\"),\n",
    "]\n",
    "\n",
    "\n",
    "shop_case_1 = powerops.cogshop.prepare_shop_case(\n",
    "    shop_file_list=shop_file_list,\n",
    "    shop_version=\"15.6.1.0\",\n",
    "    start_time=datetime.datetime(2023, 1, 19, 23),\n",
    "    end_time=datetime.datetime(2023, 1, 29, 23),\n",
    "    model_name=\"my_model\",\n",
    "    scenario_name=\"my_scenario\",\n",
    ")\n",
    "shop_case_1"
   ]
  },
  {
   "cell_type": "code",
   "execution_count": 39,
   "id": "562082fc",
   "metadata": {},
   "outputs": [
    {
     "name": "stdout",
     "output_type": "stream",
     "text": [
      "File name: 'example_case_fornebu', File reference: 'example_case_fornebu' \t[,data modeling external id: 'shopfile:d03c6bc81de34ef0889aa5504407a96b']\n",
      "File name: 'example_commands', File reference: 'example_commands' \t[,data modeling external id: 'shopfile:7ab174df4ba54c1d8e29e688d58b95c1']\n"
     ]
    }
   ],
   "source": [
    "# We can also look at just the shop files\n",
    "for file in shop_case_1.shop_files:\n",
    "    print(f\"File name: '{file.name}', File reference: '{file.file_reference}' \\t[,data modeling external id: '{file.external_id}']\")"
   ]
  },
  {
   "cell_type": "markdown",
   "id": "96f29384",
   "metadata": {},
   "source": [
    "### Step 3: Upload the ShopCase\n",
    "\n",
    "Note: The upload is an `upsert` -- so if there are overlaps, the existing properties will merge  \n"
   ]
  },
  {
   "cell_type": "code",
   "execution_count": null,
   "id": "cb0a970a",
   "metadata": {},
   "outputs": [
    {
     "data": {
      "text/plain": [
       "ResourcesWriteResult(nodes=[<NodeApplyResult(space='power_ops_instances', external_id='shopcase:4475ca6369ff48cc91f3405f28811d72', version=1) at 0x7fb1c7d98a90>, <NodeApplyResult(space='power_ops_instances', external_id='shopfile:d03c6bc81de34ef0889aa5504407a96b', version=1) at 0x7fb1c67356d0>, <NodeApplyResult(space='power_ops_instances', external_id='shopfile:7ab174df4ba54c1d8e29e688d58b95c1', version=1) at 0x7fb1c6c0f210>, <NodeApplyResult(space='power_ops_instances', external_id='shopscenario:cdb76b8aaec044038b46206943069dc8', version=1) at 0x7fb1c6519c90>, <NodeApplyResult(space='power_ops_instances', external_id='shopmodel:af030fad26834be293d460fa2f06e196', version=1) at 0x7fb1c6c37a50>], edges=[<EdgeApplyResult(space='power_ops_instances', external_id='shopcase:4475ca6369ff48cc91f3405f28811d72:shopfile:d03c6bc81de34ef0889aa5504407a96b', version=1) at 0x7fb1c6731c10>, <EdgeApplyResult(space='power_ops_instances', external_id='shopcase:4475ca6369ff48cc91f3405f28811d72:shopfile:7ab174df4ba54c1d8e29e688d58b95c1', version=1) at 0x7fb1c6733c50>], time_series=[])"
      ]
     },
     "execution_count": 40,
     "metadata": {},
     "output_type": "execute_result"
    }
   ],
   "source": [
    "powerops.cogshop.write_resources(shop_case_1)"
   ]
  },
  {
   "cell_type": "code",
   "execution_count": 41,
   "id": "d033c3d4",
   "metadata": {},
   "outputs": [
    {
     "data": {
      "text/html": [
       "<div>\n",
       "<style scoped>\n",
       "    .dataframe tbody tr th:only-of-type {\n",
       "        vertical-align: middle;\n",
       "    }\n",
       "\n",
       "    .dataframe tbody tr th {\n",
       "        vertical-align: top;\n",
       "    }\n",
       "\n",
       "    .dataframe thead th {\n",
       "        text-align: right;\n",
       "    }\n",
       "</style>\n",
       "<table border=\"1\" class=\"dataframe\">\n",
       "  <thead>\n",
       "    <tr style=\"text-align: right;\">\n",
       "      <th></th>\n",
       "      <th>value</th>\n",
       "    </tr>\n",
       "  </thead>\n",
       "  <tbody>\n",
       "    <tr>\n",
       "      <th>space</th>\n",
       "      <td>power_ops_instances</td>\n",
       "    </tr>\n",
       "    <tr>\n",
       "      <th>external_id</th>\n",
       "      <td>shopcase:4475ca6369ff48cc91f3405f28811d72</td>\n",
       "    </tr>\n",
       "    <tr>\n",
       "      <th>data_record</th>\n",
       "      <td>{'version': 1, 'last_updated_time': 2024-11-08...</td>\n",
       "    </tr>\n",
       "    <tr>\n",
       "      <th>node_type</th>\n",
       "      <td>None</td>\n",
       "    </tr>\n",
       "    <tr>\n",
       "      <th>scenario</th>\n",
       "      <td>shopscenario:cdb76b8aaec044038b46206943069dc8</td>\n",
       "    </tr>\n",
       "    <tr>\n",
       "      <th>start_time</th>\n",
       "      <td>2023-01-19 23:00:00+00:00</td>\n",
       "    </tr>\n",
       "    <tr>\n",
       "      <th>end_time</th>\n",
       "      <td>2023-01-29 23:00:00+00:00</td>\n",
       "    </tr>\n",
       "    <tr>\n",
       "      <th>shop_files</th>\n",
       "      <td>[shopfile:d03c6bc81de34ef0889aa5504407a96b, sh...</td>\n",
       "    </tr>\n",
       "  </tbody>\n",
       "</table>\n",
       "</div>"
      ],
      "text/plain": [
       "ShopCase(space='power_ops_instances', external_id='shopcase:4475ca6369ff48cc91f3405f28811d72', data_record=DataRecord(version=1, last_updated_time=datetime.datetime(2024, 11, 8, 14, 15, 25, 417000, tzinfo=TzInfo(UTC)), created_time=datetime.datetime(2024, 11, 8, 14, 15, 25, 417000, tzinfo=TzInfo(UTC)), deleted_time=None), node_type=None, start_time=datetime.datetime(2023, 1, 19, 23, 0, tzinfo=TzInfo(UTC)), end_time=datetime.datetime(2023, 1, 29, 23, 0, tzinfo=TzInfo(UTC)))"
      ]
     },
     "execution_count": 41,
     "metadata": {},
     "output_type": "execute_result"
    }
   ],
   "source": [
    "from cognite.powerops.client._generated.v1.data_classes import ShopCase\n",
    "\n",
    "# NB! This step is not necessary, if the upsert was successful we know the case is in CDF\n",
    "retrieved_shop_case: ShopCase = powerops.cogshop.retrieve_shop_case(\n",
    "    shop_case_1.external_id\n",
    ")\n",
    "retrieved_shop_case"
   ]
  },
  {
   "cell_type": "markdown",
   "id": "6799d59e",
   "metadata": {},
   "source": [
    "Alternately, use Graph QL to retrieve the Shop Case instance. \n",
    "Under the hood, this uses a different method to look for the case so the returned data has a slightly different format"
   ]
  },
  {
   "cell_type": "code",
   "execution_count": 42,
   "id": "b54b67b4",
   "metadata": {},
   "outputs": [
    {
     "data": {
      "text/html": [
       "<div>\n",
       "<style scoped>\n",
       "    .dataframe tbody tr th:only-of-type {\n",
       "        vertical-align: middle;\n",
       "    }\n",
       "\n",
       "    .dataframe tbody tr th {\n",
       "        vertical-align: top;\n",
       "    }\n",
       "\n",
       "    .dataframe thead th {\n",
       "        text-align: right;\n",
       "    }\n",
       "</style>\n",
       "<table border=\"1\" class=\"dataframe\">\n",
       "  <thead>\n",
       "    <tr style=\"text-align: right;\">\n",
       "      <th></th>\n",
       "      <th>value</th>\n",
       "    </tr>\n",
       "  </thead>\n",
       "  <tbody>\n",
       "    <tr>\n",
       "      <th>space</th>\n",
       "      <td>power_ops_instances</td>\n",
       "    </tr>\n",
       "    <tr>\n",
       "      <th>external_id</th>\n",
       "      <td>shopcase:4475ca6369ff48cc91f3405f28811d72</td>\n",
       "    </tr>\n",
       "    <tr>\n",
       "      <th>data_record</th>\n",
       "      <td>{'version': 0, 'last_updated_time': 2024-11-08...</td>\n",
       "    </tr>\n",
       "    <tr>\n",
       "      <th>node_type</th>\n",
       "      <td>None</td>\n",
       "    </tr>\n",
       "    <tr>\n",
       "      <th>scenario</th>\n",
       "      <td>{'space': 'power_ops_instances', 'external_id'...</td>\n",
       "    </tr>\n",
       "    <tr>\n",
       "      <th>start_time</th>\n",
       "      <td>2023-01-19 23:00:00+00:00</td>\n",
       "    </tr>\n",
       "    <tr>\n",
       "      <th>end_time</th>\n",
       "      <td>2023-01-29 23:00:00+00:00</td>\n",
       "    </tr>\n",
       "    <tr>\n",
       "      <th>shop_files</th>\n",
       "      <td>[{'space': 'power_ops_instances', 'external_id...</td>\n",
       "    </tr>\n",
       "  </tbody>\n",
       "</table>\n",
       "</div>"
      ],
      "text/plain": [
       "ShopCase(space='power_ops_instances', external_id='shopcase:4475ca6369ff48cc91f3405f28811d72', data_record=DataRecord(version=0, last_updated_time=datetime.datetime(2024, 11, 8, 14, 15, 25, 417000, tzinfo=TzInfo(UTC)), created_time=datetime.datetime(2024, 11, 8, 14, 15, 25, 417000, tzinfo=TzInfo(UTC)), deleted_time=None), node_type=None, start_time=datetime.datetime(2023, 1, 19, 23, 0, tzinfo=TzInfo(UTC)), end_time=datetime.datetime(2023, 1, 29, 23, 0, tzinfo=TzInfo(UTC)))"
      ]
     },
     "execution_count": 42,
     "metadata": {},
     "output_type": "execute_result"
    }
   ],
   "source": [
    "graph_ql_shop_case = powerops.cogshop.retrieve_shop_case_graphql(\n",
    "    shop_case_1.external_id\n",
    ")\n",
    "graph_ql_shop_case"
   ]
  },
  {
   "cell_type": "markdown",
   "id": "d38c1534",
   "metadata": {},
   "source": [
    "### Step 4: Trigger the case\n",
    "\n",
    "We will here directly use the new `trigger_shop_case` method on the `powerops.cogshop` client"
   ]
  },
  {
   "cell_type": "code",
   "execution_count": 43,
   "id": "934e7d52",
   "metadata": {},
   "outputs": [],
   "source": [
    "powerops.cogshop.trigger_shop_case(shop_case_1.external_id)"
   ]
  },
  {
   "cell_type": "markdown",
   "id": "cd4b60ee",
   "metadata": {},
   "source": [
    "### Step 5: View the ShopResult generated \n",
    "\n",
    "Because it is the case that a single case can be triggered multiple times, lists will be returned \n"
   ]
  },
  {
   "cell_type": "markdown",
   "id": "5470afe6",
   "metadata": {},
   "source": [
    "#### 1. Using list\n",
    "\n",
    "Note that it may take a while to run (Cog)Shop. \n",
    "If the run is not completed then no results are returned"
   ]
  },
  {
   "cell_type": "code",
   "execution_count": 52,
   "id": "959c723f",
   "metadata": {},
   "outputs": [
    {
     "data": {
      "text/html": [
       "<div>\n",
       "<style scoped>\n",
       "    .dataframe tbody tr th:only-of-type {\n",
       "        vertical-align: middle;\n",
       "    }\n",
       "\n",
       "    .dataframe tbody tr th {\n",
       "        vertical-align: top;\n",
       "    }\n",
       "\n",
       "    .dataframe thead th {\n",
       "        text-align: right;\n",
       "    }\n",
       "</style>\n",
       "<table border=\"1\" class=\"dataframe\">\n",
       "  <thead>\n",
       "    <tr style=\"text-align: right;\">\n",
       "      <th></th>\n",
       "      <th>space</th>\n",
       "      <th>external_id</th>\n",
       "      <th>case</th>\n",
       "      <th>objective_value</th>\n",
       "      <th>pre_run</th>\n",
       "      <th>post_run</th>\n",
       "      <th>messages</th>\n",
       "      <th>cplex_logs</th>\n",
       "      <th>alerts</th>\n",
       "      <th>output_time_series</th>\n",
       "      <th>node_type</th>\n",
       "      <th>data_record</th>\n",
       "    </tr>\n",
       "  </thead>\n",
       "  <tbody>\n",
       "    <tr>\n",
       "      <th>0</th>\n",
       "      <td>power_ops_instances</td>\n",
       "      <td>shop_result__0cde252c-83c5-4ee7-90df-79453986cf77</td>\n",
       "      <td>shopcase:4475ca6369ff48cc91f3405f28811d72</td>\n",
       "      <td>{'total': -19927822739.279236, 'load_value': 0...</td>\n",
       "      <td>POWEROPS_SHOP_pre-run-0cde252c-83c5-4ee7-90df-...</td>\n",
       "      <td>POWEROPS_SHOP_post-run-0cde252c-83c5-4ee7-90df...</td>\n",
       "      <td>POWEROPS_SHOP_shop-0cde252c-83c5-4ee7-90df-794...</td>\n",
       "      <td>POWEROPS_SHOP_cplex-0cde252c-83c5-4ee7-90df-79...</td>\n",
       "      <td>[shop_penalty_report_my_scenario_2023-01-19 23...</td>\n",
       "      <td>None</td>\n",
       "      <td>None</td>\n",
       "      <td>{'version': 1, 'last_updated_time': 2024-11-08...</td>\n",
       "    </tr>\n",
       "  </tbody>\n",
       "</table>\n",
       "</div>"
      ],
      "text/plain": [
       "ShopResultList([ShopResult(space='power_ops_instances', external_id='shop_result__0cde252c-83c5-4ee7-90df-79453986cf77', data_record=DataRecord(version=1, last_updated_time=datetime.datetime(2024, 11, 8, 14, 17, 36, 556000, tzinfo=TzInfo(UTC)), created_time=datetime.datetime(2024, 11, 8, 14, 17, 36, 556000, tzinfo=TzInfo(UTC)), deleted_time=None), node_type=None, objective_value={'total': -19927822739.279236, 'load_value': 0.0, 'bypass_cost': 0.0, 'grand_total': -19927820531.21755, 'rsv_penalty': 0.0, 'load_penalty': 0.0, 'thermal_cost': 0.0, 'rsv_end_value': -19927592194.850376, 'solver_status': 'Optimal solution is available', 'startup_costs': 1150.0, 'sum_penalties': 2208.061688777716, 'contract_value': 0.0, 'vow_in_transit': 0.0, 'bidding_penalty': 0.0, 'gate_slack_cost': 0.0, 'gate_spill_cost': 2208.047864777716, 'major_penalties': 0.0, 'market_sale_buy': -231694.42886055197, 'minor_penalties': 2208.061688777716, 'rsv_end_penalty': 0.0, 'sim_grand_total': 0.0, 'sim_rsv_penalty': 0.0, 'sum_feeding_fee': 0.0, 'creek_spill_cost': 0.0, 'reserve_sale_buy': 0.0, 'sim_rsv_end_value': 0.0, 'sim_startup_costs': 0.0, 'sum_discharge_fee': 0.0, 'reserve_slack_cost': 0.0, 'gate_discharge_cost': 0.013824000000000003, 'junction_slack_cost': 0.0, 'physical_spill_cost': 1988.864851648981, 'reserve_oblig_value': 0.0, 'rsv_ramping_penalty': 0.0, 'sim_market_sale_buy': 0.0, 'sum_ramping_penalty': 0.0, 'gate_ramping_penalty': 0.0, 'gen_schedule_penalty': 0.0, 'rsv_tactical_penalty': 0.0, 'gate_q_constr_penalty': 0.0, 'group_ramping_penalty': 0.0, 'physical_spill_volume': 0.03977729722072846, 'plant_ramping_penalty': 0.0, 'pump_schedule_penalty': 0.0, 'gate_peak_flow_penalty': 0.0, 'nonphysical_spill_cost': 219.18301312873444, 'plant_p_constr_penalty': 0.0, 'plant_q_constr_penalty': 0.0, 'plant_schedule_penalty': 0.0, 'river_max_flow_penalty': 0.0, 'river_min_flow_penalty': 0.0, 'rsv_end_value_relative': -39673449.46741104, 'rsv_hard_limit_penalty': 0.0, 'rsv_over_limit_penalty': 0.0, 'common_decision_penalty': 0.0, 'discharge_group_penalty': 0.0, 'group_time_step_penalty': 0.0, 'rsv_peak_volume_penalty': 0.0, 'rsv_spill_vol_end_value': 0.0, 'contract_ramping_penalty': 0.0, 'nonphysical_spill_volume': 0.004383660278889463, 'reserve_schedule_penalty': 0.0, 'rsv_flood_volume_penalty': 0.0, 'creek_physical_spill_cost': 0.0, 'group_time_period_penalty': 0.0, 'reserve_violation_penalty': 0.0, 'safe_mode_universal_penalty': 0.0, 'times_of_wrong_pq_uploading': 0, 'creek_nonphysical_spill_cost': 0.0, 'production_group_power_penalty': 0.0, 'discharge_group_ramping_penalty': 0.0, 'production_group_energy_penalty': 0.0}, pre_run='POWEROPS_SHOP_pre-run-0cde252c-83c5-4ee7-90df-79453986cf77_aac0a96f', post_run='POWEROPS_SHOP_post-run-0cde252c-83c5-4ee7-90df-79453986cf77', messages='POWEROPS_SHOP_shop-0cde252c-83c5-4ee7-90df-79453986cf77', cplex_logs='POWEROPS_SHOP_cplex-0cde252c-83c5-4ee7-90df-79453986cf77')])"
      ]
     },
     "execution_count": 52,
     "metadata": {},
     "output_type": "execute_result"
    }
   ],
   "source": [
    "from cognite.powerops.client._generated.v1.data_classes import ShopResultList\n",
    "\n",
    "result_list_1: ShopResultList = powerops.cogshop.list_shop_results_for_case(\n",
    "    case_external_id=shop_case_1.external_id\n",
    ")\n",
    "result_list_1"
   ]
  },
  {
   "cell_type": "markdown",
   "id": "722dc97d",
   "metadata": {},
   "source": [
    "#### 2. Graph QL list "
   ]
  },
  {
   "cell_type": "code",
   "execution_count": 53,
   "id": "1ee59dcd",
   "metadata": {},
   "outputs": [
    {
     "data": {
      "text/plain": [
       "[ShopResult(space='power_ops_instances', external_id='shop_result__0cde252c-83c5-4ee7-90df-79453986cf77', data_record=DataRecord(version=0, last_updated_time=datetime.datetime(2024, 11, 8, 14, 17, 36, 556000, tzinfo=TzInfo(UTC)), created_time=datetime.datetime(2024, 11, 8, 14, 17, 36, 556000, tzinfo=TzInfo(UTC)), deleted_time=None), node_type=None, objective_value=None, pre_run='POWEROPS_SHOP_pre-run-0cde252c-83c5-4ee7-90df-79453986cf77_aac0a96f', post_run='POWEROPS_SHOP_post-run-0cde252c-83c5-4ee7-90df-79453986cf77', messages='POWEROPS_SHOP_shop-0cde252c-83c5-4ee7-90df-79453986cf77', cplex_logs='POWEROPS_SHOP_cplex-0cde252c-83c5-4ee7-90df-79453986cf77')]"
      ]
     },
     "execution_count": 53,
     "metadata": {},
     "output_type": "execute_result"
    }
   ],
   "source": [
    "from cognite.powerops.client._generated.v1.data_classes import ShopResult\n",
    "\n",
    "result_list_ql_1: list[ShopResult] = powerops.cogshop.list_shop_result_graphql(\n",
    "    case_external_id=shop_case_1.external_id, limit=1\n",
    ")\n",
    "result_list_ql_1"
   ]
  },
  {
   "cell_type": "markdown",
   "id": "8ce059bc",
   "metadata": {},
   "source": [
    "#### 3. Retrieve using the external ID  "
   ]
  },
  {
   "cell_type": "code",
   "execution_count": 55,
   "id": "2d7407bd",
   "metadata": {},
   "outputs": [
    {
     "data": {
      "text/html": [
       "<div>\n",
       "<style scoped>\n",
       "    .dataframe tbody tr th:only-of-type {\n",
       "        vertical-align: middle;\n",
       "    }\n",
       "\n",
       "    .dataframe tbody tr th {\n",
       "        vertical-align: top;\n",
       "    }\n",
       "\n",
       "    .dataframe thead th {\n",
       "        text-align: right;\n",
       "    }\n",
       "</style>\n",
       "<table border=\"1\" class=\"dataframe\">\n",
       "  <thead>\n",
       "    <tr style=\"text-align: right;\">\n",
       "      <th></th>\n",
       "      <th>value</th>\n",
       "    </tr>\n",
       "  </thead>\n",
       "  <tbody>\n",
       "    <tr>\n",
       "      <th>space</th>\n",
       "      <td>power_ops_instances</td>\n",
       "    </tr>\n",
       "    <tr>\n",
       "      <th>external_id</th>\n",
       "      <td>shop_result__0cde252c-83c5-4ee7-90df-79453986cf77</td>\n",
       "    </tr>\n",
       "    <tr>\n",
       "      <th>data_record</th>\n",
       "      <td>{'version': 1, 'last_updated_time': 2024-11-08...</td>\n",
       "    </tr>\n",
       "    <tr>\n",
       "      <th>node_type</th>\n",
       "      <td>None</td>\n",
       "    </tr>\n",
       "    <tr>\n",
       "      <th>case</th>\n",
       "      <td>shopcase:4475ca6369ff48cc91f3405f28811d72</td>\n",
       "    </tr>\n",
       "    <tr>\n",
       "      <th>objective_value</th>\n",
       "      <td>{'total': -19927822739.279236, 'load_value': 0...</td>\n",
       "    </tr>\n",
       "    <tr>\n",
       "      <th>pre_run</th>\n",
       "      <td>POWEROPS_SHOP_pre-run-0cde252c-83c5-4ee7-90df-...</td>\n",
       "    </tr>\n",
       "    <tr>\n",
       "      <th>post_run</th>\n",
       "      <td>POWEROPS_SHOP_post-run-0cde252c-83c5-4ee7-90df...</td>\n",
       "    </tr>\n",
       "    <tr>\n",
       "      <th>messages</th>\n",
       "      <td>POWEROPS_SHOP_shop-0cde252c-83c5-4ee7-90df-794...</td>\n",
       "    </tr>\n",
       "    <tr>\n",
       "      <th>cplex_logs</th>\n",
       "      <td>POWEROPS_SHOP_cplex-0cde252c-83c5-4ee7-90df-79...</td>\n",
       "    </tr>\n",
       "    <tr>\n",
       "      <th>alerts</th>\n",
       "      <td>[shop_penalty_report_my_scenario_2023-01-19 23...</td>\n",
       "    </tr>\n",
       "    <tr>\n",
       "      <th>output_time_series</th>\n",
       "      <td>None</td>\n",
       "    </tr>\n",
       "  </tbody>\n",
       "</table>\n",
       "</div>"
      ],
      "text/plain": [
       "ShopResult(space='power_ops_instances', external_id='shop_result__0cde252c-83c5-4ee7-90df-79453986cf77', data_record=DataRecord(version=1, last_updated_time=datetime.datetime(2024, 11, 8, 14, 17, 36, 556000, tzinfo=TzInfo(UTC)), created_time=datetime.datetime(2024, 11, 8, 14, 17, 36, 556000, tzinfo=TzInfo(UTC)), deleted_time=None), node_type=None, objective_value={'total': -19927822739.279236, 'load_value': 0.0, 'bypass_cost': 0.0, 'grand_total': -19927820531.21755, 'rsv_penalty': 0.0, 'load_penalty': 0.0, 'thermal_cost': 0.0, 'rsv_end_value': -19927592194.850376, 'solver_status': 'Optimal solution is available', 'startup_costs': 1150.0, 'sum_penalties': 2208.061688777716, 'contract_value': 0.0, 'vow_in_transit': 0.0, 'bidding_penalty': 0.0, 'gate_slack_cost': 0.0, 'gate_spill_cost': 2208.047864777716, 'major_penalties': 0.0, 'market_sale_buy': -231694.42886055197, 'minor_penalties': 2208.061688777716, 'rsv_end_penalty': 0.0, 'sim_grand_total': 0.0, 'sim_rsv_penalty': 0.0, 'sum_feeding_fee': 0.0, 'creek_spill_cost': 0.0, 'reserve_sale_buy': 0.0, 'sim_rsv_end_value': 0.0, 'sim_startup_costs': 0.0, 'sum_discharge_fee': 0.0, 'reserve_slack_cost': 0.0, 'gate_discharge_cost': 0.013824000000000003, 'junction_slack_cost': 0.0, 'physical_spill_cost': 1988.864851648981, 'reserve_oblig_value': 0.0, 'rsv_ramping_penalty': 0.0, 'sim_market_sale_buy': 0.0, 'sum_ramping_penalty': 0.0, 'gate_ramping_penalty': 0.0, 'gen_schedule_penalty': 0.0, 'rsv_tactical_penalty': 0.0, 'gate_q_constr_penalty': 0.0, 'group_ramping_penalty': 0.0, 'physical_spill_volume': 0.03977729722072846, 'plant_ramping_penalty': 0.0, 'pump_schedule_penalty': 0.0, 'gate_peak_flow_penalty': 0.0, 'nonphysical_spill_cost': 219.18301312873444, 'plant_p_constr_penalty': 0.0, 'plant_q_constr_penalty': 0.0, 'plant_schedule_penalty': 0.0, 'river_max_flow_penalty': 0.0, 'river_min_flow_penalty': 0.0, 'rsv_end_value_relative': -39673449.46741104, 'rsv_hard_limit_penalty': 0.0, 'rsv_over_limit_penalty': 0.0, 'common_decision_penalty': 0.0, 'discharge_group_penalty': 0.0, 'group_time_step_penalty': 0.0, 'rsv_peak_volume_penalty': 0.0, 'rsv_spill_vol_end_value': 0.0, 'contract_ramping_penalty': 0.0, 'nonphysical_spill_volume': 0.004383660278889463, 'reserve_schedule_penalty': 0.0, 'rsv_flood_volume_penalty': 0.0, 'creek_physical_spill_cost': 0.0, 'group_time_period_penalty': 0.0, 'reserve_violation_penalty': 0.0, 'safe_mode_universal_penalty': 0.0, 'times_of_wrong_pq_uploading': 0, 'creek_nonphysical_spill_cost': 0.0, 'production_group_power_penalty': 0.0, 'discharge_group_ramping_penalty': 0.0, 'production_group_energy_penalty': 0.0}, pre_run='POWEROPS_SHOP_pre-run-0cde252c-83c5-4ee7-90df-79453986cf77_aac0a96f', post_run='POWEROPS_SHOP_post-run-0cde252c-83c5-4ee7-90df-79453986cf77', messages='POWEROPS_SHOP_shop-0cde252c-83c5-4ee7-90df-79453986cf77', cplex_logs='POWEROPS_SHOP_cplex-0cde252c-83c5-4ee7-90df-79453986cf77')"
      ]
     },
     "execution_count": 55,
     "metadata": {},
     "output_type": "execute_result"
    }
   ],
   "source": [
    "shop_result_1:ShopResult = powerops.cogshop.retrieve_shop_result(result_list_ql_1[0].external_id)\n",
    "shop_result_1"
   ]
  },
  {
   "cell_type": "markdown",
   "id": "47560244",
   "metadata": {},
   "source": [
    "## Example 2: Reusing a ShopScenario used to set shop version\n",
    "\n",
    "As mentioned in the intro Quickstart, the recommend way to run CogShop is by having a static model and use scenarios to vary configurations. \n",
    "\n",
    "However, if we know that we want to run several `ShopCases` using the same configurations, we can reuse a `ShopScenario`/`ShopModel` instead of creating several identical instances.\n",
    "\n",
    "\n",
    "1. Create a `ShopScenario` and `ShopModel` that set the desired `shop_version`. Here we will create two for demo purposes\n",
    "2. Write the `ShopScenario`(s) to CDF, and verify that we can retrieve them \n",
    "3. Set up a `ShopCase`, preparing shop file list with names and references as explained in Example 1 and Quickstart.\n",
    "4. Write `ShopCase` instance to CDF, trigger a shop execution of and list the `ShopResult` as in previous examples \n",
    "\n",
    "As in the previous example, we will be letting the SDK generate all external id. Again they can be "
   ]
  },
  {
   "cell_type": "markdown",
   "id": "5716566f",
   "metadata": {},
   "source": [
    "### Step 1: Create reusable ShopScenarios with ShopScenarios\n",
    "\n",
    "`ShopScenarios` and `ShopScenarios` created this way, will have several unused fields that are None. \n",
    "Again, this is due to the data models being intended to do more than just trigger a full case\n"
   ]
  },
  {
   "cell_type": "code",
   "execution_count": 4,
   "id": "35169486",
   "metadata": {},
   "outputs": [
    {
     "data": {
      "text/plain": [
       "['SHOP-15.4.1.1-pyshop-python3.11-linux.zip',\n",
       " 'SHOP-16.0.3-pyshop-python3.11-linux.zip',\n",
       " 'SHOP-16.0.2-pyshop-python3.11-linux.zip',\n",
       " 'SHOP-15.6.1.0-pyshop-python3.11-linux.zip']"
      ]
     },
     "execution_count": 4,
     "metadata": {},
     "output_type": "execute_result"
    }
   ],
   "source": [
    "# Not necessary, but we can list available files Shop Version\n",
    "powerops.cogshop.list_shop_versions()"
   ]
  },
  {
   "cell_type": "code",
   "execution_count": 12,
   "id": "053e558e",
   "metadata": {},
   "outputs": [],
   "source": [
    "my_shop_scenario_16_0_3 = powerops.cogshop.prepare_shop_scenario(\n",
    "    shop_version=\"16.0.3\", \n",
    "    model_name=\"shop_model_16_0_3\",\n",
    "    scenario_name=\"shop_scenario_16_0_3\",\n",
    ")\n",
    "# my_shop_scenario_16_0_3\n",
    "\n",
    "my_shop_scenario_15_5_1_0 = powerops.cogshop.prepare_shop_scenario(\n",
    "    shop_version=\"15.5.1.0\", \n",
    "    model_name=\"shop_model_15_5_1_0\",\n",
    "    scenario_name=\"shop_scenario_15_5_1_0\",\n",
    ")"
   ]
  },
  {
   "cell_type": "code",
   "execution_count": 13,
   "id": "454dd3db",
   "metadata": {},
   "outputs": [
    {
     "data": {
      "text/plain": [
       "(ShopScenarioWrite(space='power_ops_instances', external_id='shopscenario:488023ba39774f90a2e20d99071d390c', data_record=DataRecordWrite(existing_version=None), node_type=None, name='shop_scenario_16_0_3', source=None),\n",
       " ShopScenarioWrite(space='power_ops_instances', external_id='shopscenario:a05a58e42fad41158ddd60264fd9fec8', data_record=DataRecordWrite(existing_version=None), node_type=None, name='shop_scenario_15_5_1_0', source=None))"
      ]
     },
     "execution_count": 13,
     "metadata": {},
     "output_type": "execute_result"
    }
   ],
   "source": [
    "# Looking at the scenarios\n",
    "my_shop_scenario_16_0_3, my_shop_scenario_15_5_1_0"
   ]
  },
  {
   "cell_type": "code",
   "execution_count": 14,
   "id": "6da33768",
   "metadata": {},
   "outputs": [
    {
     "data": {
      "text/plain": [
       "(ShopModelWrite(space='power_ops_instances', external_id='shopmodel:0eaa852671ae4059b22de68f0d97f48c', data_record=DataRecordWrite(existing_version=None), node_type=DirectRelationReference(space='power_ops_types', external_id='ShopModel'), name='shop_model_16_0_3', model_version=None, shop_version='16.0.3', penalty_limit=None, model=None),\n",
       " ShopModelWrite(space='power_ops_instances', external_id='shopmodel:0ec743e5a3844f8b95d8b27f1dcacaf3', data_record=DataRecordWrite(existing_version=None), node_type=DirectRelationReference(space='power_ops_types', external_id='ShopModel'), name='shop_model_15_5_1_0', model_version=None, shop_version='15.5.1.0', penalty_limit=None, model=None))"
      ]
     },
     "execution_count": 14,
     "metadata": {},
     "output_type": "execute_result"
    }
   ],
   "source": [
    "# Looking at the models\n",
    "my_shop_scenario_16_0_3.model, my_shop_scenario_15_5_1_0.model"
   ]
  },
  {
   "cell_type": "markdown",
   "id": "a1d380d7",
   "metadata": {},
   "source": [
    "### Step 2: Write the scenarios to CDF"
   ]
  },
  {
   "cell_type": "code",
   "execution_count": 15,
   "id": "0d866285",
   "metadata": {},
   "outputs": [
    {
     "ename": "AttributeError",
     "evalue": "'CogShopAPI' object has no attribute 'write_resources'",
     "output_type": "error",
     "traceback": [
      "\u001b[0;31m---------------------------------------------------------------------------\u001b[0m",
      "\u001b[0;31mAttributeError\u001b[0m                            Traceback (most recent call last)",
      "Cell \u001b[0;32mIn[15], line 1\u001b[0m\n\u001b[0;32m----> 1\u001b[0m \u001b[43mpowerops\u001b[49m\u001b[38;5;241;43m.\u001b[39;49m\u001b[43mcogshop\u001b[49m\u001b[38;5;241;43m.\u001b[39;49m\u001b[43mwrite_resources\u001b[49m(my_shop_scenario_16_0_3, my_shop_scenario_15_5_1_0)\n",
      "\u001b[0;31mAttributeError\u001b[0m: 'CogShopAPI' object has no attribute 'write_resources'"
     ]
    }
   ],
   "source": [
    "powerops.cogshop.write_resources(my_shop_scenario_16_0_3, my_shop_scenario_15_5_1_0)"
   ]
  },
  {
   "cell_type": "code",
   "execution_count": null,
   "id": "c0593b5d",
   "metadata": {},
   "outputs": [],
   "source": [
    "example_case_svg = upload_file(file_name=\"a_example_stavanger_with_commands.yaml\")"
   ]
  },
  {
   "cell_type": "code",
   "execution_count": null,
   "id": "30b2eff6",
   "metadata": {},
   "outputs": [],
   "source": [
    "#  Files are referenced using 4-tuples with the following structure:\n",
    "# (file_reference, file_name, is_ascii, labels)\n",
    "shop_file_list = [\n",
    "    (example_case_fbu_1, example_case_fbu_1, False, \"\"),\n",
    "    # CogShop needs to know which file contains commands in the case of multiple files\n",
    "    (example_case_fbu_2, example_case_fbu_2, False, \"commands\"),\n",
    "]\n",
    "\n",
    "\n",
    "shop_case_1 = powerops.cogshop.prepare_shop_case(\n",
    "    shop_file_list=shop_file_list,\n",
    "    shop_version=\"15.6.1.0\",\n",
    "    start_time=datetime.datetime(2023, 1, 19, 23),\n",
    "    end_time=datetime.datetime(2023, 1, 29, 23),\n",
    "    model_name=\"my_model\",\n",
    "    scenario_name=\"my_scenario\",\n",
    ")\n",
    "shop_case_1"
   ]
  },
  {
   "cell_type": "markdown",
   "id": "ef00ba2e",
   "metadata": {},
   "source": [
    "## Cleaning up the instances that were created\n",
    "\n",
    "Instances can be deleted by using the powerops client and the `external_id`s of everything we have created "
   ]
  },
  {
   "cell_type": "code",
   "execution_count": 59,
   "id": "fbca0a3d",
   "metadata": {},
   "outputs": [
    {
     "data": {
      "text/plain": [
       "['shop_result__0cde252c-83c5-4ee7-90df-79453986cf77',\n",
       " 'shopcase:4475ca6369ff48cc91f3405f28811d72',\n",
       " 'shopfile:d03c6bc81de34ef0889aa5504407a96b',\n",
       " 'shopfile:7ab174df4ba54c1d8e29e688d58b95c1',\n",
       " 'shopscenario:cdb76b8aaec044038b46206943069dc8',\n",
       " 'shopmodel:af030fad26834be293d460fa2f06e196']"
      ]
     },
     "execution_count": 59,
     "metadata": {},
     "output_type": "execute_result"
    }
   ],
   "source": [
    "all_external_ids = [\n",
    "    shop_result_1.external_id,\n",
    "    shop_case_1.external_id,\n",
    "    shop_case_1.shop_files[0].external_id,\n",
    "    shop_case_1.shop_files[1].external_id,\n",
    "    shop_case_1.scenario.external_id,\n",
    "    shop_case_1.scenario.model.external_id,\n",
    "]\n",
    "\n",
    "all_external_ids"
   ]
  },
  {
   "cell_type": "code",
   "execution_count": 60,
   "id": "c9204f9d",
   "metadata": {},
   "outputs": [
    {
     "data": {
      "text/plain": [
       "InstancesDeleteResult(nodes=[NodeId(space='power_ops_instances', external_id='shop_result__0cde252c-83c5-4ee7-90df-79453986cf77'), NodeId(space='power_ops_instances', external_id='shopcase:4475ca6369ff48cc91f3405f28811d72'), NodeId(space='power_ops_instances', external_id='shopfile:d03c6bc81de34ef0889aa5504407a96b'), NodeId(space='power_ops_instances', external_id='shopfile:7ab174df4ba54c1d8e29e688d58b95c1'), NodeId(space='power_ops_instances', external_id='shopscenario:cdb76b8aaec044038b46206943069dc8'), NodeId(space='power_ops_instances', external_id='shopmodel:af030fad26834be293d460fa2f06e196')], edges=[])"
      ]
     },
     "execution_count": 60,
     "metadata": {},
     "output_type": "execute_result"
    }
   ],
   "source": [
    "powerops.v1.delete(external_id=all_external_ids)"
   ]
  },
  {
   "cell_type": "code",
   "execution_count": null,
   "id": "5e7298b0",
   "metadata": {},
   "outputs": [],
   "source": []
  }
 ],
 "metadata": {
  "kernelspec": {
   "display_name": ".venv",
   "language": "python",
   "name": "python3"
  },
  "language_info": {
   "codemirror_mode": {
    "name": "ipython",
    "version": 3
   },
   "file_extension": ".py",
   "mimetype": "text/x-python",
   "name": "python",
   "nbconvert_exporter": "python",
   "pygments_lexer": "ipython3",
   "version": "3.11.3"
  }
 },
 "nbformat": 4,
 "nbformat_minor": 5
}
