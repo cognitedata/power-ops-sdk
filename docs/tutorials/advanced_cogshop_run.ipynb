{
 "cells": [
  {
   "cell_type": "markdown",
   "id": "8aa83754",
   "metadata": {},
   "source": [
    "# Advanced guide for data modeling based cogshop runs\n",
    "\n",
    "**This tutorial covers more advanced techniques than quickstart and will not go into details covered there, such as setting up the Powerops Client**\n"
   ]
  },
  {
   "cell_type": "markdown",
   "id": "8908b6471eb427b8",
   "metadata": {
    "collapsed": false,
    "jupyter": {
     "outputs_hidden": false
    }
   },
   "source": [
    "## Preparation\n",
    "\n",
    "\n",
    "NOTE: The \"recommended\" way of running CogShop is as follows:\n",
    "1. Static model data and mappings for time-dependent data like time series represented by `ShopModel`\n",
    "2. Any variations on the base configuration (like different price scenarios) represented by `ShopScenario` instances \n",
    "3. Generate a complete `ShopCase` with time series datapoints based on a `ShopScenario` instance plus `startTime` and `endTime` through the shop_trigger Cognite function.\n",
    "\n",
    "This tutorial covers a different set-up: Triggering (Cog)Shop for a pre-generated, complete Shop \"case\" (as a yaml file or separate files).\n"
   ]
  },
  {
   "cell_type": "code",
   "execution_count": null,
   "id": "4e8902c5-c2af-4638-ab4c-986c68893b15",
   "metadata": {
    "ExecuteTime": {
     "end_time": "2023-10-31T16:50:17.696595Z",
     "start_time": "2023-10-31T16:50:15.150704Z"
    }
   },
   "outputs": [
    {
     "name": "stdout",
     "output_type": "stream",
     "text": [
      "0.102.3\n"
     ]
    }
   ],
   "source": [
    "# Setting up `PowerOpsClient`\n",
    "# You can control which setting files are loaded through the environmental variable below.\n",
    "import os\n",
    "from cognite.powerops._version import __version__\n",
    "from cognite.powerops import PowerOpsClient\n",
    "\n",
    "# NB! Auth has changed, this must change\n",
    "\n",
    "os.environ[\"SETTINGS_FILES\"] = \"../../settings.toml;../../.secrets.toml\"\n",
    "# powerops = PowerOpsClient.from_config(\"../../power_ops_config.yaml\")\n",
    "powerops = PowerOpsClient.from_settings()\n",
    "\n",
    "print(__version__)  # Print the version of the package"
   ]
  },
  {
   "cell_type": "code",
   "execution_count": 2,
   "id": "1200ad99",
   "metadata": {},
   "outputs": [],
   "source": [
    "# Creating some helper functions\n",
    "\n",
    "from pathlib import Path\n",
    "\n",
    "\n",
    "def upload_file(local_file_name: str, external_id: str) -> str:\n",
    "    \"\"\"Upload a file to CDF and return the external id of the file\"\"\"\n",
    "    file_path = (Path(\"example_case_files\") / local_file_name).resolve()\n",
    "    file = powerops.cdf.files.upload(\n",
    "        path=str(file_path),\n",
    "        external_id=external_id,\n",
    "        name=local_file_name,\n",
    "        data_set_id=powerops.datasets.write_dataset_id,\n",
    "        mime_type=\"application/yaml\",\n",
    "        # Overwrite the file at the given external is if it already exists\n",
    "        # This will also overwrite potentially existing metadata\n",
    "        overwrite=True,\n",
    "    )\n",
    "    return file.external_id"
   ]
  },
  {
   "cell_type": "markdown",
   "id": "23596be4",
   "metadata": {},
   "source": [
    "## Example 1: Use multiple files for shop files\n",
    "Very similar to the example in quick start, but using multiple files for `ShopCase`.\n",
    "\n",
    "1. Upload the files that will be loaded into shop, keeping their external ids\n",
    "2. Set up a `ShopCase`, using the SDK\n",
    "3. Write the `ShopCase` instance to CDF, and verify that it was created using the SDK\n",
    "4. Trigger a shop execution of that `ShopCase`\n",
    "5. List the `ShopResult` referencing the `ShopCase` \n"
   ]
  },
  {
   "cell_type": "markdown",
   "id": "3ffb725b",
   "metadata": {},
   "source": [
    "### Step 1: Upload a files "
   ]
  },
  {
   "cell_type": "code",
   "execution_count": null,
   "id": "e6c42851",
   "metadata": {},
   "outputs": [
    {
     "name": "stdout",
     "output_type": "stream",
     "text": [
      " File reference 1: 'example_case_fornebu', File reference 2: 'example_commands'\n"
     ]
    }
   ],
   "source": [
    "# NB! The case in this example is minimal and just for demo purposes.\n",
    "example_case_fbu_1 = upload_file(\n",
    "    local_file_name=\"b_example_fornebu_without_commands.yaml\",\n",
    "    external_id=\"example_case_fornebu\",\n",
    ")\n",
    "example_case_fbu_2 = upload_file(\n",
    "    local_file_name=\"b_example_commands.yaml\", external_id=\"example_commands\"\n",
    ")\n",
    "\n",
    "print(\n",
    "    f\" File reference 1: '{example_case_fbu_1}', File reference 2: '{example_case_fbu_2}'\"\n",
    ")"
   ]
  },
  {
   "cell_type": "markdown",
   "id": "7d15a47f",
   "metadata": {},
   "source": [
    "### Step 2: Preparing a ShopCase\n",
    "\n",
    "The main difference here is that `shop_file_list` will contain more than one tuple.\n",
    "\n",
    "Unlike the quickstart, in this example we will let `prepare_shop_case` generate all the external IDs.\n",
    "\n",
    "We will also let the file reference double as the name of the file. \n"
   ]
  },
  {
   "cell_type": "code",
   "execution_count": 4,
   "id": "ec68faae",
   "metadata": {},
   "outputs": [
    {
     "data": {
      "text/html": [
       "<div>\n",
       "<style scoped>\n",
       "    .dataframe tbody tr th:only-of-type {\n",
       "        vertical-align: middle;\n",
       "    }\n",
       "\n",
       "    .dataframe tbody tr th {\n",
       "        vertical-align: top;\n",
       "    }\n",
       "\n",
       "    .dataframe thead th {\n",
       "        text-align: right;\n",
       "    }\n",
       "</style>\n",
       "<table border=\"1\" class=\"dataframe\">\n",
       "  <thead>\n",
       "    <tr style=\"text-align: right;\">\n",
       "      <th></th>\n",
       "      <th>value</th>\n",
       "    </tr>\n",
       "  </thead>\n",
       "  <tbody>\n",
       "    <tr>\n",
       "      <th>space</th>\n",
       "      <td>power_ops_instances</td>\n",
       "    </tr>\n",
       "    <tr>\n",
       "      <th>external_id</th>\n",
       "      <td>shopcase:c2ca6f614a074a8ebbc93f18b64160f4</td>\n",
       "    </tr>\n",
       "    <tr>\n",
       "      <th>data_record</th>\n",
       "      <td>{'existing_version': None}</td>\n",
       "    </tr>\n",
       "    <tr>\n",
       "      <th>node_type</th>\n",
       "      <td>None</td>\n",
       "    </tr>\n",
       "    <tr>\n",
       "      <th>scenario</th>\n",
       "      <td>{'space': 'power_ops_instances', 'external_id'...</td>\n",
       "    </tr>\n",
       "    <tr>\n",
       "      <th>start_time</th>\n",
       "      <td>2023-01-19 23:00:00</td>\n",
       "    </tr>\n",
       "    <tr>\n",
       "      <th>end_time</th>\n",
       "      <td>2023-01-29 23:00:00</td>\n",
       "    </tr>\n",
       "    <tr>\n",
       "      <th>shop_files</th>\n",
       "      <td>[{'space': 'power_ops_instances', 'external_id...</td>\n",
       "    </tr>\n",
       "  </tbody>\n",
       "</table>\n",
       "</div>"
      ],
      "text/plain": [
       "ShopCaseWrite(space='power_ops_instances', external_id='shopcase:c2ca6f614a074a8ebbc93f18b64160f4', data_record=DataRecordWrite(existing_version=None), node_type=None, start_time=datetime.datetime(2023, 1, 19, 23, 0), end_time=datetime.datetime(2023, 1, 29, 23, 0))"
      ]
     },
     "execution_count": 4,
     "metadata": {},
     "output_type": "execute_result"
    }
   ],
   "source": [
    "import datetime\n",
    "\n",
    "\n",
    "#  Files are referenced using 4-tuples with the following structure:\n",
    "# (file_reference, file_name, is_ascii, labels)\n",
    "shop_file_list = [\n",
    "    (example_case_fbu_1, example_case_fbu_1, False, \"\"),\n",
    "    # CogShop needs to know which file contains commands in the case of multiple files\n",
    "    (example_case_fbu_2, example_case_fbu_2, False, \"commands\"),\n",
    "]\n",
    "\n",
    "\n",
    "shop_case_1 = powerops.cogshop.prepare_shop_case(\n",
    "    shop_file_list=shop_file_list,\n",
    "    shop_version=\"15.6.1.0\",\n",
    "    start_time=datetime.datetime(2023, 1, 19, 23),\n",
    "    end_time=datetime.datetime(2023, 1, 29, 23),\n",
    "    model_name=\"my_model\",\n",
    "    scenario_name=\"my_scenario\",\n",
    ")\n",
    "shop_case_1"
   ]
  },
  {
   "cell_type": "code",
   "execution_count": 5,
   "id": "562082fc",
   "metadata": {},
   "outputs": [
    {
     "name": "stdout",
     "output_type": "stream",
     "text": [
      "File name: 'example_case_fornebu', File reference: 'example_case_fornebu' \t[,data modeling external id: 'shopfile:a5045777f9894fdba74957c40404dc2a']\n",
      "File name: 'example_commands', File reference: 'example_commands' \t[,data modeling external id: 'shopfile:31229a0ace1a4c139f8d8c7be9793fb1']\n"
     ]
    }
   ],
   "source": [
    "# We can also look at just the shop files\n",
    "for file in shop_case_1.shop_files:\n",
    "    print(\n",
    "        f\"File name: '{file.name}', File reference: '{file.file_reference}' \\t[,data modeling external id: '{file.external_id}']\"\n",
    "    )"
   ]
  },
  {
   "cell_type": "markdown",
   "id": "96f29384",
   "metadata": {},
   "source": [
    "### Step 3: Upload the ShopCase\n",
    "\n",
    "Note: The upload is an `upsert` -- so if there are overlaps, the existing properties will merge  \n"
   ]
  },
  {
   "cell_type": "code",
   "execution_count": 6,
   "id": "cb0a970a",
   "metadata": {},
   "outputs": [
    {
     "data": {
      "text/plain": [
       "ResourcesWriteResult(nodes=[<NodeApplyResult(space='power_ops_instances', external_id='shopcase:c2ca6f614a074a8ebbc93f18b64160f4', version=1) at 0x7f1432ab9d90>, <NodeApplyResult(space='power_ops_instances', external_id='shopfile:a5045777f9894fdba74957c40404dc2a', version=1) at 0x7f1489246c90>, <NodeApplyResult(space='power_ops_instances', external_id='shopfile:31229a0ace1a4c139f8d8c7be9793fb1', version=1) at 0x7f143337a6d0>, <NodeApplyResult(space='power_ops_instances', external_id='shopscenario:f6e3b243ff7a4413a1c5d32a0f88eac1', version=1) at 0x7f1433367b50>, <NodeApplyResult(space='power_ops_instances', external_id='shopmodel:aa8cdf7f19ef44faaf6ab3a00a7928db', version=1) at 0x7f14328e6e90>], edges=[<EdgeApplyResult(space='power_ops_instances', external_id='shopcase:c2ca6f614a074a8ebbc93f18b64160f4:shopfile:a5045777f9894fdba74957c40404dc2a', version=1) at 0x7f1433209d10>, <EdgeApplyResult(space='power_ops_instances', external_id='shopcase:c2ca6f614a074a8ebbc93f18b64160f4:shopfile:31229a0ace1a4c139f8d8c7be9793fb1', version=1) at 0x7f143320b090>], time_series=[])"
      ]
     },
     "execution_count": 6,
     "metadata": {},
     "output_type": "execute_result"
    }
   ],
   "source": [
    "powerops.cogshop.write_resources(shop_case_1)"
   ]
  },
  {
   "cell_type": "code",
   "execution_count": 7,
   "id": "d033c3d4",
   "metadata": {},
   "outputs": [
    {
     "data": {
      "text/html": [
       "<div>\n",
       "<style scoped>\n",
       "    .dataframe tbody tr th:only-of-type {\n",
       "        vertical-align: middle;\n",
       "    }\n",
       "\n",
       "    .dataframe tbody tr th {\n",
       "        vertical-align: top;\n",
       "    }\n",
       "\n",
       "    .dataframe thead th {\n",
       "        text-align: right;\n",
       "    }\n",
       "</style>\n",
       "<table border=\"1\" class=\"dataframe\">\n",
       "  <thead>\n",
       "    <tr style=\"text-align: right;\">\n",
       "      <th></th>\n",
       "      <th>value</th>\n",
       "    </tr>\n",
       "  </thead>\n",
       "  <tbody>\n",
       "    <tr>\n",
       "      <th>space</th>\n",
       "      <td>power_ops_instances</td>\n",
       "    </tr>\n",
       "    <tr>\n",
       "      <th>external_id</th>\n",
       "      <td>shopcase:c2ca6f614a074a8ebbc93f18b64160f4</td>\n",
       "    </tr>\n",
       "    <tr>\n",
       "      <th>data_record</th>\n",
       "      <td>{'version': 1, 'last_updated_time': 2024-11-11...</td>\n",
       "    </tr>\n",
       "    <tr>\n",
       "      <th>node_type</th>\n",
       "      <td>None</td>\n",
       "    </tr>\n",
       "    <tr>\n",
       "      <th>scenario</th>\n",
       "      <td>shopscenario:f6e3b243ff7a4413a1c5d32a0f88eac1</td>\n",
       "    </tr>\n",
       "    <tr>\n",
       "      <th>start_time</th>\n",
       "      <td>2023-01-19 23:00:00+00:00</td>\n",
       "    </tr>\n",
       "    <tr>\n",
       "      <th>end_time</th>\n",
       "      <td>2023-01-29 23:00:00+00:00</td>\n",
       "    </tr>\n",
       "    <tr>\n",
       "      <th>shop_files</th>\n",
       "      <td>[shopfile:a5045777f9894fdba74957c40404dc2a, sh...</td>\n",
       "    </tr>\n",
       "  </tbody>\n",
       "</table>\n",
       "</div>"
      ],
      "text/plain": [
       "ShopCase(space='power_ops_instances', external_id='shopcase:c2ca6f614a074a8ebbc93f18b64160f4', data_record=DataRecord(version=1, last_updated_time=datetime.datetime(2024, 11, 11, 14, 21, 50, 943000, tzinfo=TzInfo(UTC)), created_time=datetime.datetime(2024, 11, 11, 14, 21, 50, 943000, tzinfo=TzInfo(UTC)), deleted_time=None), node_type=None, start_time=datetime.datetime(2023, 1, 19, 23, 0, tzinfo=TzInfo(UTC)), end_time=datetime.datetime(2023, 1, 29, 23, 0, tzinfo=TzInfo(UTC)))"
      ]
     },
     "execution_count": 7,
     "metadata": {},
     "output_type": "execute_result"
    }
   ],
   "source": [
    "from cognite.powerops.client._generated.v1.data_classes import ShopCase\n",
    "\n",
    "# NB! This step is not necessary, if the upsert was successful we know the case is in CDF\n",
    "retrieved_shop_case: ShopCase = powerops.cogshop.retrieve_shop_case(\n",
    "    shop_case_1.external_id\n",
    ")\n",
    "retrieved_shop_case"
   ]
  },
  {
   "cell_type": "markdown",
   "id": "6799d59e",
   "metadata": {},
   "source": [
    "Alternately, use Graph QL to retrieve the Shop Case instance. \n",
    "Under the hood, this uses a different method to look for the case so the returned data has a slightly different format"
   ]
  },
  {
   "cell_type": "code",
   "execution_count": 8,
   "id": "b54b67b4",
   "metadata": {},
   "outputs": [
    {
     "data": {
      "text/html": [
       "<div>\n",
       "<style scoped>\n",
       "    .dataframe tbody tr th:only-of-type {\n",
       "        vertical-align: middle;\n",
       "    }\n",
       "\n",
       "    .dataframe tbody tr th {\n",
       "        vertical-align: top;\n",
       "    }\n",
       "\n",
       "    .dataframe thead th {\n",
       "        text-align: right;\n",
       "    }\n",
       "</style>\n",
       "<table border=\"1\" class=\"dataframe\">\n",
       "  <thead>\n",
       "    <tr style=\"text-align: right;\">\n",
       "      <th></th>\n",
       "      <th>value</th>\n",
       "    </tr>\n",
       "  </thead>\n",
       "  <tbody>\n",
       "    <tr>\n",
       "      <th>space</th>\n",
       "      <td>power_ops_instances</td>\n",
       "    </tr>\n",
       "    <tr>\n",
       "      <th>external_id</th>\n",
       "      <td>shopcase:c2ca6f614a074a8ebbc93f18b64160f4</td>\n",
       "    </tr>\n",
       "    <tr>\n",
       "      <th>data_record</th>\n",
       "      <td>{'version': 0, 'last_updated_time': 2024-11-11...</td>\n",
       "    </tr>\n",
       "    <tr>\n",
       "      <th>node_type</th>\n",
       "      <td>None</td>\n",
       "    </tr>\n",
       "    <tr>\n",
       "      <th>scenario</th>\n",
       "      <td>{'space': 'power_ops_instances', 'external_id'...</td>\n",
       "    </tr>\n",
       "    <tr>\n",
       "      <th>start_time</th>\n",
       "      <td>2023-01-19 23:00:00+00:00</td>\n",
       "    </tr>\n",
       "    <tr>\n",
       "      <th>end_time</th>\n",
       "      <td>2023-01-29 23:00:00+00:00</td>\n",
       "    </tr>\n",
       "    <tr>\n",
       "      <th>shop_files</th>\n",
       "      <td>[{'space': 'power_ops_instances', 'external_id...</td>\n",
       "    </tr>\n",
       "  </tbody>\n",
       "</table>\n",
       "</div>"
      ],
      "text/plain": [
       "ShopCase(space='power_ops_instances', external_id='shopcase:c2ca6f614a074a8ebbc93f18b64160f4', data_record=DataRecord(version=0, last_updated_time=datetime.datetime(2024, 11, 11, 14, 21, 50, 943000, tzinfo=TzInfo(UTC)), created_time=datetime.datetime(2024, 11, 11, 14, 21, 50, 943000, tzinfo=TzInfo(UTC)), deleted_time=None), node_type=None, start_time=datetime.datetime(2023, 1, 19, 23, 0, tzinfo=TzInfo(UTC)), end_time=datetime.datetime(2023, 1, 29, 23, 0, tzinfo=TzInfo(UTC)))"
      ]
     },
     "execution_count": 8,
     "metadata": {},
     "output_type": "execute_result"
    }
   ],
   "source": [
    "graph_ql_shop_case = powerops.cogshop.retrieve_shop_case_graphql(\n",
    "    shop_case_1.external_id\n",
    ")\n",
    "graph_ql_shop_case"
   ]
  },
  {
   "cell_type": "markdown",
   "id": "d38c1534",
   "metadata": {},
   "source": [
    "### Step 4: Trigger the case\n",
    "\n",
    "We will here directly use the new `trigger_shop_case` method on the `powerops.cogshop` client"
   ]
  },
  {
   "cell_type": "code",
   "execution_count": 9,
   "id": "934e7d52",
   "metadata": {},
   "outputs": [],
   "source": [
    "powerops.cogshop.trigger_shop_case(shop_case_1.external_id)"
   ]
  },
  {
   "cell_type": "markdown",
   "id": "cd4b60ee",
   "metadata": {},
   "source": [
    "### Step 5: View the ShopResult generated \n",
    "\n",
    "Because it is the case that a single case can be triggered multiple times, lists will be returned. \n",
    "\n",
    "\n",
    "Note that it may take a while to run (Cog)Shop. \n",
    "If the run is not completed then no results are returned. \n",
    "If a result is returned, but several values are `None` (namely `post run`, `messages`, `cplex`), it can be assumed that the run failed.\n"
   ]
  },
  {
   "cell_type": "markdown",
   "id": "5470afe6",
   "metadata": {},
   "source": [
    "#### 1. Using list\n",
    "\n",
    "Note that it may take a while to run (Cog)Shop. \n",
    "If the run is not completed then no results are returned"
   ]
  },
  {
   "cell_type": "code",
   "execution_count": 40,
   "id": "959c723f",
   "metadata": {},
   "outputs": [
    {
     "name": "stdout",
     "output_type": "stream",
     "text": [
      "There is/are 1 result(s) for the case with external id 'shopcase:c2ca6f614a074a8ebbc93f18b64160f4'\n"
     ]
    }
   ],
   "source": [
    "from cognite.powerops.client._generated.v1.data_classes import ShopResultList\n",
    "\n",
    "result_list_1: ShopResultList = powerops.cogshop.list_shop_results_for_case(\n",
    "    case_external_id=shop_case_1.external_id\n",
    ")  # This can easily be converted to a pandas DataFrame\n",
    "\n",
    "print(\n",
    "    f\"There is/are {len(result_list_1)} result(s) for the case with external id '{shop_case_1.external_id}'\"\n",
    ")"
   ]
  },
  {
   "cell_type": "markdown",
   "id": "722dc97d",
   "metadata": {},
   "source": [
    "#### 2. Graph QL list "
   ]
  },
  {
   "cell_type": "code",
   "execution_count": 45,
   "id": "1ee59dcd",
   "metadata": {},
   "outputs": [
    {
     "data": {
      "text/html": [
       "<div>\n",
       "<style scoped>\n",
       "    .dataframe tbody tr th:only-of-type {\n",
       "        vertical-align: middle;\n",
       "    }\n",
       "\n",
       "    .dataframe tbody tr th {\n",
       "        vertical-align: top;\n",
       "    }\n",
       "\n",
       "    .dataframe thead th {\n",
       "        text-align: right;\n",
       "    }\n",
       "</style>\n",
       "<table border=\"1\" class=\"dataframe\">\n",
       "  <thead>\n",
       "    <tr style=\"text-align: right;\">\n",
       "      <th></th>\n",
       "      <th>value</th>\n",
       "    </tr>\n",
       "  </thead>\n",
       "  <tbody>\n",
       "    <tr>\n",
       "      <th>space</th>\n",
       "      <td>power_ops_instances</td>\n",
       "    </tr>\n",
       "    <tr>\n",
       "      <th>external_id</th>\n",
       "      <td>shop_result__10c2856f-4faf-4611-933c-81109c5072c8</td>\n",
       "    </tr>\n",
       "    <tr>\n",
       "      <th>data_record</th>\n",
       "      <td>{'version': 0, 'last_updated_time': 2024-11-11...</td>\n",
       "    </tr>\n",
       "    <tr>\n",
       "      <th>node_type</th>\n",
       "      <td>None</td>\n",
       "    </tr>\n",
       "    <tr>\n",
       "      <th>case</th>\n",
       "      <td>{'space': 'power_ops_instances', 'external_id'...</td>\n",
       "    </tr>\n",
       "    <tr>\n",
       "      <th>objective_value</th>\n",
       "      <td>None</td>\n",
       "    </tr>\n",
       "    <tr>\n",
       "      <th>pre_run</th>\n",
       "      <td>POWEROPS_SHOP_pre-run-10c2856f-4faf-4611-933c-...</td>\n",
       "    </tr>\n",
       "    <tr>\n",
       "      <th>post_run</th>\n",
       "      <td>POWEROPS_SHOP_post-run-10c2856f-4faf-4611-933c...</td>\n",
       "    </tr>\n",
       "    <tr>\n",
       "      <th>messages</th>\n",
       "      <td>POWEROPS_SHOP_shop-10c2856f-4faf-4611-933c-811...</td>\n",
       "    </tr>\n",
       "    <tr>\n",
       "      <th>cplex_logs</th>\n",
       "      <td>POWEROPS_SHOP_cplex-10c2856f-4faf-4611-933c-81...</td>\n",
       "    </tr>\n",
       "    <tr>\n",
       "      <th>alerts</th>\n",
       "      <td>[{'space': 'power_ops_instances', 'external_id...</td>\n",
       "    </tr>\n",
       "    <tr>\n",
       "      <th>output_time_series</th>\n",
       "      <td>[]</td>\n",
       "    </tr>\n",
       "  </tbody>\n",
       "</table>\n",
       "</div>"
      ],
      "text/plain": [
       "ShopResult(space='power_ops_instances', external_id='shop_result__10c2856f-4faf-4611-933c-81109c5072c8', data_record=DataRecord(version=0, last_updated_time=datetime.datetime(2024, 11, 11, 14, 22, 52, 8000, tzinfo=TzInfo(UTC)), created_time=datetime.datetime(2024, 11, 11, 14, 22, 52, 8000, tzinfo=TzInfo(UTC)), deleted_time=None), node_type=None, objective_value=None, pre_run='POWEROPS_SHOP_pre-run-10c2856f-4faf-4611-933c-81109c5072c8_aac0a96f', post_run='POWEROPS_SHOP_post-run-10c2856f-4faf-4611-933c-81109c5072c8', messages='POWEROPS_SHOP_shop-10c2856f-4faf-4611-933c-81109c5072c8', cplex_logs='POWEROPS_SHOP_cplex-10c2856f-4faf-4611-933c-81109c5072c8')"
      ]
     },
     "execution_count": 45,
     "metadata": {},
     "output_type": "execute_result"
    }
   ],
   "source": [
    "from cognite.powerops.client._generated.v1.data_classes import ShopResult\n",
    "\n",
    "result_list_ql_1: list[ShopResult] = powerops.cogshop.list_shop_result_graphql(\n",
    "    case_external_id=shop_case_1.external_id, limit=1\n",
    ")\n",
    "result_list_ql_1[0]"
   ]
  },
  {
   "cell_type": "markdown",
   "id": "8ce059bc",
   "metadata": {},
   "source": [
    "#### 3. Retrieve using the external ID  "
   ]
  },
  {
   "cell_type": "code",
   "execution_count": 26,
   "id": "2d7407bd",
   "metadata": {},
   "outputs": [
    {
     "data": {
      "text/html": [
       "<div>\n",
       "<style scoped>\n",
       "    .dataframe tbody tr th:only-of-type {\n",
       "        vertical-align: middle;\n",
       "    }\n",
       "\n",
       "    .dataframe tbody tr th {\n",
       "        vertical-align: top;\n",
       "    }\n",
       "\n",
       "    .dataframe thead th {\n",
       "        text-align: right;\n",
       "    }\n",
       "</style>\n",
       "<table border=\"1\" class=\"dataframe\">\n",
       "  <thead>\n",
       "    <tr style=\"text-align: right;\">\n",
       "      <th></th>\n",
       "      <th>value</th>\n",
       "    </tr>\n",
       "  </thead>\n",
       "  <tbody>\n",
       "    <tr>\n",
       "      <th>space</th>\n",
       "      <td>power_ops_instances</td>\n",
       "    </tr>\n",
       "    <tr>\n",
       "      <th>external_id</th>\n",
       "      <td>shop_result__10c2856f-4faf-4611-933c-81109c5072c8</td>\n",
       "    </tr>\n",
       "    <tr>\n",
       "      <th>data_record</th>\n",
       "      <td>{'version': 1, 'last_updated_time': 2024-11-11...</td>\n",
       "    </tr>\n",
       "    <tr>\n",
       "      <th>node_type</th>\n",
       "      <td>None</td>\n",
       "    </tr>\n",
       "    <tr>\n",
       "      <th>case</th>\n",
       "      <td>shopcase:c2ca6f614a074a8ebbc93f18b64160f4</td>\n",
       "    </tr>\n",
       "    <tr>\n",
       "      <th>objective_value</th>\n",
       "      <td>{'total': -19927822739.279236, 'load_value': 0...</td>\n",
       "    </tr>\n",
       "    <tr>\n",
       "      <th>pre_run</th>\n",
       "      <td>POWEROPS_SHOP_pre-run-10c2856f-4faf-4611-933c-...</td>\n",
       "    </tr>\n",
       "    <tr>\n",
       "      <th>post_run</th>\n",
       "      <td>POWEROPS_SHOP_post-run-10c2856f-4faf-4611-933c...</td>\n",
       "    </tr>\n",
       "    <tr>\n",
       "      <th>messages</th>\n",
       "      <td>POWEROPS_SHOP_shop-10c2856f-4faf-4611-933c-811...</td>\n",
       "    </tr>\n",
       "    <tr>\n",
       "      <th>cplex_logs</th>\n",
       "      <td>POWEROPS_SHOP_cplex-10c2856f-4faf-4611-933c-81...</td>\n",
       "    </tr>\n",
       "    <tr>\n",
       "      <th>alerts</th>\n",
       "      <td>[shop_penalty_report_my_scenario_2023-01-19 23...</td>\n",
       "    </tr>\n",
       "    <tr>\n",
       "      <th>output_time_series</th>\n",
       "      <td>None</td>\n",
       "    </tr>\n",
       "  </tbody>\n",
       "</table>\n",
       "</div>"
      ],
      "text/plain": [
       "ShopResult(space='power_ops_instances', external_id='shop_result__10c2856f-4faf-4611-933c-81109c5072c8', data_record=DataRecord(version=1, last_updated_time=datetime.datetime(2024, 11, 11, 14, 22, 52, 8000, tzinfo=TzInfo(UTC)), created_time=datetime.datetime(2024, 11, 11, 14, 22, 52, 8000, tzinfo=TzInfo(UTC)), deleted_time=None), node_type=None, objective_value={'total': -19927822739.279236, 'load_value': 0.0, 'bypass_cost': 0.0, 'grand_total': -19927820531.21755, 'rsv_penalty': 0.0, 'load_penalty': 0.0, 'thermal_cost': 0.0, 'rsv_end_value': -19927592194.850376, 'solver_status': 'Optimal solution is available', 'startup_costs': 1150.0, 'sum_penalties': 2208.061688777716, 'contract_value': 0.0, 'vow_in_transit': 0.0, 'bidding_penalty': 0.0, 'gate_slack_cost': 0.0, 'gate_spill_cost': 2208.047864777716, 'major_penalties': 0.0, 'market_sale_buy': -231694.42886055197, 'minor_penalties': 2208.061688777716, 'rsv_end_penalty': 0.0, 'sim_grand_total': 0.0, 'sim_rsv_penalty': 0.0, 'sum_feeding_fee': 0.0, 'creek_spill_cost': 0.0, 'reserve_sale_buy': 0.0, 'sim_rsv_end_value': 0.0, 'sim_startup_costs': 0.0, 'sum_discharge_fee': 0.0, 'reserve_slack_cost': 0.0, 'gate_discharge_cost': 0.013824000000000003, 'junction_slack_cost': 0.0, 'physical_spill_cost': 1988.864851648981, 'reserve_oblig_value': 0.0, 'rsv_ramping_penalty': 0.0, 'sim_market_sale_buy': 0.0, 'sum_ramping_penalty': 0.0, 'gate_ramping_penalty': 0.0, 'gen_schedule_penalty': 0.0, 'rsv_tactical_penalty': 0.0, 'gate_q_constr_penalty': 0.0, 'group_ramping_penalty': 0.0, 'physical_spill_volume': 0.03977729722072846, 'plant_ramping_penalty': 0.0, 'pump_schedule_penalty': 0.0, 'gate_peak_flow_penalty': 0.0, 'nonphysical_spill_cost': 219.18301312873444, 'plant_p_constr_penalty': 0.0, 'plant_q_constr_penalty': 0.0, 'plant_schedule_penalty': 0.0, 'river_max_flow_penalty': 0.0, 'river_min_flow_penalty': 0.0, 'rsv_end_value_relative': -39673449.46741104, 'rsv_hard_limit_penalty': 0.0, 'rsv_over_limit_penalty': 0.0, 'common_decision_penalty': 0.0, 'discharge_group_penalty': 0.0, 'group_time_step_penalty': 0.0, 'rsv_peak_volume_penalty': 0.0, 'rsv_spill_vol_end_value': 0.0, 'contract_ramping_penalty': 0.0, 'nonphysical_spill_volume': 0.004383660278889463, 'reserve_schedule_penalty': 0.0, 'rsv_flood_volume_penalty': 0.0, 'creek_physical_spill_cost': 0.0, 'group_time_period_penalty': 0.0, 'reserve_violation_penalty': 0.0, 'safe_mode_universal_penalty': 0.0, 'times_of_wrong_pq_uploading': 0, 'creek_nonphysical_spill_cost': 0.0, 'production_group_power_penalty': 0.0, 'discharge_group_ramping_penalty': 0.0, 'production_group_energy_penalty': 0.0}, pre_run='POWEROPS_SHOP_pre-run-10c2856f-4faf-4611-933c-81109c5072c8_aac0a96f', post_run='POWEROPS_SHOP_post-run-10c2856f-4faf-4611-933c-81109c5072c8', messages='POWEROPS_SHOP_shop-10c2856f-4faf-4611-933c-81109c5072c8', cplex_logs='POWEROPS_SHOP_cplex-10c2856f-4faf-4611-933c-81109c5072c8')"
      ]
     },
     "execution_count": 26,
     "metadata": {},
     "output_type": "execute_result"
    }
   ],
   "source": [
    "shop_result_1: ShopResult = powerops.cogshop.retrieve_shop_result(\n",
    "    result_list_1[0].external_id\n",
    ")\n",
    "shop_result_1"
   ]
  },
  {
   "cell_type": "code",
   "execution_count": 27,
   "id": "a60d8aae",
   "metadata": {},
   "outputs": [
    {
     "name": "stdout",
     "output_type": "stream",
     "text": [
      "Version identifier: 20.1.0.0 | 2020-11-10 | 9bedb6d68\n",
      "CPXPARAM_Parallel                                1\n",
      "CPXPARAM_Output_CloneLog                         -1\n",
      "CPXPARAM_Simplex_Limits_Iterations               10000000\n",
      "CPXPARAM_MIP_Interval                            100\n",
      "CPXPARAM_TimeLimit                               900\n",
      "Tried aggregator 3 times.\n",
      "MIP Presolve eliminated 2143 rows and 2060 columns.\n",
      "MIP Presolve modified 2052 coefficients.\n",
      "Aggregator did 6182 substitutions.\n",
      "\n"
     ]
    }
   ],
   "source": [
    "# Downloading one of the files to tmp directory and printing the first 10 lines\n",
    "from tempfile import TemporaryDirectory\n",
    "\n",
    "with TemporaryDirectory() as tmp_dir:\n",
    "    log_file_path = str(Path(tmp_dir) / \"log_file.log\")\n",
    "    powerops.cdf.files.download_to_path(\n",
    "        external_id=shop_result_1.cplex_logs, path=log_file_path\n",
    "    )\n",
    "    with open(log_file_path, \"r\") as log_file:\n",
    "        print(\"\".join(log_file.readlines()[:10]))"
   ]
  },
  {
   "cell_type": "markdown",
   "id": "c8e9719d",
   "metadata": {},
   "source": [
    "### Step 4 (optional): Prepare to delete created resources"
   ]
  },
  {
   "cell_type": "code",
   "execution_count": 52,
   "id": "70c2aef0",
   "metadata": {},
   "outputs": [
    {
     "data": {
      "text/plain": [
       "['shopscenario:f6e3b243ff7a4413a1c5d32a0f88eac1',\n",
       " 'shopmodel:aa8cdf7f19ef44faaf6ab3a00a7928db',\n",
       " 'shopcase:c2ca6f614a074a8ebbc93f18b64160f4',\n",
       " 'shopfile:a5045777f9894fdba74957c40404dc2a',\n",
       " 'shopfile:31229a0ace1a4c139f8d8c7be9793fb1',\n",
       " 'shop_result__10c2856f-4faf-4611-933c-81109c5072c8']"
      ]
     },
     "execution_count": 52,
     "metadata": {},
     "output_type": "execute_result"
    }
   ],
   "source": [
    "all_external_ids_1 = [\n",
    "    shop_case_1.scenario.external_id,\n",
    "    shop_case_1.scenario.model.external_id,\n",
    "    shop_case_1.external_id,\n",
    "    shop_case_1.shop_files[0].external_id,\n",
    "    shop_case_1.shop_files[1].external_id,\n",
    "    shop_result_1.external_id,\n",
    "]\n",
    "\n",
    "all_external_ids_1  # Record these for deletion"
   ]
  },
  {
   "cell_type": "markdown",
   "id": "47560244",
   "metadata": {},
   "source": [
    "## Example 2: Reusing a ShopScenario used to set shop version\n",
    "\n",
    "As mentioned in the intro Quickstart, the recommend way to run CogShop is by having a static model and use scenarios to vary configurations. \n",
    "\n",
    "However, if we know that we want to run several `ShopCases` using the same configurations, we can reuse a `ShopScenario`/`ShopModel` instead of creating several identical instances.\n",
    "\n",
    "\n",
    "1. Create a `ShopScenario` and `ShopModel` that set the desired `shop_version`. Here we will create two for demo purposes\n",
    "2. Write the `ShopScenario`(s) to CDF, and verify that we can retrieve them \n",
    "3. Set up a `ShopCase`, preparing shop file list with names and references as explained in Example 1 and Quickstart, and write them to CDF. \n",
    "4. Trigger shop executions of the `ShopCase`a  and list the `ShopResult` as in previous examples \n",
    "\n",
    "As in the previous example, we will be letting the SDK generate all external id. Again they can be "
   ]
  },
  {
   "cell_type": "markdown",
   "id": "5716566f",
   "metadata": {},
   "source": [
    "### Step 1: Create reusable ShopScenarios with ShopScenarios\n",
    "\n",
    "`ShopScenarios` and `ShopScenarios` created this way, will have several unused fields that are None. \n",
    "Again, this is due to the data models being intended to do more than just trigger a full case\n"
   ]
  },
  {
   "cell_type": "code",
   "execution_count": 11,
   "id": "35169486",
   "metadata": {},
   "outputs": [
    {
     "data": {
      "text/plain": [
       "['SHOP-15.4.1.1-pyshop-python3.11-linux.zip',\n",
       " 'SHOP-16.0.3-pyshop-python3.11-linux.zip',\n",
       " 'SHOP-16.0.2-pyshop-python3.11-linux.zip',\n",
       " 'SHOP-15.6.1.0-pyshop-python3.11-linux.zip']"
      ]
     },
     "execution_count": 11,
     "metadata": {},
     "output_type": "execute_result"
    }
   ],
   "source": [
    "# Not necessary, but we can list available files Shop Version\n",
    "powerops.cogshop.list_shop_versions()"
   ]
  },
  {
   "cell_type": "code",
   "execution_count": null,
   "id": "053e558e",
   "metadata": {},
   "outputs": [],
   "source": [
    "reusable_scenario_15_6_1_0 = powerops.cogshop.prepare_shop_scenario(\n",
    "    shop_version=\"15.6.1.0\",\n",
    "    model_name=\"shop_model_15_5_1_0\",\n",
    "    scenario_name=\"shop_scenario_15_5_1_0\",\n",
    ")\n",
    "\n",
    "reusable_scenario_16_0_3 = powerops.cogshop.prepare_shop_scenario(\n",
    "    shop_version=\"16.0.3\",\n",
    "    model_name=\"shop_model_16_0_3\",\n",
    "    scenario_name=\"shop_scenario_16_0_3\",\n",
    ")"
   ]
  },
  {
   "cell_type": "code",
   "execution_count": 13,
   "id": "454dd3db",
   "metadata": {},
   "outputs": [
    {
     "name": "stdout",
     "output_type": "stream",
     "text": [
      "Shop Scenario 15.6.1.0: 'shopscenario:c3dd9f6ccd05401bb1d1c1cccfcbadd5'\n",
      "Shop Scenario 16.0.3:   'shopscenario:d8bcee930b0d4498aabfac8a74932731'\n"
     ]
    }
   ],
   "source": [
    "# Looking at the scenarios\n",
    "print(f\"Shop Scenario 15.6.1.0: '{reusable_scenario_15_6_1_0.external_id}'\")\n",
    "print(f\"Shop Scenario 16.0.3:   '{reusable_scenario_16_0_3.external_id}'\")"
   ]
  },
  {
   "cell_type": "code",
   "execution_count": 14,
   "id": "6da33768",
   "metadata": {},
   "outputs": [
    {
     "name": "stdout",
     "output_type": "stream",
     "text": [
      "Shop Model 15.5.1.0 'shopmodel:89ac1c82e9a14d72bf8be49b41b2cf20'\n",
      "Shop Model 16.0.3   'shopmodel:7ad19bb0486343a7aa9fbabe1349a49a'\n"
     ]
    }
   ],
   "source": [
    "# Looking at the models\n",
    "reusable_scenario_16_0_3.model, reusable_scenario_15_6_1_0.model\n",
    "print(f\"Shop Model 15.5.1.0 '{reusable_scenario_15_6_1_0.model.external_id}'\")\n",
    "print(f\"Shop Model 16.0.3   '{reusable_scenario_16_0_3.model.external_id}'\")"
   ]
  },
  {
   "cell_type": "markdown",
   "id": "a1d380d7",
   "metadata": {},
   "source": [
    "### Step 2: Write the scenarios to CDF"
   ]
  },
  {
   "cell_type": "code",
   "execution_count": 15,
   "id": "0d866285",
   "metadata": {},
   "outputs": [
    {
     "data": {
      "text/plain": [
       "ResourcesWriteResult(nodes=[<NodeApplyResult(space='power_ops_instances', external_id='shopscenario:d8bcee930b0d4498aabfac8a74932731', version=1) at 0x7f1432913bd0>, <NodeApplyResult(space='power_ops_instances', external_id='shopmodel:7ad19bb0486343a7aa9fbabe1349a49a', version=1) at 0x7f143179fdd0>, <NodeApplyResult(space='power_ops_instances', external_id='shopscenario:c3dd9f6ccd05401bb1d1c1cccfcbadd5', version=1) at 0x7f143341d0d0>, <NodeApplyResult(space='power_ops_instances', external_id='shopmodel:89ac1c82e9a14d72bf8be49b41b2cf20', version=1) at 0x7f14328de850>], edges=[], time_series=[])"
      ]
     },
     "execution_count": 15,
     "metadata": {},
     "output_type": "execute_result"
    }
   ],
   "source": [
    "resources = [reusable_scenario_16_0_3, reusable_scenario_15_6_1_0]\n",
    "powerops.cogshop.write_resources(resources)"
   ]
  },
  {
   "cell_type": "markdown",
   "id": "7bb64621",
   "metadata": {},
   "source": [
    "### Step 3: Create new Shop Cases, referencing the newly created scenarios, and write them to CDF\n",
    "\n",
    "We will be reusing the files from the example above"
   ]
  },
  {
   "cell_type": "code",
   "execution_count": null,
   "id": "30b2eff6",
   "metadata": {},
   "outputs": [],
   "source": [
    "#  Files are referenced using 4-tuples with the following structure:\n",
    "# (file_reference, file_name, is_ascii, labels)\n",
    "shop_file_list = [\n",
    "    (example_case_fbu_1, example_case_fbu_1, False, \"\"),\n",
    "    # CogShop needs to know which file contains commands in the case of multiple files\n",
    "    (example_case_fbu_2, example_case_fbu_2, False, \"commands\"),\n",
    "]"
   ]
  },
  {
   "cell_type": "code",
   "execution_count": null,
   "id": "de7b2079",
   "metadata": {},
   "outputs": [
    {
     "data": {
      "text/html": [
       "<div>\n",
       "<style scoped>\n",
       "    .dataframe tbody tr th:only-of-type {\n",
       "        vertical-align: middle;\n",
       "    }\n",
       "\n",
       "    .dataframe tbody tr th {\n",
       "        vertical-align: top;\n",
       "    }\n",
       "\n",
       "    .dataframe thead th {\n",
       "        text-align: right;\n",
       "    }\n",
       "</style>\n",
       "<table border=\"1\" class=\"dataframe\">\n",
       "  <thead>\n",
       "    <tr style=\"text-align: right;\">\n",
       "      <th></th>\n",
       "      <th>value</th>\n",
       "    </tr>\n",
       "  </thead>\n",
       "  <tbody>\n",
       "    <tr>\n",
       "      <th>space</th>\n",
       "      <td>power_ops_instances</td>\n",
       "    </tr>\n",
       "    <tr>\n",
       "      <th>external_id</th>\n",
       "      <td>shopcase:c9a0bd9b939a42b38fe0d2dec1a4ca0e</td>\n",
       "    </tr>\n",
       "    <tr>\n",
       "      <th>data_record</th>\n",
       "      <td>{'existing_version': None}</td>\n",
       "    </tr>\n",
       "    <tr>\n",
       "      <th>node_type</th>\n",
       "      <td>None</td>\n",
       "    </tr>\n",
       "    <tr>\n",
       "      <th>scenario</th>\n",
       "      <td>shopscenario:c3dd9f6ccd05401bb1d1c1cccfcbadd5</td>\n",
       "    </tr>\n",
       "    <tr>\n",
       "      <th>start_time</th>\n",
       "      <td>2023-01-19 23:00:00</td>\n",
       "    </tr>\n",
       "    <tr>\n",
       "      <th>end_time</th>\n",
       "      <td>2023-01-29 23:00:00</td>\n",
       "    </tr>\n",
       "    <tr>\n",
       "      <th>shop_files</th>\n",
       "      <td>[{'space': 'power_ops_instances', 'external_id...</td>\n",
       "    </tr>\n",
       "  </tbody>\n",
       "</table>\n",
       "</div>"
      ],
      "text/plain": [
       "ShopCaseWrite(space='power_ops_instances', external_id='shopcase:c9a0bd9b939a42b38fe0d2dec1a4ca0e', data_record=DataRecordWrite(existing_version=None), node_type=None, start_time=datetime.datetime(2023, 1, 19, 23, 0), end_time=datetime.datetime(2023, 1, 29, 23, 0))"
      ]
     },
     "execution_count": 17,
     "metadata": {},
     "output_type": "execute_result"
    }
   ],
   "source": [
    "shop_case_15_6_1_0 = powerops.cogshop.prepare_shop_case_with_existing_scenario(\n",
    "    shop_file_list=shop_file_list,\n",
    "    start_time=datetime.datetime(2023, 1, 19, 23),\n",
    "    end_time=datetime.datetime(2023, 1, 29, 23),\n",
    "    scenario_external_id=reusable_scenario_15_6_1_0.external_id,  # Note that we are using the external id of the scenario\n",
    ")\n",
    "shop_case_15_6_1_0"
   ]
  },
  {
   "cell_type": "code",
   "execution_count": null,
   "id": "028de439",
   "metadata": {},
   "outputs": [
    {
     "data": {
      "text/html": [
       "<div>\n",
       "<style scoped>\n",
       "    .dataframe tbody tr th:only-of-type {\n",
       "        vertical-align: middle;\n",
       "    }\n",
       "\n",
       "    .dataframe tbody tr th {\n",
       "        vertical-align: top;\n",
       "    }\n",
       "\n",
       "    .dataframe thead th {\n",
       "        text-align: right;\n",
       "    }\n",
       "</style>\n",
       "<table border=\"1\" class=\"dataframe\">\n",
       "  <thead>\n",
       "    <tr style=\"text-align: right;\">\n",
       "      <th></th>\n",
       "      <th>value</th>\n",
       "    </tr>\n",
       "  </thead>\n",
       "  <tbody>\n",
       "    <tr>\n",
       "      <th>space</th>\n",
       "      <td>power_ops_instances</td>\n",
       "    </tr>\n",
       "    <tr>\n",
       "      <th>external_id</th>\n",
       "      <td>shopcase:d8fba53cacb14c8680b680dca88735b9</td>\n",
       "    </tr>\n",
       "    <tr>\n",
       "      <th>data_record</th>\n",
       "      <td>{'existing_version': None}</td>\n",
       "    </tr>\n",
       "    <tr>\n",
       "      <th>node_type</th>\n",
       "      <td>None</td>\n",
       "    </tr>\n",
       "    <tr>\n",
       "      <th>scenario</th>\n",
       "      <td>shopscenario:d8bcee930b0d4498aabfac8a74932731</td>\n",
       "    </tr>\n",
       "    <tr>\n",
       "      <th>start_time</th>\n",
       "      <td>2023-01-19 23:00:00</td>\n",
       "    </tr>\n",
       "    <tr>\n",
       "      <th>end_time</th>\n",
       "      <td>2023-01-29 23:00:00</td>\n",
       "    </tr>\n",
       "    <tr>\n",
       "      <th>shop_files</th>\n",
       "      <td>[{'space': 'power_ops_instances', 'external_id...</td>\n",
       "    </tr>\n",
       "  </tbody>\n",
       "</table>\n",
       "</div>"
      ],
      "text/plain": [
       "ShopCaseWrite(space='power_ops_instances', external_id='shopcase:d8fba53cacb14c8680b680dca88735b9', data_record=DataRecordWrite(existing_version=None), node_type=None, start_time=datetime.datetime(2023, 1, 19, 23, 0), end_time=datetime.datetime(2023, 1, 29, 23, 0))"
      ]
     },
     "execution_count": 18,
     "metadata": {},
     "output_type": "execute_result"
    }
   ],
   "source": [
    "shop_case_16_0_3 = powerops.cogshop.prepare_shop_case_with_existing_scenario(\n",
    "    shop_file_list=shop_file_list,\n",
    "    start_time=datetime.datetime(2023, 1, 19, 23),\n",
    "    end_time=datetime.datetime(2023, 1, 29, 23),\n",
    "    scenario_external_id=reusable_scenario_16_0_3.external_id,  # Note that this is the external id of the scenario\n",
    ")\n",
    "shop_case_16_0_3"
   ]
  },
  {
   "cell_type": "code",
   "execution_count": null,
   "id": "be9a51e7",
   "metadata": {},
   "outputs": [
    {
     "data": {
      "text/plain": [
       "ResourcesWriteResult(nodes=[<NodeApplyResult(space='power_ops_instances', external_id='shopcase:c9a0bd9b939a42b38fe0d2dec1a4ca0e', version=1) at 0x7f1431789b10>, <NodeApplyResult(space='power_ops_instances', external_id='shopfile:6c6347cd108843c7b2c9d000e8abbcd7', version=1) at 0x7f14317899d0>, <NodeApplyResult(space='power_ops_instances', external_id='shopfile:aad544cb614a476d8c8b9732458f1f88', version=1) at 0x7f143178bd10>, <NodeApplyResult(space='power_ops_instances', external_id='shopcase:d8fba53cacb14c8680b680dca88735b9', version=1) at 0x7f143178bed0>, <NodeApplyResult(space='power_ops_instances', external_id='shopfile:fdb3e6b4c7474d22a380cecde1d9ae83', version=1) at 0x7f143178bf10>, <NodeApplyResult(space='power_ops_instances', external_id='shopfile:d71c405233584d99aa5965e089f1bd79', version=1) at 0x7f143178b010>], edges=[<EdgeApplyResult(space='power_ops_instances', external_id='shopcase:c9a0bd9b939a42b38fe0d2dec1a4ca0e:shopfile:6c6347cd108843c7b2c9d000e8abbcd7', version=1) at 0x7f143178b2d0>, <EdgeApplyResult(space='power_ops_instances', external_id='shopcase:c9a0bd9b939a42b38fe0d2dec1a4ca0e:shopfile:aad544cb614a476d8c8b9732458f1f88', version=1) at 0x7f143178bfd0>, <EdgeApplyResult(space='power_ops_instances', external_id='shopcase:d8fba53cacb14c8680b680dca88735b9:shopfile:fdb3e6b4c7474d22a380cecde1d9ae83', version=1) at 0x7f1431788a10>, <EdgeApplyResult(space='power_ops_instances', external_id='shopcase:d8fba53cacb14c8680b680dca88735b9:shopfile:d71c405233584d99aa5965e089f1bd79', version=1) at 0x7f143178a9d0>], time_series=[])"
      ]
     },
     "execution_count": 19,
     "metadata": {},
     "output_type": "execute_result"
    }
   ],
   "source": [
    "resources = [shop_case_15_6_1_0, shop_case_16_0_3]\n",
    "powerops.cogshop.write_resources(resources)"
   ]
  },
  {
   "cell_type": "markdown",
   "id": "f18ab463",
   "metadata": {},
   "source": [
    "### Step 4: Trigger Shop Executions and inspect results"
   ]
  },
  {
   "cell_type": "code",
   "execution_count": 20,
   "id": "94394b96",
   "metadata": {},
   "outputs": [],
   "source": [
    "powerops.cogshop.trigger_shop_case(shop_case_15_6_1_0.external_id)\n",
    "powerops.cogshop.trigger_shop_case(shop_case_16_0_3.external_id)"
   ]
  },
  {
   "cell_type": "markdown",
   "id": "1b206d2b",
   "metadata": {},
   "source": [
    "\n",
    "Note that it may take a while to run (Cog)Shop. \n",
    "If the run is not completed then no results are returned. \n",
    "If a result is returned, but several values are `None` (namely `post run`, `messages`, `cplex`), it can be assumed that the run failed.\n"
   ]
  },
  {
   "cell_type": "code",
   "execution_count": null,
   "id": "966b266c",
   "metadata": {},
   "outputs": [
    {
     "name": "stdout",
     "output_type": "stream",
     "text": [
      "There is/are 1 result(s) for the case 'shopcase:c9a0bd9b939a42b38fe0d2dec1a4ca0e'\n"
     ]
    }
   ],
   "source": [
    "result_list_15_5_1_0: ShopResultList = powerops.cogshop.list_shop_results_for_case(\n",
    "    case_external_id=shop_case_15_6_1_0.external_id\n",
    ")\n",
    "print(\n",
    "    f\"There is/are {len(result_list_15_5_1_0)} result(s) for the case '{shop_case_15_6_1_0.external_id}'\"\n",
    ")"
   ]
  },
  {
   "cell_type": "code",
   "execution_count": 46,
   "id": "b652c546",
   "metadata": {},
   "outputs": [
    {
     "data": {
      "text/html": [
       "<div>\n",
       "<style scoped>\n",
       "    .dataframe tbody tr th:only-of-type {\n",
       "        vertical-align: middle;\n",
       "    }\n",
       "\n",
       "    .dataframe tbody tr th {\n",
       "        vertical-align: top;\n",
       "    }\n",
       "\n",
       "    .dataframe thead th {\n",
       "        text-align: right;\n",
       "    }\n",
       "</style>\n",
       "<table border=\"1\" class=\"dataframe\">\n",
       "  <thead>\n",
       "    <tr style=\"text-align: right;\">\n",
       "      <th></th>\n",
       "      <th>value</th>\n",
       "    </tr>\n",
       "  </thead>\n",
       "  <tbody>\n",
       "    <tr>\n",
       "      <th>space</th>\n",
       "      <td>power_ops_instances</td>\n",
       "    </tr>\n",
       "    <tr>\n",
       "      <th>external_id</th>\n",
       "      <td>shop_result__dad2fb07-ad9c-452a-86b5-febab8dc4966</td>\n",
       "    </tr>\n",
       "    <tr>\n",
       "      <th>data_record</th>\n",
       "      <td>{'version': 1, 'last_updated_time': 2024-11-11...</td>\n",
       "    </tr>\n",
       "    <tr>\n",
       "      <th>node_type</th>\n",
       "      <td>None</td>\n",
       "    </tr>\n",
       "    <tr>\n",
       "      <th>case</th>\n",
       "      <td>shopcase:c9a0bd9b939a42b38fe0d2dec1a4ca0e</td>\n",
       "    </tr>\n",
       "    <tr>\n",
       "      <th>objective_value</th>\n",
       "      <td>{'total': -19927822739.279236, 'load_value': 0...</td>\n",
       "    </tr>\n",
       "    <tr>\n",
       "      <th>pre_run</th>\n",
       "      <td>POWEROPS_SHOP_pre-run-dad2fb07-ad9c-452a-86b5-...</td>\n",
       "    </tr>\n",
       "    <tr>\n",
       "      <th>post_run</th>\n",
       "      <td>POWEROPS_SHOP_post-run-dad2fb07-ad9c-452a-86b5...</td>\n",
       "    </tr>\n",
       "    <tr>\n",
       "      <th>messages</th>\n",
       "      <td>POWEROPS_SHOP_shop-dad2fb07-ad9c-452a-86b5-feb...</td>\n",
       "    </tr>\n",
       "    <tr>\n",
       "      <th>cplex_logs</th>\n",
       "      <td>POWEROPS_SHOP_cplex-dad2fb07-ad9c-452a-86b5-fe...</td>\n",
       "    </tr>\n",
       "    <tr>\n",
       "      <th>alerts</th>\n",
       "      <td>[shop_penalty_report_shop_scenario_15_5_1_0_20...</td>\n",
       "    </tr>\n",
       "    <tr>\n",
       "      <th>output_time_series</th>\n",
       "      <td>None</td>\n",
       "    </tr>\n",
       "  </tbody>\n",
       "</table>\n",
       "</div>"
      ],
      "text/plain": [
       "ShopResult(space='power_ops_instances', external_id='shop_result__dad2fb07-ad9c-452a-86b5-febab8dc4966', data_record=DataRecord(version=1, last_updated_time=datetime.datetime(2024, 11, 11, 14, 23, 46, 882000, tzinfo=TzInfo(UTC)), created_time=datetime.datetime(2024, 11, 11, 14, 23, 46, 882000, tzinfo=TzInfo(UTC)), deleted_time=None), node_type=None, objective_value={'total': -19927822739.279236, 'load_value': 0.0, 'bypass_cost': 0.0, 'grand_total': -19927820531.21755, 'rsv_penalty': 0.0, 'load_penalty': 0.0, 'thermal_cost': 0.0, 'rsv_end_value': -19927592194.850376, 'solver_status': 'Optimal solution is available', 'startup_costs': 1150.0, 'sum_penalties': 2208.061688777716, 'contract_value': 0.0, 'vow_in_transit': 0.0, 'bidding_penalty': 0.0, 'gate_slack_cost': 0.0, 'gate_spill_cost': 2208.047864777716, 'major_penalties': 0.0, 'market_sale_buy': -231694.42886055197, 'minor_penalties': 2208.061688777716, 'rsv_end_penalty': 0.0, 'sim_grand_total': 0.0, 'sim_rsv_penalty': 0.0, 'sum_feeding_fee': 0.0, 'creek_spill_cost': 0.0, 'reserve_sale_buy': 0.0, 'sim_rsv_end_value': 0.0, 'sim_startup_costs': 0.0, 'sum_discharge_fee': 0.0, 'reserve_slack_cost': 0.0, 'gate_discharge_cost': 0.013824000000000003, 'junction_slack_cost': 0.0, 'physical_spill_cost': 1988.864851648981, 'reserve_oblig_value': 0.0, 'rsv_ramping_penalty': 0.0, 'sim_market_sale_buy': 0.0, 'sum_ramping_penalty': 0.0, 'gate_ramping_penalty': 0.0, 'gen_schedule_penalty': 0.0, 'rsv_tactical_penalty': 0.0, 'gate_q_constr_penalty': 0.0, 'group_ramping_penalty': 0.0, 'physical_spill_volume': 0.03977729722072846, 'plant_ramping_penalty': 0.0, 'pump_schedule_penalty': 0.0, 'gate_peak_flow_penalty': 0.0, 'nonphysical_spill_cost': 219.18301312873444, 'plant_p_constr_penalty': 0.0, 'plant_q_constr_penalty': 0.0, 'plant_schedule_penalty': 0.0, 'river_max_flow_penalty': 0.0, 'river_min_flow_penalty': 0.0, 'rsv_end_value_relative': -39673449.46741104, 'rsv_hard_limit_penalty': 0.0, 'rsv_over_limit_penalty': 0.0, 'common_decision_penalty': 0.0, 'discharge_group_penalty': 0.0, 'group_time_step_penalty': 0.0, 'rsv_peak_volume_penalty': 0.0, 'rsv_spill_vol_end_value': 0.0, 'contract_ramping_penalty': 0.0, 'nonphysical_spill_volume': 0.004383660278889463, 'reserve_schedule_penalty': 0.0, 'rsv_flood_volume_penalty': 0.0, 'creek_physical_spill_cost': 0.0, 'group_time_period_penalty': 0.0, 'reserve_violation_penalty': 0.0, 'safe_mode_universal_penalty': 0.0, 'times_of_wrong_pq_uploading': 0, 'creek_nonphysical_spill_cost': 0.0, 'production_group_power_penalty': 0.0, 'discharge_group_ramping_penalty': 0.0, 'production_group_energy_penalty': 0.0}, pre_run='POWEROPS_SHOP_pre-run-dad2fb07-ad9c-452a-86b5-febab8dc4966_aac0a96f', post_run='POWEROPS_SHOP_post-run-dad2fb07-ad9c-452a-86b5-febab8dc4966', messages='POWEROPS_SHOP_shop-dad2fb07-ad9c-452a-86b5-febab8dc4966', cplex_logs='POWEROPS_SHOP_cplex-dad2fb07-ad9c-452a-86b5-febab8dc4966')"
      ]
     },
     "execution_count": 46,
     "metadata": {},
     "output_type": "execute_result"
    }
   ],
   "source": [
    "shop_result_15_6_1_0: ShopResult = powerops.cogshop.retrieve_shop_result(\n",
    "    result_list_15_5_1_0[0].external_id\n",
    ")\n",
    "shop_result_15_6_1_0"
   ]
  },
  {
   "cell_type": "code",
   "execution_count": null,
   "id": "05c72af7",
   "metadata": {},
   "outputs": [
    {
     "name": "stdout",
     "output_type": "stream",
     "text": [
      "There is/are 1 result(s) for the case 'shopcase:d8fba53cacb14c8680b680dca88735b9'\n"
     ]
    }
   ],
   "source": [
    "result_list_16_0_3: ShopResultList = powerops.cogshop.list_shop_result_graphql(\n",
    "    case_external_id=shop_case_16_0_3.external_id, limit=1\n",
    ")\n",
    "print(\n",
    "    f\"There is/are {len(result_list_16_0_3)} result(s) for the case '{shop_case_16_0_3.external_id}'\"\n",
    ")"
   ]
  },
  {
   "cell_type": "code",
   "execution_count": null,
   "id": "ba9a2052",
   "metadata": {},
   "outputs": [
    {
     "data": {
      "text/html": [
       "<div>\n",
       "<style scoped>\n",
       "    .dataframe tbody tr th:only-of-type {\n",
       "        vertical-align: middle;\n",
       "    }\n",
       "\n",
       "    .dataframe tbody tr th {\n",
       "        vertical-align: top;\n",
       "    }\n",
       "\n",
       "    .dataframe thead th {\n",
       "        text-align: right;\n",
       "    }\n",
       "</style>\n",
       "<table border=\"1\" class=\"dataframe\">\n",
       "  <thead>\n",
       "    <tr style=\"text-align: right;\">\n",
       "      <th></th>\n",
       "      <th>value</th>\n",
       "    </tr>\n",
       "  </thead>\n",
       "  <tbody>\n",
       "    <tr>\n",
       "      <th>space</th>\n",
       "      <td>power_ops_instances</td>\n",
       "    </tr>\n",
       "    <tr>\n",
       "      <th>external_id</th>\n",
       "      <td>shop_result__188be846-2f0c-413a-b8ee-53cc52aef72b</td>\n",
       "    </tr>\n",
       "    <tr>\n",
       "      <th>data_record</th>\n",
       "      <td>{'version': 1, 'last_updated_time': 2024-11-11...</td>\n",
       "    </tr>\n",
       "    <tr>\n",
       "      <th>node_type</th>\n",
       "      <td>None</td>\n",
       "    </tr>\n",
       "    <tr>\n",
       "      <th>case</th>\n",
       "      <td>shopcase:d8fba53cacb14c8680b680dca88735b9</td>\n",
       "    </tr>\n",
       "    <tr>\n",
       "      <th>objective_value</th>\n",
       "      <td>{'total': -19927822739.279236, 'load_value': 0...</td>\n",
       "    </tr>\n",
       "    <tr>\n",
       "      <th>pre_run</th>\n",
       "      <td>POWEROPS_SHOP_pre-run-188be846-2f0c-413a-b8ee-...</td>\n",
       "    </tr>\n",
       "    <tr>\n",
       "      <th>post_run</th>\n",
       "      <td>POWEROPS_SHOP_post-run-188be846-2f0c-413a-b8ee...</td>\n",
       "    </tr>\n",
       "    <tr>\n",
       "      <th>messages</th>\n",
       "      <td>POWEROPS_SHOP_shop-188be846-2f0c-413a-b8ee-53c...</td>\n",
       "    </tr>\n",
       "    <tr>\n",
       "      <th>cplex_logs</th>\n",
       "      <td>POWEROPS_SHOP_cplex-188be846-2f0c-413a-b8ee-53...</td>\n",
       "    </tr>\n",
       "    <tr>\n",
       "      <th>alerts</th>\n",
       "      <td>[shop_penalty_report_shop_scenario_16_0_3_2023...</td>\n",
       "    </tr>\n",
       "    <tr>\n",
       "      <th>output_time_series</th>\n",
       "      <td>None</td>\n",
       "    </tr>\n",
       "  </tbody>\n",
       "</table>\n",
       "</div>"
      ],
      "text/plain": [
       "ShopResult(space='power_ops_instances', external_id='shop_result__188be846-2f0c-413a-b8ee-53cc52aef72b', data_record=DataRecord(version=1, last_updated_time=datetime.datetime(2024, 11, 11, 14, 24, 27, 141000, tzinfo=TzInfo(UTC)), created_time=datetime.datetime(2024, 11, 11, 14, 24, 27, 141000, tzinfo=TzInfo(UTC)), deleted_time=None), node_type=None, objective_value={'total': -19927822739.279236, 'load_value': 0.0, 'bypass_cost': 0.0, 'grand_total': -19927820531.21755, 'rsv_penalty': 0.0, 'load_penalty': 0.0, 'thermal_cost': 0.0, 'rsv_end_value': -19927592194.850376, 'solver_status': 'Optimal solution is available', 'startup_costs': 1150.0, 'sum_penalties': 2208.061688777716, 'contract_value': 0.0, 'vow_in_transit': 0.0, 'bidding_penalty': 0.0, 'gate_slack_cost': 0.0, 'gate_spill_cost': 2208.047864777716, 'major_penalties': 0.0, 'market_sale_buy': -231694.42886055197, 'minor_penalties': 2208.061688777716, 'rsv_end_penalty': 0.0, 'sim_grand_total': 0.0, 'sim_rsv_penalty': 0.0, 'sum_feeding_fee': 0.0, 'creek_spill_cost': 0.0, 'reserve_sale_buy': 0.0, 'sim_rsv_end_value': 0.0, 'sim_startup_costs': 0.0, 'sum_discharge_fee': 0.0, 'reserve_slack_cost': 0.0, 'gate_discharge_cost': 0.013824000000000003, 'junction_slack_cost': 0.0, 'physical_spill_cost': 1988.864851648981, 'reserve_oblig_value': 0.0, 'rsv_ramping_penalty': 0.0, 'sim_market_sale_buy': 0.0, 'sum_ramping_penalty': 0.0, 'gate_ramping_penalty': 0.0, 'gen_schedule_penalty': 0.0, 'rsv_tactical_penalty': 0.0, 'gate_q_constr_penalty': 0.0, 'group_ramping_penalty': 0.0, 'physical_spill_volume': 0.03977729722072846, 'plant_ramping_penalty': 0.0, 'pump_schedule_penalty': 0.0, 'gate_peak_flow_penalty': 0.0, 'nonphysical_spill_cost': 219.18301312873444, 'plant_p_constr_penalty': 0.0, 'plant_q_constr_penalty': 0.0, 'plant_schedule_penalty': 0.0, 'river_max_flow_penalty': 0.0, 'river_min_flow_penalty': 0.0, 'rsv_end_value_relative': -39673449.46741104, 'rsv_hard_limit_penalty': 0.0, 'rsv_over_limit_penalty': 0.0, 'common_decision_penalty': 0.0, 'discharge_group_penalty': 0.0, 'group_time_step_penalty': 0.0, 'rsv_peak_volume_penalty': 0.0, 'rsv_spill_vol_end_value': 0.0, 'contract_ramping_penalty': 0.0, 'nonphysical_spill_volume': 0.004383660278889463, 'reserve_schedule_penalty': 0.0, 'rsv_flood_volume_penalty': 0.0, 'creek_physical_spill_cost': 0.0, 'group_time_period_penalty': 0.0, 'reserve_violation_penalty': 0.0, 'safe_mode_universal_penalty': 0.0, 'times_of_wrong_pq_uploading': 0, 'creek_nonphysical_spill_cost': 0.0, 'production_group_power_penalty': 0.0, 'discharge_group_ramping_penalty': 0.0, 'production_group_energy_penalty': 0.0}, pre_run='POWEROPS_SHOP_pre-run-188be846-2f0c-413a-b8ee-53cc52aef72b_64429c82', post_run='POWEROPS_SHOP_post-run-188be846-2f0c-413a-b8ee-53cc52aef72b', messages='POWEROPS_SHOP_shop-188be846-2f0c-413a-b8ee-53cc52aef72b', cplex_logs='POWEROPS_SHOP_cplex-188be846-2f0c-413a-b8ee-53cc52aef72b')"
      ]
     },
     "execution_count": 48,
     "metadata": {},
     "output_type": "execute_result"
    }
   ],
   "source": [
    "shop_result_16_0_3: ShopResult = powerops.cogshop.retrieve_shop_result(\n",
    "    result_list_16_0_3[0].external_id\n",
    ")\n",
    "shop_result_16_0_3"
   ]
  },
  {
   "cell_type": "markdown",
   "id": "4b52652c",
   "metadata": {},
   "source": [
    "### Step 5 (optional): Prepare to delete created resources"
   ]
  },
  {
   "cell_type": "code",
   "execution_count": null,
   "id": "58af1386",
   "metadata": {},
   "outputs": [
    {
     "data": {
      "text/plain": [
       "['shopscenario:c3dd9f6ccd05401bb1d1c1cccfcbadd5',\n",
       " 'shopmodel:89ac1c82e9a14d72bf8be49b41b2cf20',\n",
       " 'shopscenario:d8bcee930b0d4498aabfac8a74932731',\n",
       " 'shopmodel:7ad19bb0486343a7aa9fbabe1349a49a',\n",
       " 'shopcase:c9a0bd9b939a42b38fe0d2dec1a4ca0e',\n",
       " 'shopfile:6c6347cd108843c7b2c9d000e8abbcd7',\n",
       " 'shopfile:aad544cb614a476d8c8b9732458f1f88',\n",
       " 'shopcase:d8fba53cacb14c8680b680dca88735b9',\n",
       " 'shopfile:fdb3e6b4c7474d22a380cecde1d9ae83',\n",
       " 'shopfile:d71c405233584d99aa5965e089f1bd79',\n",
       " 'shop_result__dad2fb07-ad9c-452a-86b5-febab8dc4966',\n",
       " 'shop_result__188be846-2f0c-413a-b8ee-53cc52aef72b']"
      ]
     },
     "execution_count": 54,
     "metadata": {},
     "output_type": "execute_result"
    }
   ],
   "source": [
    "all_external_ids_2 = [ \n",
    "    reusable_scenario_15_6_1_0.external_id,\n",
    "    reusable_scenario_15_6_1_0.model.external_id,\n",
    "    reusable_scenario_16_0_3.external_id,\n",
    "    reusable_scenario_16_0_3.model.external_id,\n",
    "\n",
    "    shop_case_15_6_1_0.external_id,\n",
    "    shop_case_15_6_1_0.shop_files[0].external_id,\n",
    "    shop_case_15_6_1_0.shop_files[1].external_id,\n",
    "    \n",
    "    shop_case_16_0_3.external_id,\n",
    "    shop_case_16_0_3.shop_files[0].external_id,\n",
    "    shop_case_16_0_3.shop_files[1].external_id,\n",
    "    \n",
    "    shop_result_15_6_1_0.external_id,\n",
    "    shop_result_16_0_3.external_id,\n",
    "\n",
    "]\n",
    "all_external_ids_2 # Record these for deletion"
   ]
  },
  {
   "cell_type": "markdown",
   "id": "ef00ba2e",
   "metadata": {},
   "source": [
    "## Cleaning up the instances that were created\n",
    "\n",
    "Instances can be deleted by using the powerops client and the `external_id`s of everything we have created "
   ]
  },
  {
   "cell_type": "code",
   "execution_count": 55,
   "id": "fbca0a3d",
   "metadata": {},
   "outputs": [
    {
     "data": {
      "text/plain": [
       "['shopscenario:f6e3b243ff7a4413a1c5d32a0f88eac1',\n",
       " 'shopmodel:aa8cdf7f19ef44faaf6ab3a00a7928db',\n",
       " 'shopcase:c2ca6f614a074a8ebbc93f18b64160f4',\n",
       " 'shopfile:a5045777f9894fdba74957c40404dc2a',\n",
       " 'shopfile:31229a0ace1a4c139f8d8c7be9793fb1',\n",
       " 'shop_result__10c2856f-4faf-4611-933c-81109c5072c8',\n",
       " 'shopscenario:c3dd9f6ccd05401bb1d1c1cccfcbadd5',\n",
       " 'shopmodel:89ac1c82e9a14d72bf8be49b41b2cf20',\n",
       " 'shopscenario:d8bcee930b0d4498aabfac8a74932731',\n",
       " 'shopmodel:7ad19bb0486343a7aa9fbabe1349a49a',\n",
       " 'shopcase:c9a0bd9b939a42b38fe0d2dec1a4ca0e',\n",
       " 'shopfile:6c6347cd108843c7b2c9d000e8abbcd7',\n",
       " 'shopfile:aad544cb614a476d8c8b9732458f1f88',\n",
       " 'shopcase:d8fba53cacb14c8680b680dca88735b9',\n",
       " 'shopfile:fdb3e6b4c7474d22a380cecde1d9ae83',\n",
       " 'shopfile:d71c405233584d99aa5965e089f1bd79',\n",
       " 'shop_result__dad2fb07-ad9c-452a-86b5-febab8dc4966',\n",
       " 'shop_result__188be846-2f0c-413a-b8ee-53cc52aef72b']"
      ]
     },
     "execution_count": 55,
     "metadata": {},
     "output_type": "execute_result"
    }
   ],
   "source": [
    "all_external_ids = all_external_ids_1 + all_external_ids_2\n",
    "all_external_ids"
   ]
  },
  {
   "cell_type": "code",
   "execution_count": 56,
   "id": "c9204f9d",
   "metadata": {},
   "outputs": [
    {
     "data": {
      "text/plain": [
       "InstancesDeleteResult(nodes=[NodeId(space='power_ops_instances', external_id='shopscenario:f6e3b243ff7a4413a1c5d32a0f88eac1'), NodeId(space='power_ops_instances', external_id='shopmodel:aa8cdf7f19ef44faaf6ab3a00a7928db'), NodeId(space='power_ops_instances', external_id='shopcase:c2ca6f614a074a8ebbc93f18b64160f4'), NodeId(space='power_ops_instances', external_id='shopfile:a5045777f9894fdba74957c40404dc2a'), NodeId(space='power_ops_instances', external_id='shopfile:31229a0ace1a4c139f8d8c7be9793fb1'), NodeId(space='power_ops_instances', external_id='shop_result__10c2856f-4faf-4611-933c-81109c5072c8'), NodeId(space='power_ops_instances', external_id='shopscenario:c3dd9f6ccd05401bb1d1c1cccfcbadd5'), NodeId(space='power_ops_instances', external_id='shopmodel:89ac1c82e9a14d72bf8be49b41b2cf20'), NodeId(space='power_ops_instances', external_id='shopscenario:d8bcee930b0d4498aabfac8a74932731'), NodeId(space='power_ops_instances', external_id='shopmodel:7ad19bb0486343a7aa9fbabe1349a49a'), NodeId(space='power_ops_instances', external_id='shopcase:c9a0bd9b939a42b38fe0d2dec1a4ca0e'), NodeId(space='power_ops_instances', external_id='shopfile:6c6347cd108843c7b2c9d000e8abbcd7'), NodeId(space='power_ops_instances', external_id='shopfile:aad544cb614a476d8c8b9732458f1f88'), NodeId(space='power_ops_instances', external_id='shopcase:d8fba53cacb14c8680b680dca88735b9'), NodeId(space='power_ops_instances', external_id='shopfile:fdb3e6b4c7474d22a380cecde1d9ae83'), NodeId(space='power_ops_instances', external_id='shopfile:d71c405233584d99aa5965e089f1bd79'), NodeId(space='power_ops_instances', external_id='shop_result__dad2fb07-ad9c-452a-86b5-febab8dc4966'), NodeId(space='power_ops_instances', external_id='shop_result__188be846-2f0c-413a-b8ee-53cc52aef72b')], edges=[])"
      ]
     },
     "execution_count": 56,
     "metadata": {},
     "output_type": "execute_result"
    }
   ],
   "source": [
    "powerops.v1.delete(external_id=all_external_ids)"
   ]
  }
 ],
 "metadata": {
  "kernelspec": {
   "display_name": ".venv",
   "language": "python",
   "name": "python3"
  },
  "language_info": {
   "codemirror_mode": {
    "name": "ipython",
    "version": 3
   },
   "file_extension": ".py",
   "mimetype": "text/x-python",
   "name": "python",
   "nbconvert_exporter": "python",
   "pygments_lexer": "ipython3",
   "version": "3.11.3"
  }
 },
 "nbformat": 4,
 "nbformat_minor": 5
}
