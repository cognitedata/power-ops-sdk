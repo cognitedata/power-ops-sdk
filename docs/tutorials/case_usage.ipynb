{
 "cells": [
  {
   "cell_type": "code",
   "execution_count": null,
   "id": "11dc8e6d-e5a1-4b01-bbf0-0ad338ed23e7",
   "metadata": {
    "ExecuteTime": {
     "end_time": "2023-10-27T18:44:05.811715Z",
     "start_time": "2023-10-27T18:44:03.554437Z"
    }
   },
   "outputs": [],
   "source": [
    "import os\n",
    "import tempfile\n",
    "from pprint import pprint\n",
    "\n",
    "from cognite.powerops import PowerOpsClient\n",
    "from cognite.powerops.client.shop.data_classes.shop_case import SHOPCase"
   ]
  },
  {
   "cell_type": "code",
   "execution_count": null,
   "id": "2036d4f1-70cf-45f6-9b84-6fdfb6bc43a5",
   "metadata": {
    "ExecuteTime": {
     "end_time": "2023-10-27T18:44:06.618947Z",
     "start_time": "2023-10-27T18:44:05.801916Z"
    }
   },
   "outputs": [],
   "source": [
    "# You can control which setting files are loaded through the environmental variable below. \n",
    "# In this case, the setting files are located two levels above.\n",
    "os.environ[\"SETTINGS_FILES\"] = \"../../settings.toml;../../.secrets.toml\"\n",
    "\n",
    "powerops = PowerOpsClient.from_settings()"
   ]
  },
  {
   "cell_type": "code",
   "execution_count": null,
   "id": "44b8f0b5-1356-491d-94f0-cdfdd4bca294",
   "metadata": {
    "ExecuteTime": {
     "end_time": "2023-10-27T18:44:07.082112Z",
     "start_time": "2023-10-27T18:44:06.601265Z"
    }
   },
   "outputs": [],
   "source": [
    "# We will be downloading files, need a folder.\n",
    "# Using tempfile package here, but setting the value to a folder of your choice is also fine.\n",
    "tmp_dir = tempfile.mkdtemp(prefix=\"power-ops-sdk-usage\")\n",
    "\n",
    "# Get a file.\n",
    "file_meta = powerops.cdf.files.retrieve(external_id=\"SHOP_Fornebu_model\")\n",
    "powerops.cdf.files.download(directory=tmp_dir, external_id=\"SHOP_Fornebu_model\")\n",
    "case_file = os.path.join(tmp_dir, file_meta.name)\n",
    "\n",
    "# Create a new case and load the case file.\n",
    "case = SHOPCase(file_path=case_file)\n"
   ]
  },
  {
   "cell_type": "code",
   "execution_count": null,
   "id": "d7e6bc5ec3bdd4d",
   "metadata": {
    "ExecuteTime": {
     "end_time": "2023-10-27T18:44:07.083788Z",
     "start_time": "2023-10-27T18:44:07.077689Z"
    },
    "collapsed": false,
    "jupyter": {
     "outputs_hidden": false
    }
   },
   "outputs": [],
   "source": [
    "# Get a value.\n",
    "case.data[\"model\"][\"creek_intake\"][\"Golebiowski_intake\"][\"net_head\"]"
   ]
  },
  {
   "cell_type": "code",
   "execution_count": null,
   "id": "26b3e54e-4c6d-4f47-82b9-16b965788912",
   "metadata": {
    "ExecuteTime": {
     "end_time": "2023-10-27T18:44:07.091625Z",
     "start_time": "2023-10-27T18:44:07.085547Z"
    }
   },
   "outputs": [],
   "source": [
    "# Get a list.\n",
    "case.data[\"model\"][\"generator\"][\"Holen_G1\"][\"gen_eff_curve\"][\"y\"]"
   ]
  },
  {
   "cell_type": "code",
   "execution_count": null,
   "id": "2a6a556b1621bb5c",
   "metadata": {
    "ExecuteTime": {
     "end_time": "2023-10-27T18:44:07.133994Z",
     "start_time": "2023-10-27T18:44:07.092601Z"
    },
    "collapsed": false,
    "jupyter": {
     "outputs_hidden": false
    }
   },
   "outputs": [],
   "source": [
    "# Modify a list: reduce efficiency of a gen_eff_curve by 10\n",
    "current_values = case.data[\"model\"][\"generator\"][\"Holen_G1\"][\"gen_eff_curve\"][\"y\"]\n",
    "new_values = [val - 10 for val in current_values]\n",
    "case.data[\"model\"][\"generator\"][\"Holen_G1\"][\"gen_eff_curve\"][\"y\"] = new_values\n",
    "# inspect new values:\n",
    "print(case.data[\"model\"][\"generator\"][\"Holen_G1\"][\"gen_eff_curve\"][\"y\"])"
   ]
  },
  {
   "cell_type": "code",
   "execution_count": null,
   "id": "3461fba8dd7c6c5e",
   "metadata": {
    "ExecuteTime": {
     "end_time": "2023-10-27T18:44:07.187682Z",
     "start_time": "2023-10-27T18:44:07.098945Z"
    },
    "collapsed": false,
    "jupyter": {
     "outputs_hidden": false
    }
   },
   "outputs": [],
   "source": [
    "# Export to a new YAML file.\n",
    "edited_case_file_path = os.path.join(tmp_dir, \"edited_case.yaml\")\n",
    "case.save_yaml(edited_case_file_path)"
   ]
  },
  {
   "cell_type": "code",
   "execution_count": null,
   "id": "e243d44588683c05",
   "metadata": {
    "ExecuteTime": {
     "end_time": "2023-10-27T18:44:07.333269Z",
     "start_time": "2023-10-27T18:44:07.159604Z"
    },
    "collapsed": false,
    "jupyter": {
     "outputs_hidden": false
    }
   },
   "outputs": [],
   "source": [
    "# Just for demo: load that exported YAML file and check the edited curve.\n",
    "case2 = SHOPCase(file_path=edited_case_file_path)\n",
    "pprint(case2.data[\"model\"][\"generator\"][\"Holen_G1\"][\"gen_eff_curve\"])"
   ]
  },
  {
   "cell_type": "markdown",
   "id": "e0fa58f90b788feb",
   "metadata": {
    "collapsed": false,
    "jupyter": {
     "outputs_hidden": false
    }
   },
   "source": [
    "End of notebook."
   ]
  }
 ],
 "metadata": {
  "kernelspec": {
   "display_name": "Python 3 (ipykernel)",
   "language": "python",
   "name": "python3"
  },
  "language_info": {
   "codemirror_mode": {
    "name": "ipython",
    "version": 3
   },
   "file_extension": ".py",
   "mimetype": "text/x-python",
   "name": "python",
   "nbconvert_exporter": "python",
   "pygments_lexer": "ipython3",
   "version": "3.12.3"
  }
 },
 "nbformat": 4,
 "nbformat_minor": 5
}
