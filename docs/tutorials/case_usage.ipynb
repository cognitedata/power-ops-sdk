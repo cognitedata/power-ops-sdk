{
 "cells": [
  {
   "cell_type": "code",
   "execution_count": 1,
   "id": "11dc8e6d-e5a1-4b01-bbf0-0ad338ed23e7",
   "metadata": {},
   "outputs": [],
   "source": [
    "import os\n",
    "import tempfile\n",
    "from pprint import pprint\n",
    "\n",
    "from cognite.powerops import PowerOpsClient\n",
    "from cognite.powerops.client.shop.data_classes import Case"
   ]
  },
  {
   "cell_type": "markdown",
   "id": "ac6fe4c2-b3ae-4a78-a478-1fdc75627c26",
   "metadata": {},
   "source": [
    "**Note** this is an older demo and might not be relevant any more"
   ]
  },
  {
   "cell_type": "code",
   "execution_count": 2,
   "id": "2036d4f1-70cf-45f6-9b84-6fdfb6bc43a5",
   "metadata": {},
   "outputs": [],
   "source": [
    "# You can control which setting files are loaded through the environmental variable below. \n",
    "# In this case, the setting files are located two levels above.\n",
    "os.environ[\"SETTINGS_FILES\"] = \"../../settings.toml;../../.secrets.toml\"\n",
    "\n",
    "powerops = PowerOpsClient.from_settings()"
   ]
  },
  {
   "cell_type": "code",
   "execution_count": 4,
   "id": "44b8f0b5-1356-491d-94f0-cdfdd4bca294",
   "metadata": {},
   "outputs": [
    {
     "name": "stdout",
     "output_type": "stream",
     "text": [
      "753\n",
      "[97, 97.5, 97.9, 98.2, 98.3, 98.43, 98.6, 98.64, 98.65, 98.63]\n",
      "{'ref': 0,\n",
      " 'x': [15, 16.9, 21.8, 25.8, 28.2, 32.5, 38.5, 41.5, 43, 44],\n",
      " 'y': [97, 97.5, 97.9, 98.2, 98.3, 98.43, 98.6, 98.64, 98.65, 98.63]}\n"
     ]
    }
   ],
   "source": [
    "# we'll be downloading files, need a dir:\n",
    "# (using tempfile here, but anything works)\n",
    "tmp_dir = tempfile.mkdtemp(prefix=\"power-ops-sdk-usage\")\n",
    "\n",
    "# get a file:\n",
    "file_meta = powerops.cdf.files.retrieve(external_id=\"SHOP_Fornebu_model\")\n",
    "powerops.cdf.files.download(directory=tmp_dir, external_id=\"SHOP_Fornebu_model\")\n",
    "case_file = os.path.join(tmp_dir, file_meta.name)\n",
    "\n",
    "# load the file:\n",
    "case = Case.from_yaml_file(case_file)\n",
    "\n",
    "# get a value:\n",
    "print(case.data[\"model\"][\"creek_intake\"][\"Golebiowski_intake\"][\"net_head\"])\n",
    "\n",
    "# get a list:\n",
    "print(case.data[\"model\"][\"generator\"][\"Holen_G1\"][\"gen_eff_curve\"][\"y\"])\n",
    "\n",
    "# modify a list: a gen_eff_curve, add +10 to Y:\n",
    "case.data[\"model\"][\"generator\"][\"Holen_G1\"][\"gen_eff_curve.y\"] = [\n",
    "    val + 10 for val in case.data[\"model\"][\"generator\"][\"Holen_G1\"][\"gen_eff_curve\"][\"y\"]\n",
    "]\n",
    "# TODO ^ Cast lists to pd.Series automatically? Then need to handle setter, too.\n",
    "\n",
    "# export yaml:\n",
    "edited_case_file = os.path.join(tmp_dir, \"edited_case.yaml\")\n",
    "case.save_yaml(edited_case_file)\n",
    "\n",
    "# (just for show) load that exported yaml and check the edited curve:\n",
    "case2 = Case.from_yaml_file(edited_case_file)\n",
    "pprint(case2.data[\"model\"][\"generator\"][\"Holen_G1\"][\"gen_eff_curve\"])"
   ]
  },
  {
   "cell_type": "code",
   "execution_count": null,
   "id": "26b3e54e-4c6d-4f47-82b9-16b965788912",
   "metadata": {},
   "outputs": [],
   "source": []
  }
 ],
 "metadata": {
  "kernelspec": {
   "display_name": "Python 3 (ipykernel)",
   "language": "python",
   "name": "python3"
  },
  "language_info": {
   "codemirror_mode": {
    "name": "ipython",
    "version": 3
   },
   "file_extension": ".py",
   "mimetype": "text/x-python",
   "name": "python",
   "nbconvert_exporter": "python",
   "pygments_lexer": "ipython3",
   "version": "3.9.13"
  }
 },
 "nbformat": 4,
 "nbformat_minor": 5
}
