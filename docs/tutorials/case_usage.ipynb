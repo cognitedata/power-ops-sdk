{
 "cells": [
  {
   "cell_type": "code",
   "execution_count": 1,
   "id": "11dc8e6d-e5a1-4b01-bbf0-0ad338ed23e7",
   "metadata": {},
   "outputs": [],
   "source": [
    "import os\n",
    "import tempfile\n",
    "from pprint import pprint\n",
    "\n",
    "from cognite.powerops import PowerOpsClient\n",
    "from cognite.powerops.client.shop.data_classes import Case"
   ]
  },
  {
   "cell_type": "code",
   "execution_count": 3,
   "id": "2036d4f1-70cf-45f6-9b84-6fdfb6bc43a5",
   "metadata": {},
   "outputs": [],
   "source": [
    "# You can control which setting files are loaded through the environmental variable below. \n",
    "# In this case, the setting files are located two levels above.\n",
    "os.environ[\"SETTINGS_FILES\"] = \"../../settings.toml;../../.secrets.toml\"\n",
    "\n",
    "powerops = PowerOpsClient.from_settings()"
   ]
  },
  {
   "cell_type": "code",
   "execution_count": 4,
   "id": "44b8f0b5-1356-491d-94f0-cdfdd4bca294",
   "metadata": {},
   "outputs": [
    {
     "ename": "AttributeError",
     "evalue": "'FileMetadata' object has no attribute 'field_name'",
     "output_type": "error",
     "traceback": [
      "\u001b[1;31m---------------------------------------------------------------------------\u001b[0m",
      "\u001b[1;31mAttributeError\u001b[0m                            Traceback (most recent call last)",
      "Cell \u001b[1;32mIn[4], line 8\u001b[0m\n\u001b[0;32m      6\u001b[0m file_meta \u001b[38;5;241m=\u001b[39m powerops\u001b[38;5;241m.\u001b[39mcdf\u001b[38;5;241m.\u001b[39mfiles\u001b[38;5;241m.\u001b[39mretrieve(external_id\u001b[38;5;241m=\u001b[39m\u001b[38;5;124m\"\u001b[39m\u001b[38;5;124mSHOP_Fornebu_model\u001b[39m\u001b[38;5;124m\"\u001b[39m)\n\u001b[0;32m      7\u001b[0m powerops\u001b[38;5;241m.\u001b[39mcdf\u001b[38;5;241m.\u001b[39mfiles\u001b[38;5;241m.\u001b[39mdownload(directory\u001b[38;5;241m=\u001b[39mtmp_dir, external_id\u001b[38;5;241m=\u001b[39m\u001b[38;5;124m\"\u001b[39m\u001b[38;5;124mSHOP_Fornebu_model\u001b[39m\u001b[38;5;124m\"\u001b[39m)\n\u001b[1;32m----> 8\u001b[0m case_file \u001b[38;5;241m=\u001b[39m os\u001b[38;5;241m.\u001b[39mpath\u001b[38;5;241m.\u001b[39mjoin(tmp_dir, \u001b[43mfile_meta\u001b[49m\u001b[38;5;241;43m.\u001b[39;49m\u001b[43mfield_name\u001b[49m)\n\u001b[0;32m     10\u001b[0m \u001b[38;5;66;03m# load the file:\u001b[39;00m\n\u001b[0;32m     11\u001b[0m case \u001b[38;5;241m=\u001b[39m Case\u001b[38;5;241m.\u001b[39mfrom_yaml_file(case_file)\n",
      "File \u001b[1;32m~\\AppData\\Local\\pypoetry\\Cache\\virtualenvs\\cognite-power-ops-dMkTVv1u-py3.9\\lib\\site-packages\\cognite\\client\\data_classes\\_base.py:106\u001b[0m, in \u001b[0;36mCogniteResource.__getattribute__\u001b[1;34m(self, item)\u001b[0m\n\u001b[0;32m    105\u001b[0m \u001b[38;5;28;01mdef\u001b[39;00m \u001b[38;5;21m__getattribute__\u001b[39m(\u001b[38;5;28mself\u001b[39m, item: Any) \u001b[38;5;241m-\u001b[39m\u001b[38;5;241m>\u001b[39m Any:\n\u001b[1;32m--> 106\u001b[0m     attr \u001b[38;5;241m=\u001b[39m \u001b[38;5;28;43msuper\u001b[39;49m\u001b[43m(\u001b[49m\u001b[43m)\u001b[49m\u001b[38;5;241;43m.\u001b[39;49m\u001b[38;5;21;43m__getattribute__\u001b[39;49m\u001b[43m(\u001b[49m\u001b[43mitem\u001b[49m\u001b[43m)\u001b[49m\n\u001b[0;32m    107\u001b[0m     \u001b[38;5;28;01mif\u001b[39;00m item \u001b[38;5;241m==\u001b[39m \u001b[38;5;124m\"\u001b[39m\u001b[38;5;124m_cognite_client\u001b[39m\u001b[38;5;124m\"\u001b[39m \u001b[38;5;129;01mand\u001b[39;00m attr \u001b[38;5;129;01mis\u001b[39;00m \u001b[38;5;28;01mNone\u001b[39;00m:\n\u001b[0;32m    108\u001b[0m         \u001b[38;5;28;01mraise\u001b[39;00m CogniteMissingClientError(\u001b[38;5;28mself\u001b[39m)\n",
      "\u001b[1;31mAttributeError\u001b[0m: 'FileMetadata' object has no attribute 'field_name'"
     ]
    }
   ],
   "source": [
    "\n",
    "# we'll be downloading files, need a dir:\n",
    "# (using tempfile here, but anything works)\n",
    "tmp_dir = tempfile.mkdtemp(prefix=\"power-ops-sdk-usage\")\n",
    "\n",
    "# get a file:\n",
    "file_meta = powerops.cdf.files.retrieve(external_id=\"SHOP_Fornebu_model\")\n",
    "powerops.cdf.files.download(directory=tmp_dir, external_id=\"SHOP_Fornebu_model\")\n",
    "case_file = os.path.join(tmp_dir, file_meta.field_name)\n",
    "\n",
    "# load the file:\n",
    "case = Case.from_yaml_file(case_file)\n",
    "\n",
    "# get a value:\n",
    "print(case.data[\"model\"][\"creek_intake\"][\"Golebiowski_intake\"][\"net_head\"])\n",
    "\n",
    "# get a list:\n",
    "print(case.data[\"model\"][\"generator\"][\"Holen_G1\"][\"gen_eff_curve\"][\"y\"])\n",
    "\n",
    "# modify a list: a gen_eff_curve, add +10 to Y:\n",
    "case.data[\"model\"][\"generator\"][\"Holen_G1\"][\"gen_eff_curve.y\"] = [\n",
    "    val + 10 for val in case.data[\"model\"][\"generator\"][\"Holen_G1\"][\"gen_eff_curve\"][\"y\"]\n",
    "]\n",
    "# TODO ^ Cast lists to pd.Series automatically? Then need to handle setter, too.\n",
    "\n",
    "# export yaml:\n",
    "edited_case_file = os.path.join(tmp_dir, \"edited_case.yaml\")\n",
    "case.save_yaml(edited_case_file)\n",
    "\n",
    "# (just for show) load that exported yaml and check the edited curve:\n",
    "case2 = Case.from_yaml_file(edited_case_file)\n",
    "pprint(case2.data[\"model\"][\"generator\"][\"Holen_G1\"][\"gen_eff_curve\"])"
   ]
  },
  {
   "cell_type": "code",
   "execution_count": null,
   "id": "26b3e54e-4c6d-4f47-82b9-16b965788912",
   "metadata": {},
   "outputs": [],
   "source": []
  }
 ],
 "metadata": {
  "kernelspec": {
   "display_name": "Python 3 (ipykernel)",
   "language": "python",
   "name": "python3"
  },
  "language_info": {
   "codemirror_mode": {
    "name": "ipython",
    "version": 3
   },
   "file_extension": ".py",
   "mimetype": "text/x-python",
   "name": "python",
   "nbconvert_exporter": "python",
   "pygments_lexer": "ipython3",
   "version": "3.9.13"
  }
 },
 "nbformat": 4,
 "nbformat_minor": 5
}
