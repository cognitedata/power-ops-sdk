{
 "cells": [
  {
   "cell_type": "markdown",
   "id": "6a498ac3-dc99-4d25-8dc5-8547d8886eab",
   "metadata": {},
   "source": [
    "# Quickstart for data modeling and power-ops-sdk for cogshop runs\n",
    "NOTE: The \"recommended\" way of running CogShop is as follows:\n",
    "1. Static model data and mappings for time-dependent data like time series represented by `ShopModel`\n",
    "2. Any variations on the base configuration (like different price scenarios) represented by `ShopScenario` instances \n",
    "3. Generate a complete `ShopCase` with time series datapoints based on a `ShopScenario` instance plus `startTime` and `endTime` through the shop_trigger Cognite function.\n",
    "\n",
    "This tutorial covers a different set-up: Triggering (Cog)Shop for a pre-generated, complete Shop \"case\" (as a yaml file)"
   ]
  },
  {
   "cell_type": "markdown",
   "id": "8908b6471eb427b8",
   "metadata": {
    "collapsed": false,
    "jupyter": {
     "outputs_hidden": false
    }
   },
   "source": [
    "## Preparation\n",
    "\n",
    "The main entry point for the SDK is the `PowerOpsClient`\n",
    "\n",
    "To get started, we assume you have installed the `cognite-power-ops` SDK and that all configurations have been set up in Cognite Data Fusion (CDF).\n",
    "\n",
    "Furthermore, it is assumed that you have set up one or two `toml` files with the credentials for connecting to Cognite Data Fusion and settings for this SDK.\n",
    "\n",
    "\n",
    "### Interactive Login\n",
    "This only requires one `toml` file looking like this\n",
    "\n",
    "`settings.toml`\n",
    "\n",
    "```toml\n",
    "[cognite]\n",
    "  login_flow = \"interactive\"\n",
    "  project = \"<cdf-project>\"\n",
    "  tenant_id = \"<tenant-id>\"\n",
    "  cdf_cluster = \"<cdf-cluster>\"\n",
    "  client_id = \"<client-id>\"\n",
    "\n",
    "[powerops]\n",
    "  read_dataset = \"uc:000:powerops\"\n",
    "  write_dataset = \"uc:000:powerops\"\n",
    "  monitor_dataset = \"uc:po:monitoring\"\n",
    "\n",
    "```\n",
    "\n",
    "### Client Credentials Login\n",
    "\n",
    "For this case the you can use two toml files to separate the secrets from the regular settings.\n",
    "\n",
    "\n",
    "`settings.toml`\n",
    "\n",
    "```toml\n",
    "[cognite]\n",
    "  login_flow = \"client_credentials\"\n",
    "  project = \"<cdf-project>\"\n",
    "  tenant_id = \"<tenant-id>\"\n",
    "  cdf_cluster = \"<cdf-cluster>\"\n",
    "  client_id = \"<client-id>\"\n",
    "\n",
    "[powerops]\n",
    "  read_dataset = \"uc:000:powerops\"\n",
    "  write_dataset = \"uc:000:powerops\"\n",
    "  monitor_dataset = \"uc:po:monitoring\"\n",
    "```\n",
    "and the `.secrets.toml`\n",
    "\n",
    "```toml\n",
    "[cognite]\n",
    "  client_secret = \"<client-secret>\"\n",
    "\n",
    "```\n",
    "\n",
    "Values in `.secrets.toml` will overwrite those in `settings.toml`\n",
    "\n",
    "\n"
   ]
  },
  {
   "cell_type": "code",
   "execution_count": 2,
   "id": "4e8902c5-c2af-4638-ab4c-986c68893b15",
   "metadata": {
    "ExecuteTime": {
     "end_time": "2023-10-31T16:50:17.696595Z",
     "start_time": "2023-10-31T16:50:15.150704Z"
    }
   },
   "outputs": [
    {
     "name": "stdout",
     "output_type": "stream",
     "text": [
      "0.101.2\n"
     ]
    }
   ],
   "source": [
    "# You can control which setting files are loaded through the environmental variable below.\n",
    "# In this case, the setting files are located two levels above, in the root of the repository.\n",
    "import os\n",
    "from cognite.powerops._version import __version__\n",
    "from cognite.powerops import PowerOpsClient\n",
    "\n",
    "\n",
    "os.environ[\"SETTINGS_FILES\"] = \"../../settings.toml;../../.secrets.toml\"\n",
    "\n",
    "powerops = PowerOpsClient.from_settings()\n",
    "\n",
    "WRITE_DATA_SET = powerops.datasets.write_dataset_id\n",
    "\n",
    "print(__version__)  # Print the version of the package"
   ]
  },
  {
   "cell_type": "markdown",
   "id": "23596be4",
   "metadata": {},
   "source": [
    "## STEPS:\n",
    "1. Upload a yaml file that can be used by Shop, and return the external id\n",
    "2. Set up a ShopCase, using the SDK\n",
    "3. Write (upsert) the ShopCase instance to CDF, and verify that it was created using the SDK\n",
    "4. Trigger a shop execution of that shop case\n",
    "5. List the ShopResult referencing the ShopCase \n"
   ]
  },
  {
   "cell_type": "markdown",
   "id": "3ffb725b",
   "metadata": {},
   "source": [
    "### Step 1: Upload a file \n",
    "\n",
    "In the case that the file already exists, this step can be skipped. \n",
    "\n",
    "We need the external id for constructing the `ShopCase`"
   ]
  },
  {
   "cell_type": "code",
   "execution_count": 3,
   "id": "f4902678",
   "metadata": {},
   "outputs": [
    {
     "data": {
      "text/plain": [
       "'example_stavanger_case_file'"
      ]
     },
     "execution_count": 3,
     "metadata": {},
     "output_type": "execute_result"
    }
   ],
   "source": [
    "from pathlib import Path\n",
    "\n",
    "\n",
    "def upload_file(file_name: str) -> str:\n",
    "    \"\"\"Upload a file to CDF and return the external id of the file\"\"\"\n",
    "    file_path = (Path(\"example_case_files\") / file_name).resolve()\n",
    "    file = powerops.cdf.files.upload(\n",
    "        path=str(file_path),\n",
    "        external_id=\"example_stavanger_case_file\",\n",
    "        name=file_name,\n",
    "        data_set_id=WRITE_DATA_SET,\n",
    "        mime_type=\"application/yaml\",\n",
    "        # Overwrite the file at the given external is if it already exists\n",
    "        # This will also overwrite potentially existing metadata\n",
    "        overwrite=True,\n",
    "    )\n",
    "    return file.external_id\n",
    "\n",
    "\n",
    "# NB! The case in this example is minimal and just for demo purposes.\n",
    "my_file_reference = upload_file(file_name=\"a_example_stavanger_with_commands.yaml\")\n",
    "my_file_reference"
   ]
  },
  {
   "cell_type": "markdown",
   "id": "7d15a47f",
   "metadata": {},
   "source": [
    "### Step 2 Preparing a ShopCase\n",
    "\n",
    "`prepare_shop_case` creates a `Write` object can be written to CDF. \n",
    "\n",
    "We use the generated SDK (`_generated`) as they are a direct reflection of the Data Models on CDF. Here the data classes end in `Write` since we are going to use the to send data to CDF. They all have a corresponding class used for retrieving data from CDF."
   ]
  },
  {
   "cell_type": "code",
   "execution_count": 4,
   "id": "ec68faae",
   "metadata": {},
   "outputs": [
    {
     "data": {
      "text/html": [
       "<div>\n",
       "<style scoped>\n",
       "    .dataframe tbody tr th:only-of-type {\n",
       "        vertical-align: middle;\n",
       "    }\n",
       "\n",
       "    .dataframe tbody tr th {\n",
       "        vertical-align: top;\n",
       "    }\n",
       "\n",
       "    .dataframe thead th {\n",
       "        text-align: right;\n",
       "    }\n",
       "</style>\n",
       "<table border=\"1\" class=\"dataframe\">\n",
       "  <thead>\n",
       "    <tr style=\"text-align: right;\">\n",
       "      <th></th>\n",
       "      <th>value</th>\n",
       "    </tr>\n",
       "  </thead>\n",
       "  <tbody>\n",
       "    <tr>\n",
       "      <th>space</th>\n",
       "      <td>power_ops_instances</td>\n",
       "    </tr>\n",
       "    <tr>\n",
       "      <th>external_id</th>\n",
       "      <td>example_case_external_id</td>\n",
       "    </tr>\n",
       "    <tr>\n",
       "      <th>data_record</th>\n",
       "      <td>{'existing_version': None}</td>\n",
       "    </tr>\n",
       "    <tr>\n",
       "      <th>node_type</th>\n",
       "      <td>None</td>\n",
       "    </tr>\n",
       "    <tr>\n",
       "      <th>scenario</th>\n",
       "      <td>{'space': 'power_ops_instances', 'external_id'...</td>\n",
       "    </tr>\n",
       "    <tr>\n",
       "      <th>start_time</th>\n",
       "      <td>2024-05-31 22:00:00</td>\n",
       "    </tr>\n",
       "    <tr>\n",
       "      <th>end_time</th>\n",
       "      <td>2024-06-02 22:00:00</td>\n",
       "    </tr>\n",
       "    <tr>\n",
       "      <th>shop_files</th>\n",
       "      <td>[{'space': 'power_ops_instances', 'external_id...</td>\n",
       "    </tr>\n",
       "  </tbody>\n",
       "</table>\n",
       "</div>"
      ],
      "text/plain": [
       "ShopCaseWrite(space='power_ops_instances', external_id='example_case_external_id', data_record=DataRecordWrite(existing_version=None), node_type=None, start_time=datetime.datetime(2024, 5, 31, 22, 0), end_time=datetime.datetime(2024, 6, 2, 22, 0))"
      ]
     },
     "execution_count": 4,
     "metadata": {},
     "output_type": "execute_result"
    }
   ],
   "source": [
    "import datetime\n",
    "\n",
    "# Unique identifier for the case, if not provided, an external id will be generated\n",
    "EXAMPLE_CASE_EXTERNAL_ID = \"example_case_external_id\"\n",
    "\n",
    "#  Files are referenced using 4-tuples with the following structure:\n",
    "# (file_reference, file_name, is_ascii, labels)\n",
    "file_tuple = (my_file_reference, \"stavanger_case_file\", False, \"\")\n",
    "\n",
    "\n",
    "my_shop_case = powerops.cogshop.prepare_shop_case(\n",
    "    shop_file_list=[file_tuple],\n",
    "    shop_version=\"15.6.1.0\",\n",
    "    start_time=datetime.datetime(2024, 5, 31, 22),\n",
    "    end_time=datetime.datetime(2024, 6, 2, 22),\n",
    "    model_name=\"my_model\",\n",
    "    scenario_name=\"my_scenario\",\n",
    "    case_external_id=EXAMPLE_CASE_EXTERNAL_ID,  # can be auto generated if set to None/not provided\n",
    ")\n",
    "my_shop_case"
   ]
  },
  {
   "cell_type": "markdown",
   "id": "96f29384",
   "metadata": {},
   "source": [
    "### Step 3: Upload the ShopCase\n",
    "\n",
    "Note: The upload is an `upsert` -- so if there are overlaps, the existing properties will merge  \n"
   ]
  },
  {
   "cell_type": "code",
   "execution_count": 5,
   "id": "cb0a970a",
   "metadata": {},
   "outputs": [
    {
     "data": {
      "text/plain": [
       "ResourcesWriteResult(nodes=[<NodeApplyResult(space='power_ops_instances', external_id='example_case_external_id', version=2) at 0x7fda00892bd0>, <NodeApplyResult(space='power_ops_instances', external_id='shopfile:55ebd767bbb948c8a0457db9631bb41d', version=1) at 0x7fda00891cd0>, <NodeApplyResult(space='power_ops_instances', external_id='shopscenario:792fe2104d094fb187a52f7a9142c3ca', version=1) at 0x7fda00891490>, <NodeApplyResult(space='power_ops_instances', external_id='shopmodel:80716824a3af45f0a838431341f734c9', version=1) at 0x7fda01a43790>], edges=[<EdgeApplyResult(space='power_ops_instances', external_id='example_case_external_id:shopfile:55ebd767bbb948c8a0457db9631bb41d', version=1) at 0x7fda01a436d0>], time_series=[])"
      ]
     },
     "execution_count": 5,
     "metadata": {},
     "output_type": "execute_result"
    }
   ],
   "source": [
    "powerops.cogshop.write_shop_case(my_shop_case)"
   ]
  },
  {
   "cell_type": "markdown",
   "id": "88897fe0",
   "metadata": {},
   "source": [
    "Notice that the retrieved case is not suffixes with a `Write` \n",
    "\n",
    "(However, it is possible to convert it to a `Write` object, and upsert again to make changes)"
   ]
  },
  {
   "cell_type": "code",
   "execution_count": 6,
   "id": "d033c3d4",
   "metadata": {},
   "outputs": [
    {
     "data": {
      "text/html": [
       "<div>\n",
       "<style scoped>\n",
       "    .dataframe tbody tr th:only-of-type {\n",
       "        vertical-align: middle;\n",
       "    }\n",
       "\n",
       "    .dataframe tbody tr th {\n",
       "        vertical-align: top;\n",
       "    }\n",
       "\n",
       "    .dataframe thead th {\n",
       "        text-align: right;\n",
       "    }\n",
       "</style>\n",
       "<table border=\"1\" class=\"dataframe\">\n",
       "  <thead>\n",
       "    <tr style=\"text-align: right;\">\n",
       "      <th></th>\n",
       "      <th>value</th>\n",
       "    </tr>\n",
       "  </thead>\n",
       "  <tbody>\n",
       "    <tr>\n",
       "      <th>space</th>\n",
       "      <td>power_ops_instances</td>\n",
       "    </tr>\n",
       "    <tr>\n",
       "      <th>external_id</th>\n",
       "      <td>example_case_external_id</td>\n",
       "    </tr>\n",
       "    <tr>\n",
       "      <th>data_record</th>\n",
       "      <td>{'version': 2, 'last_updated_time': 2024-11-08...</td>\n",
       "    </tr>\n",
       "    <tr>\n",
       "      <th>node_type</th>\n",
       "      <td>None</td>\n",
       "    </tr>\n",
       "    <tr>\n",
       "      <th>scenario</th>\n",
       "      <td>shopscenario:792fe2104d094fb187a52f7a9142c3ca</td>\n",
       "    </tr>\n",
       "    <tr>\n",
       "      <th>start_time</th>\n",
       "      <td>2024-05-31 22:00:00+00:00</td>\n",
       "    </tr>\n",
       "    <tr>\n",
       "      <th>end_time</th>\n",
       "      <td>2024-06-02 22:00:00+00:00</td>\n",
       "    </tr>\n",
       "    <tr>\n",
       "      <th>shop_files</th>\n",
       "      <td>[shopfile:50cfb842a5494433909b35c6fba19a4c, sh...</td>\n",
       "    </tr>\n",
       "  </tbody>\n",
       "</table>\n",
       "</div>"
      ],
      "text/plain": [
       "ShopCase(space='power_ops_instances', external_id='example_case_external_id', data_record=DataRecord(version=2, last_updated_time=datetime.datetime(2024, 11, 8, 15, 16, 35, 441000, tzinfo=TzInfo(UTC)), created_time=datetime.datetime(2024, 10, 14, 10, 39, 22, 224000, tzinfo=TzInfo(UTC)), deleted_time=None), node_type=None, start_time=datetime.datetime(2024, 5, 31, 22, 0, tzinfo=TzInfo(UTC)), end_time=datetime.datetime(2024, 6, 2, 22, 0, tzinfo=TzInfo(UTC)))"
      ]
     },
     "execution_count": 6,
     "metadata": {},
     "output_type": "execute_result"
    }
   ],
   "source": [
    "from cognite.powerops.client._generated.v1.data_classes import ShopCase\n",
    "\n",
    "# NB! This step is not necessary, if the upsert was successful we know the case is in CDF\n",
    "retrieved_shop_case: ShopCase = powerops.cogshop.retrieve_shop_case(\n",
    "    my_shop_case.external_id\n",
    ")\n",
    "retrieved_shop_case"
   ]
  },
  {
   "cell_type": "markdown",
   "id": "6799d59e",
   "metadata": {},
   "source": [
    "Alternately, use Graph QL to retrieve the Shop Case instance. \n",
    "Under the hood, this uses a different method to look for the case so the returned data has a slightly different format"
   ]
  },
  {
   "cell_type": "code",
   "execution_count": 7,
   "id": "b54b67b4",
   "metadata": {},
   "outputs": [
    {
     "data": {
      "text/html": [
       "<div>\n",
       "<style scoped>\n",
       "    .dataframe tbody tr th:only-of-type {\n",
       "        vertical-align: middle;\n",
       "    }\n",
       "\n",
       "    .dataframe tbody tr th {\n",
       "        vertical-align: top;\n",
       "    }\n",
       "\n",
       "    .dataframe thead th {\n",
       "        text-align: right;\n",
       "    }\n",
       "</style>\n",
       "<table border=\"1\" class=\"dataframe\">\n",
       "  <thead>\n",
       "    <tr style=\"text-align: right;\">\n",
       "      <th></th>\n",
       "      <th>value</th>\n",
       "    </tr>\n",
       "  </thead>\n",
       "  <tbody>\n",
       "    <tr>\n",
       "      <th>space</th>\n",
       "      <td>power_ops_instances</td>\n",
       "    </tr>\n",
       "    <tr>\n",
       "      <th>external_id</th>\n",
       "      <td>example_case_external_id</td>\n",
       "    </tr>\n",
       "    <tr>\n",
       "      <th>data_record</th>\n",
       "      <td>{'version': 0, 'last_updated_time': 2024-11-08...</td>\n",
       "    </tr>\n",
       "    <tr>\n",
       "      <th>node_type</th>\n",
       "      <td>None</td>\n",
       "    </tr>\n",
       "    <tr>\n",
       "      <th>scenario</th>\n",
       "      <td>{'space': 'power_ops_instances', 'external_id'...</td>\n",
       "    </tr>\n",
       "    <tr>\n",
       "      <th>start_time</th>\n",
       "      <td>2024-05-31 22:00:00+00:00</td>\n",
       "    </tr>\n",
       "    <tr>\n",
       "      <th>end_time</th>\n",
       "      <td>2024-06-02 22:00:00+00:00</td>\n",
       "    </tr>\n",
       "    <tr>\n",
       "      <th>shop_files</th>\n",
       "      <td>[{'space': 'power_ops_instances', 'external_id...</td>\n",
       "    </tr>\n",
       "  </tbody>\n",
       "</table>\n",
       "</div>"
      ],
      "text/plain": [
       "ShopCase(space='power_ops_instances', external_id='example_case_external_id', data_record=DataRecord(version=0, last_updated_time=datetime.datetime(2024, 11, 8, 15, 16, 35, 441000, tzinfo=TzInfo(UTC)), created_time=datetime.datetime(2024, 10, 14, 10, 39, 22, 224000, tzinfo=TzInfo(UTC)), deleted_time=None), node_type=None, start_time=datetime.datetime(2024, 5, 31, 22, 0, tzinfo=TzInfo(UTC)), end_time=datetime.datetime(2024, 6, 2, 22, 0, tzinfo=TzInfo(UTC)))"
      ]
     },
     "execution_count": 7,
     "metadata": {},
     "output_type": "execute_result"
    }
   ],
   "source": [
    "graph_ql_shop_case = powerops.cogshop.retrieve_shop_case_graphql(\n",
    "    my_shop_case.external_id\n",
    ")\n",
    "graph_ql_shop_case"
   ]
  },
  {
   "cell_type": "markdown",
   "id": "d38c1534",
   "metadata": {},
   "source": [
    "### Step 4: Trigger the case\n",
    "\n",
    "We will here directly use the new `trigger_shop_case` method on the `powerops.cogshop` client"
   ]
  },
  {
   "cell_type": "code",
   "execution_count": 8,
   "id": "934e7d52",
   "metadata": {},
   "outputs": [],
   "source": [
    "powerops.cogshop.trigger_shop_case(my_shop_case.external_id)"
   ]
  },
  {
   "cell_type": "markdown",
   "id": "cd4b60ee",
   "metadata": {},
   "source": [
    "### Step 5: View the ShopResult generated \n",
    "\n",
    "Note that it may take a while to run (Cog)Shop. \n",
    "If the run is not completed then no results are returned. \n",
    "\n",
    "Note that since it is possible to run trigger cogshop multiple times for the same case, `ShopResults` are returned as lists. \n",
    "  \n",
    "\n",
    "Explanations for (some) of the fields of the `ShopResult`: \n",
    "\n",
    "* External id: The external id of the `ShopResult`\n",
    "* Case: The external id of the `ShopCase` that the instance belongs to\n",
    "* Objective value: The objective value of the Shop execution\n",
    "* Pre run: A file reference to the pre run yaml file\n",
    "* Post run: A file reference to the post run yaml file\n",
    "* Messages: A file reference to the logs generated by Shop\n",
    "* Cplex logs: A file reference to the cplex logs generated by Shop\n",
    "* Data record: The data record of the instance, contains the keys `last_updated_time` and `created_time`\n",
    "\n"
   ]
  },
  {
   "cell_type": "markdown",
   "id": "5470afe6",
   "metadata": {},
   "source": [
    "#### 1. Using `list_shop_results_for_case`\n",
    "\n",
    "Note that this return type is a list from `data_classes`, which means it can be easily converted to a pandas dataframe"
   ]
  },
  {
   "cell_type": "code",
   "execution_count": 9,
   "id": "959c723f",
   "metadata": {},
   "outputs": [
    {
     "data": {
      "text/html": [
       "<div>\n",
       "<style scoped>\n",
       "    .dataframe tbody tr th:only-of-type {\n",
       "        vertical-align: middle;\n",
       "    }\n",
       "\n",
       "    .dataframe tbody tr th {\n",
       "        vertical-align: top;\n",
       "    }\n",
       "\n",
       "    .dataframe thead th {\n",
       "        text-align: right;\n",
       "    }\n",
       "</style>\n",
       "<table border=\"1\" class=\"dataframe\">\n",
       "  <thead>\n",
       "    <tr style=\"text-align: right;\">\n",
       "      <th></th>\n",
       "      <th>space</th>\n",
       "      <th>external_id</th>\n",
       "      <th>case</th>\n",
       "      <th>objective_value</th>\n",
       "      <th>pre_run</th>\n",
       "      <th>post_run</th>\n",
       "      <th>messages</th>\n",
       "      <th>cplex_logs</th>\n",
       "      <th>alerts</th>\n",
       "      <th>output_time_series</th>\n",
       "      <th>node_type</th>\n",
       "      <th>data_record</th>\n",
       "    </tr>\n",
       "  </thead>\n",
       "  <tbody>\n",
       "    <tr>\n",
       "      <th>0</th>\n",
       "      <td>power_ops_instances</td>\n",
       "      <td>shop_result__7c9091a7-5286-4dce-a4f9-edb925374a5d</td>\n",
       "      <td>example_case_external_id</td>\n",
       "      <td>{'total': -19927822739.279236, 'load_value': 0...</td>\n",
       "      <td>example_case_file_external_id</td>\n",
       "      <td>POWEROPS_SHOP_post-run-7c9091a7-5286-4dce-a4f9...</td>\n",
       "      <td>POWEROPS_SHOP_shop-7c9091a7-5286-4dce-a4f9-edb...</td>\n",
       "      <td>POWEROPS_SHOP_cplex-7c9091a7-5286-4dce-a4f9-ed...</td>\n",
       "      <td>[shop_penalty_report_dummy_scenario_2023-09-14...</td>\n",
       "      <td>None</td>\n",
       "      <td>None</td>\n",
       "      <td>{'version': 1, 'last_updated_time': 2024-10-14...</td>\n",
       "    </tr>\n",
       "  </tbody>\n",
       "</table>\n",
       "</div>"
      ],
      "text/plain": [
       "ShopResultList([ShopResult(space='power_ops_instances', external_id='shop_result__7c9091a7-5286-4dce-a4f9-edb925374a5d', data_record=DataRecord(version=1, last_updated_time=datetime.datetime(2024, 10, 14, 10, 42, 52, 768000, tzinfo=TzInfo(UTC)), created_time=datetime.datetime(2024, 10, 14, 10, 42, 52, 768000, tzinfo=TzInfo(UTC)), deleted_time=None), node_type=None, objective_value={'total': -19927822739.279236, 'load_value': 0.0, 'bypass_cost': 0.0, 'grand_total': -19927820531.21755, 'rsv_penalty': 0.0, 'load_penalty': 0.0, 'thermal_cost': 0.0, 'rsv_end_value': -19927592194.850376, 'solver_status': 'Optimal solution is available', 'startup_costs': 1150.0, 'sum_penalties': 2208.061688777716, 'contract_value': 0.0, 'vow_in_transit': 0.0, 'bidding_penalty': 0.0, 'gate_slack_cost': 0.0, 'gate_spill_cost': 2208.047864777716, 'major_penalties': 0.0, 'market_sale_buy': -231694.42886055197, 'minor_penalties': 2208.061688777716, 'rsv_end_penalty': 0.0, 'sim_grand_total': 0.0, 'sim_rsv_penalty': 0.0, 'sum_feeding_fee': 0.0, 'creek_spill_cost': 0.0, 'reserve_sale_buy': 0.0, 'sim_rsv_end_value': 0.0, 'sim_startup_costs': 0.0, 'sum_discharge_fee': 0.0, 'reserve_slack_cost': 0.0, 'gate_discharge_cost': 0.013824000000000003, 'junction_slack_cost': 0.0, 'physical_spill_cost': 1988.864851648981, 'reserve_oblig_value': 0.0, 'rsv_ramping_penalty': 0.0, 'sim_market_sale_buy': 0.0, 'sum_ramping_penalty': 0.0, 'gate_ramping_penalty': 0.0, 'gen_schedule_penalty': 0.0, 'rsv_tactical_penalty': 0.0, 'gate_q_constr_penalty': 0.0, 'group_ramping_penalty': 0.0, 'physical_spill_volume': 0.03977729722072846, 'plant_ramping_penalty': 0.0, 'pump_schedule_penalty': 0.0, 'gate_peak_flow_penalty': 0.0, 'nonphysical_spill_cost': 219.18301312873444, 'plant_p_constr_penalty': 0.0, 'plant_q_constr_penalty': 0.0, 'plant_schedule_penalty': 0.0, 'river_max_flow_penalty': 0.0, 'river_min_flow_penalty': 0.0, 'rsv_end_value_relative': -39673449.46741104, 'rsv_hard_limit_penalty': 0.0, 'rsv_over_limit_penalty': 0.0, 'common_decision_penalty': 0.0, 'discharge_group_penalty': 0.0, 'group_time_step_penalty': 0.0, 'rsv_peak_volume_penalty': 0.0, 'rsv_spill_vol_end_value': 0.0, 'contract_ramping_penalty': 0.0, 'nonphysical_spill_volume': 0.004383660278889463, 'reserve_schedule_penalty': 0.0, 'rsv_flood_volume_penalty': 0.0, 'creek_physical_spill_cost': 0.0, 'group_time_period_penalty': 0.0, 'reserve_violation_penalty': 0.0, 'safe_mode_universal_penalty': 0.0, 'times_of_wrong_pq_uploading': 0, 'creek_nonphysical_spill_cost': 0.0, 'production_group_power_penalty': 0.0, 'discharge_group_ramping_penalty': 0.0, 'production_group_energy_penalty': 0.0}, pre_run='example_case_file_external_id', post_run='POWEROPS_SHOP_post-run-7c9091a7-5286-4dce-a4f9-edb925374a5d', messages='POWEROPS_SHOP_shop-7c9091a7-5286-4dce-a4f9-edb925374a5d', cplex_logs='POWEROPS_SHOP_cplex-7c9091a7-5286-4dce-a4f9-edb925374a5d')])"
      ]
     },
     "execution_count": 9,
     "metadata": {},
     "output_type": "execute_result"
    }
   ],
   "source": [
    "from cognite.powerops.client._generated.v1.data_classes import ShopResultList\n",
    "\n",
    "result_list: ShopResultList = powerops.cogshop.list_shop_results_for_case(\n",
    "    case_external_id=my_shop_case.external_id\n",
    ")\n",
    "result_list"
   ]
  },
  {
   "cell_type": "markdown",
   "id": "722dc97d",
   "metadata": {},
   "source": [
    "#### 2. Using Graph QL and `list_shop_result_graphql`\n",
    "\n",
    "Note that this return type is an ordinary python `list` of `ShopResult`s, meaning it cannot seamlessly be converted to a dataframe  "
   ]
  },
  {
   "cell_type": "code",
   "execution_count": 10,
   "id": "1ee59dcd",
   "metadata": {},
   "outputs": [
    {
     "data": {
      "text/plain": [
       "[ShopResult(space='power_ops_instances', external_id='shop_result__7c9091a7-5286-4dce-a4f9-edb925374a5d', data_record=DataRecord(version=0, last_updated_time=datetime.datetime(2024, 10, 14, 10, 42, 52, 768000, tzinfo=TzInfo(UTC)), created_time=datetime.datetime(2024, 10, 14, 10, 42, 52, 768000, tzinfo=TzInfo(UTC)), deleted_time=None), node_type=None, objective_value=None, pre_run='example_case_file_external_id', post_run='POWEROPS_SHOP_post-run-7c9091a7-5286-4dce-a4f9-edb925374a5d', messages='POWEROPS_SHOP_shop-7c9091a7-5286-4dce-a4f9-edb925374a5d', cplex_logs='POWEROPS_SHOP_cplex-7c9091a7-5286-4dce-a4f9-edb925374a5d')]"
      ]
     },
     "execution_count": 10,
     "metadata": {},
     "output_type": "execute_result"
    }
   ],
   "source": [
    "from cognite.powerops.client._generated.v1.data_classes import ShopResult\n",
    "\n",
    "\n",
    "result_list_ql: list[ShopResult] = powerops.cogshop.list_shop_result_graphql(\n",
    "    case_external_id=my_shop_case.external_id, limit=1\n",
    ")\n",
    "result_list_ql"
   ]
  },
  {
   "cell_type": "markdown",
   "id": "8ce059bc",
   "metadata": {},
   "source": [
    "#### 3. Using the external ID of a ShopResult to retrieve\n",
    "\n",
    "If we know a specific `ShopResult`is of interest, we can use its external id to retrieve it and inspect it  "
   ]
  },
  {
   "cell_type": "code",
   "execution_count": 11,
   "id": "2d7407bd",
   "metadata": {},
   "outputs": [],
   "source": [
    "shop_result = powerops.cogshop.retrieve_shop_result(result_list_ql[0].external_id)"
   ]
  },
  {
   "cell_type": "code",
   "execution_count": 12,
   "id": "3d2e482f",
   "metadata": {},
   "outputs": [
    {
     "data": {
      "text/html": [
       "<div>\n",
       "<style scoped>\n",
       "    .dataframe tbody tr th:only-of-type {\n",
       "        vertical-align: middle;\n",
       "    }\n",
       "\n",
       "    .dataframe tbody tr th {\n",
       "        vertical-align: top;\n",
       "    }\n",
       "\n",
       "    .dataframe thead th {\n",
       "        text-align: right;\n",
       "    }\n",
       "</style>\n",
       "<table border=\"1\" class=\"dataframe\">\n",
       "  <thead>\n",
       "    <tr style=\"text-align: right;\">\n",
       "      <th></th>\n",
       "      <th>value</th>\n",
       "    </tr>\n",
       "  </thead>\n",
       "  <tbody>\n",
       "    <tr>\n",
       "      <th>space</th>\n",
       "      <td>power_ops_instances</td>\n",
       "    </tr>\n",
       "    <tr>\n",
       "      <th>external_id</th>\n",
       "      <td>shop_result__7c9091a7-5286-4dce-a4f9-edb925374a5d</td>\n",
       "    </tr>\n",
       "    <tr>\n",
       "      <th>data_record</th>\n",
       "      <td>{'version': 1, 'last_updated_time': 2024-10-14...</td>\n",
       "    </tr>\n",
       "    <tr>\n",
       "      <th>node_type</th>\n",
       "      <td>None</td>\n",
       "    </tr>\n",
       "    <tr>\n",
       "      <th>case</th>\n",
       "      <td>example_case_external_id</td>\n",
       "    </tr>\n",
       "    <tr>\n",
       "      <th>objective_value</th>\n",
       "      <td>{'total': -19927822739.279236, 'load_value': 0...</td>\n",
       "    </tr>\n",
       "    <tr>\n",
       "      <th>pre_run</th>\n",
       "      <td>example_case_file_external_id</td>\n",
       "    </tr>\n",
       "    <tr>\n",
       "      <th>post_run</th>\n",
       "      <td>POWEROPS_SHOP_post-run-7c9091a7-5286-4dce-a4f9...</td>\n",
       "    </tr>\n",
       "    <tr>\n",
       "      <th>messages</th>\n",
       "      <td>POWEROPS_SHOP_shop-7c9091a7-5286-4dce-a4f9-edb...</td>\n",
       "    </tr>\n",
       "    <tr>\n",
       "      <th>cplex_logs</th>\n",
       "      <td>POWEROPS_SHOP_cplex-7c9091a7-5286-4dce-a4f9-ed...</td>\n",
       "    </tr>\n",
       "    <tr>\n",
       "      <th>alerts</th>\n",
       "      <td>[shop_penalty_report_dummy_scenario_2023-09-14...</td>\n",
       "    </tr>\n",
       "    <tr>\n",
       "      <th>output_time_series</th>\n",
       "      <td>None</td>\n",
       "    </tr>\n",
       "  </tbody>\n",
       "</table>\n",
       "</div>"
      ],
      "text/plain": [
       "ShopResult(space='power_ops_instances', external_id='shop_result__7c9091a7-5286-4dce-a4f9-edb925374a5d', data_record=DataRecord(version=1, last_updated_time=datetime.datetime(2024, 10, 14, 10, 42, 52, 768000, tzinfo=TzInfo(UTC)), created_time=datetime.datetime(2024, 10, 14, 10, 42, 52, 768000, tzinfo=TzInfo(UTC)), deleted_time=None), node_type=None, objective_value={'total': -19927822739.279236, 'load_value': 0.0, 'bypass_cost': 0.0, 'grand_total': -19927820531.21755, 'rsv_penalty': 0.0, 'load_penalty': 0.0, 'thermal_cost': 0.0, 'rsv_end_value': -19927592194.850376, 'solver_status': 'Optimal solution is available', 'startup_costs': 1150.0, 'sum_penalties': 2208.061688777716, 'contract_value': 0.0, 'vow_in_transit': 0.0, 'bidding_penalty': 0.0, 'gate_slack_cost': 0.0, 'gate_spill_cost': 2208.047864777716, 'major_penalties': 0.0, 'market_sale_buy': -231694.42886055197, 'minor_penalties': 2208.061688777716, 'rsv_end_penalty': 0.0, 'sim_grand_total': 0.0, 'sim_rsv_penalty': 0.0, 'sum_feeding_fee': 0.0, 'creek_spill_cost': 0.0, 'reserve_sale_buy': 0.0, 'sim_rsv_end_value': 0.0, 'sim_startup_costs': 0.0, 'sum_discharge_fee': 0.0, 'reserve_slack_cost': 0.0, 'gate_discharge_cost': 0.013824000000000003, 'junction_slack_cost': 0.0, 'physical_spill_cost': 1988.864851648981, 'reserve_oblig_value': 0.0, 'rsv_ramping_penalty': 0.0, 'sim_market_sale_buy': 0.0, 'sum_ramping_penalty': 0.0, 'gate_ramping_penalty': 0.0, 'gen_schedule_penalty': 0.0, 'rsv_tactical_penalty': 0.0, 'gate_q_constr_penalty': 0.0, 'group_ramping_penalty': 0.0, 'physical_spill_volume': 0.03977729722072846, 'plant_ramping_penalty': 0.0, 'pump_schedule_penalty': 0.0, 'gate_peak_flow_penalty': 0.0, 'nonphysical_spill_cost': 219.18301312873444, 'plant_p_constr_penalty': 0.0, 'plant_q_constr_penalty': 0.0, 'plant_schedule_penalty': 0.0, 'river_max_flow_penalty': 0.0, 'river_min_flow_penalty': 0.0, 'rsv_end_value_relative': -39673449.46741104, 'rsv_hard_limit_penalty': 0.0, 'rsv_over_limit_penalty': 0.0, 'common_decision_penalty': 0.0, 'discharge_group_penalty': 0.0, 'group_time_step_penalty': 0.0, 'rsv_peak_volume_penalty': 0.0, 'rsv_spill_vol_end_value': 0.0, 'contract_ramping_penalty': 0.0, 'nonphysical_spill_volume': 0.004383660278889463, 'reserve_schedule_penalty': 0.0, 'rsv_flood_volume_penalty': 0.0, 'creek_physical_spill_cost': 0.0, 'group_time_period_penalty': 0.0, 'reserve_violation_penalty': 0.0, 'safe_mode_universal_penalty': 0.0, 'times_of_wrong_pq_uploading': 0, 'creek_nonphysical_spill_cost': 0.0, 'production_group_power_penalty': 0.0, 'discharge_group_ramping_penalty': 0.0, 'production_group_energy_penalty': 0.0}, pre_run='example_case_file_external_id', post_run='POWEROPS_SHOP_post-run-7c9091a7-5286-4dce-a4f9-edb925374a5d', messages='POWEROPS_SHOP_shop-7c9091a7-5286-4dce-a4f9-edb925374a5d', cplex_logs='POWEROPS_SHOP_cplex-7c9091a7-5286-4dce-a4f9-edb925374a5d')"
      ]
     },
     "execution_count": 12,
     "metadata": {},
     "output_type": "execute_result"
    }
   ],
   "source": [
    "shop_result"
   ]
  },
  {
   "cell_type": "markdown",
   "id": "ef00ba2e",
   "metadata": {},
   "source": [
    "## Cleaning up the instances that were created\n",
    "\n",
    "Instances can be deleted by using the powerops client and the `external_id`s of everything we have created "
   ]
  },
  {
   "cell_type": "code",
   "execution_count": 14,
   "id": "fbca0a3d",
   "metadata": {},
   "outputs": [
    {
     "data": {
      "text/plain": [
       "['shop_result__7c9091a7-5286-4dce-a4f9-edb925374a5d',\n",
       " 'example_case_external_id',\n",
       " 'shopfile:55ebd767bbb948c8a0457db9631bb41d',\n",
       " 'shopscenario:792fe2104d094fb187a52f7a9142c3ca',\n",
       " 'shopmodel:80716824a3af45f0a838431341f734c9']"
      ]
     },
     "execution_count": 14,
     "metadata": {},
     "output_type": "execute_result"
    }
   ],
   "source": [
    "all_external_ids = [\n",
    "    shop_result.external_id,\n",
    "    my_shop_case.external_id,\n",
    "    my_shop_case.shop_files[0].external_id,\n",
    "    my_shop_case.scenario.external_id,\n",
    "    my_shop_case.scenario.model.external_id,\n",
    "]\n",
    "all_external_ids"
   ]
  },
  {
   "cell_type": "code",
   "execution_count": 15,
   "id": "c9204f9d",
   "metadata": {},
   "outputs": [
    {
     "data": {
      "text/plain": [
       "InstancesDeleteResult(nodes=[NodeId(space='power_ops_instances', external_id='shop_result__7c9091a7-5286-4dce-a4f9-edb925374a5d'), NodeId(space='power_ops_instances', external_id='example_case_external_id'), NodeId(space='power_ops_instances', external_id='shopfile:55ebd767bbb948c8a0457db9631bb41d'), NodeId(space='power_ops_instances', external_id='shopscenario:792fe2104d094fb187a52f7a9142c3ca'), NodeId(space='power_ops_instances', external_id='shopmodel:80716824a3af45f0a838431341f734c9')], edges=[])"
      ]
     },
     "execution_count": 15,
     "metadata": {},
     "output_type": "execute_result"
    }
   ],
   "source": [
    "powerops.v1.delete(external_id=all_external_ids)"
   ]
  }
 ],
 "metadata": {
  "kernelspec": {
   "display_name": ".venv",
   "language": "python",
   "name": "python3"
  },
  "language_info": {
   "codemirror_mode": {
    "name": "ipython",
    "version": 3
   },
   "file_extension": ".py",
   "mimetype": "text/x-python",
   "name": "python",
   "nbconvert_exporter": "python",
   "pygments_lexer": "ipython3",
   "version": "3.11.3"
  }
 },
 "nbformat": 4,
 "nbformat_minor": 5
}
