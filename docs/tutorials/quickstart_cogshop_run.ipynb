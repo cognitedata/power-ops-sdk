{
 "cells": [
  {
   "cell_type": "markdown",
   "id": "6a498ac3-dc99-4d25-8dc5-8547d8886eab",
   "metadata": {},
   "source": [
    "# Using the generated SDK and data models to trigger a CogShop run\n",
    "NOTE: The \"recommended\" way of running CogShop is as follows:\n",
    "1. Static model data and mappings for time-dependent data like time series represented by `ShopModel`\n",
    "2. Any variations on the base configuration (like different price scenarios) represented by `ShopScenario` instances \n",
    "3. Generate a complete `ShopCase` with time series datapoints based on a `ShopScenario` instance plus `startTime` and `endTime` through the shop_trigger Cognite function.\n",
    "\n",
    "This tutorial covers a different set-up: Triggering (Cog)Shop for a pre-generated, complete Shop \"case\" (as a yaml file)"
   ]
  },
  {
   "cell_type": "markdown",
   "id": "8908b6471eb427b8",
   "metadata": {
    "collapsed": false,
    "jupyter": {
     "outputs_hidden": false
    }
   },
   "source": [
    "## Preparation\n",
    "\n",
    "The main entry point for the SDK is the `PowerOpsClient`\n",
    "\n",
    "To get started, we assume you have installed the `cognite-power-ops` SDK and that all configurations have been set up in Cognite Data Fusion (CDF).\n",
    "\n",
    "Furthermore, it is assumed that you have set up one or two `toml` files with the credentials for connecting to Cognite Data Fusion and settings for this SDK.\n",
    "\n",
    "\n",
    "### Interactive Login\n",
    "This only requires one `toml` file looking like this\n",
    "\n",
    "`settings.toml`\n",
    "\n",
    "```toml\n",
    "[cognite]\n",
    "  login_flow = \"interactive\"\n",
    "  project = \"<cdf-project>\"\n",
    "  tenant_id = \"<tenant-id>\"\n",
    "  cdf_cluster = \"<cdf-cluster>\"\n",
    "  client_id = \"<client-id>\"\n",
    "\n",
    "[powerops]\n",
    "  read_dataset = \"uc:000:powerops\"\n",
    "  write_dataset = \"uc:000:powerops\"\n",
    "  monitor_dataset = \"uc:po:monitoring\"\n",
    "\n",
    "```\n",
    "\n",
    "### Client Credentials Login\n",
    "\n",
    "For this case the you can use two toml files to separate the secrets from the regular settings.\n",
    "\n",
    "\n",
    "`settings.toml`\n",
    "\n",
    "```toml\n",
    "[cognite]\n",
    "  login_flow = \"client_credentials\"\n",
    "  project = \"<cdf-project>\"\n",
    "  tenant_id = \"<tenant-id>\"\n",
    "  cdf_cluster = \"<cdf-cluster>\"\n",
    "  client_id = \"<client-id>\"\n",
    "\n",
    "[powerops]\n",
    "  read_dataset = \"uc:000:powerops\"\n",
    "  write_dataset = \"uc:000:powerops\"\n",
    "  monitor_dataset = \"uc:po:monitoring\"\n",
    "```\n",
    "and the `.secrets.toml`\n",
    "\n",
    "```toml\n",
    "[cognite]\n",
    "  client_secret = \"<client-secret>\"\n",
    "\n",
    "```\n",
    "\n",
    "Values in `.secrets.toml` will overwrite those in `settings.toml`\n",
    "\n",
    "\n"
   ]
  },
  {
   "cell_type": "code",
   "execution_count": 1,
   "id": "4e8902c5-c2af-4638-ab4c-986c68893b15",
   "metadata": {
    "ExecuteTime": {
     "end_time": "2023-10-31T16:50:17.696595Z",
     "start_time": "2023-10-31T16:50:15.150704Z"
    }
   },
   "outputs": [
    {
     "name": "stdout",
     "output_type": "stream",
     "text": [
      "0.101.1\n"
     ]
    }
   ],
   "source": [
    "# You can control which setting files are loaded through the environmental variable below.\n",
    "# In this case, the setting files are located two levels above, in the root of the repository.\n",
    "import os\n",
    "from cognite.powerops._version import __version__\n",
    "from cognite.powerops import PowerOpsClient\n",
    "\n",
    "\n",
    "os.environ[\"SETTINGS_FILES\"] = \"../../settings.toml;../../.secrets.toml\"\n",
    "\n",
    "powerops = PowerOpsClient.from_settings()\n",
    "\n",
    "WRITE_DATA_SET = powerops.datasets.write_dataset_id\n",
    "\n",
    "print(__version__)  # Print the version of the package"
   ]
  },
  {
   "cell_type": "markdown",
   "id": "23596be4",
   "metadata": {},
   "source": [
    "## STEPS:\n",
    "1. Upload a yaml file that can be used by Shop, and return the external id\n",
    "2. Set up a ShopCase, specifying the file reference and shop version \n",
    "3. Write (upsert) the ShopCase instance to CDF, and verify that it was created using the SDK\n",
    "4. Trigger a shop execution of that shop case\n",
    "5. Get the resulting ShopResult\n"
   ]
  },
  {
   "cell_type": "markdown",
   "id": "3ffb725b",
   "metadata": {},
   "source": [
    "### Step 1: Upload a file \n",
    "\n",
    "In the case that the file already exists, this step can be skipped. \n",
    "\n",
    "We need the external id for constructing the `ShopCase`"
   ]
  },
  {
   "cell_type": "code",
   "execution_count": 3,
   "id": "f4902678",
   "metadata": {},
   "outputs": [],
   "source": [
    "from pathlib import Path\n",
    "\n",
    "\n",
    "def upload_file(file_name: str) -> str:\n",
    "    \"\"\"Upload a file to CDF and return the external id of the file\"\"\"\n",
    "    file_path = (Path(\"example_case_files\") / file_name).resolve()\n",
    "    file = powerops.cdf.files.upload(\n",
    "        path=str(file_path),\n",
    "        external_id=\"example_stavanger_case_file\",\n",
    "        name=file_name,\n",
    "        data_set_id=WRITE_DATA_SET,\n",
    "        mime_type=\"application/yaml\",\n",
    "        # Overwrite the file at the given external is if it already exists\n",
    "        # This will also overwrite potentially existing metadata\n",
    "        overwrite=True,\n",
    "    )\n",
    "    return file.external_id\n",
    "\n",
    "\n",
    "# NB! The case in this example is minimal and just for demo purposes.\n",
    "my_file_reference = upload_file(file_name=\"a_example_stavanger_with_commands.yaml\")"
   ]
  },
  {
   "cell_type": "markdown",
   "id": "7d15a47f",
   "metadata": {},
   "source": [
    "### Step 2: Set up a ShopCase \n",
    "\n",
    "\n",
    "In this case, the `ShopScenario` as and its `ShopModel` are mostly superfluous. \n",
    "However, they are still added as nearly empty objects in order to set the SHOP version \n",
    "\n",
    "We use the generated SDK (`_generated`) as they are a direct reflection of the Data Models on CDF. Here the data classes end in `Write` since we are going to use the to send data to CDF. They all have a corresponding class used for retrieving data from CDF."
   ]
  },
  {
   "cell_type": "code",
   "execution_count": 4,
   "id": "ec68faae",
   "metadata": {},
   "outputs": [
    {
     "data": {
      "text/html": [
       "<div>\n",
       "<style scoped>\n",
       "    .dataframe tbody tr th:only-of-type {\n",
       "        vertical-align: middle;\n",
       "    }\n",
       "\n",
       "    .dataframe tbody tr th {\n",
       "        vertical-align: top;\n",
       "    }\n",
       "\n",
       "    .dataframe thead th {\n",
       "        text-align: right;\n",
       "    }\n",
       "</style>\n",
       "<table border=\"1\" class=\"dataframe\">\n",
       "  <thead>\n",
       "    <tr style=\"text-align: right;\">\n",
       "      <th></th>\n",
       "      <th>value</th>\n",
       "    </tr>\n",
       "  </thead>\n",
       "  <tbody>\n",
       "    <tr>\n",
       "      <th>space</th>\n",
       "      <td>power_ops_instances</td>\n",
       "    </tr>\n",
       "    <tr>\n",
       "      <th>external_id</th>\n",
       "      <td>example_stavanger_case_external_id</td>\n",
       "    </tr>\n",
       "    <tr>\n",
       "      <th>data_record</th>\n",
       "      <td>{'existing_version': None}</td>\n",
       "    </tr>\n",
       "    <tr>\n",
       "      <th>node_type</th>\n",
       "      <td>None</td>\n",
       "    </tr>\n",
       "    <tr>\n",
       "      <th>scenario</th>\n",
       "      <td>{'space': 'power_ops_instances', 'external_id'...</td>\n",
       "    </tr>\n",
       "    <tr>\n",
       "      <th>start_time</th>\n",
       "      <td>2024-05-31 22:00:00</td>\n",
       "    </tr>\n",
       "    <tr>\n",
       "      <th>end_time</th>\n",
       "      <td>2024-06-02 22:00:00</td>\n",
       "    </tr>\n",
       "    <tr>\n",
       "      <th>shop_files</th>\n",
       "      <td>[{'space': 'power_ops_instances', 'external_id...</td>\n",
       "    </tr>\n",
       "  </tbody>\n",
       "</table>\n",
       "</div>"
      ],
      "text/plain": [
       "ShopCaseWrite(space='power_ops_instances', external_id='example_stavanger_case_external_id', data_record=DataRecordWrite(existing_version=None), node_type=None, start_time=datetime.datetime(2024, 5, 31, 22, 0), end_time=datetime.datetime(2024, 6, 2, 22, 0))"
      ]
     },
     "execution_count": 4,
     "metadata": {},
     "output_type": "execute_result"
    }
   ],
   "source": [
    "import datetime\n",
    "\n",
    "from cognite.powerops.client._generated.v1.data_classes import (\n",
    "    ShopCaseWrite,  # This model contains everything needed to execute a SHOP run\n",
    "    ShopFileWrite,  # A container that holds a reference to a file in CDF\n",
    "    ShopModelWrite,  # A static model in a file reference + references to time series data\n",
    "    ShopScenarioWrite,  # A way to modify run configurations for a given model\n",
    ")\n",
    "\n",
    "# Unique identifier for the case, if not provided, an external id will be generated\n",
    "EXAMPLE_CASE_EXTERNAL_ID = \"example_stavanger_case_external_id\"\n",
    "\n",
    "\n",
    "def create_shop_case(\n",
    "    file_reference: str, shop_version: str = \"15.6.1.0\"\n",
    ") -> ShopCaseWrite:\n",
    "    # a scenario is used to modify the run configuration of the model\n",
    "    my_scenario = ShopScenarioWrite(\n",
    "        name=\"dummy_scenario\",\n",
    "        model=ShopModelWrite(name=\"dummy_model\", shop_version=shop_version),\n",
    "    )\n",
    "\n",
    "    shop_case_write = ShopCaseWrite(\n",
    "        externalId=EXAMPLE_CASE_EXTERNAL_ID,\n",
    "        # The time range SHOP is optimized over\n",
    "        startTime=datetime.datetime(2024, 5, 31, 22),\n",
    "        endTime=datetime.datetime(2024, 6, 2, 22),\n",
    "        scenario=my_scenario,\n",
    "        # The files that are used in the case\n",
    "        shopFiles=[\n",
    "            ShopFileWrite(\n",
    "                name=\"stavanger_case_file\",\n",
    "                label=\"\",\n",
    "                fileReference=file_reference,  # external id of the file on CDF\n",
    "                isAscii=False,\n",
    "                order=1,\n",
    "            ),\n",
    "        ],\n",
    "    )\n",
    "    return shop_case_write\n",
    "\n",
    "\n",
    "my_shop_case = create_shop_case(my_file_reference)\n",
    "my_shop_case"
   ]
  },
  {
   "cell_type": "markdown",
   "id": "96f29384",
   "metadata": {},
   "source": [
    "### Step 3: Upload the ShopCase\n",
    "\n",
    "And verify that we can retrieve it too. Notice that the returned object is not suffixed with `Write`"
   ]
  },
  {
   "cell_type": "code",
   "execution_count": 5,
   "id": "d122ed60",
   "metadata": {},
   "outputs": [
    {
     "data": {
      "text/plain": [
       "ResourcesWriteResult(nodes=[<NodeApplyResult(space='power_ops_instances', external_id='example_stavanger_case_external_id', version=1) at 0x7f2428227450>, <NodeApplyResult(space='power_ops_instances', external_id='shopfile:5c364e4010514e0e905446f0cebff4db', version=1) at 0x7f23d4b2ec10>, <NodeApplyResult(space='power_ops_instances', external_id='shopscenario:bc42f5f1180243ce80efb9e020ce740f', version=1) at 0x7f23d4b2ea90>, <NodeApplyResult(space='power_ops_instances', external_id='shopmodel:ac1533af987b4b6aa9261cfa19df4692', version=1) at 0x7f23d4b2d990>], edges=[<EdgeApplyResult(space='power_ops_instances', external_id='example_stavanger_case_external_id:shopfile:5c364e4010514e0e905446f0cebff4db', version=1) at 0x7f23d4b2cb90>], time_series=[])"
      ]
     },
     "execution_count": 5,
     "metadata": {},
     "output_type": "execute_result"
    }
   ],
   "source": [
    "def upload_shop_case(shop_case: ShopCaseWrite) -> None:\n",
    "    \"\"\"Upload a shop case to CDF\"\"\"\n",
    "    return powerops.v1.upsert(shop_case)\n",
    "\n",
    "\n",
    "upload_shop_case(my_shop_case)"
   ]
  },
  {
   "cell_type": "code",
   "execution_count": 6,
   "id": "d033c3d4",
   "metadata": {},
   "outputs": [
    {
     "data": {
      "text/html": [
       "<div>\n",
       "<style scoped>\n",
       "    .dataframe tbody tr th:only-of-type {\n",
       "        vertical-align: middle;\n",
       "    }\n",
       "\n",
       "    .dataframe tbody tr th {\n",
       "        vertical-align: top;\n",
       "    }\n",
       "\n",
       "    .dataframe thead th {\n",
       "        text-align: right;\n",
       "    }\n",
       "</style>\n",
       "<table border=\"1\" class=\"dataframe\">\n",
       "  <thead>\n",
       "    <tr style=\"text-align: right;\">\n",
       "      <th></th>\n",
       "      <th>value</th>\n",
       "    </tr>\n",
       "  </thead>\n",
       "  <tbody>\n",
       "    <tr>\n",
       "      <th>space</th>\n",
       "      <td>power_ops_instances</td>\n",
       "    </tr>\n",
       "    <tr>\n",
       "      <th>external_id</th>\n",
       "      <td>example_stavanger_case_external_id</td>\n",
       "    </tr>\n",
       "    <tr>\n",
       "      <th>data_record</th>\n",
       "      <td>{'version': 1, 'last_updated_time': 2024-10-21...</td>\n",
       "    </tr>\n",
       "    <tr>\n",
       "      <th>node_type</th>\n",
       "      <td>None</td>\n",
       "    </tr>\n",
       "    <tr>\n",
       "      <th>scenario</th>\n",
       "      <td>shopscenario:bc42f5f1180243ce80efb9e020ce740f</td>\n",
       "    </tr>\n",
       "    <tr>\n",
       "      <th>start_time</th>\n",
       "      <td>2024-05-31 22:00:00+00:00</td>\n",
       "    </tr>\n",
       "    <tr>\n",
       "      <th>end_time</th>\n",
       "      <td>2024-06-02 22:00:00+00:00</td>\n",
       "    </tr>\n",
       "    <tr>\n",
       "      <th>shop_files</th>\n",
       "      <td>[shopfile:5c364e4010514e0e905446f0cebff4db]</td>\n",
       "    </tr>\n",
       "  </tbody>\n",
       "</table>\n",
       "</div>"
      ],
      "text/plain": [
       "ShopCase(space='power_ops_instances', external_id='example_stavanger_case_external_id', data_record=DataRecord(version=1, last_updated_time=datetime.datetime(2024, 10, 21, 8, 13, 51, 114000, tzinfo=TzInfo(UTC)), created_time=datetime.datetime(2024, 10, 21, 8, 13, 51, 114000, tzinfo=TzInfo(UTC)), deleted_time=None), node_type=None, start_time=datetime.datetime(2024, 5, 31, 22, 0, tzinfo=TzInfo(UTC)), end_time=datetime.datetime(2024, 6, 2, 22, 0, tzinfo=TzInfo(UTC)))"
      ]
     },
     "execution_count": 6,
     "metadata": {},
     "output_type": "execute_result"
    }
   ],
   "source": [
    "from cognite.powerops.client._generated.v1.data_classes._shop_case import ShopCase\n",
    "\n",
    "\n",
    "# NB! This step is not necessary, if the upsert was successful we know the case is in CDF\n",
    "def retrieve_shop_case(case_external_id: str) -> ShopCase:\n",
    "    \"\"\"Retrieve a shop case from CDF\"\"\"\n",
    "    # return powerops.v1.get(external_id)\n",
    "    return powerops.v1.day_ahead_bid.shop_case.retrieve(external_id=case_external_id)\n",
    "\n",
    "\n",
    "retrieved_shop_case = retrieve_shop_case(EXAMPLE_CASE_EXTERNAL_ID)\n",
    "retrieved_shop_case"
   ]
  },
  {
   "cell_type": "markdown",
   "id": "d38c1534",
   "metadata": {},
   "source": [
    "### Step 4: Trigger the case\n",
    "\n",
    "We will here directly use the new `trigger_shop_case` method on the `powerops.cogshop` client"
   ]
  },
  {
   "cell_type": "code",
   "execution_count": 7,
   "id": "934e7d52",
   "metadata": {},
   "outputs": [],
   "source": [
    "powerops.cogshop.trigger_shop_case(EXAMPLE_CASE_EXTERNAL_ID)"
   ]
  },
  {
   "cell_type": "markdown",
   "id": "cd4b60ee",
   "metadata": {},
   "source": [
    "### Step 5: View the ShopResult generated \n",
    "\n",
    "Explanations for (some) of the fields of the `ShopResult`: \n",
    "\n",
    "* External id: The external id of the `ShopResult`\n",
    "* Case: The external id of the `ShopCase` that the instance belongs to\n",
    "* Objective value: The objective value of the Shop execution\n",
    "* Pre run: A file reference to the pre run yaml file\n",
    "* Post run: A file reference to the post run yaml file\n",
    "* Messages: A file reference to the logs generated by Shop\n",
    "* Cplex logs: A file reference to the cplex logs generated by Shop\n",
    "* Data record: The data record of the instance, contains `last_updated_time` and `created_time`\n",
    "\n"
   ]
  },
  {
   "cell_type": "markdown",
   "id": "5470afe6",
   "metadata": {},
   "source": [
    "#### 1. Querying for ShopResult instance, given their ShopCase external id\n",
    "\n",
    "Note that it may take a while to run (Cog)Shop. \n",
    "If the run is not completed then no results are returned"
   ]
  },
  {
   "cell_type": "code",
   "execution_count": 8,
   "id": "959c723f",
   "metadata": {},
   "outputs": [],
   "source": [
    "from cognite.powerops.client._generated.v1.data_classes import ShopResultList\n",
    "\n",
    "# Query the shop results based on the external id of the shop case\n",
    "# Since it is possible to have multiple results for a case (or view results of multiple cases)\n",
    "# the return type is a list\n",
    "def result_instance_query(shop_case_external_id: str) -> ShopResultList:\n",
    "    # Generate the query -- This can be more complex if needed, see tutorial `advanced_cogshop_run`\n",
    "    call_query = powerops.v1.day_ahead_bid.shop_result(case=shop_case_external_id)\n",
    "    return call_query.query()"
   ]
  },
  {
   "cell_type": "code",
   "execution_count": 10,
   "id": "ce897d35",
   "metadata": {},
   "outputs": [
    {
     "data": {
      "text/html": [
       "<div>\n",
       "<style scoped>\n",
       "    .dataframe tbody tr th:only-of-type {\n",
       "        vertical-align: middle;\n",
       "    }\n",
       "\n",
       "    .dataframe tbody tr th {\n",
       "        vertical-align: top;\n",
       "    }\n",
       "\n",
       "    .dataframe thead th {\n",
       "        text-align: right;\n",
       "    }\n",
       "</style>\n",
       "<table border=\"1\" class=\"dataframe\">\n",
       "  <thead>\n",
       "    <tr style=\"text-align: right;\">\n",
       "      <th></th>\n",
       "      <th>space</th>\n",
       "      <th>external_id</th>\n",
       "      <th>case</th>\n",
       "      <th>objective_value</th>\n",
       "      <th>pre_run</th>\n",
       "      <th>post_run</th>\n",
       "      <th>messages</th>\n",
       "      <th>cplex_logs</th>\n",
       "      <th>alerts</th>\n",
       "      <th>output_time_series</th>\n",
       "      <th>node_type</th>\n",
       "      <th>data_record</th>\n",
       "    </tr>\n",
       "  </thead>\n",
       "  <tbody>\n",
       "    <tr>\n",
       "      <th>0</th>\n",
       "      <td>power_ops_instances</td>\n",
       "      <td>shop_result__89893a72-e7f9-40a3-8ac9-93fac49eb9e6</td>\n",
       "      <td>example_stavanger_case_external_id</td>\n",
       "      <td>{'total': -380036.7316799998, 'load_value': 0....</td>\n",
       "      <td>example_stavanger_case_file</td>\n",
       "      <td>POWEROPS_SHOP_post-run-89893a72-e7f9-40a3-8ac9...</td>\n",
       "      <td>POWEROPS_SHOP_shop-89893a72-e7f9-40a3-8ac9-93f...</td>\n",
       "      <td>POWEROPS_SHOP_cplex-89893a72-e7f9-40a3-8ac9-93...</td>\n",
       "      <td>None</td>\n",
       "      <td>None</td>\n",
       "      <td>None</td>\n",
       "      <td>{'version': 1, 'last_updated_time': 2024-10-21...</td>\n",
       "    </tr>\n",
       "  </tbody>\n",
       "</table>\n",
       "</div>"
      ],
      "text/plain": [
       "                 space                                        external_id  \\\n",
       "0  power_ops_instances  shop_result__89893a72-e7f9-40a3-8ac9-93fac49eb9e6   \n",
       "\n",
       "                                 case  \\\n",
       "0  example_stavanger_case_external_id   \n",
       "\n",
       "                                     objective_value  \\\n",
       "0  {'total': -380036.7316799998, 'load_value': 0....   \n",
       "\n",
       "                       pre_run  \\\n",
       "0  example_stavanger_case_file   \n",
       "\n",
       "                                            post_run  \\\n",
       "0  POWEROPS_SHOP_post-run-89893a72-e7f9-40a3-8ac9...   \n",
       "\n",
       "                                            messages  \\\n",
       "0  POWEROPS_SHOP_shop-89893a72-e7f9-40a3-8ac9-93f...   \n",
       "\n",
       "                                          cplex_logs alerts  \\\n",
       "0  POWEROPS_SHOP_cplex-89893a72-e7f9-40a3-8ac9-93...   None   \n",
       "\n",
       "  output_time_series node_type  \\\n",
       "0               None      None   \n",
       "\n",
       "                                         data_record  \n",
       "0  {'version': 1, 'last_updated_time': 2024-10-21...  "
      ]
     },
     "execution_count": 10,
     "metadata": {},
     "output_type": "execute_result"
    }
   ],
   "source": [
    "# We convert the result to a pandas dataframe for easier data handling\n",
    "all_results_df = result_instance_query(EXAMPLE_CASE_EXTERNAL_ID).to_pandas()\n",
    "all_results_df"
   ]
  },
  {
   "cell_type": "markdown",
   "id": "8ce059bc",
   "metadata": {},
   "source": [
    "#### 2. Using the external ID of a ShopResult to retrieve and inspect it  "
   ]
  },
  {
   "cell_type": "code",
   "execution_count": 11,
   "id": "2d7407bd",
   "metadata": {},
   "outputs": [],
   "source": [
    "import pandas as pd\n",
    "from cognite.powerops.client._generated.v1.data_classes import (\n",
    "    ShopResult,\n",
    "    ShopResultList,\n",
    ")\n",
    "\n",
    "\n",
    "# Retrieve a specific shop result instance based on the external id of the shop result\n",
    "def result_instance_retrieve(external_id: str | list[str]) -> ShopResultList:\n",
    "    \"\"\"Returns a list of ShopResult instances based on the external id(s) of the shop result\"\"\"\n",
    "    instance = powerops.v1.shop_based_day_ahead_bid_process.shop_result.retrieve(\n",
    "        external_id=external_id\n",
    "    )\n",
    "    return instance"
   ]
  },
  {
   "cell_type": "code",
   "execution_count": 12,
   "id": "3d2e482f",
   "metadata": {},
   "outputs": [
    {
     "data": {
      "text/html": [
       "<div>\n",
       "<style scoped>\n",
       "    .dataframe tbody tr th:only-of-type {\n",
       "        vertical-align: middle;\n",
       "    }\n",
       "\n",
       "    .dataframe tbody tr th {\n",
       "        vertical-align: top;\n",
       "    }\n",
       "\n",
       "    .dataframe thead th {\n",
       "        text-align: right;\n",
       "    }\n",
       "</style>\n",
       "<table border=\"1\" class=\"dataframe\">\n",
       "  <thead>\n",
       "    <tr style=\"text-align: right;\">\n",
       "      <th></th>\n",
       "      <th>value</th>\n",
       "    </tr>\n",
       "  </thead>\n",
       "  <tbody>\n",
       "    <tr>\n",
       "      <th>space</th>\n",
       "      <td>power_ops_instances</td>\n",
       "    </tr>\n",
       "    <tr>\n",
       "      <th>external_id</th>\n",
       "      <td>shop_result__89893a72-e7f9-40a3-8ac9-93fac49eb9e6</td>\n",
       "    </tr>\n",
       "    <tr>\n",
       "      <th>data_record</th>\n",
       "      <td>{'version': 1, 'last_updated_time': 2024-10-21...</td>\n",
       "    </tr>\n",
       "    <tr>\n",
       "      <th>node_type</th>\n",
       "      <td>None</td>\n",
       "    </tr>\n",
       "    <tr>\n",
       "      <th>case</th>\n",
       "      <td>example_stavanger_case_external_id</td>\n",
       "    </tr>\n",
       "    <tr>\n",
       "      <th>objective_value</th>\n",
       "      <td>{'total': -380036.7316799998, 'load_value': 0....</td>\n",
       "    </tr>\n",
       "    <tr>\n",
       "      <th>pre_run</th>\n",
       "      <td>example_stavanger_case_file</td>\n",
       "    </tr>\n",
       "    <tr>\n",
       "      <th>post_run</th>\n",
       "      <td>POWEROPS_SHOP_post-run-89893a72-e7f9-40a3-8ac9...</td>\n",
       "    </tr>\n",
       "    <tr>\n",
       "      <th>messages</th>\n",
       "      <td>POWEROPS_SHOP_shop-89893a72-e7f9-40a3-8ac9-93f...</td>\n",
       "    </tr>\n",
       "    <tr>\n",
       "      <th>cplex_logs</th>\n",
       "      <td>POWEROPS_SHOP_cplex-89893a72-e7f9-40a3-8ac9-93...</td>\n",
       "    </tr>\n",
       "    <tr>\n",
       "      <th>alerts</th>\n",
       "      <td>[shop_penalty_report_dummy_scenario_2024-05-31...</td>\n",
       "    </tr>\n",
       "    <tr>\n",
       "      <th>output_time_series</th>\n",
       "      <td>None</td>\n",
       "    </tr>\n",
       "  </tbody>\n",
       "</table>\n",
       "</div>"
      ],
      "text/plain": [
       "ShopResult(space='power_ops_instances', external_id='shop_result__89893a72-e7f9-40a3-8ac9-93fac49eb9e6', data_record=DataRecord(version=1, last_updated_time=datetime.datetime(2024, 10, 21, 8, 14, 16, 131000, tzinfo=TzInfo(UTC)), created_time=datetime.datetime(2024, 10, 21, 8, 14, 16, 131000, tzinfo=TzInfo(UTC)), deleted_time=None), node_type=None, objective_value={'total': -380036.7316799998, 'load_value': 0.0, 'bypass_cost': 0.0, 'grand_total': -380036.7316799998, 'rsv_penalty': 0.0, 'load_penalty': 0.0, 'thermal_cost': 0.0, 'rsv_end_value': -197312.53247999988, 'solver_status': 'Optimal solution is available', 'startup_costs': 0.0, 'sum_penalties': 0.0, 'contract_value': 0.0, 'vow_in_transit': 0.0, 'bidding_penalty': 0.0, 'gate_slack_cost': 0.0, 'gate_spill_cost': 0.0, 'major_penalties': 0.0, 'market_sale_buy': -182724.19919999992, 'minor_penalties': 0.0, 'rsv_end_penalty': 0.0, 'sim_grand_total': 0.0, 'sim_rsv_penalty': 0.0, 'sum_feeding_fee': 0.0, 'creek_spill_cost': 0.0, 'reserve_sale_buy': 0.0, 'sim_rsv_end_value': 0.0, 'sim_startup_costs': 0.0, 'sum_discharge_fee': 0.0, 'reserve_slack_cost': 0.0, 'gate_discharge_cost': 0.0, 'junction_slack_cost': 0.0, 'physical_spill_cost': 0.0, 'reserve_oblig_value': 0.0, 'rsv_ramping_penalty': 0.0, 'sim_market_sale_buy': 0.0, 'sum_ramping_penalty': 0.0, 'gate_ramping_penalty': 0.0, 'gen_schedule_penalty': 0.0, 'rsv_tactical_penalty': 0.0, 'gate_q_constr_penalty': 0.0, 'group_ramping_penalty': 0.0, 'physical_spill_volume': 0.0, 'plant_ramping_penalty': 0.0, 'pump_schedule_penalty': 0.0, 'gate_peak_flow_penalty': 0.0, 'nonphysical_spill_cost': 0.0, 'plant_p_constr_penalty': 0.0, 'plant_q_constr_penalty': 0.0, 'plant_schedule_penalty': 0.0, 'river_max_flow_penalty': 0.0, 'river_min_flow_penalty': 0.0, 'rsv_end_value_relative': 91493.86752000015, 'rsv_hard_limit_penalty': 0.0, 'rsv_over_limit_penalty': 0.0, 'common_decision_penalty': 0.0, 'discharge_group_penalty': 0.0, 'group_time_step_penalty': 0.0, 'rsv_peak_volume_penalty': 0.0, 'rsv_spill_vol_end_value': 0.0, 'contract_ramping_penalty': 0.0, 'nonphysical_spill_volume': 0.0, 'reserve_schedule_penalty': 0.0, 'rsv_flood_volume_penalty': 0.0, 'creek_physical_spill_cost': 0.0, 'group_time_period_penalty': 0.0, 'reserve_violation_penalty': 0.0, 'safe_mode_universal_penalty': 0.0, 'times_of_wrong_pq_uploading': 0, 'creek_nonphysical_spill_cost': 0.0, 'production_group_power_penalty': 0.0, 'discharge_group_ramping_penalty': 0.0, 'production_group_energy_penalty': 0.0}, pre_run='example_stavanger_case_file', post_run='POWEROPS_SHOP_post-run-89893a72-e7f9-40a3-8ac9-93fac49eb9e6', messages='POWEROPS_SHOP_shop-89893a72-e7f9-40a3-8ac9-93fac49eb9e6', cplex_logs='POWEROPS_SHOP_cplex-89893a72-e7f9-40a3-8ac9-93fac49eb9e6')"
      ]
     },
     "execution_count": 12,
     "metadata": {},
     "output_type": "execute_result"
    }
   ],
   "source": [
    "first_result = all_results_df.head(1)\n",
    "\n",
    "# Retrieve the first result instance from the dataframe above. This guarantees that the result exists\n",
    "shop_result: ShopResult = result_instance_retrieve(first_result.external_id)[0]\n",
    "shop_result"
   ]
  },
  {
   "cell_type": "markdown",
   "id": "ef00ba2e",
   "metadata": {},
   "source": [
    "## Cleaning up the instances that were created\n",
    "\n",
    "Instances can be deleted by using the powerops client and the `external_id`s of everything we have created "
   ]
  },
  {
   "cell_type": "code",
   "execution_count": 13,
   "id": "fbca0a3d",
   "metadata": {},
   "outputs": [
    {
     "data": {
      "text/plain": [
       "['shop_result__89893a72-e7f9-40a3-8ac9-93fac49eb9e6',\n",
       " 'example_stavanger_case_external_id']"
      ]
     },
     "execution_count": 13,
     "metadata": {},
     "output_type": "execute_result"
    }
   ],
   "source": [
    "all_external_ids = all_results_df.external_id.tolist()\n",
    "all_external_ids.append(EXAMPLE_CASE_EXTERNAL_ID)\n",
    "\n",
    "all_external_ids"
   ]
  },
  {
   "cell_type": "code",
   "execution_count": 14,
   "id": "c9204f9d",
   "metadata": {},
   "outputs": [
    {
     "data": {
      "text/plain": [
       "InstancesDeleteResult(nodes=[NodeId(space='power_ops_instances', external_id='shop_result__89893a72-e7f9-40a3-8ac9-93fac49eb9e6'), NodeId(space='power_ops_instances', external_id='example_stavanger_case_external_id')], edges=[])"
      ]
     },
     "execution_count": 14,
     "metadata": {},
     "output_type": "execute_result"
    }
   ],
   "source": [
    "powerops.v1.delete(external_id=all_external_ids)\n"
   ]
  },
  {
   "cell_type": "code",
   "execution_count": null,
   "id": "4518a239",
   "metadata": {},
   "outputs": [],
   "source": []
  }
 ],
 "metadata": {
  "kernelspec": {
   "display_name": ".venv",
   "language": "python",
   "name": "python3"
  },
  "language_info": {
   "codemirror_mode": {
    "name": "ipython",
    "version": 3
   },
   "file_extension": ".py",
   "mimetype": "text/x-python",
   "name": "python",
   "nbconvert_exporter": "python",
   "pygments_lexer": "ipython3",
   "version": "3.11.3"
  }
 },
 "nbformat": 4,
 "nbformat_minor": 5
}
