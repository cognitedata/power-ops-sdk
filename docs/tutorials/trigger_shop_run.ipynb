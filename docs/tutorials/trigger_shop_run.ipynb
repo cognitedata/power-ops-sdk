{
 "cells": [
  {
   "cell_type": "markdown",
   "id": "6a498ac3-dc99-4d25-8dc5-8547d8886eab",
   "metadata": {},
   "source": [
    "# ShopRun and ShopCase\n",
    "\n",
    "1. Explore ShopRun\n",
    "2. Create ShopCase\n",
    "3. Trigger ShopRun from ShopCase\n",
    "4. Edit Case File\n",
    "5. Edit Case Data in Python"
   ]
  },
  {
   "cell_type": "markdown",
   "source": [
    "## Preparation\n",
    "\n",
    "Instantiating `PowerOpsClient`..."
   ],
   "metadata": {
    "collapsed": false
   },
   "id": "8908b6471eb427b8"
  },
  {
   "cell_type": "code",
   "execution_count": null,
   "id": "4e8902c5-c2af-4638-ab4c-986c68893b15",
   "metadata": {},
   "outputs": [],
   "source": [
    "# You can control which setting files are loaded through the environmental variable below. \n",
    "# In this case, the setting files are located two levels above, in the root of the repository.\n",
    "import os\n",
    "from cognite.powerops import PowerOpsClient\n",
    "os.environ[\"SETTINGS_FILES\"] = \"../../settings.toml;../../.secrets.toml\"\n",
    "\n",
    "powerops = PowerOpsClient.from_settings()"
   ]
  },
  {
   "cell_type": "markdown",
   "source": [
    "## Explore ShopRun\n",
    "\n",
    "`ShopRun` represents a single attempt at running SHOP."
   ],
   "metadata": {
    "collapsed": false
   },
   "id": "fbac8e25f013260d"
  },
  {
   "cell_type": "code",
   "execution_count": null,
   "id": "f5d0caf5-eb6d-44b5-87bf-229a284b87a6",
   "metadata": {},
   "outputs": [],
   "source": [
    "# Retrieve an existing shop run by event external_id\n",
    "shop_run_0 = powerops.shop.retrieve(\"POWEROPS_SHOP_RUN_2023-10-26T09:56:27.964670Z_efc805\")\n",
    "print(shop_run_0)"
   ]
  },
  {
   "cell_type": "code",
   "execution_count": null,
   "outputs": [],
   "source": [
    "shop_run_0.check_status()"
   ],
   "metadata": {
    "collapsed": false
   },
   "id": "8032c27e87713244"
  },
  {
   "cell_type": "code",
   "execution_count": null,
   "outputs": [],
   "source": [
    "list(shop_run_0.get_shop_files())\n",
    "# also available:\n",
    "# shop_run_0.get_case_file()\n",
    "# list(shop_run_0.get_log_files())"
   ],
   "metadata": {
    "collapsed": false
   },
   "id": "6e0e5f9dd5a31345"
  },
  {
   "cell_type": "markdown",
   "source": [
    "## Create ShopCase\n",
    "\n",
    "`ShopCase` is an editable representation of a SHOP case. It is used to prepare data for a SHOP run.\n",
    "\n",
    "We run SHOP by \"triggering\" `ShopCase`. This creates a new `ShopRun` instance.\n",
    "\n",
    "`ShopCase` can be created from an existing `ShopRun` instance (using `shop_run.as_case()`) or by directly instantiating the class. The former is probably useful more often."
   ],
   "metadata": {
    "collapsed": false
   },
   "id": "6cdd03f8f13faa83"
  },
  {
   "cell_type": "code",
   "execution_count": null,
   "outputs": [],
   "source": [
    "# Re-run SHOP using the same data \n",
    "case_1 = shop_run_0.to_case()\n",
    "shop_run_1 = powerops.shop.trigger_case(case_1)\n",
    "shop_run_1.check_status()"
   ],
   "metadata": {
    "collapsed": false
   },
   "id": "8566523ea1d8332"
  },
  {
   "cell_type": "code",
   "execution_count": null,
   "outputs": [],
   "source": [
    "# A small helper function to wait for a shop run to finish\n",
    "from time import sleep\n",
    "def wait(shop_run):\n",
    "    while shop_run.check_status() == \"in_progress\":\n",
    "        sleep(1)\n",
    "        print(\".\", end=\"\")\n",
    "    print(\"DONE\")\n",
    "    \n",
    "wait(shop_run_1)\n",
    "shop_run_1.check_status()"
   ],
   "metadata": {
    "collapsed": false
   },
   "id": "2058d00ad136b94a"
  },
  {
   "cell_type": "markdown",
   "source": [
    "# Edit Case File\n",
    "\n",
    "We will save the case YAML file to local filesystem, then make some changes to it and use the changed file to run SHOP again. \n",
    "\n",
    "The case file is here edited using Python, but in real use it is expected that the file be edited using external tools."
   ],
   "metadata": {
    "collapsed": false
   },
   "id": "71d60befaf05a13d"
  },
  {
   "cell_type": "code",
   "execution_count": null,
   "outputs": [],
   "source": [
    "# Make a new ShopCase and save the case file to local filesystem\n",
    "case = shop_run_1.to_case()\n",
    "case.save_yaml(\"case_file.yaml\")\n",
    "\n",
    "# Shop top of the file:\n",
    "def shop_top_of_file(file_name):\n",
    "    print(open(file_name).read(200) + \"...\")\n",
    "    \n",
    "shop_top_of_file(\"case_file.yaml\")"
   ],
   "metadata": {
    "collapsed": false
   },
   "id": "32853a4bea22726b"
  },
  {
   "cell_type": "code",
   "execution_count": null,
   "outputs": [],
   "source": [
    "# Deliberately break the YAML structure of the file. \n",
    "# Here we delete first 15 lines of the file for demonstration purposes.\n",
    "with open(\"case_file.yaml\") as case_file:\n",
    "    lines = case_file.readlines()\n",
    "with open(\"case_file.yaml\", \"w\") as case_file:\n",
    "    case_file.writelines(lines[15:])\n",
    "shop_top_of_file(\"case_file.yaml\")"
   ],
   "metadata": {
    "collapsed": false
   },
   "id": "7cdf1e4bc27fedfa"
  },
  {
   "cell_type": "code",
   "execution_count": null,
   "outputs": [],
   "source": [
    "# This is now an invalid YAML file, so we cannot use it with ShopCase.\n",
    "try:\n",
    "    case.load_case_file(\"case_file.yaml\")\n",
    "except Exception as exc:\n",
    "    print(repr(exc))"
   ],
   "metadata": {
    "collapsed": false
   },
   "id": "225b6cd949ad2c36"
  },
  {
   "cell_type": "code",
   "execution_count": null,
   "outputs": [],
   "source": [
    "# Add \"commands:\" line to the beginning of the file.\n",
    "# This will fix the YAML structure, but the case itself will remain broken.\n",
    "broken_case = open(\"case_file.yaml\").read()\n",
    "with open(\"case_file.yaml\", \"w\") as case_file:\n",
    "    case_file.write(\"commands:\\n\")\n",
    "    case_file.write(broken_case)\n",
    "shop_top_of_file(\"case_file.yaml\")"
   ],
   "metadata": {
    "collapsed": false
   },
   "id": "ac8a11b2538d69e0"
  },
  {
   "cell_type": "code",
   "execution_count": null,
   "outputs": [],
   "source": [
    "# Now we have a technically valid YAML, we can use it to run SHOP.\n",
    "case.load_case_file(\"case_file.yaml\")\n",
    "shop_run_2 = powerops.shop.trigger_case(case)\n",
    "shop_run_2.check_status()"
   ],
   "metadata": {
    "collapsed": false
   },
   "id": "19e69f91cf35b200"
  },
  {
   "cell_type": "code",
   "execution_count": null,
   "outputs": [],
   "source": [
    "# We expect SHOP run to run and fail, though.\n",
    "wait(shop_run_2)\n",
    "shop_run_2.check_status()"
   ],
   "metadata": {
    "collapsed": false
   },
   "id": "ce8b697f1fe200bd"
  },
  {
   "cell_type": "markdown",
   "source": [
    "## Edit data in Python\n",
    "\n",
    "Besides editing the case file and using `case.load_case_file()`, we can also interact with case data directly, using `case.data` dict.\n",
    "\n",
    "We will fix the case data by adding the missing commands back."
   ],
   "metadata": {
    "collapsed": false
   },
   "id": "6fe3d76f52f2393f"
  },
  {
   "cell_type": "code",
   "execution_count": null,
   "outputs": [],
   "source": [
    "# Add missing commmands back, direclty into case data.\n",
    "case.data[\"commands\"] = [\n",
    "     'set time_delay_unit MINUTE',\n",
    "     'set ramping /on',\n",
    "     'set stop_cost_from_start_cost /on',\n",
    "     'set bypass_loss /on',\n",
    "     'set mipgap 0.001000',\n",
    "     'set timelimit 600.000',\n",
    "     'set reserve_ramping_cost 1',\n",
    "     'set fcr_n_equality /on',\n",
    "     'set reserve_slack_cost 1',\n",
    "     'set reserve_min_capacity 0.02',\n",
    "     'set dyn_seg /on',\n",
    "     'set dyn_juncloss /on',\n",
    "     'penalty flag /on /plant /schedule',\n",
    "     'start sim 3',\n",
    "     'set code /inc',\n",
    "     'start sim 4',\n",
    "]"
   ],
   "metadata": {
    "collapsed": false
   },
   "id": "15e996e89bda8d6"
  },
  {
   "cell_type": "code",
   "execution_count": null,
   "outputs": [],
   "source": [
    "# This time we expect the SHOP run to succeed.\n",
    "shop_run_3 = powerops.shop.trigger_case(case)\n",
    "wait(shop_run_3)\n",
    "shop_run_3.check_status()"
   ],
   "metadata": {
    "collapsed": false
   },
   "id": "9fa81ac2a99fe853"
  },
  {
   "cell_type": "markdown",
   "source": [
    "## Cleanup"
   ],
   "metadata": {
    "collapsed": false
   },
   "id": "25846e4b0a6733de"
  },
  {
   "cell_type": "code",
   "execution_count": null,
   "outputs": [],
   "source": [
    "# remove the local case file\n",
    "import os\n",
    "os.unlink(\"case_file.yaml\")"
   ],
   "metadata": {
    "collapsed": false
   },
   "id": "b578c160a1b98bd7"
  },
  {
   "cell_type": "markdown",
   "source": [
    "End of notebook."
   ],
   "metadata": {
    "collapsed": false
   },
   "id": "6486d2a9e520379b"
  }
 ],
 "metadata": {
  "kernelspec": {
   "display_name": "Python 3 (ipykernel)",
   "language": "python",
   "name": "python3"
  },
  "language_info": {
   "codemirror_mode": {
    "name": "ipython",
    "version": 3
   },
   "file_extension": ".py",
   "mimetype": "text/x-python",
   "name": "python",
   "nbconvert_exporter": "python",
   "pygments_lexer": "ipython3",
   "version": "3.9.13"
  }
 },
 "nbformat": 4,
 "nbformat_minor": 5
}
