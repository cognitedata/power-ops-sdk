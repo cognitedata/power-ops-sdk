{
 "cells": [
  {
   "cell_type": "markdown",
   "id": "6a498ac3-dc99-4d25-8dc5-8547d8886eab",
   "metadata": {},
   "source": [
    "# SHOPRun and SHOPCase\n",
    "\n",
    "1. Explore SHOPRun\n",
    "2. Create SHOPCase\n",
    "3. Trigger SHOPRun from SHOPCase\n",
    "4. Edit Case File\n",
    "5. Edit Case Data in Python"
   ]
  },
  {
   "cell_type": "markdown",
   "id": "8908b6471eb427b8",
   "metadata": {
    "collapsed": false,
    "jupyter": {
     "outputs_hidden": false
    }
   },
   "source": [
    "## Preparation\n",
    "\n",
    "Instantiating `PowerOpsClient`..."
   ]
  },
  {
   "cell_type": "code",
   "execution_count": 1,
   "id": "4e8902c5-c2af-4638-ab4c-986c68893b15",
   "metadata": {
    "ExecuteTime": {
     "end_time": "2023-10-31T16:50:17.696595Z",
     "start_time": "2023-10-31T16:50:15.150704Z"
    }
   },
   "outputs": [],
   "source": [
    "# You can control which setting files are loaded through the environmental variable below.\n",
    "# In this case, the setting files are located two levels above, in the root of the repository.\n",
    "import os\n",
    "from cognite.powerops import PowerOpsClient\n",
    "\n",
    "os.environ[\"SETTINGS_FILES\"] = \"../../settings.toml;../../.secrets.toml\"\n",
    "\n",
    "powerops = PowerOpsClient.from_settings()"
   ]
  },
  {
   "cell_type": "markdown",
   "id": "fbac8e25f013260d",
   "metadata": {
    "collapsed": false,
    "jupyter": {
     "outputs_hidden": false
    }
   },
   "source": [
    "## Explore SHOPRun\n",
    "\n",
    "`SHOPRun` represents a single attempt at running SHOP."
   ]
  },
  {
   "cell_type": "code",
   "execution_count": 2,
   "id": "8032c27e87713244",
   "metadata": {
    "ExecuteTime": {
     "end_time": "2023-10-31T16:50:17.915448Z",
     "start_time": "2023-10-31T16:50:17.698065Z"
    },
    "collapsed": false,
    "jupyter": {
     "outputs_hidden": false
    }
   },
   "outputs": [
    {
     "data": {
      "text/plain": [
       "<SHOPRunStatus.SUCCESS: 'success'>"
      ]
     },
     "execution_count": 2,
     "metadata": {},
     "output_type": "execute_result"
    }
   ],
   "source": [
    "# Retrieve an existing shop run by event external_id.\n",
    "shop_run_0 = powerops.shop.retrieve(\"POWEROPS_SHOP_RUN_2023-10-26T09:56:27.964670Z_efc805\")\n",
    "shop_run_0.check_status()"
   ]
  },
  {
   "cell_type": "code",
   "execution_count": 3,
   "id": "f5d0caf5-eb6d-44b5-87bf-229a284b87a6",
   "metadata": {
    "ExecuteTime": {
     "end_time": "2023-10-31T16:50:17.919271Z",
     "start_time": "2023-10-31T16:50:17.898170Z"
    }
   },
   "outputs": [
    {
     "name": "stdout",
     "output_type": "stream",
     "text": [
      "{\n",
      "    \"external_id\": \"POWEROPS_SHOP_RUN_2023-10-26T09:56:27.964670Z_efc805\",\n",
      "    \"watercourse\": \"Fornebu\",\n",
      "    \"start\": \"2022-09-20 22:00:00+00:00\",\n",
      "    \"end\": \"2022-10-02 22:00:00+00:00\",\n",
      "    \"case_file_external_id\": \"cog_shop_preprocessor/cogShop/Case_2023-10-26T09:56:27.964670Z_efc805/44f8e8a9-e7ad-4bff-b544-99d8e7637a9c\",\n",
      "    \"shop_files_external_ids\": [\n",
      "        {\n",
      "            \"external_id\": \"SHOP_Fornebu_water_value_cut_file_reservoir_mapping\",\n",
      "            \"file_type\": \"ascii\"\n",
      "        },\n",
      "        {\n",
      "            \"external_id\": \"SHOP_Fornebu_water_value_cut_file\",\n",
      "            \"file_type\": \"ascii\"\n",
      "        }\n",
      "    ],\n",
      "    \"shop_version\": \"14.4.3.0\"\n",
      "}\n"
     ]
    }
   ],
   "source": [
    "print(shop_run_0)"
   ]
  },
  {
   "cell_type": "code",
   "execution_count": 4,
   "id": "cb059ff0-88c5-46ae-8c6c-268a8c19f5b8",
   "metadata": {
    "ExecuteTime": {
     "end_time": "2023-10-31T16:50:17.948195Z",
     "start_time": "2023-10-31T16:50:17.915181Z"
    }
   },
   "outputs": [],
   "source": [
    "# Small helper to display first 10 lines of a long string (e.g. content of a file).\n",
    "from IPython.display import display, HTML\n",
    "\n",
    "def preview_content(content):\n",
    "    N_LINES = 10\n",
    "    lines = content.splitlines()\n",
    "    trimmed_content = \"\\n\".join(lines[:N_LINES])\n",
    "    if len(lines) > N_LINES:\n",
    "        trimmed_content += \"\\n...\"\n",
    "    display(HTML(f\"<pre style='font-size: 75%; border: 1px solid var(--jp-content-font-color1); padding: 10px; margin: 10px 0 0 10px;'>{trimmed_content.strip()}</pre>\"))\n",
    "\n",
    "# Same, just for a file.\n",
    "def preview_file(file_path):\n",
    "    with open(file_path) as file:\n",
    "        preview_content(file.read())"
   ]
  },
  {
   "cell_type": "code",
   "execution_count": 5,
   "id": "6e0e5f9dd5a31345",
   "metadata": {
    "ExecuteTime": {
     "end_time": "2023-10-31T16:50:18.375795Z",
     "start_time": "2023-10-31T16:50:17.937972Z"
    },
    "collapsed": false,
    "jupyter": {
     "outputs_hidden": false
    }
   },
   "outputs": [
    {
     "data": {
      "text/html": [
       "<pre style='font-size: 75%; border: 1px solid var(--jp-content-font-color1); padding: 10px; margin: 10px 0 0 10px;'>NAMELIST\n",
       "\n",
       "# {reservoir name in SHOP} {corresponding module number in ProdRisk}\n",
       "\n",
       "Danielsen 201\n",
       "\n",
       "Lundvann 203\n",
       "\n",
       "Tangvall 203\n",
       "\n",
       "...</pre>"
      ],
      "text/plain": [
       "<IPython.core.display.HTML object>"
      ]
     },
     "metadata": {},
     "output_type": "display_data"
    },
    {
     "data": {
      "text/html": [
       "<pre style='font-size: 75%; border: 1px solid var(--jp-content-font-color1); padding: 10px; margin: 10px 0 0 10px;'>SHOP_WATER_VALUES\n",
       "         500          15\n",
       "           1   18418098.7335484\n",
       "   485.198458311662        464.294844772844        432.239959468076\n",
       "  0.000000000000000E+000   363.400756356441        363.400756356441\n",
       "   319.324967312672        259.184558818354        259.184558818354\n",
       "   128.391646381071        513.466236177169        352.250256249118\n",
       "   349.946242221269        232.914340353390       0.000000000000000E+000\n",
       "  0.000000000000000E+000  0.000000000000000E+000  0.000000000000000E+000\n",
       "   10.5555575216810       0.000000000000000E+000   1.43364985593899\n",
       "...</pre>"
      ],
      "text/plain": [
       "<IPython.core.display.HTML object>"
      ]
     },
     "metadata": {},
     "output_type": "display_data"
    }
   ],
   "source": [
    "# Show first 10 lines of each additional SHOP file in the case.\n",
    "N_LINES = 10\n",
    "for shop_file_content in shop_run_0.get_shop_files():\n",
    "    preview_content(shop_file_content)\n",
    "\n",
    "# also available:\n",
    "# shop_run_0.get_case_file()  # content of the case file\n",
    "# list(shop_run_0.get_log_files())  # content of log files, generated by SHOP"
   ]
  },
  {
   "cell_type": "markdown",
   "id": "6cdd03f8f13faa83",
   "metadata": {
    "ExecuteTime": {
     "end_time": "2023-10-27T12:51:03.440945Z",
     "start_time": "2023-10-27T12:51:02.259796Z"
    },
    "collapsed": false,
    "jupyter": {
     "outputs_hidden": false
    }
   },
   "source": [
    "## Create SHOPCase\n",
    "\n",
    "`SHOPCase` is an editable representation of a SHOP case. It is used to prepare data for a SHOP run.\n",
    "\n",
    "We run SHOP by \"triggering\" `SHOPCase`. This creates a new `SHOPRun` instance.\n",
    "\n",
    "`SHOPCase` can be created from an existing `SHOPRun` instance (using `shop_run.as_case()`) or by directly instantiating the class. The former is probably useful more often."
   ]
  },
  {
   "cell_type": "markdown",
   "id": "c6684f3f-3a6e-4312-a7da-e4a3337d7249",
   "metadata": {},
   "source": [
    "We will create a new SHOPCase from the existing SHOPRun, then run this new case."
   ]
  },
  {
   "cell_type": "code",
   "execution_count": 6,
   "id": "8566523ea1d8332",
   "metadata": {
    "ExecuteTime": {
     "end_time": "2023-10-31T16:50:19.259755Z",
     "start_time": "2023-10-31T16:50:18.378115Z"
    },
    "collapsed": false,
    "jupyter": {
     "outputs_hidden": false
    }
   },
   "outputs": [
    {
     "data": {
      "text/plain": [
       "<cognite.powerops.client.shop.shop_case.SHOPCase at 0x11c6f0a60>"
      ]
     },
     "execution_count": 6,
     "metadata": {},
     "output_type": "execute_result"
    }
   ],
   "source": [
    "# Create new SHOPCase from a previous SHOPRun.\n",
    "case_1 = shop_run_0.to_case()\n",
    "case_1"
   ]
  },
  {
   "cell_type": "code",
   "execution_count": 7,
   "id": "ea6cfe5b-25a0-4007-b8cd-015719a7d092",
   "metadata": {
    "ExecuteTime": {
     "end_time": "2023-10-31T16:50:20.573114Z",
     "start_time": "2023-10-31T16:50:19.258446Z"
    }
   },
   "outputs": [
    {
     "data": {
      "text/plain": [
       "<SHOPRunStatus.IN_PROGRESS: 'in_progress'>"
      ]
     },
     "execution_count": 7,
     "metadata": {},
     "output_type": "execute_result"
    }
   ],
   "source": [
    "# Run SHOP by triggering the new case.\n",
    "shop_run_1 = powerops.shop.trigger_case(case_1)\n",
    "shop_run_1.check_status()"
   ]
  },
  {
   "cell_type": "code",
   "execution_count": 8,
   "id": "2058d00ad136b94a",
   "metadata": {
    "ExecuteTime": {
     "end_time": "2023-10-31T16:50:54.069277Z",
     "start_time": "2023-10-31T16:50:20.573345Z"
    },
    "collapsed": false,
    "jupyter": {
     "outputs_hidden": false
    }
   },
   "outputs": [
    {
     "name": "stdout",
     "output_type": "stream",
     "text": [
      "..............................DONE\n"
     ]
    },
    {
     "data": {
      "text/plain": [
       "<SHOPRunStatus.SUCCESS: 'success'>"
      ]
     },
     "execution_count": 8,
     "metadata": {},
     "output_type": "execute_result"
    }
   ],
   "source": [
    "# A small helper function to wait for a shop run to finish.\n",
    "from time import sleep\n",
    "\n",
    "def wait(shop_run):\n",
    "    while shop_run.check_status() == \"in_progress\":\n",
    "        sleep(1)\n",
    "        print(\".\", end=\"\")\n",
    "    print(\"DONE\")\n",
    "\n",
    "\n",
    "wait(shop_run_1)\n",
    "shop_run_1.check_status()"
   ]
  },
  {
   "cell_type": "markdown",
   "id": "71d60befaf05a13d",
   "metadata": {
    "ExecuteTime": {
     "end_time": "2023-10-27T12:52:17.639408Z",
     "start_time": "2023-10-27T12:51:18.884225Z"
    },
    "collapsed": false,
    "jupyter": {
     "outputs_hidden": false
    }
   },
   "source": [
    "## Edit Case File\n",
    "\n",
    "We will save the case YAML file to local filesystem, then make some changes to it and use the changed file to run SHOP again. \n",
    "\n",
    "The case file is here edited using Python, but in real use it is expected that the file be edited using external tools."
   ]
  },
  {
   "cell_type": "code",
   "execution_count": 9,
   "id": "32853a4bea22726b",
   "metadata": {
    "ExecuteTime": {
     "end_time": "2023-10-31T16:50:55.366568Z",
     "start_time": "2023-10-31T16:50:54.071754Z"
    },
    "collapsed": false,
    "jupyter": {
     "outputs_hidden": false
    }
   },
   "outputs": [],
   "source": [
    "# Make a new SHOPCase and save the case file to local filesystem.\n",
    "case = shop_run_1.to_case()\n",
    "case.save_yaml(\"case_file.yaml\")"
   ]
  },
  {
   "cell_type": "code",
   "execution_count": 10,
   "id": "8b8651a9-d323-4a1a-a924-be78e150123b",
   "metadata": {
    "ExecuteTime": {
     "end_time": "2023-10-31T16:50:55.372192Z",
     "start_time": "2023-10-31T16:50:55.366693Z"
    }
   },
   "outputs": [
    {
     "data": {
      "text/html": [
       "<pre style='font-size: 75%; border: 1px solid var(--jp-content-font-color1); padding: 10px; margin: 10px 0 0 10px;'>commands:\n",
       "- set time_delay_unit MINUTE\n",
       "- set ramping /on\n",
       "- set stop_cost_from_start_cost /on\n",
       "- set bypass_loss /on\n",
       "- set mipgap 0.001000\n",
       "- set timelimit 600.000\n",
       "- set reserve_ramping_cost 1\n",
       "- set fcr_n_equality /on\n",
       "- set reserve_slack_cost 1\n",
       "...</pre>"
      ],
      "text/plain": [
       "<IPython.core.display.HTML object>"
      ]
     },
     "metadata": {},
     "output_type": "display_data"
    }
   ],
   "source": [
    "preview_file(\"case_file.yaml\")"
   ]
  },
  {
   "cell_type": "code",
   "execution_count": 11,
   "id": "7cdf1e4bc27fedfa",
   "metadata": {
    "ExecuteTime": {
     "end_time": "2023-10-31T16:50:55.385366Z",
     "start_time": "2023-10-31T16:50:55.371849Z"
    },
    "collapsed": false,
    "jupyter": {
     "outputs_hidden": false
    }
   },
   "outputs": [
    {
     "data": {
      "text/html": [
       "<pre style='font-size: 75%; border: 1px solid var(--jp-content-font-color1); padding: 10px; margin: 10px 0 0 10px;'>- foo\n",
       "connections:\n",
       "- connection_type: connection_bypass\n",
       "  from: Hagen\n",
       "  to: b_Hagen_Strand\n",
       "- connection_type: connection_bypass\n",
       "  from: Sirefelt\n",
       "  from_type: reservoir\n",
       "  to: b_Sirefelt_Knute_Rullsvatn\n",
       "  to_type: gate\n",
       "...</pre>"
      ],
      "text/plain": [
       "<IPython.core.display.HTML object>"
      ]
     },
     "metadata": {},
     "output_type": "display_data"
    }
   ],
   "source": [
    "# Deliberately break the YAML structure of the file.\n",
    "# Delete \"commands:\" key and add a nonsense command.\n",
    "with open(\"case_file.yaml\") as case_file:\n",
    "    lines = case_file.readlines()\n",
    "with open(\"case_file.yaml\", \"w\") as case_file:\n",
    "    case_file.write(\"- foo\\n\")\n",
    "    case_file.writelines(lines[17:])\n",
    "preview_file(\"case_file.yaml\")"
   ]
  },
  {
   "cell_type": "code",
   "execution_count": 12,
   "id": "225b6cd949ad2c36",
   "metadata": {
    "ExecuteTime": {
     "end_time": "2023-10-31T16:50:55.399408Z",
     "start_time": "2023-10-31T16:50:55.382654Z"
    },
    "collapsed": false,
    "jupyter": {
     "outputs_hidden": false
    }
   },
   "outputs": [
    {
     "name": "stdout",
     "output_type": "stream",
     "text": [
      "ValueError('Could not parse case data')\n"
     ]
    }
   ],
   "source": [
    "# This is now an invalid YAML file, so we cannot use it with SHOPCase.\n",
    "try:\n",
    "    case.load_case_file(\"case_file.yaml\")\n",
    "except Exception as exc:\n",
    "    print(repr(exc))"
   ]
  },
  {
   "cell_type": "code",
   "execution_count": 13,
   "id": "ac8a11b2538d69e0",
   "metadata": {
    "ExecuteTime": {
     "end_time": "2023-10-31T16:50:55.402335Z",
     "start_time": "2023-10-31T16:50:55.392914Z"
    },
    "collapsed": false,
    "jupyter": {
     "outputs_hidden": false
    }
   },
   "outputs": [
    {
     "data": {
      "text/html": [
       "<pre style='font-size: 75%; border: 1px solid var(--jp-content-font-color1); padding: 10px; margin: 10px 0 0 10px;'>commands:\n",
       "- foo\n",
       "connections:\n",
       "- connection_type: connection_bypass\n",
       "  from: Hagen\n",
       "  to: b_Hagen_Strand\n",
       "- connection_type: connection_bypass\n",
       "  from: Sirefelt\n",
       "  from_type: reservoir\n",
       "  to: b_Sirefelt_Knute_Rullsvatn\n",
       "...</pre>"
      ],
      "text/plain": [
       "<IPython.core.display.HTML object>"
      ]
     },
     "metadata": {},
     "output_type": "display_data"
    }
   ],
   "source": [
    "# Add \"commands:\" line to the beginning of the file.\n",
    "# This will fix the YAML structure, but the case itself will remain broken because of the nonsense command \"foo\".\n",
    "broken_case = open(\"case_file.yaml\").read()\n",
    "with open(\"case_file.yaml\", \"w\") as case_file:\n",
    "    case_file.write(\"commands:\\n\")\n",
    "    case_file.write(broken_case)\n",
    "preview_file(\"case_file.yaml\")"
   ]
  },
  {
   "cell_type": "code",
   "execution_count": 14,
   "id": "19e69f91cf35b200",
   "metadata": {
    "ExecuteTime": {
     "end_time": "2023-10-31T16:50:57.229867Z",
     "start_time": "2023-10-31T16:50:55.513062Z"
    },
    "collapsed": false,
    "jupyter": {
     "outputs_hidden": false
    }
   },
   "outputs": [
    {
     "data": {
      "text/plain": [
       "<SHOPRunStatus.IN_PROGRESS: 'in_progress'>"
      ]
     },
     "execution_count": 14,
     "metadata": {},
     "output_type": "execute_result"
    }
   ],
   "source": [
    "# Now we have a technically valid YAML, we can use it to run SHOP.\n",
    "case.load_case_file(\"case_file.yaml\")\n",
    "shop_run_2 = powerops.shop.trigger_case(case)\n",
    "shop_run_2.check_status()"
   ]
  },
  {
   "cell_type": "code",
   "execution_count": 15,
   "id": "ce8b697f1fe200bd",
   "metadata": {
    "ExecuteTime": {
     "end_time": "2023-10-31T16:51:12.455967Z",
     "start_time": "2023-10-31T16:50:57.234058Z"
    },
    "collapsed": false,
    "jupyter": {
     "outputs_hidden": false
    }
   },
   "outputs": [
    {
     "name": "stdout",
     "output_type": "stream",
     "text": [
      "..............DONE\n"
     ]
    },
    {
     "data": {
      "text/plain": [
       "<SHOPRunStatus.FAILED: 'failed'>"
      ]
     },
     "execution_count": 15,
     "metadata": {},
     "output_type": "execute_result"
    }
   ],
   "source": [
    "# We expect SHOP run to run and fail, though.\n",
    "wait(shop_run_2)\n",
    "shop_run_2.check_status()"
   ]
  },
  {
   "cell_type": "code",
   "execution_count": 16,
   "id": "8d08dd4ad7620e05",
   "metadata": {
    "ExecuteTime": {
     "end_time": "2023-10-31T16:51:12.543875Z",
     "start_time": "2023-10-31T16:51:12.456666Z"
    },
    "collapsed": false,
    "jupyter": {
     "outputs_hidden": false
    }
   },
   "outputs": [
    {
     "name": "stdout",
     "output_type": "stream",
     "text": [
      "{'error': 'Traceback (most recent call last):\\n'\n",
      "          '  File \"/workspace/cogshop/status_events.py\", line 84, in wrapper\\n'\n",
      "          '    res = func(client, event_external_id, *args, **kwargs)\\n'\n",
      "          '  File \"/workspace/cogshop/main.py\", line 74, in _main\\n'\n",
      "          '    cog_shop.run()\\n'\n",
      "          '  File \"/workspace/cogshop/cog_shop_session.py\", line 125, in run\\n'\n",
      "          '    self._execute_commands()\\n'\n",
      "          '  File \"/workspace/cogshop/cog_shop_session.py\", line 119, in '\n",
      "          '_execute_commands\\n'\n",
      "          '    self._load_dict(commands)\\n'\n",
      "          '  File \"/workspace/cogshop/cog_shop_session.py\", line 78, in '\n",
      "          '_load_dict\\n'\n",
      "          '    self._load_yaml(yaml_string=yaml_string)\\n'\n",
      "          '  File \"/workspace/cogshop/cog_shop_session.py\", line 82, in '\n",
      "          '_load_yaml\\n'\n",
      "          '    self._shop.load_yaml(yaml_string=yaml_string)\\n'\n",
      "          '  File '\n",
      "          '\"/layers/paketo-buildpacks_poetry-install/poetry-venv/cogshop-xS3fZVNL-py3.9/lib/python3.9/site-packages/pyshop/shop_runner.py\", '\n",
      "          'line 193, in load_yaml\\n'\n",
      "          '    self.shop_api.ReadYamlString(yaml_string)\\n'\n",
      "          'IndexError: vector::_M_range_check: __n (which is 1) >= '\n",
      "          'this->size() (which is 1)\\n',\n",
      " 'failures': None}\n"
     ]
    }
   ],
   "source": [
    "# More information about the failure can be obtained from the SHOP run object.\n",
    "from pprint import pprint\n",
    "failure_info = shop_run_2.get_failure_info()\n",
    "pprint(failure_info)"
   ]
  },
  {
   "cell_type": "code",
   "execution_count": 17,
   "id": "f327f9e670a80b4d",
   "metadata": {
    "ExecuteTime": {
     "end_time": "2023-10-31T16:51:23.551764Z",
     "start_time": "2023-10-31T16:51:12.545158Z"
    },
    "collapsed": false,
    "jupyter": {
     "outputs_hidden": false
    }
   },
   "outputs": [
    {
     "name": "stdout",
     "output_type": "stream",
     "text": [
      "..........'failures' data populated:\n",
      "{'error': 'Traceback (most recent call last):\\n'\n",
      "          '  File \"/workspace/cogshop/status_events.py\", line 84, in wrapper\\n'\n",
      "          '    res = func(client, event_external_id, *args, **kwargs)\\n'\n",
      "          '  File \"/workspace/cogshop/main.py\", line 74, in _main\\n'\n",
      "          '    cog_shop.run()\\n'\n",
      "          '  File \"/workspace/cogshop/cog_shop_session.py\", line 125, in run\\n'\n",
      "          '    self._execute_commands()\\n'\n",
      "          '  File \"/workspace/cogshop/cog_shop_session.py\", line 119, in '\n",
      "          '_execute_commands\\n'\n",
      "          '    self._load_dict(commands)\\n'\n",
      "          '  File \"/workspace/cogshop/cog_shop_session.py\", line 78, in '\n",
      "          '_load_dict\\n'\n",
      "          '    self._load_yaml(yaml_string=yaml_string)\\n'\n",
      "          '  File \"/workspace/cogshop/cog_shop_session.py\", line 82, in '\n",
      "          '_load_yaml\\n'\n",
      "          '    self._shop.load_yaml(yaml_string=yaml_string)\\n'\n",
      "          '  File '\n",
      "          '\"/layers/paketo-buildpacks_poetry-install/poetry-venv/cogshop-xS3fZVNL-py3.9/lib/python3.9/site-packages/pyshop/shop_runner.py\", '\n",
      "          'line 193, in load_yaml\\n'\n",
      "          '    self.shop_api.ReadYamlString(yaml_string)\\n'\n",
      "          'IndexError: vector::_M_range_check: __n (which is 1) >= '\n",
      "          'this->size() (which is 1)\\n',\n",
      " 'failures': [{'finishedAt': '2023-10-31T16:51:18Z',\n",
      "               'message': 'retryStrategy.expression evaluated to false',\n",
      "               'podName': 'shop-execution-q5rqq'},\n",
      "              {'finishedAt': '2023-10-31T16:51:12Z',\n",
      "               'message': 'Error (exit code 1)',\n",
      "               'podName': 'shop-execution-q5rqq-3665343004'}]}\n"
     ]
    }
   ],
   "source": [
    "# it takes a few seconds for the \"failures\" data to become available.\n",
    "while not failure_info.get(\"failures\"):\n",
    "    print(\".\", end=\"\")\n",
    "    sleep(1)\n",
    "    failure_info = shop_run_2.get_failure_info()\n",
    "print(\"'failures' data populated:\")\n",
    "pprint(failure_info)"
   ]
  },
  {
   "cell_type": "code",
   "execution_count": 18,
   "id": "1ee3d404-a334-4c65-9767-d3c104982823",
   "metadata": {
    "ExecuteTime": {
     "end_time": "2023-10-31T16:51:23.612299Z",
     "start_time": "2023-10-31T16:51:23.566113Z"
    }
   },
   "outputs": [
    {
     "data": {
      "text/html": [
       "<div>\n",
       "<style scoped>\n",
       "    .dataframe tbody tr th:only-of-type {\n",
       "        vertical-align: middle;\n",
       "    }\n",
       "\n",
       "    .dataframe tbody tr th {\n",
       "        vertical-align: top;\n",
       "    }\n",
       "\n",
       "    .dataframe thead th {\n",
       "        text-align: right;\n",
       "    }\n",
       "</style>\n",
       "<table border=\"1\" class=\"dataframe\">\n",
       "  <thead>\n",
       "    <tr style=\"text-align: right;\">\n",
       "      <th></th>\n",
       "      <th>Value</th>\n",
       "    </tr>\n",
       "  </thead>\n",
       "  <tbody>\n",
       "    <tr>\n",
       "      <th>external_id</th>\n",
       "      <td>SHOP_RUN_2023-10-31T16:50:56.151557Z_81796b</td>\n",
       "    </tr>\n",
       "    <tr>\n",
       "      <th>watercourse</th>\n",
       "      <td>fornebu</td>\n",
       "    </tr>\n",
       "    <tr>\n",
       "      <th>start</th>\n",
       "      <td>2023-10-31 16:50:56.151557+00:00</td>\n",
       "    </tr>\n",
       "    <tr>\n",
       "      <th>end</th>\n",
       "      <td>None</td>\n",
       "    </tr>\n",
       "    <tr>\n",
       "      <th>case_file_external_id</th>\n",
       "      <td>cog_shop_manual_2023-10-31T16:50:56.151557Z_80...</td>\n",
       "    </tr>\n",
       "    <tr>\n",
       "      <th>shop_files_external_ids</th>\n",
       "      <td>[{'external_id': 'SHOP_Fornebu_water_value_cut...</td>\n",
       "    </tr>\n",
       "    <tr>\n",
       "      <th>shop_version</th>\n",
       "      <td>14.4.3.0</td>\n",
       "    </tr>\n",
       "  </tbody>\n",
       "</table>\n",
       "</div>"
      ],
      "text/plain": [
       "SHOPRun(external_id='SHOP_RUN_2023-10-31T16:50:56.151557Z_81796b', watercourse='fornebu', data_set_id=8714485055141158, start=datetime.datetime(2023, 10, 31, 16, 50, 56, 151557, tzinfo=datetime.timezone.utc), end=None, shop_version='14.4.3.0', source='cS95aZhhR_pTtERx4ShvJQ', _case_file_external_id='cog_shop_manual_2023-10-31T16:50:56.151557Z_80198e', _shop_files=[SHOPFileReference(external_id='SHOP_Fornebu_water_value_cut_file_reservoir_mapping', file_type='ascii'), SHOPFileReference(external_id='SHOP_Fornebu_water_value_cut_file', file_type='ascii')], _run_event_types={'POWEROPS_PROCESS_FAILED', 'POWEROPS_PROCESS_STARTED'})"
      ]
     },
     "execution_count": 18,
     "metadata": {},
     "output_type": "execute_result"
    }
   ],
   "source": [
    "shop_run_2"
   ]
  },
  {
   "cell_type": "markdown",
   "id": "6fe3d76f52f2393f",
   "metadata": {
    "ExecuteTime": {
     "end_time": "2023-10-27T12:53:51.791900Z",
     "start_time": "2023-10-27T12:53:51.701782Z"
    },
    "collapsed": false,
    "jupyter": {
     "outputs_hidden": false
    }
   },
   "source": [
    "## Edit Data in Python\n",
    "\n",
    "Besides editing the case file and using `case.load_case_file()`, we can also interact with case data directly, using `case.data` dict.\n",
    "\n",
    "We will fix the case data by adding the missing commands back."
   ]
  },
  {
   "cell_type": "code",
   "execution_count": 19,
   "id": "15e996e89bda8d6",
   "metadata": {
    "ExecuteTime": {
     "end_time": "2023-10-31T16:51:23.621434Z",
     "start_time": "2023-10-31T16:51:23.594646Z"
    },
    "collapsed": false,
    "jupyter": {
     "outputs_hidden": false
    }
   },
   "outputs": [],
   "source": [
    "# Add missing commands back, directly into case data.\n",
    "case.data[\"commands\"] = [\n",
    "    \"set time_delay_unit MINUTE\",\n",
    "    \"set ramping /on\",\n",
    "    \"set stop_cost_from_start_cost /on\",\n",
    "    \"set bypass_loss /on\",\n",
    "    \"set mipgap 0.001000\",\n",
    "    \"set timelimit 600.000\",\n",
    "    \"set reserve_ramping_cost 1\",\n",
    "    \"set fcr_n_equality /on\",\n",
    "    \"set reserve_slack_cost 1\",\n",
    "    \"set reserve_min_capacity 0.02\",\n",
    "    \"set dyn_seg /on\",\n",
    "    \"set dyn_juncloss /on\",\n",
    "    \"penalty flag /on /plant /schedule\",\n",
    "    \"start sim 3\",\n",
    "    \"set code /inc\",\n",
    "    \"start sim 4\",\n",
    "]"
   ]
  },
  {
   "cell_type": "code",
   "execution_count": 20,
   "id": "9fa81ac2a99fe853",
   "metadata": {
    "ExecuteTime": {
     "end_time": "2023-10-31T16:51:58.915098Z",
     "start_time": "2023-10-31T16:51:23.607940Z"
    },
    "collapsed": false,
    "jupyter": {
     "outputs_hidden": false
    }
   },
   "outputs": [
    {
     "name": "stdout",
     "output_type": "stream",
     "text": [
      "...............................DONE\n"
     ]
    },
    {
     "data": {
      "text/plain": [
       "<SHOPRunStatus.SUCCESS: 'success'>"
      ]
     },
     "execution_count": 20,
     "metadata": {},
     "output_type": "execute_result"
    }
   ],
   "source": [
    "# This time we expect the SHOP run to succeed.\n",
    "shop_run_3 = powerops.shop.trigger_case(case)\n",
    "wait(shop_run_3)\n",
    "shop_run_3.check_status()"
   ]
  },
  {
   "cell_type": "markdown",
   "id": "25846e4b0a6733de",
   "metadata": {
    "ExecuteTime": {
     "end_time": "2023-10-27T12:54:56.177390Z",
     "start_time": "2023-10-27T12:53:55.202814Z"
    },
    "collapsed": false,
    "jupyter": {
     "outputs_hidden": false
    }
   },
   "source": [
    "## Cleanup"
   ]
  },
  {
   "cell_type": "code",
   "execution_count": 21,
   "id": "b578c160a1b98bd7",
   "metadata": {
    "ExecuteTime": {
     "end_time": "2023-10-31T16:51:58.932469Z",
     "start_time": "2023-10-31T16:51:58.917162Z"
    },
    "collapsed": false,
    "jupyter": {
     "outputs_hidden": false
    }
   },
   "outputs": [],
   "source": [
    "# Remove the local case file.\n",
    "import os\n",
    "\n",
    "os.unlink(\"case_file.yaml\")"
   ]
  },
  {
   "cell_type": "markdown",
   "id": "6486d2a9e520379b",
   "metadata": {
    "collapsed": false,
    "jupyter": {
     "outputs_hidden": false
    }
   },
   "source": [
    "End of notebook."
   ]
  }
 ],
 "metadata": {
  "kernelspec": {
   "display_name": "Python 3 (ipykernel)",
   "language": "python",
   "name": "python3"
  },
  "language_info": {
   "codemirror_mode": {
    "name": "ipython",
    "version": 3
   },
   "file_extension": ".py",
   "mimetype": "text/x-python",
   "name": "python",
   "nbconvert_exporter": "python",
   "pygments_lexer": "ipython3",
   "version": "3.9.17"
  }
 },
 "nbformat": 4,
 "nbformat_minor": 5
}
