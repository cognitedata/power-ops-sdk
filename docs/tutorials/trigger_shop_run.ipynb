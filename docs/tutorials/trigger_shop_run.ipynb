{
 "cells": [
  {
   "cell_type": "markdown",
   "id": "6a498ac3-dc99-4d25-8dc5-8547d8886eab",
   "metadata": {},
   "source": [
    "**Note** this is an older demo and might not be relevant any more"
   ]
  },
  {
   "cell_type": "code",
   "execution_count": 2,
   "id": "4e8902c5-c2af-4638-ab4c-986c68893b15",
   "metadata": {},
   "outputs": [],
   "source": [
    "# You can control which setting files are loaded through the environmental variable below. \n",
    "# In this case, the setting files are located two levels above.\n",
    "import os\n",
    "from cognite.powerops import PowerOpsClient\n",
    "os.environ[\"SETTINGS_FILES\"] = \"../../settings.toml;../../.secrets.toml\"\n",
    "\n",
    "powerops = PowerOpsClient.from_settings()"
   ]
  },
  {
   "cell_type": "code",
   "execution_count": null,
   "id": "f5d0caf5-eb6d-44b5-87bf-229a284b87a6",
   "metadata": {},
   "outputs": [],
   "source": [
    "from pprint import pprint\n",
    "\n",
    "from cognite.powerops.client.shop.data_classes import Case\n",
    "\n",
    "\n",
    "p = PowerOpsClient.from_settings()\n",
    "\n",
    "case = Case.from_yaml_file(\"/path/to/cogshop/test_cogshopsession/test_inputs/run.yaml\")\n",
    "case.add_cut_file(\"/path/to/cogshop/test_cogshopsession/test_inputs/cut.txt\")\n",
    "case.add_mapping_file(\n",
    "    \"/path/to/cogshop/test_cogshopsession/test_inputs/reservoir_mapping.txt\",\n",
    "    encoding=\"iso-8859-1\",  # default: \"utf-8\n",
    ")\n",
    "case.add_extra_file(\"/path/to/cogshop/test_cogshopsession/test_inputs/commands.yaml\")\n",
    "\n",
    "run = p.shop.runs.trigger(case)\n",
    "# run = p.shop.runs._upload_to_cdf(case)  # upload but don't trigger\n",
    "\n",
    "print(run.in_progress)\n",
    "run.wait_until_complete()\n",
    "print(run.in_progress)\n",
    "\n",
    "results = run.get_results()\n",
    "print(results)\n",
    "pprint(results.post_run.data[\"commands\"])"
   ]
  }
 ],
 "metadata": {
  "kernelspec": {
   "display_name": "Python 3 (ipykernel)",
   "language": "python",
   "name": "python3"
  },
  "language_info": {
   "codemirror_mode": {
    "name": "ipython",
    "version": 3
   },
   "file_extension": ".py",
   "mimetype": "text/x-python",
   "name": "python",
   "nbconvert_exporter": "python",
   "pygments_lexer": "ipython3",
   "version": "3.9.13"
  }
 },
 "nbformat": 4,
 "nbformat_minor": 5
}
