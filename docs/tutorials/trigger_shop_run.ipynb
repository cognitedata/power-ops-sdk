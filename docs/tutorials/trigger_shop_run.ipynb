{
 "cells": [
  {
   "cell_type": "markdown",
   "id": "6a498ac3-dc99-4d25-8dc5-8547d8886eab",
   "metadata": {},
   "source": [
    "# SHOPRun and SHOPCase\n",
    "\n",
    "1. Explore SHOPRun\n",
    "2. Create SHOPCase\n",
    "3. Trigger SHOPRun from SHOPCase\n",
    "4. Edit Case File\n",
    "5. Edit Case Data in Python"
   ]
  },
  {
   "cell_type": "markdown",
   "id": "8908b6471eb427b8",
   "metadata": {
    "collapsed": false,
    "jupyter": {
     "outputs_hidden": false
    }
   },
   "source": [
    "## Preparation\n",
    "\n",
    "Instantiating `PowerOpsClient`..."
   ]
  },
  {
   "cell_type": "code",
   "execution_count": 1,
   "id": "4e8902c5-c2af-4638-ab4c-986c68893b15",
   "metadata": {
    "ExecuteTime": {
     "end_time": "2023-10-27T14:28:18.714092Z",
     "start_time": "2023-10-27T14:28:15.717850Z"
    }
   },
   "outputs": [],
   "source": [
    "# You can control which setting files are loaded through the environmental variable below.\n",
    "# In this case, the setting files are located two levels above, in the root of the repository.\n",
    "import os\n",
    "from cognite.powerops import PowerOpsClient\n",
    "\n",
    "os.environ[\"SETTINGS_FILES\"] = \"../../settings.toml;../../.secrets.toml\"\n",
    "\n",
    "powerops = PowerOpsClient.from_settings()"
   ]
  },
  {
   "cell_type": "markdown",
   "id": "fbac8e25f013260d",
   "metadata": {
    "collapsed": false,
    "jupyter": {
     "outputs_hidden": false
    }
   },
   "source": [
    "## Explore SHOPRun\n",
    "\n",
    "`SHOPRun` represents a single attempt at running SHOP."
   ]
  },
  {
   "cell_type": "code",
   "execution_count": 2,
   "id": "8032c27e87713244",
   "metadata": {
    "ExecuteTime": {
     "end_time": "2023-10-27T14:28:18.862146Z",
     "start_time": "2023-10-27T14:28:18.711998Z"
    },
    "collapsed": false,
    "jupyter": {
     "outputs_hidden": false
    }
   },
   "outputs": [
    {
     "data": {
      "text/plain": [
       "<SHOPRunStatus.SUCCESS: 'success'>"
      ]
     },
     "execution_count": 2,
     "metadata": {},
     "output_type": "execute_result"
    }
   ],
   "source": [
    "# Retrieve an existing shop run by event external_id.\n",
    "shop_run_0 = powerops.shop.retrieve(\"POWEROPS_SHOP_RUN_2023-10-26T09:56:27.964670Z_efc805\")\n",
    "shop_run_0.check_status()"
   ]
  },
  {
   "cell_type": "code",
   "execution_count": 3,
   "id": "f5d0caf5-eb6d-44b5-87bf-229a284b87a6",
   "metadata": {
    "ExecuteTime": {
     "end_time": "2023-10-27T14:28:18.865887Z",
     "start_time": "2023-10-27T14:28:18.860961Z"
    }
   },
   "outputs": [
    {
     "name": "stdout",
     "output_type": "stream",
     "text": [
      "{\n",
      "    \"external_id\": \"POWEROPS_SHOP_RUN_2023-10-26T09:56:27.964670Z_efc805\",\n",
      "    \"watercourse\": \"Fornebu\",\n",
      "    \"start\": \"2022-09-20 22:00:00+00:00\",\n",
      "    \"end\": \"2022-10-02 22:00:00+00:00\",\n",
      "    \"case_file_external_id\": \"cog_shop_preprocessor/cogShop/Case_2023-10-26T09:56:27.964670Z_efc805/44f8e8a9-e7ad-4bff-b544-99d8e7637a9c\",\n",
      "    \"shop_files_external_ids\": [\n",
      "        {\n",
      "            \"external_id\": \"SHOP_Fornebu_water_value_cut_file_reservoir_mapping\",\n",
      "            \"file_type\": \"ascii\"\n",
      "        },\n",
      "        {\n",
      "            \"external_id\": \"SHOP_Fornebu_water_value_cut_file\",\n",
      "            \"file_type\": \"ascii\"\n",
      "        }\n",
      "    ],\n",
      "    \"shop_version\": \"14.4.3.0\"\n",
      "}\n"
     ]
    }
   ],
   "source": [
    "print(shop_run_0)"
   ]
  },
  {
   "cell_type": "code",
   "execution_count": 4,
   "id": "cb059ff0-88c5-46ae-8c6c-268a8c19f5b8",
   "metadata": {},
   "outputs": [],
   "source": [
    "# Small helper to display first 10 lines of a long string (e.g. content of a file).\n",
    "from IPython.display import display, HTML\n",
    "\n",
    "def preview_content(content):\n",
    "    N_LINES = 10\n",
    "    lines = content.splitlines()\n",
    "    trimmed_content = \"\\n\".join(lines[:N_LINES])\n",
    "    if len(lines) > N_LINES:\n",
    "        trimmed_content += \"\\n...\"\n",
    "    display(HTML(f\"<pre style='font-size: 75%; border: 1px solid var(--jp-content-font-color1); padding: 10px; margin: 10px 0 0 10px;'>{trimmed_content.strip()}</pre>\"))\n",
    "\n",
    "# Same, just for a file.\n",
    "def preview_file(file_path):\n",
    "    with open(file_path) as file:\n",
    "        preview_content(file.read())"
   ]
  },
  {
   "cell_type": "code",
   "execution_count": 5,
   "id": "6e0e5f9dd5a31345",
   "metadata": {
    "ExecuteTime": {
     "end_time": "2023-10-27T18:08:04.775446Z",
     "start_time": "2023-10-27T18:08:04.127788Z"
    },
    "collapsed": false,
    "jupyter": {
     "outputs_hidden": false
    }
   },
   "outputs": [
    {
     "data": {
      "text/html": [
       "<pre style='font-size: 75%; border: 1px solid var(--jp-content-font-color1); padding: 10px; margin: 10px 0 0 10px;'>NAMELIST\n",
       "\n",
       "# {reservoir name in SHOP} {corresponding module number in ProdRisk}\n",
       "\n",
       "Danielsen 201\n",
       "\n",
       "Lundvann 203\n",
       "\n",
       "Tangvall 203\n",
       "\n",
       "...</pre>"
      ],
      "text/plain": [
       "<IPython.core.display.HTML object>"
      ]
     },
     "metadata": {},
     "output_type": "display_data"
    },
    {
     "data": {
      "text/html": [
       "<pre style='font-size: 75%; border: 1px solid var(--jp-content-font-color1); padding: 10px; margin: 10px 0 0 10px;'>SHOP_WATER_VALUES\n",
       "         500          15\n",
       "           1   18418098.7335484\n",
       "   485.198458311662        464.294844772844        432.239959468076\n",
       "  0.000000000000000E+000   363.400756356441        363.400756356441\n",
       "   319.324967312672        259.184558818354        259.184558818354\n",
       "   128.391646381071        513.466236177169        352.250256249118\n",
       "   349.946242221269        232.914340353390       0.000000000000000E+000\n",
       "  0.000000000000000E+000  0.000000000000000E+000  0.000000000000000E+000\n",
       "   10.5555575216810       0.000000000000000E+000   1.43364985593899\n",
       "...</pre>"
      ],
      "text/plain": [
       "<IPython.core.display.HTML object>"
      ]
     },
     "metadata": {},
     "output_type": "display_data"
    }
   ],
   "source": [
    "# Show first 10 lines of each additional SHOP file in the case.\n",
    "N_LINES = 10\n",
    "for shop_file_content in shop_run_0.get_shop_files():\n",
    "    preview_content(shop_file_content)\n",
    "\n",
    "# also available:\n",
    "# shop_run_0.get_case_file()  # content of the case file\n",
    "# list(shop_run_0.get_log_files())  # content of log files, generated by SHOP"
   ]
  },
  {
   "cell_type": "markdown",
   "id": "6cdd03f8f13faa83",
   "metadata": {
    "ExecuteTime": {
     "end_time": "2023-10-27T12:51:03.440945Z",
     "start_time": "2023-10-27T12:51:02.259796Z"
    },
    "collapsed": false,
    "jupyter": {
     "outputs_hidden": false
    }
   },
   "source": [
    "## Create SHOPCase\n",
    "\n",
    "`SHOPCase` is an editable representation of a SHOP case. It is used to prepare data for a SHOP run.\n",
    "\n",
    "We run SHOP by \"triggering\" `SHOPCase`. This creates a new `SHOPRun` instance.\n",
    "\n",
    "`SHOPCase` can be created from an existing `SHOPRun` instance (using `shop_run.as_case()`) or by directly instantiating the class. The former is probably useful more often."
   ]
  },
  {
   "cell_type": "markdown",
   "id": "c6684f3f-3a6e-4312-a7da-e4a3337d7249",
   "metadata": {},
   "source": [
    "We will create a new SHOPCase from the existing SHOPRun, then run this new case."
   ]
  },
  {
   "cell_type": "code",
   "execution_count": 6,
   "id": "8566523ea1d8332",
   "metadata": {
    "ExecuteTime": {
     "end_time": "2023-10-27T14:28:21.465852Z",
     "start_time": "2023-10-27T14:28:19.250685Z"
    },
    "collapsed": false,
    "jupyter": {
     "outputs_hidden": false
    }
   },
   "outputs": [
    {
     "data": {
      "text/plain": [
       "<cognite.powerops.client.shop.shop_case.SHOPCase at 0x15c2b4700>"
      ]
     },
     "execution_count": 6,
     "metadata": {},
     "output_type": "execute_result"
    }
   ],
   "source": [
    "# Create new SHOPCase from a previous SHOPRun.\n",
    "case_1 = shop_run_0.to_case()\n",
    "case_1"
   ]
  },
  {
   "cell_type": "code",
   "execution_count": 7,
   "id": "ea6cfe5b-25a0-4007-b8cd-015719a7d092",
   "metadata": {},
   "outputs": [
    {
     "data": {
      "text/plain": [
       "<SHOPRunStatus.IN_PROGRESS: 'in_progress'>"
      ]
     },
     "execution_count": 7,
     "metadata": {},
     "output_type": "execute_result"
    }
   ],
   "source": [
    "# Run SHOP by triggering the new case.\n",
    "shop_run_1 = powerops.shop.trigger_case(case_1)\n",
    "shop_run_1.check_status()"
   ]
  },
  {
   "cell_type": "code",
   "execution_count": 8,
   "id": "2058d00ad136b94a",
   "metadata": {
    "ExecuteTime": {
     "end_time": "2023-10-27T14:28:51.742328Z",
     "start_time": "2023-10-27T14:28:21.466935Z"
    },
    "collapsed": false,
    "jupyter": {
     "outputs_hidden": false
    }
   },
   "outputs": [
    {
     "name": "stdout",
     "output_type": "stream",
     "text": [
      ".............................DONE\n"
     ]
    },
    {
     "data": {
      "text/plain": [
       "<SHOPRunStatus.SUCCESS: 'success'>"
      ]
     },
     "execution_count": 8,
     "metadata": {},
     "output_type": "execute_result"
    }
   ],
   "source": [
    "# A small helper function to wait for a shop run to finish.\n",
    "from time import sleep\n",
    "\n",
    "\n",
    "def wait(shop_run):\n",
    "    while shop_run.check_status() == \"in_progress\":\n",
    "        sleep(1)\n",
    "        print(\".\", end=\"\")\n",
    "    print(\"DONE\")\n",
    "\n",
    "\n",
    "wait(shop_run_1)\n",
    "shop_run_1.check_status()"
   ]
  },
  {
   "cell_type": "markdown",
   "id": "71d60befaf05a13d",
   "metadata": {
    "ExecuteTime": {
     "end_time": "2023-10-27T12:52:17.639408Z",
     "start_time": "2023-10-27T12:51:18.884225Z"
    },
    "collapsed": false,
    "jupyter": {
     "outputs_hidden": false
    }
   },
   "source": [
    "## Edit Case File\n",
    "\n",
    "We will save the case YAML file to local filesystem, then make some changes to it and use the changed file to run SHOP again. \n",
    "\n",
    "The case file is here edited using Python, but in real use it is expected that the file be edited using external tools."
   ]
  },
  {
   "cell_type": "code",
   "execution_count": 9,
   "id": "32853a4bea22726b",
   "metadata": {
    "ExecuteTime": {
     "end_time": "2023-10-27T14:28:53.572089Z",
     "start_time": "2023-10-27T14:28:51.701761Z"
    },
    "collapsed": false,
    "jupyter": {
     "outputs_hidden": false
    }
   },
   "outputs": [],
   "source": [
    "# Make a new SHOPCase and save the case file to local filesystem.\n",
    "case = shop_run_1.to_case()\n",
    "case.save_yaml(\"case_file.yaml\")"
   ]
  },
  {
   "cell_type": "code",
   "execution_count": 10,
   "id": "8b8651a9-d323-4a1a-a924-be78e150123b",
   "metadata": {},
   "outputs": [
    {
     "data": {
      "text/html": [
       "<pre style='font-size: 75%; border: 1px solid var(--jp-content-font-color1); padding: 10px; margin: 10px 0 0 10px;'>commands:\n",
       "- set time_delay_unit MINUTE\n",
       "- set ramping /on\n",
       "- set stop_cost_from_start_cost /on\n",
       "- set bypass_loss /on\n",
       "- set mipgap 0.001000\n",
       "- set timelimit 600.000\n",
       "- set reserve_ramping_cost 1\n",
       "- set fcr_n_equality /on\n",
       "- set reserve_slack_cost 1\n",
       "...</pre>"
      ],
      "text/plain": [
       "<IPython.core.display.HTML object>"
      ]
     },
     "metadata": {},
     "output_type": "display_data"
    }
   ],
   "source": [
    "preview_file(\"case_file.yaml\")"
   ]
  },
  {
   "cell_type": "code",
   "execution_count": 11,
   "id": "7cdf1e4bc27fedfa",
   "metadata": {
    "ExecuteTime": {
     "end_time": "2023-10-27T14:28:53.581569Z",
     "start_time": "2023-10-27T14:28:53.572257Z"
    },
    "collapsed": false,
    "jupyter": {
     "outputs_hidden": false
    }
   },
   "outputs": [
    {
     "data": {
      "text/html": [
       "<pre style='font-size: 75%; border: 1px solid var(--jp-content-font-color1); padding: 10px; margin: 10px 0 0 10px;'>- set code /inc\n",
       "- start sim 4\n",
       "connections:\n",
       "- connection_type: connection_bypass\n",
       "  from: Hagen\n",
       "  to: b_Hagen_Strand\n",
       "- connection_type: connection_bypass\n",
       "  from: Sirefelt\n",
       "  from_type: reservoir\n",
       "  to: b_Sirefelt_Knute_Rullsvatn\n",
       "...</pre>"
      ],
      "text/plain": [
       "<IPython.core.display.HTML object>"
      ]
     },
     "metadata": {},
     "output_type": "display_data"
    }
   ],
   "source": [
    "# Deliberately break the YAML structure of the file.\n",
    "# Here we delete first 15 lines of the file for demonstration purposes.\n",
    "with open(\"case_file.yaml\") as case_file:\n",
    "    lines = case_file.readlines()\n",
    "with open(\"case_file.yaml\", \"w\") as case_file:\n",
    "    case_file.writelines(lines[15:])\n",
    "preview_file(\"case_file.yaml\")"
   ]
  },
  {
   "cell_type": "code",
   "execution_count": 12,
   "id": "225b6cd949ad2c36",
   "metadata": {
    "ExecuteTime": {
     "end_time": "2023-10-27T14:28:53.588651Z",
     "start_time": "2023-10-27T14:28:53.585916Z"
    },
    "collapsed": false,
    "jupyter": {
     "outputs_hidden": false
    }
   },
   "outputs": [
    {
     "name": "stdout",
     "output_type": "stream",
     "text": [
      "ValueError('Could not parse case data')\n"
     ]
    }
   ],
   "source": [
    "# This is now an invalid YAML file, so we cannot use it with SHOPCase.\n",
    "try:\n",
    "    case.load_case_file(\"case_file.yaml\")\n",
    "except Exception as exc:\n",
    "    print(repr(exc))"
   ]
  },
  {
   "cell_type": "code",
   "execution_count": 13,
   "id": "ac8a11b2538d69e0",
   "metadata": {
    "ExecuteTime": {
     "end_time": "2023-10-27T14:28:53.625700Z",
     "start_time": "2023-10-27T14:28:53.589240Z"
    },
    "collapsed": false,
    "jupyter": {
     "outputs_hidden": false
    }
   },
   "outputs": [
    {
     "data": {
      "text/html": [
       "<pre style='font-size: 75%; border: 1px solid var(--jp-content-font-color1); padding: 10px; margin: 10px 0 0 10px;'>commands:\n",
       "- set code /inc\n",
       "- start sim 4\n",
       "connections:\n",
       "- connection_type: connection_bypass\n",
       "  from: Hagen\n",
       "  to: b_Hagen_Strand\n",
       "- connection_type: connection_bypass\n",
       "  from: Sirefelt\n",
       "  from_type: reservoir\n",
       "...</pre>"
      ],
      "text/plain": [
       "<IPython.core.display.HTML object>"
      ]
     },
     "metadata": {},
     "output_type": "display_data"
    }
   ],
   "source": [
    "# Add \"commands:\" line to the beginning of the file.\n",
    "# This will fix the YAML structure, but the case itself will remain broken.\n",
    "broken_case = open(\"case_file.yaml\").read()\n",
    "with open(\"case_file.yaml\", \"w\") as case_file:\n",
    "    case_file.write(\"commands:\\n\")\n",
    "    case_file.write(broken_case)\n",
    "preview_file(\"case_file.yaml\")"
   ]
  },
  {
   "cell_type": "code",
   "execution_count": 14,
   "id": "19e69f91cf35b200",
   "metadata": {
    "ExecuteTime": {
     "end_time": "2023-10-27T14:28:55.418327Z",
     "start_time": "2023-10-27T14:28:53.593929Z"
    },
    "collapsed": false,
    "jupyter": {
     "outputs_hidden": false
    }
   },
   "outputs": [
    {
     "data": {
      "text/plain": [
       "<SHOPRunStatus.IN_PROGRESS: 'in_progress'>"
      ]
     },
     "execution_count": 14,
     "metadata": {},
     "output_type": "execute_result"
    }
   ],
   "source": [
    "# Now we have a technically valid YAML, we can use it to run SHOP.\n",
    "case.load_case_file(\"case_file.yaml\")\n",
    "shop_run_2 = powerops.shop.trigger_case(case)\n",
    "shop_run_2.check_status()"
   ]
  },
  {
   "cell_type": "code",
   "execution_count": 15,
   "id": "ce8b697f1fe200bd",
   "metadata": {
    "ExecuteTime": {
     "end_time": "2023-10-27T14:29:12.947535Z",
     "start_time": "2023-10-27T14:28:55.419397Z"
    },
    "collapsed": false,
    "jupyter": {
     "outputs_hidden": false
    }
   },
   "outputs": [
    {
     "name": "stdout",
     "output_type": "stream",
     "text": [
      "................DONE\n"
     ]
    },
    {
     "data": {
      "text/plain": [
       "<SHOPRunStatus.FAILED: 'failed'>"
      ]
     },
     "execution_count": 15,
     "metadata": {},
     "output_type": "execute_result"
    }
   ],
   "source": [
    "# We expect SHOP run to run and fail, though.\n",
    "wait(shop_run_2)\n",
    "shop_run_2.check_status()"
   ]
  },
  {
   "cell_type": "code",
   "execution_count": 16,
   "id": "8d08dd4ad7620e05",
   "metadata": {
    "ExecuteTime": {
     "end_time": "2023-10-27T14:29:13.038341Z",
     "start_time": "2023-10-27T14:29:12.950182Z"
    },
    "collapsed": false,
    "jupyter": {
     "outputs_hidden": false
    }
   },
   "outputs": [
    {
     "name": "stdout",
     "output_type": "stream",
     "text": [
      "{'error': 'Traceback (most recent call last):\\n'\n",
      "          '  File \"/workspace/cogshop/status_events.py\", line 84, in wrapper\\n'\n",
      "          '    res = func(client, event_external_id, *args, **kwargs)\\n'\n",
      "          '  File \"/workspace/cogshop/main.py\", line 70, in _main\\n'\n",
      "          '    raise CogShopError(cog_shop.solver_status)\\n'\n",
      "          'cogshop.exceptions.CogShopError: Integer infeasible\\n',\n",
      " 'failures': None}\n"
     ]
    }
   ],
   "source": [
    "# More information about the failure can be obtained from the SHOP run object.\n",
    "from pprint import pprint\n",
    "pprint(shop_run_2.get_failure_info())"
   ]
  },
  {
   "cell_type": "code",
   "execution_count": 17,
   "id": "1ee3d404-a334-4c65-9767-d3c104982823",
   "metadata": {},
   "outputs": [
    {
     "data": {
      "text/html": [
       "<div>\n",
       "<style scoped>\n",
       "    .dataframe tbody tr th:only-of-type {\n",
       "        vertical-align: middle;\n",
       "    }\n",
       "\n",
       "    .dataframe tbody tr th {\n",
       "        vertical-align: top;\n",
       "    }\n",
       "\n",
       "    .dataframe thead th {\n",
       "        text-align: right;\n",
       "    }\n",
       "</style>\n",
       "<table border=\"1\" class=\"dataframe\">\n",
       "  <thead>\n",
       "    <tr style=\"text-align: right;\">\n",
       "      <th></th>\n",
       "      <th>Value</th>\n",
       "    </tr>\n",
       "  </thead>\n",
       "  <tbody>\n",
       "    <tr>\n",
       "      <th>external_id</th>\n",
       "      <td>SHOP_RUN_2023-10-28T10:59:32.508289Z_cf0844</td>\n",
       "    </tr>\n",
       "    <tr>\n",
       "      <th>watercourse</th>\n",
       "      <td>Fornebu</td>\n",
       "    </tr>\n",
       "    <tr>\n",
       "      <th>start</th>\n",
       "      <td>2023-10-28 10:59:32.508289+00:00</td>\n",
       "    </tr>\n",
       "    <tr>\n",
       "      <th>end</th>\n",
       "      <td>None</td>\n",
       "    </tr>\n",
       "    <tr>\n",
       "      <th>case_file_external_id</th>\n",
       "      <td>cog_shop_manual_2023-10-28T10:59:32.508289Z_2a...</td>\n",
       "    </tr>\n",
       "    <tr>\n",
       "      <th>shop_files_external_ids</th>\n",
       "      <td>[{'external_id': 'SHOP_Fornebu_water_value_cut...</td>\n",
       "    </tr>\n",
       "    <tr>\n",
       "      <th>shop_version</th>\n",
       "      <td>CogShop2-20230710T163856Z</td>\n",
       "    </tr>\n",
       "  </tbody>\n",
       "</table>\n",
       "</div>"
      ],
      "text/plain": [
       "SHOPRun(external_id='SHOP_RUN_2023-10-28T10:59:32.508289Z_cf0844', watercourse='Fornebu', data_set_id=8714485055141158, start=datetime.datetime(2023, 10, 28, 10, 59, 32, 508289, tzinfo=datetime.timezone.utc), end=None, shop_version='CogShop2-20230710T163856Z', source='manual', _case_file_external_id='cog_shop_manual_2023-10-28T10:59:32.508289Z_2aa59d', _shop_files=[SHOPFileReference(external_id='SHOP_Fornebu_water_value_cut_file_reservoir_mapping', file_type='ascii'), SHOPFileReference(external_id='SHOP_Fornebu_water_value_cut_file', file_type='ascii')], _run_event_types={'POWEROPS_PROCESS_FAILED', 'POWEROPS_PROCESS_STARTED'})"
      ]
     },
     "execution_count": 17,
     "metadata": {},
     "output_type": "execute_result"
    }
   ],
   "source": [
    "shop_run_2"
   ]
  },
  {
   "cell_type": "markdown",
   "id": "6fe3d76f52f2393f",
   "metadata": {
    "ExecuteTime": {
     "end_time": "2023-10-27T12:53:51.791900Z",
     "start_time": "2023-10-27T12:53:51.701782Z"
    },
    "collapsed": false,
    "jupyter": {
     "outputs_hidden": false
    }
   },
   "source": [
    "## Edit Data in Python\n",
    "\n",
    "Besides editing the case file and using `case.load_case_file()`, we can also interact with case data directly, using `case.data` dict.\n",
    "\n",
    "We will fix the case data by adding the missing commands back."
   ]
  },
  {
   "cell_type": "code",
   "execution_count": 18,
   "id": "15e996e89bda8d6",
   "metadata": {
    "ExecuteTime": {
     "end_time": "2023-10-27T14:29:13.044655Z",
     "start_time": "2023-10-27T14:29:13.039314Z"
    },
    "collapsed": false,
    "jupyter": {
     "outputs_hidden": false
    }
   },
   "outputs": [],
   "source": [
    "# Add missing commmands back, direclty into case data.\n",
    "case.data[\"commands\"] = [\n",
    "    \"set time_delay_unit MINUTE\",\n",
    "    \"set ramping /on\",\n",
    "    \"set stop_cost_from_start_cost /on\",\n",
    "    \"set bypass_loss /on\",\n",
    "    \"set mipgap 0.001000\",\n",
    "    \"set timelimit 600.000\",\n",
    "    \"set reserve_ramping_cost 1\",\n",
    "    \"set fcr_n_equality /on\",\n",
    "    \"set reserve_slack_cost 1\",\n",
    "    \"set reserve_min_capacity 0.02\",\n",
    "    \"set dyn_seg /on\",\n",
    "    \"set dyn_juncloss /on\",\n",
    "    \"penalty flag /on /plant /schedule\",\n",
    "    \"start sim 3\",\n",
    "    \"set code /inc\",\n",
    "    \"start sim 4\",\n",
    "]"
   ]
  },
  {
   "cell_type": "code",
   "execution_count": 19,
   "id": "9fa81ac2a99fe853",
   "metadata": {
    "ExecuteTime": {
     "end_time": "2023-10-27T14:29:45.191150Z",
     "start_time": "2023-10-27T14:29:13.044118Z"
    },
    "collapsed": false,
    "jupyter": {
     "outputs_hidden": false
    }
   },
   "outputs": [
    {
     "name": "stdout",
     "output_type": "stream",
     "text": [
      "............................DONE\n"
     ]
    },
    {
     "data": {
      "text/plain": [
       "<SHOPRunStatus.SUCCESS: 'success'>"
      ]
     },
     "execution_count": 19,
     "metadata": {},
     "output_type": "execute_result"
    }
   ],
   "source": [
    "# This time we expect the SHOP run to succeed.\n",
    "shop_run_3 = powerops.shop.trigger_case(case)\n",
    "wait(shop_run_3)\n",
    "shop_run_3.check_status()"
   ]
  },
  {
   "cell_type": "markdown",
   "id": "25846e4b0a6733de",
   "metadata": {
    "ExecuteTime": {
     "end_time": "2023-10-27T12:54:56.177390Z",
     "start_time": "2023-10-27T12:53:55.202814Z"
    },
    "collapsed": false,
    "jupyter": {
     "outputs_hidden": false
    }
   },
   "source": [
    "## Cleanup"
   ]
  },
  {
   "cell_type": "code",
   "execution_count": 20,
   "id": "b578c160a1b98bd7",
   "metadata": {
    "ExecuteTime": {
     "end_time": "2023-10-27T14:29:45.197367Z",
     "start_time": "2023-10-27T14:29:45.171Z"
    },
    "collapsed": false,
    "jupyter": {
     "outputs_hidden": false
    }
   },
   "outputs": [],
   "source": [
    "# Remove the local case file.\n",
    "import os\n",
    "\n",
    "os.unlink(\"case_file.yaml\")"
   ]
  },
  {
   "cell_type": "markdown",
   "id": "6486d2a9e520379b",
   "metadata": {
    "collapsed": false,
    "jupyter": {
     "outputs_hidden": false
    }
   },
   "source": [
    "End of notebook."
   ]
  }
 ],
 "metadata": {
  "kernelspec": {
   "display_name": "Python 3 (ipykernel)",
   "language": "python",
   "name": "python3"
  },
  "language_info": {
   "codemirror_mode": {
    "name": "ipython",
    "version": 3
   },
   "file_extension": ".py",
   "mimetype": "text/x-python",
   "name": "python",
   "nbconvert_exporter": "python",
   "pygments_lexer": "ipython3",
   "version": "3.9.16"
  }
 },
 "nbformat": 4,
 "nbformat_minor": 5
}
