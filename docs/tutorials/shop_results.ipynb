{
 "cells": [
  {
   "cell_type": "markdown",
   "metadata": {},
   "source": [
    "## Create a  PowerOps Client\n",
    "\n",
    "A power ops client is a layer on top the regular CogniteClient that contains domain specific interface against CDF and\n",
    "the powerops data models"
   ]
  },
  {
   "cell_type": "markdown",
   "metadata": {
    "jp-MarkdownHeadingCollapsed": true
   },
   "source": [
    "To setup the client we keep the credentials in either one or two `toml` files:\n",
    "### Interactive Login\n",
    "This only requires one `toml` file looking like this\n",
    "\n",
    "`settings.toml`\n",
    "\n",
    "```toml\n",
    "[cognite]\n",
    "  login_flow = \"interactive\"\n",
    "  project = \"<cdf-project>\"\n",
    "  tenant_id = \"<tenant-id>\"\n",
    "  cdf_cluster = \"<cdf-cluster>\"\n",
    "  client_id = \"<client-id>\"\n",
    "\n",
    "[powerops]\n",
    "  read_dataset = \"uc:000:powerops\"\n",
    "  write_dataset = \"uc:000:powerops\"\n",
    "  cogshop_version = \"\"\n",
    "```"
   ]
  },
  {
   "cell_type": "markdown",
   "metadata": {},
   "source": [
    "### Client Credentials Login\n",
    "\n",
    "For this case the you can use two toml files to separate the secrtes from the regular settings\n",
    "\n",
    "`settings.toml`\n",
    "\n",
    "```toml\n",
    "[cognite]\n",
    "  login_flow = \"client_credentials\"\n",
    "  project = \"<cdf-project>\"\n",
    "  tenant_id = \"<tenant-id>\"\n",
    "  cdf_cluster = \"<cdf-cluster>\"\n",
    "  client_id = \"<client-id>\"\n",
    "\n",
    "[powerops]\n",
    "  read_dataset = \"uc:000:powerops\"\n",
    "  write_dataset = \"uc:000:powerops\"\n",
    "  cogshop_version = \"\"\n",
    "```\n",
    "and the `.secrets.toml`\n",
    "\n",
    "```toml\n",
    "[cognite]\n",
    "  client_secret = \"<client-secret>\"\n",
    "\n",
    "```"
   ]
  },
  {
   "cell_type": "code",
   "execution_count": 1,
   "metadata": {},
   "outputs": [],
   "source": [
    "from cognite.powerops.clients.powerops_client import PowerOpsClient,get_powerops_client\n",
    "from cognite.client import CogniteClient\n",
    "import os\n",
    "os.environ[\"SETTINGS_FILES\"] = \"../../settings.toml;../../.secrets.toml\"  # settings files are not in current dir\n",
    "\n",
    "power: PowerOpsClient = get_powerops_client()\n",
    "# The regular cognite client is available under the .cdf attribute.\n",
    "client: CogniteClient = power.cdf"
   ]
  },
  {
   "cell_type": "markdown",
   "metadata": {},
   "source": [
    "## Using the SHOP Interface\n",
    "We can access the shop interface under the `.shop` attribute"
   ]
  },
  {
   "cell_type": "code",
   "execution_count": 2,
   "metadata": {},
   "outputs": [
    {
     "data": {
      "text/plain": [
       "<cognite.powerops.clients.shop._api_client.ShopClient at 0x226a0443d00>"
      ]
     },
     "execution_count": 2,
     "metadata": {},
     "output_type": "execute_result"
    }
   ],
   "source": [
    "power.shop"
   ]
  },
  {
   "cell_type": "code",
   "execution_count": 3,
   "metadata": {},
   "outputs": [],
   "source": [
    "shop_runs = power.shop.runs.list(limit=5)"
   ]
  },
  {
   "cell_type": "code",
   "execution_count": 15,
   "metadata": {},
   "outputs": [
    {
     "data": {
      "text/plain": [
       "[<ShopRun status=\"Status.SUCCEEDED\" event_external_id=\"POWEROPS_SHOP_RUN_1662548743204\">,\n",
       " <ShopRun status=\"Status.SUCCEEDED\" event_external_id=\"POWEROPS_SHOP_RUN_1662548743052\">,\n",
       " <ShopRun status=\"Status.SUCCEEDED\" event_external_id=\"POWEROPS_SHOP_RUN_1662550317276\">,\n",
       " <ShopRun status=\"Status.SUCCEEDED\" event_external_id=\"POWEROPS_SHOP_RUN_1662550317441\">,\n",
       " <ShopRun status=\"Status.SUCCEEDED\" event_external_id=\"POWEROPS_SHOP_RUN_1662550886167\">]"
      ]
     },
     "execution_count": 15,
     "metadata": {},
     "output_type": "execute_result"
    }
   ],
   "source": [
    "shop_runs"
   ]
  },
  {
   "cell_type": "code",
   "execution_count": 16,
   "metadata": {},
   "outputs": [],
   "source": [
    "# For reproducability\n",
    "run_a = power.shop.runs.retrieve(\"POWEROPS_SHOP_RUN_1662548743204\")\n",
    "run_b = power.shop.runs.retrieve(\"POWEROPS_SHOP_RUN_1662548743052\")"
   ]
  },
  {
   "cell_type": "code",
   "execution_count": 37,
   "metadata": {},
   "outputs": [],
   "source": [
    "result_a = run_b.get_results()\n",
    "result_b = run_a.get_results()"
   ]
  },
  {
   "cell_type": "code",
   "execution_count": 38,
   "metadata": {},
   "outputs": [
    {
     "data": {
      "text/plain": [
       "(<ShopRunResult status=Status.SUCCEEDED>,\n",
       " <ShopRunResult status=Status.SUCCEEDED>)"
      ]
     },
     "execution_count": 38,
     "metadata": {},
     "output_type": "execute_result"
    }
   ],
   "source": [
    "result_a, result_b"
   ]
  },
  {
   "cell_type": "markdown",
   "metadata": {},
   "source": [
    "## The Objective Function and Penalty Breakdown"
   ]
  },
  {
   "cell_type": "code",
   "execution_count": null,
   "metadata": {},
   "outputs": [],
   "source": []
  },
  {
   "cell_type": "code",
   "execution_count": 20,
   "metadata": {},
   "outputs": [
    {
     "name": "stdout",
     "output_type": "stream",
     "text": [
      "objective_function: <OBJECTIVE sequence_external_id=SHOP_Fornebu_OBJECTIVE_736fee6b-7894-4abd-b1e9-86b4f6699ab8>\n",
      "Sum penalties: None |Major penalties: None |Minor penalties: None\n",
      "==========================\n",
      "\n"
     ]
    }
   ],
   "source": [
    "# OBJECTIVE\n",
    "objective = result_a.objective_function\n",
    "print(f\"objective_function: {objective.}\")\n",
    "\n",
    "# print(objective.data)\n",
    "# print(objective.data_as_str())\n",
    "# print(objective.watercourse)\n",
    "# print(objective.penalty_breakdown)\n",
    "print(objective.penalty_breakdown_as_str())\n"
   ]
  },
  {
   "cell_type": "markdown",
   "metadata": {},
   "source": [
    "## Plotting time series of shop runs"
   ]
  },
  {
   "cell_type": "code",
   "execution_count": 26,
   "metadata": {},
   "outputs": [
    {
     "data": {
      "text/plain": [
       "'post-run-736fee6b-7894-4abd-b1e9-86b4f6699ab8.yaml'"
      ]
     },
     "execution_count": 26,
     "metadata": {},
     "output_type": "execute_result"
    }
   ],
   "source": [
    "post_run_a = result_a.post_run\n",
    "post_run_a.name"
   ]
  },
  {
   "cell_type": "code",
   "execution_count": 32,
   "metadata": {},
   "outputs": [
    {
     "data": {
      "text/plain": [
       "1175735"
      ]
     },
     "execution_count": 32,
     "metadata": {},
     "output_type": "execute_result"
    }
   ],
   "source": [
    "# We can, for example, write the output file to disk\n",
    "from pathlib import Path\n",
    "Path(post_run_a.name).write_text(post_run_a.file_content)"
   ]
  },
  {
   "cell_type": "code",
   "execution_count": 29,
   "metadata": {},
   "outputs": [
    {
     "name": "stdout",
     "output_type": "stream",
     "text": [
      "('time:\\n'\n",
      " '  starttime: 2021-08-02 22:00:00\\n'\n",
      " '  endtime: 2021-08-15 22:00:00\\n'\n",
      " '  timeunit: minute\\n'\n",
      " '  timeresolution:\\n'\n",
      " '    2021-08-02 22:00:00: 60\\n'\n",
      " '    2021-08-05 22:00:00: 240\\n'\n",
      " 'model:\\n'\n",
      " '  objective:\\n'\n",
      " '    average_objective:\\n'\n",
      " '      solver_status: Optimal solution is available\\n'\n",
      " '      grand_total: -19629837728.86\\n'\n",
      " '      total: -19629845889.267\\n'\n",
      " '      sum_penalties: 8160.4067934862\\n'\n",
      " '      minor_penalties: 8160.4067934862\\n'\n",
      " '      rsv_end_value: -19628260565.545\\n'\n",
      " '      rsv_end_value_relative: -358070111.3763\\n'\n",
      " '      market_sale_buy: -1586873.7223579\\n'\n",
      " '      startup_costs: 1550\\n'\n",
      " '      bypass_cost: 0.00028189072328782\\n'\n",
      " '      gate_spill_cost: 8160.4065115954\\n'\n",
      " '      physical_spill_cost: 7896.5968647988\\n'\n",
      " '      physical_spill_volume: 0.15793193826884\\n'\n",
      " '      nonphysical_spill_cost: 263.80964679666\\n'\n",
      " '      nonphysical_spill_volume: 0.0052761929549406\\n'\n",
      " '    scen_1:\\n'\n",
      " '      solver_status: Optimal solution is available\\n'\n",
      " '      grand_total: -19629837728.86\\n'\n",
      " '      total: -19629845889.267\\n'\n",
      " '      sum_penalties: 8160.4067934862\\n'\n",
      " '      minor_penalties:')\n"
     ]
    }
   ],
   "source": [
    "# Inspect it\n",
    "from pprint import pprint\n",
    "pprint(post_run_a.file_content[:1000])"
   ]
  },
  {
   "cell_type": "code",
   "execution_count": 39,
   "metadata": {},
   "outputs": [],
   "source": [
    "# Or load it\n",
    "from yaml import safe_load\n",
    "shop_output = safe_load(post_run_a.file_content)"
   ]
  },
  {
   "cell_type": "code",
   "execution_count": 41,
   "metadata": {},
   "outputs": [
    {
     "data": {
      "text/plain": [
       "['objective',\n",
       " 'global_settings',\n",
       " 'creek_intake',\n",
       " 'gate',\n",
       " 'generator',\n",
       " 'junction',\n",
       " 'market',\n",
       " 'plant',\n",
       " 'production_group',\n",
       " 'reservoir',\n",
       " 'cut_group']"
      ]
     },
     "execution_count": 41,
     "metadata": {},
     "output_type": "execute_result"
    }
   ],
   "source": [
    "list(shop_output[\"model\"])"
   ]
  },
  {
   "cell_type": "code",
   "execution_count": 42,
   "metadata": {},
   "outputs": [
    {
     "data": {
      "text/plain": [
       "['Dalby_G1',\n",
       " 'Dalby_G2',\n",
       " 'Holen_G1',\n",
       " 'Landet_G1',\n",
       " 'Lien_krv_G1',\n",
       " 'Lund_G1',\n",
       " 'Rull1_G1',\n",
       " 'Rull1_G2',\n",
       " 'Rull2_G1',\n",
       " 'Rull2_G2',\n",
       " 'Scott_G1',\n",
       " 'Strand_krv_G1']"
      ]
     },
     "execution_count": 42,
     "metadata": {},
     "output_type": "execute_result"
    }
   ],
   "source": [
    "list(shop_output[\"model\"][\"generator\"])"
   ]
  },
  {
   "cell_type": "code",
   "execution_count": 43,
   "metadata": {},
   "outputs": [
    {
     "data": {
      "text/plain": [
       "['Dalby',\n",
       " 'Holen',\n",
       " 'Landet',\n",
       " 'Lien_krv',\n",
       " 'Lund',\n",
       " 'Rull1',\n",
       " 'Rull2',\n",
       " 'Scott',\n",
       " 'Strand_krv']"
      ]
     },
     "execution_count": 43,
     "metadata": {},
     "output_type": "execute_result"
    }
   ],
   "source": [
    "list(shop_output[\"model\"][\"plant\"])"
   ]
  },
  {
   "cell_type": "code",
   "execution_count": 36,
   "metadata": {},
   "outputs": [
    {
     "name": "stdout",
     "output_type": "stream",
     "text": [
      "['model.generator.Dalby_G1.production', 'model.generator.Dalby_G2.production', 'model.plant.Dalby.production', 'model.plant.Lund.production']\n"
     ]
    },
    {
     "data": {
      "image/png": "[encoded data removed]",
      "text/plain": [
       "<Figure size 1000x1000 with 1 Axes>"
      ]
     },
     "metadata": {},
     "output_type": "display_data"
    }
   ],
   "source": [
    "found_keys = post_run_a.find_time_series(\n",
    "    matches_object_types=[\"generator\", \"plant\"],\n",
    "    matches_object_names=[\"Dalby_G1\", \"Dalby_G2\", \"Dalby\", \"Lund\"],\n",
    "    matches_attribute_names=[\"production\"],\n",
    ")\n",
    "print(found_keys)\n",
    "post_run_a.plot(found_keys)"
   ]
  },
  {
   "cell_type": "markdown",
   "metadata": {},
   "source": [
    "## Comparing Shop Run Results"
   ]
  },
  {
   "cell_type": "code",
   "execution_count": 45,
   "metadata": {},
   "outputs": [],
   "source": [
    "post_run_b = result_b.post_run"
   ]
  },
  {
   "cell_type": "code",
   "execution_count": 48,
   "metadata": {},
   "outputs": [
    {
     "data": {
      "text/markdown": [
       "# Changes from Result A to Result B\n",
       "\n",
       "\n",
       "## Items in Result B which are not in Result A:\n",
       "#### Time series:  \n",
       "Use `post_run.plot(key)` on Result B with one of the following keys \n",
       " - `model.junction.Golebiowski_intake.incr_cost`\n",
       " - `model.generator.Lien_krv_G1.committed_out`\n",
       " - `model.junction.Lont_intake.incr_cost`\n",
       " - `model.generator.Lien_krv_G1.market_income`\n",
       " - `model.junction.Sandvika.local_incr_cost`\n",
       " - `model.reservoir.Strand_tunnel.head`\n",
       " - `model.junction.Landet_intake.local_incr_cost`\n",
       " - `model.reservoir.Strand_tunnel.water_value_local_result`\n",
       " - `model.generator.Rull2_G2.head_loss`\n",
       " - `model.junction.Landet_intake.incr_cost`\n",
       " - `model.generator.Rull2_G1.head_loss`\n",
       " - `model.junction.Golebiowski_intake.local_incr_cost`\n",
       " - `model.plant.Rull2.discharge`\n",
       " - `model.reservoir.Hagen.energy_value_local_result`\n",
       " - `model.reservoir.Strand.water_value_local_result`\n",
       " - `model.generator.Lien_krv_G1.head_loss`\n",
       " - `model.generator.Lien_krv_G1.production`\n",
       " - `model.junction.Gustad.tunnel_flow_1`\n",
       " - `model.junction.Sandvika.incr_cost`\n",
       " - `model.generator.Lien_krv_G1.solver_production`\n",
       " - `model.reservoir.Strand_tunnel.water_value_global_result`\n",
       " - `model.generator.Lien_krv_G1.solver_discharge`\n",
       " - `model.junction.Fjerdingby_intake.incr_cost`\n",
       " - `model.reservoir.Rullsvatn.head`\n",
       " - `model.reservoir.Ranemsletta_1183.water_value_global_result`\n",
       " - `model.plant.Lien_krv.production`\n",
       " - `model.reservoir.Lensvik.water_value_local_result`\n",
       " - `model.junction.w_k_Strand.local_incr_cost`\n",
       " - `model.generator.Rull2_G1.solver_discharge`\n",
       " - `model.plant.Lien_krv.solver_discharge`\n",
       " - `model.reservoir.Rullsvatn.storage`\n",
       " - `model.reservoir.Strand.energy_value_local_result`\n",
       " - `model.plant.Lien_krv.head_loss`\n",
       " - `model.reservoir.Strand_tunnel.energy_value_local_result`\n",
       " - `model.generator.Lien_krv_G1.discharge`\n",
       " - `model.plant.Rull2.head_loss`\n",
       " - `model.junction.Lont_intake.local_incr_cost`\n",
       " - `model.gate.w_Rullsvatn_Rullslaagen.discharge`\n",
       " - `model.plant.Rull2.prod_unbalance`\n",
       " - `model.reservoir.Strand.water_value_global_result`\n",
       " - `model.plant.Rull2.solver_discharge`\n",
       " - `model.plant.Lien_krv.discharge`\n",
       " - `model.junction.Fjerdingby_intake.local_incr_cost`\n",
       " - `model.plant.Lien_krv.solver_production`\n",
       " - `model.reservoir.Strand_tunnel.storage`\n",
       " - `model.reservoir.Lensvik.water_value_global_result`\n",
       " - `model.gate.w_Hovden_Livincovs.discharge`\n",
       " - `model.generator.Rull2_G1.committed_out`\n",
       " - `model.reservoir.Lensvik.energy_value_local_result`\n",
       " - `model.junction.w_k_Strand.incr_cost`\n",
       " - `model.gate.w_Finnvasstol_Strand_tunnel.discharge`\n",
       " - `model.generator.Lien_krv_G1.discharge_fee_objective`\n",
       " - `model.generator.Rull2_G1.discharge`\n",
       " - `model.reservoir.Hagen.water_value_local_result`\n",
       " - `model.plant.Lien_krv.prod_unbalance`\n",
       " - `model.junction.Holensfoss_junc.tunnel_flow_1`\n",
       "\n",
       "\n",
       "## Items in Result A which are not in Result B:\n",
       "#### Value Items: \n",
       " * `model.reservoir.Frosta.added_to_network`\n",
       "-1507.6336854143\n",
       " * `model.objective.average_objective.nonphysical_spill_cost`\n",
       "-1507.6336854143\n",
       " * `model.objective.average_objective.nonphysical_spill_volume`\n",
       "-1507.6336854143\n",
       " * `model.objective.scen_1.nonphysical_spill_cost`\n",
       "-1507.6336854143\n",
       " * `model.objective.scen_1.nonphysical_spill_volume`\n",
       "-1507.6336854143\n",
       "\n",
       "#### Time series:  \n",
       "Use `post_run.plot(key)` on Result A with one of the following keys \n",
       " - `model.junction.Golebiowski_intake.incr_cost`\n",
       " - `model.generator.Lien_krv_G1.committed_out`\n",
       " - `model.junction.Lont_intake.incr_cost`\n",
       " - `model.generator.Lien_krv_G1.market_income`\n",
       " - `model.junction.Sandvika.local_incr_cost`\n",
       " - `model.reservoir.Strand_tunnel.head`\n",
       " - `model.junction.Landet_intake.local_incr_cost`\n",
       " - `model.reservoir.Strand_tunnel.water_value_local_result`\n",
       " - `model.generator.Rull2_G2.head_loss`\n",
       " - `model.junction.Landet_intake.incr_cost`\n",
       " - `model.generator.Rull2_G1.head_loss`\n",
       " - `model.junction.Golebiowski_intake.local_incr_cost`\n",
       " - `model.plant.Rull2.discharge`\n",
       " - `model.reservoir.Hagen.energy_value_local_result`\n",
       " - `model.reservoir.Strand.water_value_local_result`\n",
       " - `model.generator.Lien_krv_G1.head_loss`\n",
       " - `model.generator.Lien_krv_G1.production`\n",
       " - `model.junction.Gustad.tunnel_flow_1`\n",
       " - `model.junction.Sandvika.incr_cost`\n",
       " - `model.generator.Lien_krv_G1.solver_production`\n",
       " - `model.reservoir.Strand_tunnel.water_value_global_result`\n",
       " - `model.generator.Lien_krv_G1.solver_discharge`\n",
       " - `model.junction.Fjerdingby_intake.incr_cost`\n",
       " - `model.reservoir.Rullsvatn.head`\n",
       " - `model.reservoir.Ranemsletta_1183.water_value_global_result`\n",
       " - `model.plant.Lien_krv.production`\n",
       " - `model.reservoir.Lensvik.water_value_local_result`\n",
       " - `model.junction.w_k_Strand.local_incr_cost`\n",
       " - `model.generator.Rull2_G1.solver_discharge`\n",
       " - `model.plant.Lien_krv.solver_discharge`\n",
       " - `model.reservoir.Rullsvatn.storage`\n",
       " - `model.reservoir.Strand.energy_value_local_result`\n",
       " - `model.plant.Lien_krv.head_loss`\n",
       " - `model.reservoir.Strand_tunnel.energy_value_local_result`\n",
       " - `model.generator.Lien_krv_G1.discharge`\n",
       " - `model.plant.Rull2.head_loss`\n",
       " - `model.junction.Lont_intake.local_incr_cost`\n",
       " - `model.gate.w_Rullsvatn_Rullslaagen.discharge`\n",
       " - `model.plant.Rull2.prod_unbalance`\n",
       " - `model.reservoir.Strand.water_value_global_result`\n",
       " - `model.plant.Rull2.solver_discharge`\n",
       " - `model.plant.Lien_krv.discharge`\n",
       " - `model.gate.f_Ranemsletta_1183_Livincovs.discharge`\n",
       " - `model.junction.Fjerdingby_intake.local_incr_cost`\n",
       " - `model.plant.Lien_krv.solver_production`\n",
       " - `model.reservoir.Strand_tunnel.storage`\n",
       " - `model.reservoir.Lensvik.water_value_global_result`\n",
       " - `model.gate.w_Hovden_Livincovs.discharge`\n",
       " - `model.generator.Rull2_G1.committed_out`\n",
       " - `model.reservoir.Lensvik.energy_value_local_result`\n",
       " - `model.junction.w_k_Strand.incr_cost`\n",
       " - `model.gate.w_Finnvasstol_Strand_tunnel.discharge`\n",
       " - `model.generator.Lien_krv_G1.discharge_fee_objective`\n",
       " - `model.generator.Rull2_G1.discharge`\n",
       " - `model.reservoir.Hagen.water_value_local_result`\n",
       " - `model.plant.Lien_krv.prod_unbalance`\n",
       " - `model.junction.Holensfoss_junc.tunnel_flow_1`\n",
       "\n",
       "\n",
       "## Items that are both in Result A (top) and Result B (bottom) but are different: \n",
       "#### Values: \n",
       " - `model.objective.average_objective.grand_total`\n",
       "    - -19629837728.86\n",
       "    - -19629879739.444\n",
       " - `model.objective.average_objective.total`\n",
       "    - -19629845889.267\n",
       "    - -19629887636.041\n",
       " - `model.objective.average_objective.sum_penalties`\n",
       "    - 8160.4067934862\n",
       "    - 7896.5971466895\n",
       " - `model.objective.average_objective.minor_penalties`\n",
       "    - 8160.4067934862\n",
       "    - 7896.5971466895\n",
       " - `model.objective.average_objective.rsv_end_value`\n",
       "    - -19628260565.545\n",
       "    - -19628272615.793\n",
       " - `model.objective.average_objective.rsv_end_value_relative`\n",
       "    - -358070111.3763\n",
       "    - -358082161.62457\n",
       " - `model.objective.average_objective.market_sale_buy`\n",
       "    - -1586873.7223579\n",
       "    - -1616570.248269\n",
       " - `model.objective.average_objective.gate_spill_cost`\n",
       "    - 8160.4065115954\n",
       "    - 7896.5968647988\n",
       " - `model.objective.scen_1.grand_total`\n",
       "    - -19629837728.86\n",
       "    - -19629879739.444\n",
       " - `model.objective.scen_1.total`\n",
       "    - -19629845889.267\n",
       "    - -19629887636.041\n",
       " - `model.objective.scen_1.sum_penalties`\n",
       "    - 8160.4067934862\n",
       "    - 7896.5971466895\n",
       " - `model.objective.scen_1.minor_penalties`\n",
       "    - 8160.4067934862\n",
       "    - 7896.5971466895\n",
       " - `model.objective.scen_1.rsv_end_value`\n",
       "    - -19628260565.545\n",
       "    - -19628272615.793\n",
       " - `model.objective.scen_1.rsv_end_value_relative`\n",
       "    - -358070111.3763\n",
       "    - -358082161.62457\n",
       " - `model.objective.scen_1.market_sale_buy`\n",
       "    - -1586873.7223579\n",
       "    - -1616570.248269\n",
       " - `model.objective.scen_1.gate_spill_cost`\n",
       "    - 8160.4065115954\n",
       "    - 7896.5968647988\n",
       " - `model.reservoir.Danielsen.added_to_network`\n",
       "    - 1869107968\n",
       "    - 32512\n",
       "\n",
       "#### Time series:\n",
       "Use `powerops.shop.results.compare.plot_time_series(('Result A', 'Result B'), key)`  on with one of the following keys \n",
       " * `model.reservoir.Sirefelt.energy_value_local_result`\n",
       " * `model.reservoir.Strand.head`\n",
       " * `model.generator.Lien_krv_G1.committed_out`\n",
       " * `model.reservoir.Strand_tunnel.water_value_local_result`\n",
       " * `model.reservoir.Tangvall.water_value_local_result`\n",
       " * `model.plant.Dalby.gross_head`\n",
       " * `model.plant.Rull2.eff_head`\n",
       " * `model.reservoir.Livincovs.water_value_local_result`\n",
       " * `model.junction.Golebiowski_intake.local_incr_cost`\n",
       " * `model.reservoir.Strand.change_in_end_value`\n",
       " * `model.reservoir.Sirefelt.water_value_global_result`\n",
       " * `model.market.Dayahead.sale_price`\n",
       " * `model.junction.Sandvika.incr_cost`\n",
       " * `model.junction.Blakstad.local_incr_cost`\n",
       " * `model.reservoir.Ranemsletta_1183.water_value_local_result`\n",
       " * `model.reservoir.Ranemsletta_1183.storage`\n",
       " * `model.junction.Gustad.incr_cost`\n",
       " * `model.reservoir.Lensvik.water_value_local_result`\n",
       " * `model.junction.Golebiowski_intake.tunnel_flow_1`\n",
       " * `model.reservoir.Hovden.water_value_global_result`\n",
       " * `model.plant.Lien_krv.eff_head`\n",
       " * `model.reservoir.Frosta.water_value_local_result`\n",
       " * `model.plant.Lien_krv.head_loss`\n",
       " * `model.reservoir.Lundvann.energy_value_local_result`\n",
       " * `model.generator.Dalby_G1.eff_head`\n",
       " * `model.reservoir.Strand.water_value_global_result`\n",
       " * `model.plant.Rull2.gross_head`\n",
       " * `model.reservoir.Lensvik.end_value`\n",
       " * `model.reservoir.Lensvik.energy_value_local_result`\n",
       " * `model.junction.Vigrestad.incr_cost`\n",
       " * `model.reservoir.Varhaug.energy_value_local_result`\n",
       " * `model.plant.Landet.prod_unbalance`\n",
       " * `model.generator.Rull2_G1.discharge`\n",
       " * `model.plant.Lien_krv.prod_unbalance`\n",
       " * `model.plant.Landet.gross_head`\n",
       " * `model.reservoir.Sirefelt.water_value_local_result`\n",
       " * `model.reservoir.Strand_tunnel.head`\n",
       " * `model.generator.Landet_G1.discharge`\n",
       " * `model.reservoir.Sirefelt.head`\n",
       " * `model.junction.w_k_Strand.tunnel_flow_1`\n",
       " * `model.cut_group.1.end_value`\n",
       " * `model.generator.Rull2_G1.head_loss`\n",
       " * `model.generator.Landet_G1.head_loss`\n",
       " * `model.generator.Lund_G1.market_income`\n",
       " * `model.junction.Blakstad.incr_cost`\n",
       " * `model.reservoir.Danielsen.water_value_global_result`\n",
       " * `model.reservoir.Livincovs.energy_value_local_result`\n",
       " * `model.reservoir.Lensvik.storage`\n",
       " * `model.generator.Lien_krv_G1.solver_production`\n",
       " * `model.reservoir.Strand_tunnel.water_value_global_result`\n",
       " * `model.junction.w_k_Strand.tunnel_flow_2`\n",
       " * `model.reservoir.Strand_tunnel.end_value`\n",
       " * `model.junction.Holensfoss_junc.incr_cost`\n",
       " * `model.generator.Holen_G1.eff_head`\n",
       " * `model.generator.Landet_G1.production`\n",
       " * `model.generator.Lien_krv_G1.eff_head`\n",
       " * `model.generator.Landet_G1.market_income`\n",
       " * `model.junction.Holensfoss_junc.pressure_height`\n",
       " * `model.plant.Lien_krv.gross_head`\n",
       " * `model.junction.Fjerdingby_intake.tunnel_flow_1`\n",
       " * `model.plant.Rull2.prod_unbalance`\n",
       " * `model.gate.w_Rullsvatn_Rullslaagen.discharge`\n",
       " * `model.reservoir.Livincovs.head`\n",
       " * `model.reservoir.Livincovs.water_value_global_result`\n",
       " * `model.reservoir.Lundvann.water_value_local_result`\n",
       " * `model.plant.Lien_krv.discharge`\n",
       " * `model.reservoir.Frosta.energy_value_local_result`\n",
       " * `model.plant.Rull2.production`\n",
       " * `model.junction.Gustad.local_incr_cost`\n",
       " * `model.generator.Rull2_G2.eff_head`\n",
       " * `model.junction.Lont_intake.incr_cost`\n",
       " * `model.generator.Lien_krv_G1.market_income`\n",
       " * `model.junction.Gustad.pressure_height`\n",
       " * `model.reservoir.Nielsen.energy_value_local_result`\n",
       " * `model.junction.Landet_intake.local_incr_cost`\n",
       " * `model.generator.Rull2_G2.head_loss`\n",
       " * `model.junction.Landet_intake.incr_cost`\n",
       " * `model.reservoir.Strand.end_value`\n",
       " * `model.reservoir.Hovden.water_value_local_result`\n",
       " * `model.generator.Rull2_G1.solver_production`\n",
       " * `model.reservoir.Hagen.energy_value_local_result`\n",
       " * `model.reservoir.Lensvik.head`\n",
       " * `model.reservoir.Strand.storage`\n",
       " * `model.generator.Lien_krv_G1.solver_discharge`\n",
       " * `model.junction.Fjerdingby_intake.incr_cost`\n",
       " * `model.generator.Rull2_G1.eff_head`\n",
       " * `model.reservoir.Rullsvatn.head`\n",
       " * `model.junction.Blakstad.pressure_height`\n",
       " * `model.plant.Lien_krv.production`\n",
       " * `model.reservoir.Livincovs.change_in_end_value`\n",
       " * `model.reservoir.Livincovs.end_value`\n",
       " * `model.junction.w_k_Strand.local_incr_cost`\n",
       " * `model.generator.Rull2_G1.production`\n",
       " * `model.junction.Lont_intake.tunnel_flow_1`\n",
       " * `model.generator.Rull2_G1.discharge_fee_objective`\n",
       " * `model.junction.Landet_intake.tunnel_flow_1`\n",
       " * `model.junction.Landet_intake.pressure_height`\n",
       " * `model.reservoir.Rullsvatn.storage`\n",
       " * `model.plant.Dalby.eff_head`\n",
       " * `model.reservoir.Strand.energy_value_local_result`\n",
       " * `model.plant.Rull2.solver_production`\n",
       " * `model.junction.Vigrestad.pressure_height`\n",
       " * `model.junction.Fjerdingby_intake.local_incr_cost`\n",
       " * `model.plant.Landet.eff_head`\n",
       " * `model.reservoir.Strand_tunnel.change_in_end_value`\n",
       " * `model.reservoir.Danielsen.energy_value_local_result`\n",
       " * `model.junction.Golebiowski_intake.pressure_height`\n",
       " * `model.reservoir.Tangvall.energy_value_local_result`\n",
       " * `model.generator.Lien_krv_G1.discharge_fee_objective`\n",
       " * `model.market.Dayahead.buy_price`\n",
       " * `model.reservoir.Sirefelt.storage`\n",
       " * `model.junction.Holensfoss_junc.tunnel_flow_1`\n",
       " * `model.reservoir.Ranemsletta_1183.energy_value_local_result`\n",
       " * `model.junction.Golebiowski_intake.incr_cost`\n",
       " * `model.generator.Landet_G1.solver_discharge`\n",
       " * `model.plant.Landet.discharge`\n",
       " * `model.junction.Fjerdingby_intake.pressure_height`\n",
       " * `model.generator.Rull2_G1.market_income`\n",
       " * `model.plant.Rull2.discharge`\n",
       " * `model.junction.Holensfoss_junc.local_incr_cost`\n",
       " * `model.reservoir.Strand.water_value_local_result`\n",
       " * `model.generator.Lien_krv_G1.head_loss`\n",
       " * `model.junction.Vigrestad.local_incr_cost`\n",
       " * `model.reservoir.Nielsen.water_value_local_result`\n",
       " * `model.generator.Lien_krv_G1.production`\n",
       " * `model.reservoir.Danielsen.water_value_local_result`\n",
       " * `model.junction.Gustad.tunnel_flow_1`\n",
       " * `model.generator.Landet_G1.discharge_fee_objective`\n",
       " * `model.market.Dayahead.sale`\n",
       " * `model.reservoir.Lensvik.change_in_end_value`\n",
       " * `model.junction.Lont_intake.pressure_height`\n",
       " * `model.reservoir.Ranemsletta_1183.water_value_global_result`\n",
       " * `model.junction.w_k_Strand.pressure_height`\n",
       " * `model.plant.Landet.production`\n",
       " * `model.generator.Landet_G1.eff_head`\n",
       " * `model.generator.Rull2_G1.solver_discharge`\n",
       " * `model.plant.Lien_krv.solver_discharge`\n",
       " * `model.plant.Holen.gross_head`\n",
       " * `model.reservoir.Ranemsletta_1183.head`\n",
       " * `model.reservoir.Strand_tunnel.energy_value_local_result`\n",
       " * `model.reservoir.Varhaug.water_value_local_result`\n",
       " * `model.generator.Lien_krv_G1.discharge`\n",
       " * `model.plant.Rull2.head_loss`\n",
       " * `model.reservoir.Hovden.energy_value_local_result`\n",
       " * `model.junction.Lont_intake.local_incr_cost`\n",
       " * `model.generator.Dalby_G2.eff_head`\n",
       " * `model.plant.Landet.solver_discharge`\n",
       " * `model.plant.Rull2.solver_discharge`\n",
       " * `model.reservoir.Livincovs.storage`\n",
       " * `model.plant.Lien_krv.solver_production`\n",
       " * `model.reservoir.Strand_tunnel.storage`\n",
       " * `model.reservoir.Lensvik.water_value_global_result`\n",
       " * `model.plant.Landet.head_loss`\n",
       " * `model.generator.Rull2_G1.committed_out`\n",
       " * `model.junction.w_k_Strand.incr_cost`\n",
       " * `model.plant.Holen.eff_head`\n",
       " * `model.gate.w_Finnvasstol_Strand_tunnel.discharge`\n",
       " * `model.junction.Sandvika.local_incr_cost`\n",
       " * `model.reservoir.Hagen.water_value_local_result`\n",
       " * `model.junction.Sandvika.pressure_height`\n",
       "\n"
      ],
      "text/plain": [
       "<IPython.core.display.Markdown object>"
      ]
     },
     "execution_count": 48,
     "metadata": {},
     "output_type": "execute_result"
    }
   ],
   "source": [
    "from IPython.display import Markdown\n",
    "\n",
    "deep_diff_md = power.shop.results.compare.yaml_difference_md(post_run_a, post_run_b)\n",
    "\n",
    "Markdown(deep_diff_md)"
   ]
  },
  {
   "cell_type": "code",
   "execution_count": null,
   "metadata": {},
   "outputs": [],
   "source": []
  },
  {
   "cell_type": "code",
   "execution_count": null,
   "metadata": {},
   "outputs": [],
   "source": []
  }
 ],
 "metadata": {
  "kernelspec": {
   "display_name": "Python 3 (ipykernel)",
   "language": "python",
   "name": "python3"
  },
  "language_info": {
   "codemirror_mode": {
    "name": "ipython",
    "version": 3
   },
   "file_extension": ".py",
   "mimetype": "text/x-python",
   "name": "python",
   "nbconvert_exporter": "python",
   "pygments_lexer": "ipython3",
   "version": "3.9.13"
  }
 },
 "nbformat": 4,
 "nbformat_minor": 4
}
