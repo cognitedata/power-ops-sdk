{
 "cells": [
  {
   "cell_type": "markdown",
   "metadata": {},
   "source": [
    "## Create a  PowerOps Client\n",
    "\n",
    "A power ops client is a layer on top the regular CogniteClient that contains domain specific interface against CDF and the powerops data models. See quickstart guide for setting up. "
   ]
  },
  {
   "cell_type": "code",
   "execution_count": 1,
   "metadata": {
    "ExecuteTime": {
     "end_time": "2023-10-27T18:44:23.531408Z",
     "start_time": "2023-10-27T18:44:20.848101Z"
    }
   },
   "outputs": [],
   "source": [
    "from cognite.powerops import PowerOpsClient\n",
    "from cognite.client import CogniteClient\n",
    "import os\n",
    "os.environ[\"SETTINGS_FILES\"] = \"../../settings.toml;../../.secrets.toml\"  # settings files are not in current dir\n",
    "\n",
    "power = PowerOpsClient.from_settings()\n",
    "# The regular cognite client is available under the .cdf attribute.\n",
    "client: CogniteClient = power.cdf"
   ]
  },
  {
   "cell_type": "markdown",
   "metadata": {},
   "source": [
    "Note it is important that the `CogShop` version have been set to trigger SHOP runs."
   ]
  },
  {
   "cell_type": "markdown",
   "metadata": {},
   "source": [
    "## Fetching SHOP Runs"
   ]
  },
  {
   "cell_type": "markdown",
   "metadata": {},
   "source": [
    "### Listing SHOP runs"
   ]
  },
  {
   "cell_type": "code",
   "execution_count": 2,
   "metadata": {
    "ExecuteTime": {
     "end_time": "2023-10-27T18:44:23.607188Z",
     "start_time": "2023-10-27T18:44:23.533071Z"
    }
   },
   "outputs": [],
   "source": [
    "shop_runs = power.shop.list(limit=5, watercourse=\"Fornebu\")"
   ]
  },
  {
   "cell_type": "code",
   "execution_count": 3,
   "metadata": {
    "ExecuteTime": {
     "end_time": "2023-10-27T18:44:23.619328Z",
     "start_time": "2023-10-27T18:44:23.611687Z"
    }
   },
   "outputs": [
    {
     "data": {
      "text/html": [
       "<div>\n",
       "<style scoped>\n",
       "    .dataframe tbody tr th:only-of-type {\n",
       "        vertical-align: middle;\n",
       "    }\n",
       "\n",
       "    .dataframe tbody tr th {\n",
       "        vertical-align: top;\n",
       "    }\n",
       "\n",
       "    .dataframe thead th {\n",
       "        text-align: right;\n",
       "    }\n",
       "</style>\n",
       "<table border=\"1\" class=\"dataframe\">\n",
       "  <thead>\n",
       "    <tr style=\"text-align: right;\">\n",
       "      <th></th>\n",
       "      <th>external_id</th>\n",
       "      <th>watercourse</th>\n",
       "      <th>start</th>\n",
       "      <th>end</th>\n",
       "      <th>case_file_external_id</th>\n",
       "      <th>shop_files_external_ids</th>\n",
       "      <th>shop_version</th>\n",
       "    </tr>\n",
       "  </thead>\n",
       "  <tbody>\n",
       "    <tr>\n",
       "      <th>0</th>\n",
       "      <td>POWEROPS_SHOP_RUN_2023-09-09T09:56:11.284030Z_...</td>\n",
       "      <td>Fornebu</td>\n",
       "      <td>2021-05-21 22:00:00+00:00</td>\n",
       "      <td>2021-05-30 22:00:00+00:00</td>\n",
       "      <td>cog_shop_preprocessor/cogShop/Case_2023-09-09T...</td>\n",
       "      <td>[{'external_id': 'SHOP_Fornebu_water_value_cut...</td>\n",
       "      <td>14.4.3.0</td>\n",
       "    </tr>\n",
       "    <tr>\n",
       "      <th>1</th>\n",
       "      <td>POWEROPS_SHOP_RUN_2023-10-06T09:55:48.507978Z_...</td>\n",
       "      <td>Fornebu</td>\n",
       "      <td>2021-05-21 22:00:00+00:00</td>\n",
       "      <td>2021-05-30 22:00:00+00:00</td>\n",
       "      <td>cog_shop_preprocessor/cogShop/Case_2023-10-06T...</td>\n",
       "      <td>[{'external_id': 'SHOP_Fornebu_water_value_cut...</td>\n",
       "      <td>14.4.3.0</td>\n",
       "    </tr>\n",
       "    <tr>\n",
       "      <th>2</th>\n",
       "      <td>POWEROPS_SHOP_RUN_2023-10-13T09:55:56.341479Z_...</td>\n",
       "      <td>Fornebu</td>\n",
       "      <td>2021-05-21 22:00:00+00:00</td>\n",
       "      <td>2021-05-30 22:00:00+00:00</td>\n",
       "      <td>cog_shop_preprocessor/cogShop/Case_2023-10-13T...</td>\n",
       "      <td>[{'external_id': 'SHOP_Fornebu_water_value_cut...</td>\n",
       "      <td>14.4.3.0</td>\n",
       "    </tr>\n",
       "    <tr>\n",
       "      <th>3</th>\n",
       "      <td>POWEROPS_SHOP_RUN_2023-09-26T09:56:10.631069Z_...</td>\n",
       "      <td>Fornebu</td>\n",
       "      <td>2021-05-21 22:00:00+00:00</td>\n",
       "      <td>2021-05-30 22:00:00+00:00</td>\n",
       "      <td>cog_shop_preprocessor/cogShop/Case_2023-09-26T...</td>\n",
       "      <td>[{'external_id': 'SHOP_Fornebu_water_value_cut...</td>\n",
       "      <td>14.4.3.0</td>\n",
       "    </tr>\n",
       "    <tr>\n",
       "      <th>4</th>\n",
       "      <td>POWEROPS_SHOP_RUN_copied_1695903354396214957_P...</td>\n",
       "      <td>Fornebu</td>\n",
       "      <td>2021-05-21 22:00:00+00:00</td>\n",
       "      <td>2021-05-30 22:00:00+00:00</td>\n",
       "      <td>cog_shop_preprocessor/cogShop/Case_2023-09-27T...</td>\n",
       "      <td>[{'external_id': 'SHOP_Fornebu_water_value_cut...</td>\n",
       "      <td>14.4.3.0</td>\n",
       "    </tr>\n",
       "  </tbody>\n",
       "</table>\n",
       "</div>"
      ],
      "text/plain": [
       "SHOPRunList([SHOPRun(external_id='POWEROPS_SHOP_RUN_2023-09-09T09:56:11.284030Z_5fa733', watercourse='Fornebu', data_set_id=4272372867810023, start=datetime.datetime(2021, 5, 21, 22, 0, tzinfo=datetime.timezone.utc), end=datetime.datetime(2021, 5, 30, 22, 0, tzinfo=datetime.timezone.utc), shop_version='14.4.3.0', source=None, _case_file_external_id='cog_shop_preprocessor/cogShop/Case_2023-09-09T09:56:11.284030Z_5fa733/0d3ce65c-0dbc-4fd0-a0a9-7e7463eb10ea', _shop_files=[SHOPFileReference(external_id='SHOP_Fornebu_water_value_cut_file_reservoir_mapping', file_type='ascii'), SHOPFileReference(external_id='SHOP_Fornebu_water_value_cut_file', file_type='ascii')], _run_event_types=set()),\n",
       "             SHOPRun(external_id='POWEROPS_SHOP_RUN_2023-10-06T09:55:48.507978Z_580c7f', watercourse='Fornebu', data_set_id=4272372867810023, start=datetime.datetime(2021, 5, 21, 22, 0, tzinfo=datetime.timezone.utc), end=datetime.datetime(2021, 5, 30, 22, 0, tzinfo=datetime.timezone.utc), shop_version='14.4.3.0', source=None, _case_file_external_id='cog_shop_preprocessor/cogShop/Case_2023-10-06T09:55:48.507978Z_580c7f/28e09d9d-4890-42ff-ab8e-a5106ec88667', _shop_files=[SHOPFileReference(external_id='SHOP_Fornebu_water_value_cut_file_reservoir_mapping', file_type='ascii'), SHOPFileReference(external_id='SHOP_Fornebu_water_value_cut_file', file_type='ascii')], _run_event_types=set()),\n",
       "             SHOPRun(external_id='POWEROPS_SHOP_RUN_2023-10-13T09:55:56.341479Z_f14ed8', watercourse='Fornebu', data_set_id=4272372867810023, start=datetime.datetime(2021, 5, 21, 22, 0, tzinfo=datetime.timezone.utc), end=datetime.datetime(2021, 5, 30, 22, 0, tzinfo=datetime.timezone.utc), shop_version='14.4.3.0', source=None, _case_file_external_id='cog_shop_preprocessor/cogShop/Case_2023-10-13T09:55:56.341479Z_f14ed8/0bb516fe-0df6-4531-ba06-4921b0be7690', _shop_files=[SHOPFileReference(external_id='SHOP_Fornebu_water_value_cut_file_reservoir_mapping', file_type='ascii'), SHOPFileReference(external_id='SHOP_Fornebu_water_value_cut_file', file_type='ascii')], _run_event_types=set()),\n",
       "             SHOPRun(external_id='POWEROPS_SHOP_RUN_2023-09-26T09:56:10.631069Z_f1a525', watercourse='Fornebu', data_set_id=4272372867810023, start=datetime.datetime(2021, 5, 21, 22, 0, tzinfo=datetime.timezone.utc), end=datetime.datetime(2021, 5, 30, 22, 0, tzinfo=datetime.timezone.utc), shop_version='14.4.3.0', source=None, _case_file_external_id='cog_shop_preprocessor/cogShop/Case_2023-09-26T09:56:10.631069Z_f1a525/70f86e71-5dac-42e3-88c7-a9dfbb46698c', _shop_files=[SHOPFileReference(external_id='SHOP_Fornebu_water_value_cut_file_reservoir_mapping', file_type='ascii'), SHOPFileReference(external_id='SHOP_Fornebu_water_value_cut_file', file_type='ascii')], _run_event_types=set()),\n",
       "             SHOPRun(external_id='POWEROPS_SHOP_RUN_copied_1695903354396214957_POWEROPS_SHOP_RUN_2023-09-27T09:56:18.302517Z_f3f6b6', watercourse='Fornebu', data_set_id=4272372867810023, start=datetime.datetime(2021, 5, 21, 22, 0, tzinfo=datetime.timezone.utc), end=datetime.datetime(2021, 5, 30, 22, 0, tzinfo=datetime.timezone.utc), shop_version='14.4.3.0', source=None, _case_file_external_id='cog_shop_preprocessor/cogShop/Case_2023-09-27T09:56:18.302517Z_f3f6b6/b0e002d2-af06-4fa5-ab45-3d34e0a77476', _shop_files=[SHOPFileReference(external_id='SHOP_Fornebu_water_value_cut_file_reservoir_mapping', file_type='ascii'), SHOPFileReference(external_id='SHOP_Fornebu_water_value_cut_file', file_type='ascii')], _run_event_types=set())])"
      ]
     },
     "execution_count": 3,
     "metadata": {},
     "output_type": "execute_result"
    }
   ],
   "source": [
    "shop_runs"
   ]
  },
  {
   "cell_type": "markdown",
   "metadata": {},
   "source": [
    "### Listing with filters \n",
    "* Filtering on the start time and end time. The expected format is `YYYY-MM-DD` as seen in this example: \n",
    "* The there is also the option to filter on multiple watercourses by passing a list"
   ]
  },
  {
   "cell_type": "code",
   "execution_count": 4,
   "metadata": {
    "ExecuteTime": {
     "end_time": "2023-10-27T18:44:23.791021Z",
     "start_time": "2023-10-27T18:44:23.621472Z"
    }
   },
   "outputs": [
    {
     "data": {
      "text/html": [
       "<div>\n",
       "<style scoped>\n",
       "    .dataframe tbody tr th:only-of-type {\n",
       "        vertical-align: middle;\n",
       "    }\n",
       "\n",
       "    .dataframe tbody tr th {\n",
       "        vertical-align: top;\n",
       "    }\n",
       "\n",
       "    .dataframe thead th {\n",
       "        text-align: right;\n",
       "    }\n",
       "</style>\n",
       "<table border=\"1\" class=\"dataframe\">\n",
       "  <thead>\n",
       "    <tr style=\"text-align: right;\">\n",
       "      <th></th>\n",
       "      <th>external_id</th>\n",
       "      <th>watercourse</th>\n",
       "      <th>start</th>\n",
       "      <th>end</th>\n",
       "      <th>case_file_external_id</th>\n",
       "      <th>shop_files_external_ids</th>\n",
       "      <th>shop_version</th>\n",
       "    </tr>\n",
       "  </thead>\n",
       "  <tbody>\n",
       "    <tr>\n",
       "      <th>0</th>\n",
       "      <td>POWEROPS_SHOP_RUN_2023-09-08T14:42:09.163927Z_...</td>\n",
       "      <td>Fornebu</td>\n",
       "      <td>2022-08-03 22:00:00+00:00</td>\n",
       "      <td>2022-08-14 22:00:00+00:00</td>\n",
       "      <td>cog_shop_preprocessor/cogShop/Case_2023-09-08T...</td>\n",
       "      <td>[{'external_id': 'SHOP_Fornebu_water_value_cut...</td>\n",
       "      <td>14.4.3.0</td>\n",
       "    </tr>\n",
       "    <tr>\n",
       "      <th>1</th>\n",
       "      <td>POWEROPS_SHOP_RUN_2023-09-08T15:23:45.100354Z_...</td>\n",
       "      <td>Fornebu</td>\n",
       "      <td>2022-08-03 22:00:00+00:00</td>\n",
       "      <td>2022-08-14 22:00:00+00:00</td>\n",
       "      <td>cog_shop_preprocessor/cogShop/Case_2023-09-08T...</td>\n",
       "      <td>[{'external_id': 'SHOP_Fornebu_water_value_cut...</td>\n",
       "      <td>14.4.3.0</td>\n",
       "    </tr>\n",
       "    <tr>\n",
       "      <th>2</th>\n",
       "      <td>POWEROPS_SHOP_RUN_2023-09-08T14:42:04.889488Z_...</td>\n",
       "      <td>Fornebu</td>\n",
       "      <td>2022-08-03 22:00:00+00:00</td>\n",
       "      <td>2022-08-14 22:00:00+00:00</td>\n",
       "      <td>cog_shop_preprocessor/cogShop/Case_2023-09-08T...</td>\n",
       "      <td>[{'external_id': 'SHOP_Fornebu_water_value_cut...</td>\n",
       "      <td>14.4.3.0</td>\n",
       "    </tr>\n",
       "    <tr>\n",
       "      <th>3</th>\n",
       "      <td>POWEROPS_SHOP_RUN_2023-09-08T15:23:45.101388Z_...</td>\n",
       "      <td>Fornebu</td>\n",
       "      <td>2022-08-03 22:00:00+00:00</td>\n",
       "      <td>2022-08-14 22:00:00+00:00</td>\n",
       "      <td>cog_shop_preprocessor/cogShop/Case_2023-09-08T...</td>\n",
       "      <td>[{'external_id': 'SHOP_Fornebu_water_value_cut...</td>\n",
       "      <td>14.4.3.0</td>\n",
       "    </tr>\n",
       "    <tr>\n",
       "      <th>4</th>\n",
       "      <td>POWEROPS_SHOP_RUN_2023-09-08T14:42:09.164453Z_...</td>\n",
       "      <td>Fornebu</td>\n",
       "      <td>2022-08-03 22:00:00+00:00</td>\n",
       "      <td>2022-08-14 22:00:00+00:00</td>\n",
       "      <td>cog_shop_preprocessor/cogShop/Case_2023-09-08T...</td>\n",
       "      <td>[{'external_id': 'SHOP_Fornebu_water_value_cut...</td>\n",
       "      <td>14.4.3.0</td>\n",
       "    </tr>\n",
       "  </tbody>\n",
       "</table>\n",
       "</div>"
      ],
      "text/plain": [
       "SHOPRunList([SHOPRun(external_id='POWEROPS_SHOP_RUN_2023-09-08T14:42:09.163927Z_fcbdeb', watercourse='Fornebu', data_set_id=4272372867810023, start=datetime.datetime(2022, 8, 3, 22, 0, tzinfo=datetime.timezone.utc), end=datetime.datetime(2022, 8, 14, 22, 0, tzinfo=datetime.timezone.utc), shop_version='14.4.3.0', source=None, _case_file_external_id='cog_shop_preprocessor/cogShop/Case_2023-09-08T14:42:09.163927Z_fcbdeb/adc36ffa-ef54-4ded-84fd-1220ef77b0cb', _shop_files=[SHOPFileReference(external_id='SHOP_Fornebu_water_value_cut_file_reservoir_mapping', file_type='ascii'), SHOPFileReference(external_id='SHOP_Fornebu_water_value_cut_file', file_type='ascii')], _run_event_types=set()),\n",
       "             SHOPRun(external_id='POWEROPS_SHOP_RUN_2023-09-08T15:23:45.100354Z_5a8f16', watercourse='Fornebu', data_set_id=4272372867810023, start=datetime.datetime(2022, 8, 3, 22, 0, tzinfo=datetime.timezone.utc), end=datetime.datetime(2022, 8, 14, 22, 0, tzinfo=datetime.timezone.utc), shop_version='14.4.3.0', source=None, _case_file_external_id='cog_shop_preprocessor/cogShop/Case_2023-09-08T15:23:45.100354Z_5a8f16/5ac31ed0-27e7-4917-af59-37d9530cb809', _shop_files=[SHOPFileReference(external_id='SHOP_Fornebu_water_value_cut_file_reservoir_mapping', file_type='ascii'), SHOPFileReference(external_id='SHOP_Fornebu_water_value_cut_file', file_type='ascii')], _run_event_types=set()),\n",
       "             SHOPRun(external_id='POWEROPS_SHOP_RUN_2023-09-08T14:42:04.889488Z_13c9e7', watercourse='Fornebu', data_set_id=4272372867810023, start=datetime.datetime(2022, 8, 3, 22, 0, tzinfo=datetime.timezone.utc), end=datetime.datetime(2022, 8, 14, 22, 0, tzinfo=datetime.timezone.utc), shop_version='14.4.3.0', source=None, _case_file_external_id='cog_shop_preprocessor/cogShop/Case_2023-09-08T14:42:04.889488Z_13c9e7/0deafa2e-d10b-4c12-bfce-e4a346be7a56', _shop_files=[SHOPFileReference(external_id='SHOP_Fornebu_water_value_cut_file_reservoir_mapping', file_type='ascii'), SHOPFileReference(external_id='SHOP_Fornebu_water_value_cut_file', file_type='ascii')], _run_event_types=set()),\n",
       "             SHOPRun(external_id='POWEROPS_SHOP_RUN_2023-09-08T15:23:45.101388Z_d9815c', watercourse='Fornebu', data_set_id=4272372867810023, start=datetime.datetime(2022, 8, 3, 22, 0, tzinfo=datetime.timezone.utc), end=datetime.datetime(2022, 8, 14, 22, 0, tzinfo=datetime.timezone.utc), shop_version='14.4.3.0', source=None, _case_file_external_id='cog_shop_preprocessor/cogShop/Case_2023-09-08T15:23:45.101388Z_d9815c/328d08c7-0187-496d-bbbe-e1a65f0a1420', _shop_files=[SHOPFileReference(external_id='SHOP_Fornebu_water_value_cut_file_reservoir_mapping', file_type='ascii'), SHOPFileReference(external_id='SHOP_Fornebu_water_value_cut_file', file_type='ascii')], _run_event_types=set()),\n",
       "             SHOPRun(external_id='POWEROPS_SHOP_RUN_2023-09-08T14:42:09.164453Z_fdfab3', watercourse='Fornebu', data_set_id=4272372867810023, start=datetime.datetime(2022, 8, 3, 22, 0, tzinfo=datetime.timezone.utc), end=datetime.datetime(2022, 8, 14, 22, 0, tzinfo=datetime.timezone.utc), shop_version='14.4.3.0', source=None, _case_file_external_id='cog_shop_preprocessor/cogShop/Case_2023-09-08T14:42:09.164453Z_fdfab3/59e5f17a-757c-4d59-bdc5-ab734204ceb0', _shop_files=[SHOPFileReference(external_id='SHOP_Fornebu_water_value_cut_file_reservoir_mapping', file_type='ascii'), SHOPFileReference(external_id='SHOP_Fornebu_water_value_cut_file', file_type='ascii')], _run_event_types=set())])"
      ]
     },
     "execution_count": 4,
     "metadata": {},
     "output_type": "execute_result"
    }
   ],
   "source": [
    "power.shop.list(limit=5, start_after=\"2022-01-01\", watercourse=[\"Fornebu\"])"
   ]
  },
  {
   "cell_type": "markdown",
   "metadata": {},
   "source": [
    "### Retrieving SHOP run(s)"
   ]
  },
  {
   "cell_type": "code",
   "execution_count": 5,
   "metadata": {
    "ExecuteTime": {
     "end_time": "2023-10-27T18:44:23.791728Z",
     "start_time": "2023-10-27T18:44:23.692984Z"
    }
   },
   "outputs": [],
   "source": [
    "run = power.shop.retrieve(shop_runs[0].external_id)"
   ]
  },
  {
   "cell_type": "code",
   "execution_count": 6,
   "metadata": {
    "ExecuteTime": {
     "end_time": "2023-10-27T18:44:23.792234Z",
     "start_time": "2023-10-27T18:44:23.745687Z"
    }
   },
   "outputs": [
    {
     "data": {
      "text/html": [
       "<div>\n",
       "<style scoped>\n",
       "    .dataframe tbody tr th:only-of-type {\n",
       "        vertical-align: middle;\n",
       "    }\n",
       "\n",
       "    .dataframe tbody tr th {\n",
       "        vertical-align: top;\n",
       "    }\n",
       "\n",
       "    .dataframe thead th {\n",
       "        text-align: right;\n",
       "    }\n",
       "</style>\n",
       "<table border=\"1\" class=\"dataframe\">\n",
       "  <thead>\n",
       "    <tr style=\"text-align: right;\">\n",
       "      <th></th>\n",
       "      <th>Value</th>\n",
       "    </tr>\n",
       "  </thead>\n",
       "  <tbody>\n",
       "    <tr>\n",
       "      <th>external_id</th>\n",
       "      <td>POWEROPS_SHOP_RUN_2023-09-09T09:56:11.284030Z_...</td>\n",
       "    </tr>\n",
       "    <tr>\n",
       "      <th>watercourse</th>\n",
       "      <td>Fornebu</td>\n",
       "    </tr>\n",
       "    <tr>\n",
       "      <th>start</th>\n",
       "      <td>2021-05-21 22:00:00+00:00</td>\n",
       "    </tr>\n",
       "    <tr>\n",
       "      <th>end</th>\n",
       "      <td>2021-05-30 22:00:00+00:00</td>\n",
       "    </tr>\n",
       "    <tr>\n",
       "      <th>case_file_external_id</th>\n",
       "      <td>cog_shop_preprocessor/cogShop/Case_2023-09-09T...</td>\n",
       "    </tr>\n",
       "    <tr>\n",
       "      <th>shop_files_external_ids</th>\n",
       "      <td>[{'external_id': 'SHOP_Fornebu_water_value_cut...</td>\n",
       "    </tr>\n",
       "    <tr>\n",
       "      <th>shop_version</th>\n",
       "      <td>14.4.3.0</td>\n",
       "    </tr>\n",
       "  </tbody>\n",
       "</table>\n",
       "</div>"
      ],
      "text/plain": [
       "SHOPRun(external_id='POWEROPS_SHOP_RUN_2023-09-09T09:56:11.284030Z_5fa733', watercourse='Fornebu', data_set_id=4272372867810023, start=datetime.datetime(2021, 5, 21, 22, 0, tzinfo=datetime.timezone.utc), end=datetime.datetime(2021, 5, 30, 22, 0, tzinfo=datetime.timezone.utc), shop_version='14.4.3.0', source=None, _case_file_external_id='cog_shop_preprocessor/cogShop/Case_2023-09-09T09:56:11.284030Z_5fa733/0d3ce65c-0dbc-4fd0-a0a9-7e7463eb10ea', _shop_files=[SHOPFileReference(external_id='SHOP_Fornebu_water_value_cut_file_reservoir_mapping', file_type='ascii'), SHOPFileReference(external_id='SHOP_Fornebu_water_value_cut_file', file_type='ascii')], _run_event_types=set())"
      ]
     },
     "execution_count": 6,
     "metadata": {},
     "output_type": "execute_result"
    }
   ],
   "source": [
    "run"
   ]
  },
  {
   "cell_type": "markdown",
   "metadata": {},
   "source": [
    "### Retrieving latest SHOP run\n"
   ]
  },
  {
   "cell_type": "code",
   "execution_count": 7,
   "metadata": {
    "ExecuteTime": {
     "end_time": "2023-10-27T18:44:23.860725Z",
     "start_time": "2023-10-27T18:44:23.751735Z"
    }
   },
   "outputs": [
    {
     "data": {
      "text/html": [
       "<div>\n",
       "<style scoped>\n",
       "    .dataframe tbody tr th:only-of-type {\n",
       "        vertical-align: middle;\n",
       "    }\n",
       "\n",
       "    .dataframe tbody tr th {\n",
       "        vertical-align: top;\n",
       "    }\n",
       "\n",
       "    .dataframe thead th {\n",
       "        text-align: right;\n",
       "    }\n",
       "</style>\n",
       "<table border=\"1\" class=\"dataframe\">\n",
       "  <thead>\n",
       "    <tr style=\"text-align: right;\">\n",
       "      <th></th>\n",
       "      <th>Value</th>\n",
       "    </tr>\n",
       "  </thead>\n",
       "  <tbody>\n",
       "    <tr>\n",
       "      <th>external_id</th>\n",
       "      <td>SHOP_RUN_2023-10-28T09:44:52.746485Z_b17160</td>\n",
       "    </tr>\n",
       "    <tr>\n",
       "      <th>watercourse</th>\n",
       "      <td>Fornebu</td>\n",
       "    </tr>\n",
       "    <tr>\n",
       "      <th>start</th>\n",
       "      <td>2023-10-28 09:44:52.746000+00:00</td>\n",
       "    </tr>\n",
       "    <tr>\n",
       "      <th>end</th>\n",
       "      <td>None</td>\n",
       "    </tr>\n",
       "    <tr>\n",
       "      <th>case_file_external_id</th>\n",
       "      <td>cog_shop_manual_2023-10-28T09:44:52.746485Z_c5...</td>\n",
       "    </tr>\n",
       "    <tr>\n",
       "      <th>shop_files_external_ids</th>\n",
       "      <td>[]</td>\n",
       "    </tr>\n",
       "    <tr>\n",
       "      <th>shop_version</th>\n",
       "      <td>CogShop2-20230710T163856Z</td>\n",
       "    </tr>\n",
       "  </tbody>\n",
       "</table>\n",
       "</div>"
      ],
      "text/plain": [
       "SHOPRun(external_id='SHOP_RUN_2023-10-28T09:44:52.746485Z_b17160', watercourse='Fornebu', data_set_id=8714485055141158, start=datetime.datetime(2023, 10, 28, 9, 44, 52, 746000, tzinfo=datetime.timezone.utc), end=None, shop_version='CogShop2-20230710T163856Z', source='manual', _case_file_external_id='cog_shop_manual_2023-10-28T09:44:52.746485Z_c5ccbd', _shop_files=[], _run_event_types=set())"
      ]
     },
     "execution_count": 7,
     "metadata": {},
     "output_type": "execute_result"
    }
   ],
   "source": [
    "power.shop.retrieve_latest(watercourse=\"Fornebu\", latest_by=\"created_time\")"
   ]
  },
  {
   "cell_type": "code",
   "execution_count": 8,
   "metadata": {
    "ExecuteTime": {
     "end_time": "2023-10-27T18:44:23.960787Z",
     "start_time": "2023-10-27T18:44:23.845037Z"
    }
   },
   "outputs": [
    {
     "data": {
      "text/html": [
       "<div>\n",
       "<style scoped>\n",
       "    .dataframe tbody tr th:only-of-type {\n",
       "        vertical-align: middle;\n",
       "    }\n",
       "\n",
       "    .dataframe tbody tr th {\n",
       "        vertical-align: top;\n",
       "    }\n",
       "\n",
       "    .dataframe thead th {\n",
       "        text-align: right;\n",
       "    }\n",
       "</style>\n",
       "<table border=\"1\" class=\"dataframe\">\n",
       "  <thead>\n",
       "    <tr style=\"text-align: right;\">\n",
       "      <th></th>\n",
       "      <th>Value</th>\n",
       "    </tr>\n",
       "  </thead>\n",
       "  <tbody>\n",
       "    <tr>\n",
       "      <th>external_id</th>\n",
       "      <td>POWEROPS_SHOP_RUN_2023-10-27T13:29:00.888780Z_...</td>\n",
       "    </tr>\n",
       "    <tr>\n",
       "      <th>watercourse</th>\n",
       "      <td>Fornebu</td>\n",
       "    </tr>\n",
       "    <tr>\n",
       "      <th>start</th>\n",
       "      <td>2022-09-21 22:00:00+00:00</td>\n",
       "    </tr>\n",
       "    <tr>\n",
       "      <th>end</th>\n",
       "      <td>2022-10-02 22:00:00+00:00</td>\n",
       "    </tr>\n",
       "    <tr>\n",
       "      <th>case_file_external_id</th>\n",
       "      <td>cog_shop_preprocessor/cogShop/Case_2023-10-27T...</td>\n",
       "    </tr>\n",
       "    <tr>\n",
       "      <th>shop_files_external_ids</th>\n",
       "      <td>[{'external_id': 'SHOP_Fornebu_water_value_cut...</td>\n",
       "    </tr>\n",
       "    <tr>\n",
       "      <th>shop_version</th>\n",
       "      <td>14.4.3.0</td>\n",
       "    </tr>\n",
       "  </tbody>\n",
       "</table>\n",
       "</div>"
      ],
      "text/plain": [
       "SHOPRun(external_id='POWEROPS_SHOP_RUN_2023-10-27T13:29:00.888780Z_841cba', watercourse='Fornebu', data_set_id=4272372867810023, start=datetime.datetime(2022, 9, 21, 22, 0, tzinfo=datetime.timezone.utc), end=datetime.datetime(2022, 10, 2, 22, 0, tzinfo=datetime.timezone.utc), shop_version='14.4.3.0', source=None, _case_file_external_id='cog_shop_preprocessor/cogShop/Case_2023-10-27T13:29:00.888780Z_841cba/4f248d9a-284c-4f03-8300-922bd4724e22', _shop_files=[SHOPFileReference(external_id='SHOP_Fornebu_water_value_cut_file_reservoir_mapping', file_type='ascii'), SHOPFileReference(external_id='SHOP_Fornebu_water_value_cut_file', file_type='ascii')], _run_event_types=set())"
      ]
     },
     "execution_count": 8,
     "metadata": {},
     "output_type": "execute_result"
    }
   ],
   "source": [
    "power.shop.retrieve_latest(watercourse=\"Fornebu\", latest_by=\"created_time\", end_before=\"2023-09-01\")"
   ]
  },
  {
   "cell_type": "markdown",
   "metadata": {},
   "source": [
    "### Inspecting SHOP Run Input Files\n",
    "\n",
    "The `SHOPRun` object gives access to the input files and produced outputs (in the case of a successful run)."
   ]
  },
  {
   "cell_type": "code",
   "execution_count": 9,
   "metadata": {
    "ExecuteTime": {
     "end_time": "2023-10-27T18:44:23.960938Z",
     "start_time": "2023-10-27T18:44:23.891967Z"
    }
   },
   "outputs": [],
   "source": [
    "from IPython.display import Markdown, display"
   ]
  },
  {
   "cell_type": "code",
   "execution_count": 10,
   "metadata": {
    "ExecuteTime": {
     "end_time": "2023-10-27T18:44:23.961011Z",
     "start_time": "2023-10-27T18:44:23.895189Z"
    }
   },
   "outputs": [],
   "source": [
    "# A small helper to illustrate\n",
    "def display_yaml(yaml_str):\n",
    "    display(Markdown(f\"```yaml\\n{yaml_str}```\"))"
   ]
  },
  {
   "cell_type": "code",
   "execution_count": 11,
   "metadata": {
    "ExecuteTime": {
     "end_time": "2023-10-27T18:44:24.042464Z",
     "start_time": "2023-10-27T18:44:23.898595Z"
    }
   },
   "outputs": [
    {
     "data": {
      "text/plain": [
       "<SHOPRunStatus.SUCCESS: 'success'>"
      ]
     },
     "execution_count": 11,
     "metadata": {},
     "output_type": "execute_result"
    }
   ],
   "source": [
    "run.check_status()"
   ]
  },
  {
   "cell_type": "code",
   "execution_count": 12,
   "metadata": {
    "ExecuteTime": {
     "end_time": "2023-10-27T18:44:24.236346Z",
     "start_time": "2023-10-27T18:44:23.979373Z"
    }
   },
   "outputs": [
    {
     "data": {
      "text/markdown": [
       "```yaml\n",
       "commands:\n",
       "- set time_delay_unit MINUTE\n",
       "- set ramping /on\n",
       "- set stop_cost_from_start_cost /on\n",
       "- set bypass_loss /on\n",
       "- set mipgap 0.001000\n",
       "- set timelimit 600.000\n",
       "- set reserve_ramping_cost 1\n",
       "- set fcr_n_equality /on\n",
       "- set reserve_slack_cost 1\n",
       "- set reserve_min_capacity 0.02\n",
       "- set dyn_seg /on\n",
       "- set dyn_juncloss /on\n",
       "- penalty flag /on /plant /schedule\n",
       "- start sim 3\n",
       "- set code /inc\n",
       "- start sim 4\n",
       "connections:\n",
       "- connection_type: connection_bypass\n",
       "  from: Hagen\n",
       "  from_type: reservoir\n",
       "  to: b_Hagen_Stra```"
      ],
      "text/plain": [
       "<IPython.core.display.Markdown object>"
      ]
     },
     "metadata": {},
     "output_type": "display_data"
    }
   ],
   "source": [
    "display_yaml(run.get_case_file()[:500])"
   ]
  },
  {
   "cell_type": "code",
   "execution_count": 13,
   "metadata": {
    "ExecuteTime": {
     "end_time": "2023-10-27T18:44:24.545610Z",
     "start_time": "2023-10-27T18:44:24.232541Z"
    }
   },
   "outputs": [
    {
     "data": {
      "text/markdown": [
       "```yaml\n",
       "NAMELIST\r\n",
       "\r\n",
       "# {reservoir name in SHOP} {correspond```"
      ],
      "text/plain": [
       "<IPython.core.display.Markdown object>"
      ]
     },
     "metadata": {},
     "output_type": "display_data"
    },
    {
     "data": {
      "text/markdown": [
       "```yaml\n",
       " SHOP_WATER_VALUES\r\n",
       "         500          15\r\n",
       "    ```"
      ],
      "text/plain": [
       "<IPython.core.display.Markdown object>"
      ]
     },
     "metadata": {},
     "output_type": "display_data"
    }
   ],
   "source": [
    "for content in run.get_shop_files():\n",
    "    display_yaml(content[:50])"
   ]
  },
  {
   "cell_type": "markdown",
   "metadata": {},
   "source": [
    "### Inspecting SHOP Run Output Files"
   ]
  },
  {
   "cell_type": "code",
   "execution_count": 14,
   "metadata": {
    "ExecuteTime": {
     "end_time": "2023-10-27T18:44:25.486903Z",
     "start_time": "2023-10-27T18:44:24.544050Z"
    }
   },
   "outputs": [
    {
     "data": {
      "text/markdown": [
       "**POWEROPS_SHOP_post-run-4e089cad-5c9e-46e2-9c87-32fd6d9f1f81.yaml**"
      ],
      "text/plain": [
       "<IPython.core.display.Markdown object>"
      ]
     },
     "metadata": {},
     "output_type": "display_data"
    },
    {
     "data": {
      "text/markdown": [
       "```yaml\n",
       "time:\n",
       "  starttime: 2021-05-21 22:00:00\n",
       "  endtime: 2021-05-30 22:00:00\n",
       "  timeunit: minute\n",
       "  timeresolution:\n",
       "    2021-05-21 22:00:00: 60\n",
       "    2021-05-24 22:00:00: 240\n",
       "model:\n",
       "  objective:\n",
       "    average_objective:\n",
       "      solver_status: Optimal solution is available\n",
       "      grand_total: -18798762081.974\n",
       "      total: -18798857928.877\n",
       "      sum_penalties: 95846.902692765\n",
       "      minor_penalties: 95846.902692765\n",
       "      rsv_end_value: -18797354080.554\n",
       "      rsv_end_value_relative: -187919009.72324\n",
       "      market_sa```"
      ],
      "text/plain": [
       "<IPython.core.display.Markdown object>"
      ]
     },
     "metadata": {},
     "output_type": "display_data"
    },
    {
     "data": {
      "text/markdown": [
       "**POWEROPS_SHOP_shop_messages-4e089cad-5c9e-46e2-9c87-32fd6d9f1f81.log**"
      ],
      "text/plain": [
       "<IPython.core.display.Markdown object>"
      ]
     },
     "metadata": {},
     "output_type": "display_data"
    },
    {
     "data": {
      "text/markdown": [
       "```yaml\n",
       "DIAGNOSIS WARNING: 3250\n",
       "Reservoir Dalbysvatn: Only max tactical cost or limit is given.\n",
       "DIAGNOSIS WARNING: 3205\n",
       "Reservoir Dalbysvatn: 0 errors 1 warnings.\n",
       "--------------*----------------*------------\n",
       "DIAGNOSIS WARNING: 3250\n",
       "Reservoir Danielsen: Only max tactical cost or limit is given.\n",
       "DIAGNOSIS WARNING: 3205\n",
       "Reservoir Danielsen: 0 errors 1 warnings.\n",
       "--------------*----------------*------------\n",
       "DIAGNOSIS WARNING: 3250\n",
       "Reservoir Sirefelt: Only max tactical cost or limit is given.\n",
       "DIAGNOSIS WARNIN```"
      ],
      "text/plain": [
       "<IPython.core.display.Markdown object>"
      ]
     },
     "metadata": {},
     "output_type": "display_data"
    },
    {
     "data": {
      "text/markdown": [
       "**POWEROPS_SHOP_cplex-4e089cad-5c9e-46e2-9c87-32fd6d9f1f81.log**"
      ],
      "text/plain": [
       "<IPython.core.display.Markdown object>"
      ]
     },
     "metadata": {},
     "output_type": "display_data"
    },
    {
     "data": {
      "text/markdown": [
       "```yaml\n",
       "Version identifier: 20.1.0.0 | 2020-11-10 | 9bedb6d68\n",
       "CPXPARAM_Parallel                                1\n",
       "CPXPARAM_Simplex_Limits_Iterations               10000000\n",
       "CPXPARAM_MIP_Interval                            100\n",
       "CPXPARAM_TimeLimit                               600\n",
       "CPXPARAM_MIP_Tolerances_MIPGap                   0.001\n",
       "Tried aggregator 3 times.\n",
       "MIP Presolve eliminated 1727 rows and 1636 columns.\n",
       "MIP Presolve modified 1938 coefficients.\n",
       "Aggregator did 5699 substitutions.\n",
       "Reduced MIP has 16926 ```"
      ],
      "text/plain": [
       "<IPython.core.display.Markdown object>"
      ]
     },
     "metadata": {},
     "output_type": "display_data"
    }
   ],
   "source": [
    "for log_file, content in run.get_log_files():\n",
    "    display(Markdown(f\"**{log_file}**\"))\n",
    "    display_yaml(content[:500])"
   ]
  },
  {
   "cell_type": "markdown",
   "metadata": {},
   "source": [
    "## Trigger SHOP Run\n",
    "\n",
    "Here we are reusing an old case file for demo purposes"
   ]
  },
  {
   "cell_type": "code",
   "execution_count": 15,
   "metadata": {
    "ExecuteTime": {
     "end_time": "2023-10-27T18:44:25.498760Z",
     "start_time": "2023-10-27T18:44:25.488476Z"
    }
   },
   "outputs": [],
   "source": [
    "import time\n",
    "from cognite.powerops.client.data_classes import SHOPRunStatus\n",
    "from cognite.powerops.client.shop.shop_case import SHOPCase"
   ]
  },
  {
   "cell_type": "code",
   "execution_count": 16,
   "metadata": {
    "ExecuteTime": {
     "end_time": "2023-10-27T18:44:26.165955Z",
     "start_time": "2023-10-27T18:44:25.497998Z"
    }
   },
   "outputs": [],
   "source": [
    "new_case_data = run.get_case_file()\n",
    "new_case = SHOPCase(new_case_data, watercourse=\"Fornebu\")"
   ]
  },
  {
   "cell_type": "code",
   "execution_count": 17,
   "metadata": {
    "ExecuteTime": {
     "end_time": "2023-10-27T18:44:26.172269Z",
     "start_time": "2023-10-27T18:44:26.166179Z"
    }
   },
   "outputs": [],
   "source": [
    "MAX_WAIT_IN_SECONDS = 120"
   ]
  },
  {
   "cell_type": "code",
   "execution_count": 18,
   "metadata": {
    "ExecuteTime": {
     "end_time": "2023-10-27T18:44:51.969356Z",
     "start_time": "2023-10-27T18:44:26.168893Z"
    }
   },
   "outputs": [
    {
     "name": "stdout",
     "output_type": "stream",
     "text": [
      "........................RUN is done in 26.84 seconds\n"
     ]
    }
   ],
   "source": [
    "t0 = time.time()\n",
    "\n",
    "new_run = power.shop.trigger_case(new_case)\n",
    "# Waiting for SHOP run to finish\n",
    "while (time.time() - t0) < MAX_WAIT_IN_SECONDS:\n",
    "    if new_run.check_status() is SHOPRunStatus.SUCCESS:\n",
    "        print(f\"RUN is done in {time.time() -t0:.2f} seconds\")\n",
    "        break\n",
    "    time.sleep(1)\n",
    "    print(\".\", end=\"\")"
   ]
  },
  {
   "cell_type": "code",
   "execution_count": 19,
   "metadata": {
    "ExecuteTime": {
     "end_time": "2023-10-27T18:44:52.654183Z",
     "start_time": "2023-10-27T18:44:51.971623Z"
    }
   },
   "outputs": [
    {
     "data": {
      "text/markdown": [
       "**cog_shop_manual_2023-10-28T09:45:35.131763Z_fed409**"
      ],
      "text/plain": [
       "<IPython.core.display.Markdown object>"
      ]
     },
     "metadata": {},
     "output_type": "display_data"
    },
    {
     "data": {
      "text/markdown": [
       "```yaml\n",
       "commands:\n",
       "- set time_delay_unit MINUTE\n",
       "- set ramping /on\n",
       "- set stop_cost_from_start_cost /on\n",
       "- set bypass_loss /on\n",
       "- set mipgap 0.001000\n",
       "- set timelimit 600.000\n",
       "- set reserve_ramping_cost 1\n",
       "- set fcr_n_equality /on\n",
       "- set reserve_slack_cost 1\n",
       "- set reserve_min_capacity 0.02\n",
       "- set dyn_seg /on\n",
       "- set dyn_juncloss /on\n",
       "- penalty flag /on /plant /schedule\n",
       "- start sim 3\n",
       "- set code /inc\n",
       "- start sim 4\n",
       "connections:\n",
       "- connection_type: connection_bypass\n",
       "  from: Hagen\n",
       "  from_type: reservoir\n",
       "  to: b_Hagen_Stra```"
      ],
      "text/plain": [
       "<IPython.core.display.Markdown object>"
      ]
     },
     "metadata": {},
     "output_type": "display_data"
    },
    {
     "data": {
      "text/markdown": [
       "**POWEROPS_SHOP_shop_messages-fb235d06-f76d-4e80-92e2-3dd4f9371fd4.log**"
      ],
      "text/plain": [
       "<IPython.core.display.Markdown object>"
      ]
     },
     "metadata": {},
     "output_type": "display_data"
    },
    {
     "data": {
      "text/markdown": [
       "```yaml\n",
       "DIAGNOSIS WARNING: 3250\n",
       "Reservoir Dalbysvatn: Only max tactical cost or limit is given.\n",
       "DIAGNOSIS WARNING: 3205\n",
       "Reservoir Dalbysvatn: 0 errors 1 warnings.\n",
       "--------------*----------------*------------\n",
       "DIAGNOSIS WARNING: 3250\n",
       "Reservoir Danielsen: Only max tactical cost or limit is given.\n",
       "DIAGNOSIS WARNING: 3205\n",
       "Reservoir Danielsen: 0 errors 1 warnings.\n",
       "--------------*----------------*------------\n",
       "DIAGNOSIS WARNING: 3250\n",
       "Reservoir Sirefelt: Only max tactical cost or limit is given.\n",
       "DIAGNOSIS WARNIN```"
      ],
      "text/plain": [
       "<IPython.core.display.Markdown object>"
      ]
     },
     "metadata": {},
     "output_type": "display_data"
    },
    {
     "data": {
      "text/markdown": [
       "**POWEROPS_SHOP_cplex-fb235d06-f76d-4e80-92e2-3dd4f9371fd4.log**"
      ],
      "text/plain": [
       "<IPython.core.display.Markdown object>"
      ]
     },
     "metadata": {},
     "output_type": "display_data"
    },
    {
     "data": {
      "text/markdown": [
       "```yaml\n",
       "Version identifier: 20.1.0.0 | 2020-11-10 | 9bedb6d68\n",
       "CPXPARAM_Parallel                                1\n",
       "CPXPARAM_Simplex_Limits_Iterations               10000000\n",
       "CPXPARAM_MIP_Interval                            100\n",
       "CPXPARAM_TimeLimit                               600\n",
       "CPXPARAM_MIP_Tolerances_MIPGap                   0.001\n",
       "Tried aggregator 3 times.\n",
       "MIP Presolve eliminated 1726 rows and 1636 columns.\n",
       "MIP Presolve modified 1938 coefficients.\n",
       "Aggregator did 5698 substitutions.\n",
       "Reduced MIP has 16428 ```"
      ],
      "text/plain": [
       "<IPython.core.display.Markdown object>"
      ]
     },
     "metadata": {},
     "output_type": "display_data"
    },
    {
     "data": {
      "text/markdown": [
       "**POWEROPS_SHOP_post-run-fb235d06-f76d-4e80-92e2-3dd4f9371fd4.yaml**"
      ],
      "text/plain": [
       "<IPython.core.display.Markdown object>"
      ]
     },
     "metadata": {},
     "output_type": "display_data"
    },
    {
     "data": {
      "text/markdown": [
       "```yaml\n",
       "time:\n",
       "  starttime: 2021-05-21 22:00:00\n",
       "  endtime: 2021-05-30 22:00:00\n",
       "  timeunit: minute\n",
       "  timeresolution:\n",
       "    2021-05-21 22:00:00: 60\n",
       "    2021-05-24 22:00:00: 240\n",
       "model:\n",
       "  objective:\n",
       "    average_objective:\n",
       "      solver_status: Optimal solution is available\n",
       "      grand_total: -41247784.371522\n",
       "      total: -41306371.070504\n",
       "      sum_penalties: 58586.698981099\n",
       "      minor_penalties: 58586.698981099\n",
       "      rsv_end_value: -39763969.745769\n",
       "      rsv_end_value_relative: -17760966.59443\n",
       "      rsv_spill_```"
      ],
      "text/plain": [
       "<IPython.core.display.Markdown object>"
      ]
     },
     "metadata": {},
     "output_type": "display_data"
    }
   ],
   "source": [
    "for log_file, content in new_run.get_log_files():\n",
    "    display(Markdown(f\"**{log_file}**\"))\n",
    "    display_yaml(content[:500])"
   ]
  },
  {
   "cell_type": "code",
   "execution_count": 20,
   "metadata": {
    "ExecuteTime": {
     "end_time": "2023-10-27T18:44:52.661014Z",
     "start_time": "2023-10-27T18:44:52.655199Z"
    }
   },
   "outputs": [
    {
     "data": {
      "text/html": [
       "<div>\n",
       "<style scoped>\n",
       "    .dataframe tbody tr th:only-of-type {\n",
       "        vertical-align: middle;\n",
       "    }\n",
       "\n",
       "    .dataframe tbody tr th {\n",
       "        vertical-align: top;\n",
       "    }\n",
       "\n",
       "    .dataframe thead th {\n",
       "        text-align: right;\n",
       "    }\n",
       "</style>\n",
       "<table border=\"1\" class=\"dataframe\">\n",
       "  <thead>\n",
       "    <tr style=\"text-align: right;\">\n",
       "      <th></th>\n",
       "      <th>Value</th>\n",
       "    </tr>\n",
       "  </thead>\n",
       "  <tbody>\n",
       "    <tr>\n",
       "      <th>external_id</th>\n",
       "      <td>SHOP_RUN_2023-10-28T09:45:35.131763Z_63458b</td>\n",
       "    </tr>\n",
       "    <tr>\n",
       "      <th>watercourse</th>\n",
       "      <td>Fornebu</td>\n",
       "    </tr>\n",
       "    <tr>\n",
       "      <th>start</th>\n",
       "      <td>2023-10-28 09:45:35.131763+00:00</td>\n",
       "    </tr>\n",
       "    <tr>\n",
       "      <th>end</th>\n",
       "      <td>None</td>\n",
       "    </tr>\n",
       "    <tr>\n",
       "      <th>case_file_external_id</th>\n",
       "      <td>cog_shop_manual_2023-10-28T09:45:35.131763Z_fe...</td>\n",
       "    </tr>\n",
       "    <tr>\n",
       "      <th>shop_files_external_ids</th>\n",
       "      <td>[]</td>\n",
       "    </tr>\n",
       "    <tr>\n",
       "      <th>shop_version</th>\n",
       "      <td>CogShop2-20230710T163856Z</td>\n",
       "    </tr>\n",
       "  </tbody>\n",
       "</table>\n",
       "</div>"
      ],
      "text/plain": [
       "SHOPRun(external_id='SHOP_RUN_2023-10-28T09:45:35.131763Z_63458b', watercourse='Fornebu', data_set_id=8714485055141158, start=datetime.datetime(2023, 10, 28, 9, 45, 35, 131763, tzinfo=datetime.timezone.utc), end=None, shop_version='CogShop2-20230710T163856Z', source='manual', _case_file_external_id='cog_shop_manual_2023-10-28T09:45:35.131763Z_fed409', _shop_files=[], _run_event_types={'POWEROPS_PROCESS_FINISHED', 'POWEROPS_PROCESS_STARTED'})"
      ]
     },
     "execution_count": 20,
     "metadata": {},
     "output_type": "execute_result"
    }
   ],
   "source": [
    "new_run"
   ]
  },
  {
   "cell_type": "markdown",
   "metadata": {},
   "source": [
    "For more information about the SHOP client, see the `client` section in the reference documentation."
   ]
  },
  {
   "cell_type": "markdown",
   "metadata": {
    "collapsed": false,
    "jupyter": {
     "outputs_hidden": false
    }
   },
   "source": [
    "End of notebook."
   ]
  }
 ],
 "metadata": {
  "kernelspec": {
   "display_name": "Python 3 (ipykernel)",
   "language": "python",
   "name": "python3"
  },
  "language_info": {
   "codemirror_mode": {
    "name": "ipython",
    "version": 3
   },
   "file_extension": ".py",
   "mimetype": "text/x-python",
   "name": "python",
   "nbconvert_exporter": "python",
   "pygments_lexer": "ipython3",
   "version": "3.9.16"
  }
 },
 "nbformat": 4,
 "nbformat_minor": 4
}
