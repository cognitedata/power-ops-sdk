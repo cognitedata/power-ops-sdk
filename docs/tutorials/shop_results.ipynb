{
 "cells": [
  {
   "cell_type": "markdown",
   "metadata": {},
   "source": [
    "## Create a  PowerOps Client\n",
    "\n",
    "A power ops client is a layer on top the regular CogniteClient that contains domain specific interface against CDF and\n",
    "the powerops data models. See quickstart guide for setting up "
   ]
  },
  {
   "cell_type": "code",
   "execution_count": 1,
   "metadata": {},
   "outputs": [],
   "source": [
    "from cognite.powerops import PowerOpsClient\n",
    "from cognite.client import CogniteClient\n",
    "import os\n",
    "os.environ[\"SETTINGS_FILES\"] = \"../../settings.toml;../../.secrets.toml\"  # settings files are not in current dir\n",
    "\n",
    "power = PowerOpsClient.from_settings()\n",
    "# The regular cognite client is available under the .cdf attribute.\n",
    "client: CogniteClient = power.cdf"
   ]
  },
  {
   "cell_type": "markdown",
   "metadata": {},
   "source": [
    "Note it is important that the `CogShop` version have been set to trigger SHOP runs."
   ]
  },
  {
   "cell_type": "markdown",
   "metadata": {},
   "source": [
    "## Fetching SHOP Runs"
   ]
  },
  {
   "cell_type": "markdown",
   "metadata": {},
   "source": [
    "### Listing SHOP runs"
   ]
  },
  {
   "cell_type": "code",
   "execution_count": 2,
   "metadata": {},
   "outputs": [],
   "source": [
    "shop_runs = power.shop.list(limit=5)"
   ]
  },
  {
   "cell_type": "code",
   "execution_count": 3,
   "metadata": {},
   "outputs": [
    {
     "data": {
      "text/html": [
       "<div>\n",
       "<style scoped>\n",
       "    .dataframe tbody tr th:only-of-type {\n",
       "        vertical-align: middle;\n",
       "    }\n",
       "\n",
       "    .dataframe tbody tr th {\n",
       "        vertical-align: top;\n",
       "    }\n",
       "\n",
       "    .dataframe thead th {\n",
       "        text-align: right;\n",
       "    }\n",
       "</style>\n",
       "<table border=\"1\" class=\"dataframe\">\n",
       "  <thead>\n",
       "    <tr style=\"text-align: right;\">\n",
       "      <th></th>\n",
       "      <th>external_id</th>\n",
       "      <th>watercourse</th>\n",
       "      <th>start</th>\n",
       "      <th>end</th>\n",
       "      <th>case_file_external_id</th>\n",
       "      <th>shop_files_external_ids</th>\n",
       "      <th>shop_version</th>\n",
       "    </tr>\n",
       "  </thead>\n",
       "  <tbody>\n",
       "    <tr>\n",
       "      <th>0</th>\n",
       "      <td>POWEROPS_SHOP_RUN_2023-09-09T09:56:11.284030Z_...</td>\n",
       "      <td>Fornebu</td>\n",
       "      <td>2021-05-21 22:00:00+00:00</td>\n",
       "      <td>2021-05-30 22:00:00+00:00</td>\n",
       "      <td>cog_shop_preprocessor/cogShop/Case_2023-09-09T...</td>\n",
       "      <td>[{'external_id': 'SHOP_Fornebu_water_value_cut...</td>\n",
       "      <td>14.4.3.0</td>\n",
       "    </tr>\n",
       "    <tr>\n",
       "      <th>1</th>\n",
       "      <td>POWEROPS_SHOP_RUN_2023-09-10T09:56:11.200883Z_...</td>\n",
       "      <td>Fornebu</td>\n",
       "      <td>2021-05-21 22:00:00+00:00</td>\n",
       "      <td>2021-05-30 22:00:00+00:00</td>\n",
       "      <td>cog_shop_preprocessor/cogShop/Case_2023-09-10T...</td>\n",
       "      <td>[{'external_id': 'SHOP_Fornebu_water_value_cut...</td>\n",
       "      <td>14.4.3.0</td>\n",
       "    </tr>\n",
       "    <tr>\n",
       "      <th>2</th>\n",
       "      <td>POWEROPS_SHOP_RUN_2023-09-08T09:55:44.474336Z_...</td>\n",
       "      <td>Fornebu</td>\n",
       "      <td>2021-05-21 22:00:00+00:00</td>\n",
       "      <td>2021-05-30 22:00:00+00:00</td>\n",
       "      <td>cog_shop_preprocessor/cogShop/Case_2023-09-08T...</td>\n",
       "      <td>[{'external_id': 'SHOP_Fornebu_water_value_cut...</td>\n",
       "      <td>14.4.3.0</td>\n",
       "    </tr>\n",
       "    <tr>\n",
       "      <th>3</th>\n",
       "      <td>POWEROPS_SHOP_RUN_2023-09-12T09:55:46.993315Z_...</td>\n",
       "      <td>Fornebu</td>\n",
       "      <td>2021-05-21 22:00:00+00:00</td>\n",
       "      <td>2021-05-30 22:00:00+00:00</td>\n",
       "      <td>cog_shop_preprocessor/cogShop/Case_2023-09-12T...</td>\n",
       "      <td>[{'external_id': 'SHOP_Fornebu_water_value_cut...</td>\n",
       "      <td>14.4.3.0</td>\n",
       "    </tr>\n",
       "    <tr>\n",
       "      <th>4</th>\n",
       "      <td>POWEROPS_SHOP_RUN_2023-09-13T09:55:46.559361Z_...</td>\n",
       "      <td>Fornebu</td>\n",
       "      <td>2021-05-21 22:00:00+00:00</td>\n",
       "      <td>2021-05-30 22:00:00+00:00</td>\n",
       "      <td>cog_shop_preprocessor/cogShop/Case_2023-09-13T...</td>\n",
       "      <td>[{'external_id': 'SHOP_Fornebu_water_value_cut...</td>\n",
       "      <td>14.4.3.0</td>\n",
       "    </tr>\n",
       "  </tbody>\n",
       "</table>\n",
       "</div>"
      ],
      "text/plain": [
       "SHOPRunList([SHOPRun(external_id='POWEROPS_SHOP_RUN_2023-09-09T09:56:11.284030Z_5fa733', watercourse='Fornebu', start=datetime.datetime(2021, 5, 21, 22, 0, tzinfo=datetime.timezone.utc), end=datetime.datetime(2021, 5, 30, 22, 0, tzinfo=datetime.timezone.utc), shop_version='14.4.3.0', source=None, _case_file_external_id='cog_shop_preprocessor/cogShop/Case_2023-09-09T09:56:11.284030Z_5fa733/0d3ce65c-0dbc-4fd0-a0a9-7e7463eb10ea', _shop_files=[SHOPFile(external_id='SHOP_Fornebu_water_value_cut_file_reservoir_mapping', file_type='ascii'), SHOPFile(external_id='SHOP_Fornebu_water_value_cut_file', file_type='ascii')], _run_event_types=set()),\n",
       "             SHOPRun(external_id='POWEROPS_SHOP_RUN_2023-09-10T09:56:11.200883Z_b0b20d', watercourse='Fornebu', start=datetime.datetime(2021, 5, 21, 22, 0, tzinfo=datetime.timezone.utc), end=datetime.datetime(2021, 5, 30, 22, 0, tzinfo=datetime.timezone.utc), shop_version='14.4.3.0', source=None, _case_file_external_id='cog_shop_preprocessor/cogShop/Case_2023-09-10T09:56:11.200883Z_b0b20d/40513091-d60a-4c9d-8dbf-037616976370', _shop_files=[SHOPFile(external_id='SHOP_Fornebu_water_value_cut_file_reservoir_mapping', file_type='ascii'), SHOPFile(external_id='SHOP_Fornebu_water_value_cut_file', file_type='ascii')], _run_event_types=set()),\n",
       "             SHOPRun(external_id='POWEROPS_SHOP_RUN_2023-09-08T09:55:44.474336Z_af58d6', watercourse='Fornebu', start=datetime.datetime(2021, 5, 21, 22, 0, tzinfo=datetime.timezone.utc), end=datetime.datetime(2021, 5, 30, 22, 0, tzinfo=datetime.timezone.utc), shop_version='14.4.3.0', source=None, _case_file_external_id='cog_shop_preprocessor/cogShop/Case_2023-09-08T09:55:44.474336Z_af58d6/3f9f3dff-1427-46eb-a681-0ed50c9e1b10', _shop_files=[SHOPFile(external_id='SHOP_Fornebu_water_value_cut_file_reservoir_mapping', file_type='ascii'), SHOPFile(external_id='SHOP_Fornebu_water_value_cut_file', file_type='ascii')], _run_event_types=set()),\n",
       "             SHOPRun(external_id='POWEROPS_SHOP_RUN_2023-09-12T09:55:46.993315Z_80c283', watercourse='Fornebu', start=datetime.datetime(2021, 5, 21, 22, 0, tzinfo=datetime.timezone.utc), end=datetime.datetime(2021, 5, 30, 22, 0, tzinfo=datetime.timezone.utc), shop_version='14.4.3.0', source=None, _case_file_external_id='cog_shop_preprocessor/cogShop/Case_2023-09-12T09:55:46.993315Z_80c283/c9349dd3-e471-45bb-9b4d-ee61085d81eb', _shop_files=[SHOPFile(external_id='SHOP_Fornebu_water_value_cut_file_reservoir_mapping', file_type='ascii'), SHOPFile(external_id='SHOP_Fornebu_water_value_cut_file', file_type='ascii')], _run_event_types=set()),\n",
       "             SHOPRun(external_id='POWEROPS_SHOP_RUN_2023-09-13T09:55:46.559361Z_73478e', watercourse='Fornebu', start=datetime.datetime(2021, 5, 21, 22, 0, tzinfo=datetime.timezone.utc), end=datetime.datetime(2021, 5, 30, 22, 0, tzinfo=datetime.timezone.utc), shop_version='14.4.3.0', source=None, _case_file_external_id='cog_shop_preprocessor/cogShop/Case_2023-09-13T09:55:46.559361Z_73478e/b0f635d7-fd8b-412c-ad79-01ab263eadce', _shop_files=[SHOPFile(external_id='SHOP_Fornebu_water_value_cut_file_reservoir_mapping', file_type='ascii'), SHOPFile(external_id='SHOP_Fornebu_water_value_cut_file', file_type='ascii')], _run_event_types=set())])"
      ]
     },
     "execution_count": 3,
     "metadata": {},
     "output_type": "execute_result"
    }
   ],
   "source": [
    "shop_runs"
   ]
  },
  {
   "cell_type": "markdown",
   "metadata": {},
   "source": [
    "### Retrieving SHOP run(s)"
   ]
  },
  {
   "cell_type": "code",
   "execution_count": 4,
   "metadata": {},
   "outputs": [],
   "source": [
    "run = power.shop.retrieve(shop_runs[0].external_id)"
   ]
  },
  {
   "cell_type": "code",
   "execution_count": 5,
   "metadata": {},
   "outputs": [
    {
     "data": {
      "text/html": [
       "<div>\n",
       "<style scoped>\n",
       "    .dataframe tbody tr th:only-of-type {\n",
       "        vertical-align: middle;\n",
       "    }\n",
       "\n",
       "    .dataframe tbody tr th {\n",
       "        vertical-align: top;\n",
       "    }\n",
       "\n",
       "    .dataframe thead th {\n",
       "        text-align: right;\n",
       "    }\n",
       "</style>\n",
       "<table border=\"1\" class=\"dataframe\">\n",
       "  <thead>\n",
       "    <tr style=\"text-align: right;\">\n",
       "      <th></th>\n",
       "      <th>Value</th>\n",
       "    </tr>\n",
       "  </thead>\n",
       "  <tbody>\n",
       "    <tr>\n",
       "      <th>external_id</th>\n",
       "      <td>POWEROPS_SHOP_RUN_2023-09-09T09:56:11.284030Z_...</td>\n",
       "    </tr>\n",
       "    <tr>\n",
       "      <th>watercourse</th>\n",
       "      <td>Fornebu</td>\n",
       "    </tr>\n",
       "    <tr>\n",
       "      <th>start</th>\n",
       "      <td>2021-05-21 22:00:00+00:00</td>\n",
       "    </tr>\n",
       "    <tr>\n",
       "      <th>end</th>\n",
       "      <td>2021-05-30 22:00:00+00:00</td>\n",
       "    </tr>\n",
       "    <tr>\n",
       "      <th>case_file_external_id</th>\n",
       "      <td>cog_shop_preprocessor/cogShop/Case_2023-09-09T...</td>\n",
       "    </tr>\n",
       "    <tr>\n",
       "      <th>shop_files_external_ids</th>\n",
       "      <td>[{'external_id': 'SHOP_Fornebu_water_value_cut...</td>\n",
       "    </tr>\n",
       "    <tr>\n",
       "      <th>shop_version</th>\n",
       "      <td>14.4.3.0</td>\n",
       "    </tr>\n",
       "  </tbody>\n",
       "</table>\n",
       "</div>"
      ],
      "text/plain": [
       "SHOPRun(external_id='POWEROPS_SHOP_RUN_2023-09-09T09:56:11.284030Z_5fa733', watercourse='Fornebu', start=datetime.datetime(2021, 5, 21, 22, 0, tzinfo=datetime.timezone.utc), end=datetime.datetime(2021, 5, 30, 22, 0, tzinfo=datetime.timezone.utc), shop_version='14.4.3.0', source=None, _case_file_external_id='cog_shop_preprocessor/cogShop/Case_2023-09-09T09:56:11.284030Z_5fa733/0d3ce65c-0dbc-4fd0-a0a9-7e7463eb10ea', _shop_files=[SHOPFile(external_id='SHOP_Fornebu_water_value_cut_file_reservoir_mapping', file_type='ascii'), SHOPFile(external_id='SHOP_Fornebu_water_value_cut_file', file_type='ascii')], _run_event_types=set())"
      ]
     },
     "execution_count": 5,
     "metadata": {},
     "output_type": "execute_result"
    }
   ],
   "source": [
    "run"
   ]
  },
  {
   "cell_type": "code",
   "execution_count": null,
   "metadata": {},
   "outputs": [],
   "source": []
  },
  {
   "cell_type": "markdown",
   "metadata": {},
   "source": [
    "### Inspecting SHOP Run Input Files\n",
    "\n",
    "The SHOP run gives access to the input files, output produced (in the case of a succesful run)."
   ]
  },
  {
   "cell_type": "code",
   "execution_count": 6,
   "metadata": {},
   "outputs": [],
   "source": [
    "from IPython.display import Markdown, display"
   ]
  },
  {
   "cell_type": "code",
   "execution_count": 7,
   "metadata": {},
   "outputs": [],
   "source": [
    "# A small helper to illustrate\n",
    "def display_yaml(yaml_str):\n",
    "    display(Markdown(f\"```yaml{yaml_str}```\"))"
   ]
  },
  {
   "cell_type": "code",
   "execution_count": 8,
   "metadata": {},
   "outputs": [
    {
     "data": {
      "text/plain": [
       "<SHOPRunStatus.SUCCESS: 'success'>"
      ]
     },
     "execution_count": 8,
     "metadata": {},
     "output_type": "execute_result"
    }
   ],
   "source": [
    "run.check_status()"
   ]
  },
  {
   "cell_type": "code",
   "execution_count": 9,
   "metadata": {},
   "outputs": [
    {
     "data": {
      "text/markdown": [
       "```yamlcommands:\n",
       "- set time_delay_unit MINUTE\n",
       "- set ramping /on\n",
       "- set stop_cost_from_start_cost /on\n",
       "- set bypass_loss /on\n",
       "- set mipgap 0.001000\n",
       "- set timelimit 600.000\n",
       "- set reserve_ramping_cost 1\n",
       "- set fcr_n_equality /on\n",
       "- set reserve_slack_cost 1\n",
       "- set reserve_min_capacity 0.02\n",
       "- set dyn_seg /on\n",
       "- set dyn_juncloss /on\n",
       "- penalty flag /on /plant /schedule\n",
       "- start sim 3\n",
       "- set code /inc\n",
       "- start sim 4\n",
       "connections:\n",
       "- connection_type: connection_bypass\n",
       "  from: Hagen\n",
       "  from_type: reservoir\n",
       "  to: b_Hagen_Stra```"
      ],
      "text/plain": [
       "<IPython.core.display.Markdown object>"
      ]
     },
     "metadata": {},
     "output_type": "display_data"
    }
   ],
   "source": [
    "display_yaml(run.get_case_file()[:500])"
   ]
  },
  {
   "cell_type": "code",
   "execution_count": 10,
   "metadata": {},
   "outputs": [
    {
     "data": {
      "text/markdown": [
       "```yamlNAMELIST\r\n",
       "\r\n",
       "# {reservoir name in SHOP} {correspond```"
      ],
      "text/plain": [
       "<IPython.core.display.Markdown object>"
      ]
     },
     "metadata": {},
     "output_type": "display_data"
    },
    {
     "data": {
      "text/markdown": [
       "```yaml SHOP_WATER_VALUES\r\n",
       "         500          15\r\n",
       "    ```"
      ],
      "text/plain": [
       "<IPython.core.display.Markdown object>"
      ]
     },
     "metadata": {},
     "output_type": "display_data"
    }
   ],
   "source": [
    "for content in run.get_shop_files():\n",
    "    display_yaml(content[:50])"
   ]
  },
  {
   "cell_type": "markdown",
   "metadata": {},
   "source": [
    "### Inspecting SHOP Run Output Files"
   ]
  },
  {
   "cell_type": "code",
   "execution_count": 11,
   "metadata": {},
   "outputs": [
    {
     "data": {
      "text/markdown": [
       "**POWEROPS_SHOP_post-run-4e089cad-5c9e-46e2-9c87-32fd6d9f1f81.yaml**"
      ],
      "text/plain": [
       "<IPython.core.display.Markdown object>"
      ]
     },
     "metadata": {},
     "output_type": "display_data"
    },
    {
     "data": {
      "text/markdown": [
       "```yamltime:\n",
       "  starttime: 2021-05-21 22:00:00\n",
       "  endtime: 2021-05-30 22:00:00\n",
       "  timeunit: minute\n",
       "  timeresolution:\n",
       "    2021-05-21 22:00:00: 60\n",
       "    2021-05-24 22:00:00: 240\n",
       "model:\n",
       "  objective:\n",
       "    average_objective:\n",
       "      solver_status: Optimal solution is available\n",
       "      grand_total: -18798762081.974\n",
       "      total: -18798857928.877\n",
       "      sum_penalties: 95846.902692765\n",
       "      minor_penalties: 95846.902692765\n",
       "      rsv_end_value: -18797354080.554\n",
       "      rsv_end_value_relative: -187919009.72324\n",
       "      market_sa```"
      ],
      "text/plain": [
       "<IPython.core.display.Markdown object>"
      ]
     },
     "metadata": {},
     "output_type": "display_data"
    },
    {
     "data": {
      "text/markdown": [
       "**POWEROPS_SHOP_shop_messages-4e089cad-5c9e-46e2-9c87-32fd6d9f1f81.log**"
      ],
      "text/plain": [
       "<IPython.core.display.Markdown object>"
      ]
     },
     "metadata": {},
     "output_type": "display_data"
    },
    {
     "data": {
      "text/markdown": [
       "```yamlDIAGNOSIS WARNING: 3250\n",
       "Reservoir Dalbysvatn: Only max tactical cost or limit is given.\n",
       "DIAGNOSIS WARNING: 3205\n",
       "Reservoir Dalbysvatn: 0 errors 1 warnings.\n",
       "--------------*----------------*------------\n",
       "DIAGNOSIS WARNING: 3250\n",
       "Reservoir Danielsen: Only max tactical cost or limit is given.\n",
       "DIAGNOSIS WARNING: 3205\n",
       "Reservoir Danielsen: 0 errors 1 warnings.\n",
       "--------------*----------------*------------\n",
       "DIAGNOSIS WARNING: 3250\n",
       "Reservoir Sirefelt: Only max tactical cost or limit is given.\n",
       "DIAGNOSIS WARNIN```"
      ],
      "text/plain": [
       "<IPython.core.display.Markdown object>"
      ]
     },
     "metadata": {},
     "output_type": "display_data"
    },
    {
     "data": {
      "text/markdown": [
       "**POWEROPS_SHOP_cplex-4e089cad-5c9e-46e2-9c87-32fd6d9f1f81.log**"
      ],
      "text/plain": [
       "<IPython.core.display.Markdown object>"
      ]
     },
     "metadata": {},
     "output_type": "display_data"
    },
    {
     "data": {
      "text/markdown": [
       "```yamlVersion identifier: 20.1.0.0 | 2020-11-10 | 9bedb6d68\n",
       "CPXPARAM_Parallel                                1\n",
       "CPXPARAM_Simplex_Limits_Iterations               10000000\n",
       "CPXPARAM_MIP_Interval                            100\n",
       "CPXPARAM_TimeLimit                               600\n",
       "CPXPARAM_MIP_Tolerances_MIPGap                   0.001\n",
       "Tried aggregator 3 times.\n",
       "MIP Presolve eliminated 1727 rows and 1636 columns.\n",
       "MIP Presolve modified 1938 coefficients.\n",
       "Aggregator did 5699 substitutions.\n",
       "Reduced MIP has 16926 ```"
      ],
      "text/plain": [
       "<IPython.core.display.Markdown object>"
      ]
     },
     "metadata": {},
     "output_type": "display_data"
    }
   ],
   "source": [
    "for log_file, content in run.get_log_files():\n",
    "    display(Markdown(f\"**{log_file}**\"))\n",
    "    display_yaml(content[:500])"
   ]
  },
  {
   "cell_type": "markdown",
   "metadata": {},
   "source": [
    "## Trigger SHOP Run\n",
    "\n",
    "Here we are reusing an old case file for demo purposes"
   ]
  },
  {
   "cell_type": "code",
   "execution_count": 12,
   "metadata": {},
   "outputs": [],
   "source": [
    "import time\n",
    "from cognite.powerops.client.data_classes import SHOPRunStatus"
   ]
  },
  {
   "cell_type": "code",
   "execution_count": 13,
   "metadata": {},
   "outputs": [],
   "source": [
    "new_case = run.get_case_file()"
   ]
  },
  {
   "cell_type": "code",
   "execution_count": 14,
   "metadata": {},
   "outputs": [],
   "source": [
    "MAX_WAIT_IN_SECONDS = 120"
   ]
  },
  {
   "cell_type": "code",
   "execution_count": 16,
   "metadata": {},
   "outputs": [
    {
     "name": "stdout",
     "output_type": "stream",
     "text": [
      "RUN is done in 23.18 seconds\n"
     ]
    }
   ],
   "source": [
    "t0 = time.time()\n",
    "\n",
    "new_run = power.shop.trigger_case(new_case, \"Fornebu\")\n",
    "# Waiting for SHOP run to finish\n",
    "while (time.time() - t0) < MAX_WAIT_IN_SECONDS:\n",
    "    if new_run.check_status() is SHOPRunStatus.SUCCESS:\n",
    "        print(f\"RUN is done in {time.time() -t0:.2f} seconds\")\n",
    "        break\n",
    "    time.sleep(1)"
   ]
  },
  {
   "cell_type": "code",
   "execution_count": 17,
   "metadata": {},
   "outputs": [
    {
     "data": {
      "text/markdown": [
       "**POWEROPS_SHOP_post-run-1e1e73e3-4fa3-48dd-9d7f-77a575be1416.yaml**"
      ],
      "text/plain": [
       "<IPython.core.display.Markdown object>"
      ]
     },
     "metadata": {},
     "output_type": "display_data"
    },
    {
     "data": {
      "text/markdown": [
       "```yamltime:\n",
       "  starttime: 2021-05-21 22:00:00\n",
       "  endtime: 2021-05-30 22:00:00\n",
       "  timeunit: minute\n",
       "  timeresolution:\n",
       "    2021-05-21 22:00:00: 60\n",
       "    2021-05-24 22:00:00: 240\n",
       "model:\n",
       "  objective:\n",
       "    average_objective:\n",
       "      solver_status: Optimal solution is available\n",
       "      grand_total: -41247784.371522\n",
       "      total: -41306371.070504\n",
       "      sum_penalties: 58586.698981099\n",
       "      minor_penalties: 58586.698981099\n",
       "      rsv_end_value: -39763969.745769\n",
       "      rsv_end_value_relative: -17760966.59443\n",
       "      rsv_spill_```"
      ],
      "text/plain": [
       "<IPython.core.display.Markdown object>"
      ]
     },
     "metadata": {},
     "output_type": "display_data"
    },
    {
     "data": {
      "text/markdown": [
       "**POWEROPS_SHOP_shop_messages-1e1e73e3-4fa3-48dd-9d7f-77a575be1416.log**"
      ],
      "text/plain": [
       "<IPython.core.display.Markdown object>"
      ]
     },
     "metadata": {},
     "output_type": "display_data"
    },
    {
     "data": {
      "text/markdown": [
       "```yamlDIAGNOSIS WARNING: 3250\n",
       "Reservoir Dalbysvatn: Only max tactical cost or limit is given.\n",
       "DIAGNOSIS WARNING: 3205\n",
       "Reservoir Dalbysvatn: 0 errors 1 warnings.\n",
       "--------------*----------------*------------\n",
       "DIAGNOSIS WARNING: 3250\n",
       "Reservoir Danielsen: Only max tactical cost or limit is given.\n",
       "DIAGNOSIS WARNING: 3205\n",
       "Reservoir Danielsen: 0 errors 1 warnings.\n",
       "--------------*----------------*------------\n",
       "DIAGNOSIS WARNING: 3250\n",
       "Reservoir Sirefelt: Only max tactical cost or limit is given.\n",
       "DIAGNOSIS WARNIN```"
      ],
      "text/plain": [
       "<IPython.core.display.Markdown object>"
      ]
     },
     "metadata": {},
     "output_type": "display_data"
    },
    {
     "data": {
      "text/markdown": [
       "**POWEROPS_SHOP_cplex-1e1e73e3-4fa3-48dd-9d7f-77a575be1416.log**"
      ],
      "text/plain": [
       "<IPython.core.display.Markdown object>"
      ]
     },
     "metadata": {},
     "output_type": "display_data"
    },
    {
     "data": {
      "text/markdown": [
       "```yamlVersion identifier: 20.1.0.0 | 2020-11-10 | 9bedb6d68\n",
       "CPXPARAM_Parallel                                1\n",
       "CPXPARAM_Simplex_Limits_Iterations               10000000\n",
       "CPXPARAM_MIP_Interval                            100\n",
       "CPXPARAM_TimeLimit                               600\n",
       "CPXPARAM_MIP_Tolerances_MIPGap                   0.001\n",
       "Tried aggregator 3 times.\n",
       "MIP Presolve eliminated 1726 rows and 1636 columns.\n",
       "MIP Presolve modified 1938 coefficients.\n",
       "Aggregator did 5698 substitutions.\n",
       "Reduced MIP has 16428 ```"
      ],
      "text/plain": [
       "<IPython.core.display.Markdown object>"
      ]
     },
     "metadata": {},
     "output_type": "display_data"
    }
   ],
   "source": [
    "for log_file, content in new_run.get_log_files():\n",
    "    display(Markdown(f\"**{log_file}**\"))\n",
    "    display_yaml(content[:500])"
   ]
  },
  {
   "cell_type": "code",
   "execution_count": 18,
   "metadata": {},
   "outputs": [
    {
     "data": {
      "text/plain": [
       "SHOPRun(external_id='SHOP_RUN_2023-09-12T20:50:06.586984Z_e117d0', watercourse='Fornebu', start=datetime.datetime(2023, 9, 12, 20, 50, 6, 586984, tzinfo=datetime.timezone.utc), end=None, shop_version='CogShop2-20230710T163856Z', _case_file_external_id='cog_shop_manual/c5ac8479-c48a-43f1-84bc-0182a09de9bb', _shop_files=[], _run_event_types={'POWEROPS_PROCESS_FINISHED', 'POWEROPS_PROCESS_STARTED'}, user_id='')"
      ]
     },
     "execution_count": 18,
     "metadata": {},
     "output_type": "execute_result"
    }
   ],
   "source": [
    "new_run"
   ]
  },
  {
   "cell_type": "markdown",
   "metadata": {},
   "source": [
    "For more information about the SHOP client, see the `client` section in the reference documentation."
   ]
  },
  {
   "cell_type": "code",
   "execution_count": null,
   "metadata": {},
   "outputs": [],
   "source": []
  }
 ],
 "metadata": {
  "kernelspec": {
   "display_name": "Python 3 (ipykernel)",
   "language": "python",
   "name": "python3"
  },
  "language_info": {
   "codemirror_mode": {
    "name": "ipython",
    "version": 3
   },
   "file_extension": ".py",
   "mimetype": "text/x-python",
   "name": "python",
   "nbconvert_exporter": "python",
   "pygments_lexer": "ipython3",
   "version": "3.9.13"
  }
 },
 "nbformat": 4,
 "nbformat_minor": 4
}
