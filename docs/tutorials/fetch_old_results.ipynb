{
 "cells": [
  {
   "cell_type": "markdown",
   "id": "6127f635-2b75-4cde-be5c-ea23d7ecd781",
   "metadata": {},
   "source": [
    "Note this is an older demo and might not be relevant any more"
   ]
  },
  {
   "cell_type": "code",
   "execution_count": 5,
   "id": "66e5c8fb-ac21-4c86-b219-97dc5ddba611",
   "metadata": {},
   "outputs": [],
   "source": [
    "import tempfile\n",
    "from pprint import pprint\n",
    "import os\n",
    "import yaml\n",
    "\n",
    "\n",
    "from cognite.powerops import PowerOpsClient"
   ]
  },
  {
   "cell_type": "code",
   "execution_count": 3,
   "id": "324f5f00-e757-4abe-afb3-7c325038cf3e",
   "metadata": {},
   "outputs": [
    {
     "ename": "NameError",
     "evalue": "name 'os' is not defined",
     "output_type": "error",
     "traceback": [
      "\u001b[1;31m---------------------------------------------------------------------------\u001b[0m",
      "\u001b[1;31mNameError\u001b[0m                                 Traceback (most recent call last)",
      "Cell \u001b[1;32mIn[3], line 3\u001b[0m\n\u001b[0;32m      1\u001b[0m \u001b[38;5;66;03m# You can control which setting files are loaded through the environmental variable below. \u001b[39;00m\n\u001b[0;32m      2\u001b[0m \u001b[38;5;66;03m# In this case, the setting files are located two levels above.\u001b[39;00m\n\u001b[1;32m----> 3\u001b[0m \u001b[43mos\u001b[49m\u001b[38;5;241m.\u001b[39menviron[\u001b[38;5;124m\"\u001b[39m\u001b[38;5;124mSETTINGS_FILES\u001b[39m\u001b[38;5;124m\"\u001b[39m] \u001b[38;5;241m=\u001b[39m \u001b[38;5;124m\"\u001b[39m\u001b[38;5;124m../../settings.toml;../../.secrets.toml\u001b[39m\u001b[38;5;124m\"\u001b[39m\n\u001b[0;32m      5\u001b[0m powerops \u001b[38;5;241m=\u001b[39m PowerOpsClient\u001b[38;5;241m.\u001b[39mfrom_settings()\n",
      "\u001b[1;31mNameError\u001b[0m: name 'os' is not defined"
     ]
    }
   ],
   "source": [
    "# You can control which setting files are loaded through the environmental variable below. \n",
    "# In this case, the setting files are located two levels above.\n",
    "os.environ[\"SETTINGS_FILES\"] = \"../../settings.toml;../../.secrets.toml\"\n",
    "\n",
    "powerops = PowerOpsClient.from_settings()"
   ]
  },
  {
   "cell_type": "code",
   "execution_count": null,
   "id": "3d397126-3bc0-41db-931b-59d3573909ee",
   "metadata": {},
   "outputs": [],
   "source": [
    "run = p.shop.runs.retrieve(external_id=\"POWEROPS_SHOP_RUN_ede8c4c0-18b1-41b1-ae40-ea20e037645c\")\n",
    "\n",
    "print(run.in_progress)\n",
    "print(run.status)\n",
    "\n",
    "res = run.get_results()\n",
    "\n",
    "tmp_dir = tempfile.mkdtemp(prefix=\"power-ops-sdk-usage\")\n",
    "print(res.post_run.save_to_disk(tmp_dir))\n",
    "\n",
    "print(res.post_run.data[\"model\"][\"objective\"][\"average_objective\"][\"solver_status\"])\n",
    "pprint(res.post_run.data[\"model\"][\"objective\"][\"average_objective\"])\n",
    "print(yaml.dump(res.post_run.data[\"model\"][\"objective\"][\"average_objective\"]))"
   ]
  },
  {
   "cell_type": "code",
   "execution_count": null,
   "id": "a377c4ef-6ec3-49bb-a049-4ecb6574a002",
   "metadata": {},
   "outputs": [],
   "source": []
  }
 ],
 "metadata": {
  "kernelspec": {
   "display_name": "Python 3 (ipykernel)",
   "language": "python",
   "name": "python3"
  },
  "language_info": {
   "codemirror_mode": {
    "name": "ipython",
    "version": 3
   },
   "file_extension": ".py",
   "mimetype": "text/x-python",
   "name": "python",
   "nbconvert_exporter": "python",
   "pygments_lexer": "ipython3",
   "version": "3.9.13"
  }
 },
 "nbformat": 4,
 "nbformat_minor": 5
}
