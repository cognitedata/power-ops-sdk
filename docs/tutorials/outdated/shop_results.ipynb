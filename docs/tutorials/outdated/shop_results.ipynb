{
 "cells": [
  {
   "cell_type": "markdown",
   "metadata": {},
   "source": [
    "## NB outdated!\n",
    "\n",
    "The following examples will work, however the approach is outdated, and the functionality is marked for deprecation"
   ]
  },
  {
   "cell_type": "markdown",
   "metadata": {},
   "source": [
    "## Create a  PowerOps Client\n",
    "\n",
    "A power ops client is a layer on top the regular CogniteClient that contains domain specific interface against CDF and the powerops data models. See quickstart guide for setting up. "
   ]
  },
  {
   "cell_type": "code",
   "execution_count": null,
   "metadata": {
    "ExecuteTime": {
     "end_time": "2023-10-27T18:44:23.531408Z",
     "start_time": "2023-10-27T18:44:20.848101Z"
    }
   },
   "outputs": [],
   "source": [
    "import os\n",
    "\n",
    "from cognite.client import CogniteClient\n",
    "\n",
    "from cognite.powerops import PowerOpsClient\n",
    "\n",
    "os.environ[\"SETTINGS_FILES\"] = \"../../settings.toml;../../.secrets.toml\"  # settings files are not in current dir\n",
    "\n",
    "power = PowerOpsClient.from_settings()\n",
    "# The regular cognite client is available under the .cdf attribute.\n",
    "client: CogniteClient = power.cdf"
   ]
  },
  {
   "cell_type": "markdown",
   "metadata": {},
   "source": [
    "Note it is important that the `CogShop` version have been set to trigger SHOP runs."
   ]
  },
  {
   "cell_type": "markdown",
   "metadata": {},
   "source": [
    "## Fetching SHOP Runs"
   ]
  },
  {
   "cell_type": "markdown",
   "metadata": {},
   "source": [
    "### Listing SHOP runs"
   ]
  },
  {
   "cell_type": "code",
   "execution_count": null,
   "metadata": {
    "ExecuteTime": {
     "end_time": "2023-10-27T18:44:23.607188Z",
     "start_time": "2023-10-27T18:44:23.533071Z"
    }
   },
   "outputs": [],
   "source": [
    "shop_runs = power.shop.list(limit=5, watercourse=\"Fornebu\")"
   ]
  },
  {
   "cell_type": "code",
   "execution_count": null,
   "metadata": {
    "ExecuteTime": {
     "end_time": "2023-10-27T18:44:23.619328Z",
     "start_time": "2023-10-27T18:44:23.611687Z"
    }
   },
   "outputs": [],
   "source": [
    "shop_runs"
   ]
  },
  {
   "cell_type": "markdown",
   "metadata": {},
   "source": [
    "### Listing with filters \n",
    "* Filtering on the start time and end time. The expected format is `YYYY-MM-DD` as seen in this example: \n",
    "* The there is also the option to filter on multiple watercourses by passing a list"
   ]
  },
  {
   "cell_type": "code",
   "execution_count": null,
   "metadata": {
    "ExecuteTime": {
     "end_time": "2023-10-27T18:44:23.791021Z",
     "start_time": "2023-10-27T18:44:23.621472Z"
    }
   },
   "outputs": [],
   "source": [
    "power.shop.list(limit=5, start_after=\"2022-01-01\", watercourse=[\"Fornebu\"])"
   ]
  },
  {
   "cell_type": "markdown",
   "metadata": {},
   "source": [
    "### Retrieving SHOP run(s)"
   ]
  },
  {
   "cell_type": "code",
   "execution_count": null,
   "metadata": {
    "ExecuteTime": {
     "end_time": "2023-10-27T18:44:23.791728Z",
     "start_time": "2023-10-27T18:44:23.692984Z"
    }
   },
   "outputs": [],
   "source": [
    "run = power.shop.retrieve(shop_runs[0].external_id)"
   ]
  },
  {
   "cell_type": "code",
   "execution_count": null,
   "metadata": {
    "ExecuteTime": {
     "end_time": "2023-10-27T18:44:23.792234Z",
     "start_time": "2023-10-27T18:44:23.745687Z"
    }
   },
   "outputs": [],
   "source": [
    "run"
   ]
  },
  {
   "cell_type": "markdown",
   "metadata": {},
   "source": [
    "### Retrieving latest SHOP run\n"
   ]
  },
  {
   "cell_type": "code",
   "execution_count": null,
   "metadata": {
    "ExecuteTime": {
     "end_time": "2023-10-27T18:44:23.860725Z",
     "start_time": "2023-10-27T18:44:23.751735Z"
    }
   },
   "outputs": [],
   "source": [
    "power.shop.retrieve_latest(watercourse=\"Fornebu\", latest_by=\"created_time\")"
   ]
  },
  {
   "cell_type": "code",
   "execution_count": null,
   "metadata": {
    "ExecuteTime": {
     "end_time": "2023-10-27T18:44:23.960787Z",
     "start_time": "2023-10-27T18:44:23.845037Z"
    }
   },
   "outputs": [],
   "source": [
    "power.shop.retrieve_latest(watercourse=\"Fornebu\", latest_by=\"created_time\", end_before=\"2023-09-01\")"
   ]
  },
  {
   "cell_type": "markdown",
   "metadata": {},
   "source": [
    "### Inspecting SHOP Run Input Files\n",
    "\n",
    "The `SHOPRun` object gives access to the input files and produced outputs (in the case of a successful run)."
   ]
  },
  {
   "cell_type": "code",
   "execution_count": null,
   "metadata": {
    "ExecuteTime": {
     "end_time": "2023-10-27T18:44:23.960938Z",
     "start_time": "2023-10-27T18:44:23.891967Z"
    }
   },
   "outputs": [],
   "source": [
    "from IPython.display import Markdown, display"
   ]
  },
  {
   "cell_type": "code",
   "execution_count": null,
   "metadata": {
    "ExecuteTime": {
     "end_time": "2023-10-27T18:44:23.961011Z",
     "start_time": "2023-10-27T18:44:23.895189Z"
    }
   },
   "outputs": [],
   "source": [
    "# A small helper to illustrate\n",
    "def display_yaml(yaml_str):\n",
    "    display(Markdown(f\"```yaml\\n{yaml_str}```\"))"
   ]
  },
  {
   "cell_type": "code",
   "execution_count": null,
   "metadata": {
    "ExecuteTime": {
     "end_time": "2023-10-27T18:44:24.042464Z",
     "start_time": "2023-10-27T18:44:23.898595Z"
    }
   },
   "outputs": [],
   "source": [
    "run.check_status()"
   ]
  },
  {
   "cell_type": "code",
   "execution_count": null,
   "metadata": {
    "ExecuteTime": {
     "end_time": "2023-10-27T18:44:24.236346Z",
     "start_time": "2023-10-27T18:44:23.979373Z"
    }
   },
   "outputs": [],
   "source": [
    "display_yaml(run.get_case_file()[:500])"
   ]
  },
  {
   "cell_type": "code",
   "execution_count": null,
   "metadata": {
    "ExecuteTime": {
     "end_time": "2023-10-27T18:44:24.545610Z",
     "start_time": "2023-10-27T18:44:24.232541Z"
    }
   },
   "outputs": [],
   "source": [
    "for content in run.get_shop_files():\n",
    "    display_yaml(content[:50])"
   ]
  },
  {
   "cell_type": "markdown",
   "metadata": {},
   "source": [
    "### Inspecting SHOP Run Output Files"
   ]
  },
  {
   "cell_type": "code",
   "execution_count": null,
   "metadata": {
    "ExecuteTime": {
     "end_time": "2023-10-27T18:44:25.486903Z",
     "start_time": "2023-10-27T18:44:24.544050Z"
    }
   },
   "outputs": [],
   "source": [
    "for log_file, content in run.get_log_files():\n",
    "    display(Markdown(f\"**{log_file}**\"))\n",
    "    display_yaml(content[:500])"
   ]
  },
  {
   "cell_type": "markdown",
   "metadata": {},
   "source": [
    "## Trigger SHOP Run\n",
    "\n",
    "Here we are reusing an old case file for demo purposes"
   ]
  },
  {
   "cell_type": "code",
   "execution_count": null,
   "metadata": {
    "ExecuteTime": {
     "end_time": "2023-10-27T18:44:25.498760Z",
     "start_time": "2023-10-27T18:44:25.488476Z"
    }
   },
   "outputs": [],
   "source": [
    "import time\n",
    "\n",
    "from cognite.powerops.client.shop.data_classes.shop_case import SHOPCase\n",
    "from cognite.powerops.client.shop.data_classes.shop_run import SHOPRunStatus"
   ]
  },
  {
   "cell_type": "code",
   "execution_count": null,
   "metadata": {
    "ExecuteTime": {
     "end_time": "2023-10-27T18:44:26.165955Z",
     "start_time": "2023-10-27T18:44:25.497998Z"
    }
   },
   "outputs": [],
   "source": [
    "new_case_data = run.get_case_file()\n",
    "new_case = SHOPCase(new_case_data, watercourse=\"Fornebu\")"
   ]
  },
  {
   "cell_type": "code",
   "execution_count": null,
   "metadata": {
    "ExecuteTime": {
     "end_time": "2023-10-27T18:44:26.172269Z",
     "start_time": "2023-10-27T18:44:26.166179Z"
    }
   },
   "outputs": [],
   "source": [
    "MAX_WAIT_IN_SECONDS = 120"
   ]
  },
  {
   "cell_type": "code",
   "execution_count": null,
   "metadata": {
    "ExecuteTime": {
     "end_time": "2023-10-27T18:44:51.969356Z",
     "start_time": "2023-10-27T18:44:26.168893Z"
    }
   },
   "outputs": [],
   "source": [
    "t0 = time.time()\n",
    "\n",
    "new_run = power.shop.trigger_single_casefile(new_case)\n",
    "# Waiting for SHOP run to finish\n",
    "while (time.time() - t0) < MAX_WAIT_IN_SECONDS:\n",
    "    if new_run.check_status() is SHOPRunStatus.SUCCESS:\n",
    "        print(f\"RUN is done in {time.time() -t0:.2f} seconds\")\n",
    "        break\n",
    "    time.sleep(1)\n",
    "    print(\".\", end=\"\")"
   ]
  },
  {
   "cell_type": "code",
   "execution_count": null,
   "metadata": {
    "ExecuteTime": {
     "end_time": "2023-10-27T18:44:52.654183Z",
     "start_time": "2023-10-27T18:44:51.971623Z"
    }
   },
   "outputs": [],
   "source": [
    "for log_file, content in new_run.get_log_files():\n",
    "    display(Markdown(f\"**{log_file}**\"))\n",
    "    display_yaml(content[:500])"
   ]
  },
  {
   "cell_type": "code",
   "execution_count": null,
   "metadata": {
    "ExecuteTime": {
     "end_time": "2023-10-27T18:44:52.661014Z",
     "start_time": "2023-10-27T18:44:52.655199Z"
    }
   },
   "outputs": [],
   "source": [
    "new_run"
   ]
  },
  {
   "cell_type": "markdown",
   "metadata": {},
   "source": [
    "For more information about the SHOP client, see the `client` section in the reference documentation."
   ]
  },
  {
   "cell_type": "markdown",
   "metadata": {
    "collapsed": false,
    "jupyter": {
     "outputs_hidden": false
    }
   },
   "source": [
    "End of notebook."
   ]
  }
 ],
 "metadata": {
  "kernelspec": {
   "display_name": "Python 3 (ipykernel)",
   "language": "python",
   "name": "python3"
  },
  "language_info": {
   "codemirror_mode": {
    "name": "ipython",
    "version": 3
   },
   "file_extension": ".py",
   "mimetype": "text/x-python",
   "name": "python",
   "nbconvert_exporter": "python",
   "pygments_lexer": "ipython3",
   "version": "3.11.3"
  }
 },
 "nbformat": 4,
 "nbformat_minor": 4
}
