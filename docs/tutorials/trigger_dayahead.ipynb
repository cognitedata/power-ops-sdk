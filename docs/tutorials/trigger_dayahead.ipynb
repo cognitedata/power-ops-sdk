{
 "cells": [
  {
   "cell_type": "markdown",
   "id": "6a498ac3-dc99-4d25-8dc5-8547d8886eab",
   "metadata": {},
   "source": [
    "# Trigger one or several cases within a Dayahead workflow\n",
    "\n",
    "1. Define your Dayahead workflow\n",
    "2. Connect your workflow with a powerops client\n",
    "3. Trigger your Dayahead workflow"
   ]
  },
  {
   "cell_type": "markdown",
   "id": "42f23151-f68a-463b-9615-59cee2360939",
   "metadata": {},
   "source": [
    "### Import the DayaheadTrigger class and define your workflow\n",
    "Define the Dayahead configuration you want to run via the DayaheadTrigger class in the sdk. The following code snippet shows how this can be achieved. You will need to define what price scenarios to run, the price area, the method, and reference the prerun files by external ID in CDF (this means that the files must exist in CDF)"
   ]
  },
  {
   "cell_type": "code",
   "execution_count": 5,
   "id": "59d405d6-1e04-4107-b957-5073e379f328",
   "metadata": {
    "ExecuteTime": {
     "end_time": "2023-11-24T12:16:02.003120Z",
     "start_time": "2023-11-24T12:16:01.017826Z"
    }
   },
   "outputs": [],
   "source": [
    "import yaml\n",
    "from cognite.powerops.client.shop.data_classes.dayahead_trigger import DayaheadTrigger\n",
    "\n",
    "\n",
    "dayahead_dict = yaml.safe_load(\n",
    "    \"\"\"\n",
    "    price_scenarios:\n",
    "    - \"scenario_1\"\n",
    "    - \"scenario_2\"\n",
    "    price_area: \"NO2\"\n",
    "    method: \"multi_scenario\"\n",
    "    bid_configuration_name: \"multi_scenario_2_NO2\"\n",
    "    shop_version: \"15.3.3.2\"\n",
    "    bid_time_frame:\n",
    "      shift_start_in_days: -420  # needs to fall on same date as starttime in prerun file\n",
    "    cases:\n",
    "    - case_name: Fornebu\n",
    "      pre_run_file_external_ids:\n",
    "      - \"Prerun_Fornebu_multi_scenario_10_1.yaml\"\n",
    "      - \"Prerun_Fornebu_multi_scenario_10_2.yaml\"\n",
    "    \"\"\"\n",
    ")\n",
    "\n",
    "dayahead = DayaheadTrigger(**dayahead_dict)"
   ]
  },
  {
   "cell_type": "markdown",
   "id": "14d58a14",
   "metadata": {},
   "source": [
    "### Ensure the start date is correct (same date as start time in prerun file)"
   ]
  },
  {
   "cell_type": "code",
   "execution_count": 6,
   "id": "63bb52a4",
   "metadata": {},
   "outputs": [
    {
     "data": {
      "text/plain": [
       "'2023-11-22 00:00:00'"
      ]
     },
     "execution_count": 6,
     "metadata": {},
     "output_type": "execute_result"
    }
   ],
   "source": [
    "dayahead.bid_time_frame.start_time_string"
   ]
  },
  {
   "cell_type": "markdown",
   "id": "0fbc5c83-ef61-49f2-be13-b0d7c1d71ab0",
   "metadata": {},
   "source": [
    "### Trigger the workflow with the powerops client\n",
    "Instantiate a powerops client and use the DayaheadTrigger object previously created to instantiate a DayaheadTriggerAPI class. Then call trigger function to create the necessary resources in CDF and trigger CogShop with these SHOP runs"
   ]
  },
  {
   "cell_type": "code",
   "execution_count": null,
   "id": "f3d078a1-78f5-4e1c-a92e-54c57068094b",
   "metadata": {
    "ExecuteTime": {
     "end_time": "2023-11-24T12:30:24.018844Z",
     "start_time": "2023-11-24T12:30:22.840937Z"
    }
   },
   "outputs": [],
   "source": [
    "# You can control which setting files are loaded through the environmental variable below.\n",
    "# In this case, the setting files are located two levels above, in the root of the repository.\n",
    "import os\n",
    "from cognite.powerops import PowerOpsClient\n",
    "\n",
    "os.environ[\"SETTINGS_FILES\"] = \"../../settings.toml;../../.secrets.toml\"\n",
    "\n",
    "powerops = PowerOpsClient.from_settings()\n",
    "\n",
    "powerops.cdf.iam.token.inspect()"
   ]
  },
  {
   "cell_type": "code",
   "execution_count": 8,
   "id": "dcf5ac16-b9c6-400e-ae8b-7a6e809a22eb",
   "metadata": {},
   "outputs": [],
   "source": [
    "# Trigger a workflow run with the dayahead object created above\n",
    "\n",
    "dayahead_workflow_run = powerops.workflow.trigger_workflow(dayahead)"
   ]
  },
  {
   "cell_type": "markdown",
   "id": "8913315b",
   "metadata": {},
   "source": [
    "### Inspect output\n",
    "The output of a triggered dayahead workflow is an instance of the class `DayaheadWorkflowRun` which contains all CDF events that are created and wired together, and is needed to run an entire dayahead workflow. to inspect the shop runs as CDF events."
   ]
  },
  {
   "cell_type": "code",
   "execution_count": null,
   "id": "6b89c468",
   "metadata": {},
   "outputs": [],
   "source": [
    "print(dayahead_workflow_run.workflow_trigger_event,\n",
    "      dayahead_workflow_run.shop_run_events)"
   ]
  },
  {
   "cell_type": "markdown",
   "id": "e9e5ea7c-80f5-4174-bb5c-74c879b16dc4",
   "metadata": {},
   "source": [
    "### Outcome of triggered case\n",
    "The trigger function creates a shop run event for each reference to a prerun file. These are the \"SHOP_RUN_\" events. as well as a  “binding” triggering_event that gets a relationship to each shop run event. \n",
    "The plan is to use this triggering event to pass to the total_bid_matrix calculation later on with the necessary information to run that step"
   ]
  },
  {
   "cell_type": "markdown",
   "id": "fbac8e25f013260d",
   "metadata": {
    "collapsed": false,
    "jupyter": {
     "outputs_hidden": false
    }
   },
   "source": [
    "## Explore one of the triggered SHOPRuns\n",
    "\n",
    "`SHOPRun` represents a single attempt at running SHOP."
   ]
  },
  {
   "cell_type": "code",
   "execution_count": 12,
   "id": "8032c27e87713244",
   "metadata": {
    "ExecuteTime": {
     "end_time": "2023-11-20T13:23:52.378560Z",
     "start_time": "2023-11-20T13:23:52.242149Z"
    },
    "collapsed": false,
    "jupyter": {
     "outputs_hidden": false
    }
   },
   "outputs": [
    {
     "data": {
      "text/plain": [
       "<SHOPRunStatus.SUCCESS: 'success'>"
      ]
     },
     "execution_count": 12,
     "metadata": {},
     "output_type": "execute_result"
    }
   ],
   "source": [
    "# Retrieve an existing shop run by event external_id.\n",
    "shop_run_0 = powerops.shop.retrieve(dayahead_workflow_run.shop_run_events[1].external_id)\n",
    "shop_run_0.check_status()"
   ]
  },
  {
   "cell_type": "code",
   "execution_count": null,
   "id": "f5d0caf5-eb6d-44b5-87bf-229a284b87a6",
   "metadata": {
    "ExecuteTime": {
     "end_time": "2023-11-20T13:24:00.953769Z",
     "start_time": "2023-11-20T13:24:00.947636Z"
    }
   },
   "outputs": [],
   "source": [
    "print(shop_run_0)"
   ]
  },
  {
   "cell_type": "code",
   "execution_count": 30,
   "id": "cb059ff0-88c5-46ae-8c6c-268a8c19f5b8",
   "metadata": {
    "ExecuteTime": {
     "end_time": "2023-10-31T16:50:17.948195Z",
     "start_time": "2023-10-31T16:50:17.915181Z"
    }
   },
   "outputs": [],
   "source": [
    "# Small helper to display first 10 lines of a long string (e.g. content of a file).\n",
    "from IPython.display import display, HTML\n",
    "\n",
    "def preview_content(content):\n",
    "    N_LINES = 10\n",
    "    lines = content.splitlines()\n",
    "    trimmed_content = \"\\n\".join(lines[:N_LINES])\n",
    "    if len(lines) > N_LINES:\n",
    "        trimmed_content += \"\\n...\"\n",
    "    display(HTML(f\"<pre style='font-size: 75%; border: 1px solid var(--jp-content-font-color1); padding: 10px; margin: 10px 0 0 10px;'>{trimmed_content.strip()}</pre>\"))\n",
    "\n",
    "# Same, just for a file.\n",
    "def preview_file(file_path):\n",
    "    with open(file_path) as file:\n",
    "        preview_content(file.read())"
   ]
  },
  {
   "cell_type": "code",
   "execution_count": 31,
   "id": "6e0e5f9dd5a31345",
   "metadata": {
    "ExecuteTime": {
     "end_time": "2023-10-31T16:50:18.375795Z",
     "start_time": "2023-10-31T16:50:17.937972Z"
    },
    "collapsed": false,
    "jupyter": {
     "outputs_hidden": false
    }
   },
   "outputs": [
    {
     "data": {
      "text/html": [
       "<pre style='font-size: 75%; border: 1px solid var(--jp-content-font-color1); padding: 10px; margin: 10px 0 0 10px;'>commands:\n",
       "  - set time_delay_unit MINUTE\n",
       "  - set ramping /on\n",
       "  - set stop_cost_from_start_cost /on\n",
       "  - set bypass_loss /on\n",
       "  - set mipgap 0.001000 #should be updated\n",
       "  - set timelimit 600.000 #should be updated\n",
       "  - set reserve_ramping_cost 1\n",
       "  - set fcr_n_equality /on\n",
       "  - set reserve_slack_cost 1 #uncertain\n",
       "...</pre>"
      ],
      "text/plain": [
       "<IPython.core.display.HTML object>"
      ]
     },
     "metadata": {},
     "output_type": "display_data"
    }
   ],
   "source": [
    "# Show first 10 lines of each additional SHOP file in the case.\n",
    "N_LINES = 10\n",
    "for shop_file_content in shop_run_0.get_shop_files():\n",
    "    preview_content(shop_file_content)\n",
    "\n",
    "# also available:\n",
    "# shop_run_0.get_case_file()  # content of the case file\n",
    "# list(shop_run_0.get_log_files())  # content of log files, generated by SHOP"
   ]
  },
  {
   "cell_type": "markdown",
   "id": "3ec5f435",
   "metadata": {},
   "source": [
    "## Trigger total and partial bid matrix calculations\n",
    "Using the trigger event and partial bid matrix events that was created in the Dayahead trigger, and are accessible as the output object in `dayahead_workflow_run`, call the Cognite function `calculate_total_bid_matrix` to calculate the partial and total bid matrices."
   ]
  },
  {
   "cell_type": "code",
   "execution_count": null,
   "id": "dafbd4be",
   "metadata": {},
   "outputs": [],
   "source": [
    "input_data = {}\n",
    "\n",
    "input_data[\"event_external_id\"] = dayahead_workflow_run.total_bid_event.external_id\n",
    "input_data[\"partial_bid_matrix_event_external_ids\"] = [partial_bid.external_id for partial_bid in dayahead_workflow_run.partial_bid_events]\n",
    "input_data[\"workflow_event_external_id\"] = dayahead_workflow_run.workflow_trigger_event.external_id\n",
    "\n",
    "input_data"
   ]
  },
  {
   "cell_type": "code",
   "execution_count": null,
   "id": "d0f98c2f",
   "metadata": {},
   "outputs": [],
   "source": [
    "total_bid_matrix_function = powerops.cdf.functions.retrieve(external_id=\"calculate_total_bid_matrix\")\n",
    "call = total_bid_matrix_function.call(data=input_data)\n",
    "\n",
    "# inspect\n",
    "call"
   ]
  },
  {
   "cell_type": "code",
   "execution_count": null,
   "id": "b873df91",
   "metadata": {},
   "outputs": [],
   "source": []
  }
 ],
 "metadata": {
  "kernelspec": {
   "display_name": "cognite-power-ops-py3.11",
   "language": "python",
   "name": "cognite-power-ops-py3.11"
  },
  "language_info": {
   "codemirror_mode": {
    "name": "ipython",
    "version": 3
   },
   "file_extension": ".py",
   "mimetype": "text/x-python",
   "name": "python",
   "nbconvert_exporter": "python",
   "pygments_lexer": "ipython3",
   "version": "3.11.1"
  }
 },
 "nbformat": 4,
 "nbformat_minor": 5
}
