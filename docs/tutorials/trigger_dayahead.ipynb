{
 "cells": [
  {
   "cell_type": "markdown",
   "id": "6a498ac3-dc99-4d25-8dc5-8547d8886eab",
   "metadata": {},
   "source": [
    "# Trigger one or several cases within a Dayahead workflow\n",
    "\n",
    "1. Define your Dayahead workflow\n",
    "2. Connect your workflow with a powerops client\n",
    "3. Trigger your Dayahead workflow"
   ]
  },
  {
   "cell_type": "markdown",
   "id": "42f23151-f68a-463b-9615-59cee2360939",
   "metadata": {},
   "source": [
    "### Import the DayaheadTrigger class and define your workflow\n",
    "Define the Dayahead configuration you want to run via the DayaheadTrigger class in the sdk. The following code snippet shows how this can be achieved. You will need to define what price scenarios to run, the price area, the method, and reference the prerun files by external ID in CDF (this means that the files must exist in CDF)"
   ]
  },
  {
   "cell_type": "code",
   "execution_count": 38,
   "id": "59d405d6-1e04-4107-b957-5073e379f328",
   "metadata": {
    "ExecuteTime": {
     "start_time": "2023-11-16T13:52:57.957801Z",
     "end_time": "2023-11-16T13:52:57.961905Z"
    }
   },
   "outputs": [],
   "source": [
    "import yaml\n",
    "from cognite.powerops.client.shop.data_classes.dayahead_trigger import DayaheadTrigger\n",
    "\n",
    "\n",
    "dayahead_dict = yaml.safe_load(\n",
    "        \"\"\"\n",
    "        price_scenarios:\n",
    "        - \"scenario_1\"\n",
    "        - \"scenario_2\"\n",
    "        price_area: \"NO2\"\n",
    "        method: multi_scenario_10\n",
    "        cases:\n",
    "        - case_name: Fornebu\n",
    "          pre_runs:\n",
    "          - pre_run_external_id: \"Prerun_Fornebu_multi_scenario_10_1.yaml\"\n",
    "          - pre_run_external_id: \"Prerun_Fornebu_multi_scenario_10_2.yaml\"\n",
    "        \"\"\"\n",
    ")\n",
    "\n",
    "dayahead = DayaheadTrigger(**dayahead_dict)"
   ]
  },
  {
   "cell_type": "markdown",
   "id": "0fbc5c83-ef61-49f2-be13-b0d7c1d71ab0",
   "metadata": {},
   "source": [
    "### Trigger the workflow with the powerops client\n",
    "Instantiate a powerops client and use the DayaheadTrigger object previously created to instantiate a DayaheadTriggerAPI class. Then call trigger function to create the necessary resources in CDF and trigger CogShop with these SHOP runs"
   ]
  },
  {
   "cell_type": "code",
   "execution_count": 26,
   "id": "f3d078a1-78f5-4e1c-a92e-54c57068094b",
   "metadata": {},
   "outputs": [],
   "source": [
    "# You can control which setting files are loaded through the environmental variable below.\n",
    "# In this case, the setting files are located two levels above, in the root of the repository.\n",
    "import os\n",
    "from cognite.powerops import PowerOpsClient\n",
    "from cognite.powerops.client.shop.api.dayahead_trigger_api import DayaheadTriggerAPI\n",
    "\n",
    "SHOP_DATASET_ID = 4272372867810023\n",
    "\n",
    "os.environ[\"SETTINGS_FILES\"] = \"../../settings.toml;../../.secrets.toml\"\n",
    "\n",
    "powerops = PowerOpsClient.from_settings()\n",
    "\n",
    "trigger_dayahead = DayaheadTriggerAPI(client=powerops.cdf,\n",
    "                                     data_set=SHOP_DATASET_ID)\n",
    "\n",
    "trigger_event = powerops.workflow.trigger_workflow(dayahead)"
   ]
  },
  {
   "cell_type": "code",
   "execution_count": 27,
   "id": "49c911cd-2188-40b2-95a2-e2b95fcafece",
   "metadata": {},
   "outputs": [
    {
     "data": {
      "text/plain": [
       "{'workflow_trigger_event': 'POWEROPS_BID_PROCESS_multi_scenario_10_2_NO2_def3b5',\n",
       " 'shop_run_events': ['SHOP_RUN_2023-11-15T13:43:48Z_7b1ffd',\n",
       "  'SHOP_RUN_2023-11-15T13:43:48Z_30488f']}"
      ]
     },
     "execution_count": 27,
     "metadata": {},
     "output_type": "execute_result"
    }
   ],
   "source": [
    "trigger_event"
   ]
  },
  {
   "cell_type": "markdown",
   "id": "e9e5ea7c-80f5-4174-bb5c-74c879b16dc4",
   "metadata": {},
   "source": [
    "### Outcome of triggered case\n",
    "The trigger function creates a shop run event for each reference to a prerun file. These are the \"SHOP_RUN_\" events. as well as a  “binding” triggering_event that gets a relationship to each shop run event. \n",
    "The plan is to use this triggering event to pass to the total_bid_matrix calculation later on with the necessary information to run that step"
   ]
  },
  {
   "cell_type": "markdown",
   "id": "da43047b-5e95-4ab2-96c8-89e333f72191",
   "metadata": {},
   "source": []
  },
  {
   "cell_type": "markdown",
   "id": "6cb534c4-a3b0-40ab-991a-e93161e4d27b",
   "metadata": {},
   "source": []
  },
  {
   "cell_type": "markdown",
   "id": "fbac8e25f013260d",
   "metadata": {
    "collapsed": false,
    "jupyter": {
     "outputs_hidden": false
    }
   },
   "source": [
    "## Explore each of the triggered SHOPRuns\n",
    "\n",
    "`SHOPRun` represents a single attempt at running SHOP."
   ]
  },
  {
   "cell_type": "code",
   "execution_count": 28,
   "id": "8032c27e87713244",
   "metadata": {
    "ExecuteTime": {
     "end_time": "2023-10-31T16:50:17.915448Z",
     "start_time": "2023-10-31T16:50:17.698065Z"
    },
    "collapsed": false,
    "jupyter": {
     "outputs_hidden": false
    }
   },
   "outputs": [
    {
     "data": {
      "text/plain": [
       "<SHOPRunStatus.FAILED: 'failed'>"
      ]
     },
     "execution_count": 28,
     "metadata": {},
     "output_type": "execute_result"
    }
   ],
   "source": [
    "# Retrieve an existing shop run by event external_id.\n",
    "shop_run_0 = powerops.shop.retrieve(\"SHOP_RUN_2023-11-15T13:43:48Z_7b1ffd\")\n",
    "shop_run_0.check_status()"
   ]
  },
  {
   "cell_type": "code",
   "execution_count": 29,
   "id": "f5d0caf5-eb6d-44b5-87bf-229a284b87a6",
   "metadata": {
    "ExecuteTime": {
     "end_time": "2023-10-31T16:50:17.919271Z",
     "start_time": "2023-10-31T16:50:17.898170Z"
    }
   },
   "outputs": [
    {
     "name": "stdout",
     "output_type": "stream",
     "text": [
      "{\n",
      "    \"external_id\": \"SHOP_RUN_2023-11-15T13:43:48Z_7b1ffd\",\n",
      "    \"watercourse\": \"Fornebu\",\n",
      "    \"start\": \"2023-11-15 13:43:48+00:00\",\n",
      "    \"end\": null,\n",
      "    \"case_file_external_id\": \"Prerun_Fornebu_multi_scenario_10_1.yaml\",\n",
      "    \"shop_files_external_ids\": [\n",
      "        {\n",
      "            \"external_id\": \"SHOP_Fornebu_commands\",\n",
      "            \"file_type\": \"ascii\"\n",
      "        }\n",
      "    ],\n",
      "    \"shop_version\": \"CogShop2-20230614T102157Z\"\n",
      "}\n"
     ]
    }
   ],
   "source": [
    "print(shop_run_0)"
   ]
  },
  {
   "cell_type": "code",
   "execution_count": 30,
   "id": "cb059ff0-88c5-46ae-8c6c-268a8c19f5b8",
   "metadata": {
    "ExecuteTime": {
     "end_time": "2023-10-31T16:50:17.948195Z",
     "start_time": "2023-10-31T16:50:17.915181Z"
    }
   },
   "outputs": [],
   "source": [
    "# Small helper to display first 10 lines of a long string (e.g. content of a file).\n",
    "from IPython.display import display, HTML\n",
    "\n",
    "def preview_content(content):\n",
    "    N_LINES = 10\n",
    "    lines = content.splitlines()\n",
    "    trimmed_content = \"\\n\".join(lines[:N_LINES])\n",
    "    if len(lines) > N_LINES:\n",
    "        trimmed_content += \"\\n...\"\n",
    "    display(HTML(f\"<pre style='font-size: 75%; border: 1px solid var(--jp-content-font-color1); padding: 10px; margin: 10px 0 0 10px;'>{trimmed_content.strip()}</pre>\"))\n",
    "\n",
    "# Same, just for a file.\n",
    "def preview_file(file_path):\n",
    "    with open(file_path) as file:\n",
    "        preview_content(file.read())"
   ]
  },
  {
   "cell_type": "code",
   "execution_count": 31,
   "id": "6e0e5f9dd5a31345",
   "metadata": {
    "ExecuteTime": {
     "end_time": "2023-10-31T16:50:18.375795Z",
     "start_time": "2023-10-31T16:50:17.937972Z"
    },
    "collapsed": false,
    "jupyter": {
     "outputs_hidden": false
    }
   },
   "outputs": [
    {
     "data": {
      "text/html": [
       "<pre style='font-size: 75%; border: 1px solid var(--jp-content-font-color1); padding: 10px; margin: 10px 0 0 10px;'>commands:\n",
       "  - set time_delay_unit MINUTE\n",
       "  - set ramping /on\n",
       "  - set stop_cost_from_start_cost /on\n",
       "  - set bypass_loss /on\n",
       "  - set mipgap 0.001000 #should be updated\n",
       "  - set timelimit 600.000 #should be updated\n",
       "  - set reserve_ramping_cost 1\n",
       "  - set fcr_n_equality /on\n",
       "  - set reserve_slack_cost 1 #uncertain\n",
       "...</pre>"
      ],
      "text/plain": [
       "<IPython.core.display.HTML object>"
      ]
     },
     "metadata": {},
     "output_type": "display_data"
    }
   ],
   "source": [
    "# Show first 10 lines of each additional SHOP file in the case.\n",
    "N_LINES = 10\n",
    "for shop_file_content in shop_run_0.get_shop_files():\n",
    "    preview_content(shop_file_content)\n",
    "\n",
    "# also available:\n",
    "# shop_run_0.get_case_file()  # content of the case file\n",
    "# list(shop_run_0.get_log_files())  # content of log files, generated by SHOP"
   ]
  }
 ],
 "metadata": {
  "kernelspec": {
   "display_name": "cognite-power-ops-py3.11",
   "language": "python",
   "name": "cognite-power-ops-py3.11"
  },
  "language_info": {
   "codemirror_mode": {
    "name": "ipython",
    "version": 3
   },
   "file_extension": ".py",
   "mimetype": "text/x-python",
   "name": "python",
   "nbconvert_exporter": "python",
   "pygments_lexer": "ipython3",
   "version": "3.11.1"
  }
 },
 "nbformat": 4,
 "nbformat_minor": 5
}
