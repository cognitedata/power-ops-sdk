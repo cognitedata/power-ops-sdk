{
 "cells": [
  {
   "cell_type": "markdown",
   "id": "6a498ac3-dc99-4d25-8dc5-8547d8886eab",
   "metadata": {},
   "source": [
    "# Using the generated SDK and data models"
   ]
  },
  {
   "cell_type": "markdown",
   "id": "8908b6471eb427b8",
   "metadata": {
    "collapsed": false,
    "jupyter": {
     "outputs_hidden": false
    }
   },
   "source": [
    "## Preparation\n",
    "\n",
    "The main entry point for the SDK is the `PowerOpsClient`\n",
    "\n",
    "To get started, we assume you have installed the `cognite-power-ops` SDK and that all configurations have been setup in Cognite Data Fusion (CDF).\n",
    "\n",
    "Furthermore, it is assumed that you have setup one or two `toml` files with the credentials for connecting to Cognite Data Fusion and settings for this SDK.\n",
    "\n",
    "\n",
    "### Interactive Login\n",
    "This only requires one `toml` file looking like this\n",
    "\n",
    "`settings.toml`\n",
    "\n",
    "```toml\n",
    "[cognite]\n",
    "  login_flow = \"interactive\"\n",
    "  project = \"<cdf-project>\"\n",
    "  tenant_id = \"<tenant-id>\"\n",
    "  cdf_cluster = \"<cdf-cluster>\"\n",
    "  client_id = \"<client-id>\"\n",
    "\n",
    "[powerops]\n",
    "  read_dataset = \"uc:000:powerops\"\n",
    "  write_dataset = \"uc:000:powerops\"\n",
    "  monitor_dataset = \"uc:po:monitoring\"\n",
    "\n",
    "```\n",
    "\n",
    "### Client Credentials Login\n",
    "\n",
    "For this case the you can use two toml files to separate the secrets from the regular settings.\n",
    "\n",
    "\n",
    "`settings.toml`\n",
    "\n",
    "```toml\n",
    "[cognite]\n",
    "  login_flow = \"client_credentials\"\n",
    "  project = \"<cdf-project>\"\n",
    "  tenant_id = \"<tenant-id>\"\n",
    "  cdf_cluster = \"<cdf-cluster>\"\n",
    "  client_id = \"<client-id>\"\n",
    "\n",
    "[powerops]\n",
    "  read_dataset = \"uc:000:powerops\"\n",
    "  write_dataset = \"uc:000:powerops\"\n",
    "  monitor_dataset = \"uc:po:monitoring\"\n",
    "```\n",
    "and the `.secrets.toml`\n",
    "\n",
    "```toml\n",
    "[cognite]\n",
    "  client_secret = \"<client-secret>\"\n",
    "\n",
    "```\n",
    "\n",
    "Values in `.secrets.toml` will overwrite those in `settings.toml`\n",
    "\n",
    "\n"
   ]
  },
  {
   "cell_type": "code",
   "execution_count": 2,
   "id": "4e8902c5-c2af-4638-ab4c-986c68893b15",
   "metadata": {
    "ExecuteTime": {
     "end_time": "2023-10-31T16:50:17.696595Z",
     "start_time": "2023-10-31T16:50:15.150704Z"
    }
   },
   "outputs": [
    {
     "name": "stdout",
     "output_type": "stream",
     "text": [
      "The generated modules `cog_shop1`, `assets`, `afrr_bid`, and `day_ahead_bid` are deprecated and will be removed.\n",
      "`shop`/SHOPRunAPI is deprecated and will be removed.\n",
      "`workflow`/DayaheadTriggerAPI is deprecated and will be removed.\n",
      "0.98.4\n"
     ]
    }
   ],
   "source": [
    "# You can control which setting files are loaded through the environmental variable below.\n",
    "# In this case, the setting files are located two levels above, in the root of the repository.\n",
    "import os\n",
    "from cognite.powerops._version import __version__\n",
    "from cognite.powerops import PowerOpsClient\n",
    "\n",
    "\n",
    "os.environ[\"SETTINGS_FILES\"] = \"../../settings.toml;../../.secrets.toml\"\n",
    "\n",
    "powerops = PowerOpsClient.from_settings()\n",
    "\n",
    "WRITE_DATA_SET = powerops.datasets.write_dataset_id\n",
    "\n",
    "print(__version__)  # Print the version of the package"
   ]
  },
  {
   "cell_type": "code",
   "execution_count": 2,
   "id": "dcc0380a",
   "metadata": {},
   "outputs": [],
   "source": [
    "# powerops.cogshop.trigger_shop_case(\"case_test_with_commands_3\") # this words woo"
   ]
  },
  {
   "cell_type": "code",
   "execution_count": null,
   "id": "764736c2",
   "metadata": {},
   "outputs": [],
   "source": []
  },
  {
   "cell_type": "markdown",
   "id": "23596be4",
   "metadata": {},
   "source": [
    "\n",
    "## Setting up a ShopCase instance that can be triggered:\n",
    "1. Upload a (set of) file(s) for a shop case\n",
    "2. Set up a ShopCase, connecting them with a scenario\n",
    "3. Write the ShopCase instance\n",
    "4. Trigger a shop execution of that shop case\n",
    "5. Retrieve a shop result, using the generated SDK\n",
    "\n",
    "\n",
    "We will demonstrate different ways to generate ShopCases, and then how the results can be inspected"
   ]
  },
  {
   "cell_type": "markdown",
   "metadata": {},
   "source": [
    "### Helpers for all types of case generation"
   ]
  },
  {
   "cell_type": "code",
   "execution_count": 13,
   "id": "72b13aa2",
   "metadata": {},
   "outputs": [],
   "source": [
    "from pathlib import Path\n",
    "import datetime\n",
    "from cognite.powerops.client._generated.v1.data_classes import (\n",
    "    # These data classes are used to send data to CDF\n",
    "    # There are non-write versions of these classes as well and they are used to read data from CDF\n",
    "    ShopCaseWrite,  # This model contains everything needed to execute a SHOP run\n",
    "    ShopFileWrite,  # A container that holds a reference to a file in CDF\n",
    "    ShopModelWrite,  # A static model in a file reference + references to time series data\n",
    "    ShopScenarioWrite,  # A way to modify run configurations for a given model\n",
    ")\n",
    "\n",
    "\n",
    "# Directory where the example case files are located\n",
    "EXAMPLE_CASES_ROOT = Path(\"example_case_files\")\n",
    "\n",
    "\n",
    "# helper method for all case generations\n",
    "def upload_file(\n",
    "    file_name: str,\n",
    "    external_id: str | None = None,\n",
    "    mime_type: str = \"application/yaml\",\n",
    ") -> str:\n",
    "    \"\"\"For simplicity we we will use the file name as the external id,\n",
    "    but it can be can use any unique string as the external id.\"\"\"\n",
    "    external_id = external_id or file_name\n",
    "    file_path = (EXAMPLE_CASES_ROOT / file_name).resolve()\n",
    "    file = powerops.cdf.files.upload(\n",
    "        path=str(file_path),\n",
    "        external_id=external_id,\n",
    "        name=file_name,\n",
    "        data_set_id=WRITE_DATA_SET,\n",
    "        mime_type=mime_type,\n",
    "        # Overwrite the file at the given external is if it already exists\n",
    "        # This will also overwrite potentially existing metadata\n",
    "        overwrite=True,\n",
    "    )\n",
    "    return file.external_id\n",
    "\n",
    "\n",
    "def upload_shop_case(shop_case: ShopCaseWrite):\n",
    "    powerops.v1.upsert(shop_case)\n",
    "\n",
    "\n",
    "def trigger_shop_case(case_external_id: str):\n",
    "    powerops.cogshop.trigger_shop_case(case_external_id)\n",
    "\n",
    "\n",
    "def upload_and_trigger(shop_case: ShopCaseWrite):\n",
    "    upload_shop_case(shop_case)\n",
    "    trigger_shop_case(shop_case.external_id)\n",
    "\n",
    "\n",
    "# TODO\n",
    "def get_result_instance(shop_case_external_id: str): ..."
   ]
  },
  {
   "cell_type": "code",
   "execution_count": null,
   "id": "a9b9edbe",
   "metadata": {},
   "outputs": [],
   "source": []
  },
  {
   "cell_type": "markdown",
   "id": "3ffb725b",
   "metadata": {},
   "source": [
    "### Example A: Complete case file\n",
    "\n",
    "In this case, the `ShopScenario` as and its `ShopModel` are mostly superfluous. \n",
    "However, they are still added as nearly empty objects in order to set the SHOP version \n"
   ]
  },
  {
   "cell_type": "code",
   "execution_count": 39,
   "id": "f4902678",
   "metadata": {},
   "outputs": [],
   "source": [
    "def create_shop_case_a() -> ShopCaseWrite:\n",
    "    # NB! this files does not have any cut groups, shop result is reasonable\n",
    "    file_reference = upload_file(file_name=\"a_case_with_commands.yaml\")\n",
    "\n",
    "    shop_case_write = ShopCaseWrite(\n",
    "        externalId=\"example_case_a\",  # unique identifier for the case, used to trigger SHOP execution\n",
    "        # The time range SHOP is optimized over\n",
    "        startTime=datetime.datetime(2023, 9, 14, 22),\n",
    "        endTime=datetime.datetime(2023, 9, 24, 22),\n",
    "        # The scenario is used to modify the run configuration of the model\n",
    "        scenario=ShopScenarioWrite(\n",
    "            name=\"dummy_scenario\",\n",
    "            # The model is a static model in a file reference + references to time series data\n",
    "            model=ShopModelWrite(\n",
    "                name=\"dummy_model\",\n",
    "                shop_version=\"15.6.1.0\",\n",
    "            ),\n",
    "        ),\n",
    "        # The files that are used in the case\n",
    "        shopFiles=[\n",
    "            ShopFileWrite(\n",
    "                name=\"a_case_with_commands\",\n",
    "                label=\"\",\n",
    "                fileReference=file_reference,  # external id of the file on CDF\n",
    "                isAscii=False,\n",
    "                order=1,\n",
    "            ),\n",
    "        ],\n",
    "    )\n",
    "    return shop_case_write"
   ]
  },
  {
   "cell_type": "code",
   "execution_count": 40,
   "id": "d136c7ff",
   "metadata": {},
   "outputs": [],
   "source": [
    "upload_and_trigger(create_shop_case_a())"
   ]
  },
  {
   "cell_type": "markdown",
   "id": "7b3e4faf",
   "metadata": {},
   "source": [
    "### Example B: Almost complete case file\n",
    "\n",
    "In this case, the `ShopScenario` as and its `ShopModel` are mostly superfluous. \n",
    "However, they are still added as nearly empty objects in order to set the SHOP version\n",
    "\n",
    "A change here is that we extend the list in `ShopFile` and we need to specify the order that the files should be loaded into SHOP. \n",
    "\n",
    "Notice the label on the commands file. This is necessary as CogSHOP expects the commands to be labeled.  \n"
   ]
  },
  {
   "cell_type": "code",
   "execution_count": 41,
   "id": "f8b249fd",
   "metadata": {},
   "outputs": [],
   "source": [
    "def create_shop_case_b() -> ShopCaseWrite:\n",
    "    # NB! this case does not have any cut groups, shop result is reasonable\n",
    "    file_reference_case = upload_file(file_name=\"b_case_without_commands.yaml\")\n",
    "    file_reference_commands = upload_file(file_name=\"b_commands.yaml\")\n",
    "\n",
    "    shop_case_write = ShopCaseWrite(\n",
    "        externalId=\"example_case_b\",  # unique identifier for the case, used to trigger SHOP execution\n",
    "        # The time range SHOP is optimized over\n",
    "        startTime=datetime.datetime(2023, 9, 14, 22),\n",
    "        endTime=datetime.datetime(2023, 9, 24, 22),\n",
    "        # The scenario is used to modify the run configuration of the model\n",
    "        scenario=ShopScenarioWrite(\n",
    "            name=\"dummy_scenario\",\n",
    "            # The model is a static model in a file reference + references to time series data\n",
    "            model=ShopModelWrite(\n",
    "                name=\"dummy_model\",\n",
    "                shop_version=\"15.6.1.0\",\n",
    "            ),\n",
    "        ),\n",
    "        # The files that are used in the case\n",
    "        shopFiles=[\n",
    "            ShopFileWrite(\n",
    "                name=\"b_case_without_commands\",\n",
    "                label=\"\",\n",
    "                fileReference=file_reference_case,  # external id of the file on CDF\n",
    "                isAscii=False,\n",
    "                order=1,\n",
    "            ),\n",
    "            ShopFileWrite(\n",
    "                name=\"b_commands\",\n",
    "                label=\"commands\",\n",
    "                fileReference=file_reference_commands,  # external id of the file on CDF\n",
    "                isAscii=False,\n",
    "                order=2,\n",
    "            ),\n",
    "        ],\n",
    "    )\n",
    "    return shop_case_write"
   ]
  },
  {
   "cell_type": "code",
   "execution_count": 42,
   "id": "858282ed",
   "metadata": {},
   "outputs": [],
   "source": [
    "upload_and_trigger(create_shop_case_b())"
   ]
  },
  {
   "cell_type": "code",
   "execution_count": null,
   "id": "959c723f",
   "metadata": {},
   "outputs": [],
   "source": []
  }
 ],
 "metadata": {
  "kernelspec": {
   "display_name": ".venv",
   "language": "python",
   "name": "python3"
  },
  "language_info": {
   "codemirror_mode": {
    "name": "ipython",
    "version": 3
   },
   "file_extension": ".py",
   "mimetype": "text/x-python",
   "name": "python",
   "nbconvert_exporter": "python",
   "pygments_lexer": "ipython3",
   "version": "3.11.3"
  }
 },
 "nbformat": 4,
 "nbformat_minor": 5
}
